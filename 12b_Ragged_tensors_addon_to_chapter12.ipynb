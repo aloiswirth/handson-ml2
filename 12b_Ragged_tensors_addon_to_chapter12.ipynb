{
 "cells": [
  {
   "cell_type": "markdown",
   "metadata": {
    "colab_type": "text",
    "id": "view-in-github"
   },
   "source": [
    "<a href=\"https://colab.research.google.com/github/aloiswirth/handson-ml2/blob/master/12b_Ragged_tensors_addon_to_chapter12.ipynb\" target=\"_parent\"><img src=\"https://colab.research.google.com/assets/colab-badge.svg\" alt=\"Open In Colab\"/></a>"
   ]
  },
  {
   "cell_type": "markdown",
   "metadata": {
    "colab_type": "text",
    "id": "IVgFIz2Sth4E"
   },
   "source": [
    "##### Copyright 2018 The TensorFlow Authors."
   ]
  },
  {
   "cell_type": "code",
   "execution_count": 1,
   "metadata": {
    "colab": {},
    "colab_type": "code",
    "id": "VHcVbQFNtcYE"
   },
   "outputs": [],
   "source": [
    "#@title Licensed under the Apache License, Version 2.0 (the \"License\");\n",
    "# you may not use this file except in compliance with the License.\n",
    "# You may obtain a copy of the License at\n",
    "#\n",
    "# https://www.apache.org/licenses/LICENSE-2.0\n",
    "#\n",
    "# Unless required by applicable law or agreed to in writing, software\n",
    "# distributed under the License is distributed on an \"AS IS\" BASIS,\n",
    "# WITHOUT WARRANTIES OR CONDITIONS OF ANY KIND, either express or implied.\n",
    "# See the License for the specific language governing permissions and\n",
    "# limitations under the License."
   ]
  },
  {
   "cell_type": "markdown",
   "metadata": {
    "colab_type": "text",
    "id": "DxVIl9yStRQn"
   },
   "source": [
    "# Ragged tensors\n",
    "\n",
    "<table class=\"tfo-notebook-buttons\" align=\"left\">\n",
    "  <td>\n",
    "    <a target=\"_blank\" href=\"https://www.tensorflow.org/guide/ragged_tensor\"><img src=\"https://www.tensorflow.org/images/tf_logo_32px.png\" />View on TensorFlow.org</a>\n",
    "  </td>\n",
    "  <td>\n",
    "    <a target=\"_blank\" href=\"https://colab.research.google.com/github/tensorflow/docs/blob/master/site/en/guide/ragged_tensor.ipynb\"><img src=\"https://www.tensorflow.org/images/colab_logo_32px.png\" />Run in Google Colab</a>\n",
    "  </td>\n",
    "  <td>\n",
    "    <a target=\"_blank\" href=\"https://github.com/tensorflow/docs/blob/master/site/en/guide/ragged_tensor.ipynb\"><img src=\"https://www.tensorflow.org/images/GitHub-Mark-32px.png\" />View source on GitHub</a>\n",
    "  </td>\n",
    "  <td>\n",
    "    <a href=\"https://storage.googleapis.com/tensorflow_docs/docs/site/en/guide/ragged_tensor.ipynb\"><img src=\"https://www.tensorflow.org/images/download_logo_32px.png\" />Download notebook</a>\n",
    "  </td>\n",
    "</table>"
   ]
  },
  {
   "cell_type": "markdown",
   "metadata": {
    "colab_type": "text",
    "id": "C8htB7BftrPW"
   },
   "source": [
    "## Setup\n"
   ]
  },
  {
   "cell_type": "code",
   "execution_count": 2,
   "metadata": {
    "colab": {
     "base_uri": "https://localhost:8080/",
     "height": 70
    },
    "colab_type": "code",
    "id": "WWKeM42Hfx5C",
    "outputId": "cdfa847d-7a91-45e2-cd18-0b6434a635a7"
   },
   "outputs": [
    {
     "name": "stdout",
     "output_type": "stream",
     "text": [
      "\u001b[K     |████████████████████████████████| 322.7MB 48kB/s \n",
      "\u001b[K     |████████████████████████████████| 460kB 49.8MB/s \n",
      "\u001b[K     |████████████████████████████████| 6.8MB 47.9MB/s \n",
      "\u001b[?25h"
     ]
    }
   ],
   "source": [
    "!pip install -q tf_nightly"
   ]
  },
  {
   "cell_type": "code",
   "execution_count": 3,
   "metadata": {
    "colab": {},
    "colab_type": "code",
    "id": "z01JnaiXgC2c"
   },
   "outputs": [],
   "source": [
    "import math\n",
    "import tensorflow as tf"
   ]
  },
  {
   "cell_type": "markdown",
   "metadata": {
    "colab_type": "text",
    "id": "a7fG3jQquE8w"
   },
   "source": [
    "## Overview\n",
    "\n",
    "Your data comes in many shapes; your tensors should too.\n",
    "*Ragged tensors* are the TensorFlow equivalent of nested variable-length\n",
    "lists. They make it easy to store and process data with non-uniform shapes,\n",
    "including:\n",
    "\n",
    "*   Variable-length features, such as the set of actors in a movie.\n",
    "*   Batches of variable-length sequential inputs, such as sentences or video\n",
    "    clips.\n",
    "*   Hierarchical inputs, such as text documents that are subdivided into\n",
    "    sections, paragraphs, sentences, and words.\n",
    "*   Individual fields in structured inputs, such as protocol buffers."
   ]
  },
  {
   "cell_type": "markdown",
   "metadata": {
    "colab_type": "text",
    "id": "1m9g--aK9V5p"
   },
   "source": [
    "### What you can do with a ragged tensor\n",
    "Ragged tensors are supported by more than a hundred TensorFlow operations, including math operations (such as tf.add and tf.reduce_mean), array operations (such as tf.concat and tf.tile), string manipulation ops (such as tf.substr), control flow operations (such as tf.while_loop and tf.map_fn), and many others:"
   ]
  },
  {
   "cell_type": "code",
   "execution_count": 4,
   "metadata": {
    "colab": {},
    "colab_type": "code",
    "id": "QJhmIFVVgI0o"
   },
   "outputs": [],
   "source": [
    "digits = tf.ragged.constant([[3, 1, 4, 1], [], [5, 9, 2], [6], []])\n",
    "words = tf.ragged.constant([[\"So\", \"long\"], [\"thanks\", \"for\", \"all\", \"the\", \"fish\"]])"
   ]
  },
  {
   "cell_type": "markdown",
   "metadata": {
    "colab_type": "text",
    "id": "TVKJH6v_9Q67"
   },
   "source": [
    "There are also a number of methods and operations that are specific to ragged tensors, including factory methods, conversion methods, and value-mapping operations. For a list of supported ops, see the **`tf.ragged` package documentation**.\n",
    "\n",
    "Ragged tensors are supported by many TensorFlow APIs, including [Keras](https://www.tensorflow.org/guide/keras), [Datasets](https://www.tensorflow.org/guide/data), [tf.function](https://www.tensorflow.org/guide/function), [SavedModels](https://www.tensorflow.org/guide/saved_model), and [tf.Example](https://www.tensorflow.org/tutorials/load_data/tfrecord).  For more information, see the section on **TensorFlow APIs** below.\n",
    "\n",
    "As with normal tensors, you can use Python-style indexing to access specific slices of a ragged tensor. For more information, see the section on **Indexing** below."
   ]
  },
  {
   "cell_type": "code",
   "execution_count": 5,
   "metadata": {
    "colab": {
     "base_uri": "https://localhost:8080/",
     "height": 34
    },
    "colab_type": "code",
    "id": "dW2zPgqUhG6Y",
    "outputId": "e8038e34-69ad-4b03-86c1-cc8de09f73e9"
   },
   "outputs": [
    {
     "data": {
      "text/plain": [
       "<tf.RaggedTensor [[3, 1, 4, 1], [], [5, 9, 2], [6], []]>"
      ]
     },
     "execution_count": 5,
     "metadata": {
      "tags": []
     },
     "output_type": "execute_result"
    }
   ],
   "source": [
    "digits"
   ]
  },
  {
   "cell_type": "code",
   "execution_count": 6,
   "metadata": {
    "colab": {
     "base_uri": "https://localhost:8080/",
     "height": 52
    },
    "colab_type": "code",
    "id": "bzm3dXPhv7vs",
    "outputId": "93698ef3-9cfb-47ba-975a-22075060111c"
   },
   "outputs": [
    {
     "name": "stdout",
     "output_type": "stream",
     "text": [
      "tf.Tensor([6], shape=(1,), dtype=int32)\n"
     ]
    },
    {
     "data": {
      "text/plain": [
       "<tf.Tensor: shape=(4,), dtype=int32, numpy=array([3, 1, 4, 1], dtype=int32)>"
      ]
     },
     "execution_count": 6,
     "metadata": {
      "tags": []
     },
     "output_type": "execute_result"
    }
   ],
   "source": [
    "print(digits[3])\n",
    "digits[0]"
   ]
  },
  {
   "cell_type": "code",
   "execution_count": 7,
   "metadata": {
    "colab": {
     "base_uri": "https://localhost:8080/",
     "height": 34
    },
    "colab_type": "code",
    "id": "MGATI3YwjD4S",
    "outputId": "f4384da8-a75d-4a7c-b47e-f612b643ec75"
   },
   "outputs": [
    {
     "name": "stdout",
     "output_type": "stream",
     "text": [
      "tf.Tensor([3 1 4 1], shape=(4,), dtype=int32)\n"
     ]
    }
   ],
   "source": [
    "print(digits[0])"
   ]
  },
  {
   "cell_type": "code",
   "execution_count": 8,
   "metadata": {
    "colab": {
     "base_uri": "https://localhost:8080/",
     "height": 34
    },
    "colab_type": "code",
    "id": "5PM6-68pjIQX",
    "outputId": "24d28646-e243-49a6-a4a9-c323a36c8fb7"
   },
   "outputs": [
    {
     "name": "stdout",
     "output_type": "stream",
     "text": [
      "<tf.RaggedTensor [[3, 1], [], [5, 9], [6], []]>\n"
     ]
    }
   ],
   "source": [
    "print(digits[:, :2])"
   ]
  },
  {
   "cell_type": "code",
   "execution_count": 9,
   "metadata": {
    "colab": {
     "base_uri": "https://localhost:8080/",
     "height": 34
    },
    "colab_type": "code",
    "id": "mm9dC1TGjpmm",
    "outputId": "bc293164-e4b2-42ca-e0cc-71555f4a7812"
   },
   "outputs": [
    {
     "name": "stdout",
     "output_type": "stream",
     "text": [
      "<tf.RaggedTensor [[4, 1], [], [9, 2], [6], []]>\n"
     ]
    }
   ],
   "source": [
    "print(digits[:, -2:])"
   ]
  },
  {
   "cell_type": "code",
   "execution_count": 10,
   "metadata": {
    "colab": {
     "base_uri": "https://localhost:8080/",
     "height": 34
    },
    "colab_type": "code",
    "id": "v93PQVgpjwvz",
    "outputId": "91777ef4-b95f-4fc3-932a-d3c03d7676c9"
   },
   "outputs": [
    {
     "name": "stdout",
     "output_type": "stream",
     "text": [
      "<tf.RaggedTensor [[6, 4, 7, 4], [], [8, 12, 5], [9], []]>\n"
     ]
    }
   ],
   "source": [
    "# Adding 3 to all numbers in the tensor:\n",
    "print(digits + 3) "
   ]
  },
  {
   "cell_type": "code",
   "execution_count": 11,
   "metadata": {
    "colab": {
     "base_uri": "https://localhost:8080/",
     "height": 34
    },
    "colab_type": "code",
    "id": "46FBRo9Lgtx9",
    "outputId": "b9f89543-8c2b-47e3-e6df-e2af1bf12a0a"
   },
   "outputs": [
    {
     "name": "stdout",
     "output_type": "stream",
     "text": [
      "<tf.RaggedTensor [[6, 4, 7, 4], [], [8, 12, 5], [9], []]>\n"
     ]
    }
   ],
   "source": [
    "print(tf.add(digits, 3))\n",
    "# this adds 3 to all values"
   ]
  },
  {
   "cell_type": "code",
   "execution_count": 12,
   "metadata": {
    "colab": {
     "base_uri": "https://localhost:8080/",
     "height": 34
    },
    "colab_type": "code",
    "id": "2P3ZKD41gvMk",
    "outputId": "428f7a0f-1f82-496e-cdb8-0ce4140d4901"
   },
   "outputs": [
    {
     "name": "stdout",
     "output_type": "stream",
     "text": [
      "tf.Tensor([2.25              nan 5.33333333 6.                nan], shape=(5,), dtype=float64)\n"
     ]
    }
   ],
   "source": [
    "# Now calculate the average\n",
    "print(tf.reduce_mean(digits, axis=1))"
   ]
  },
  {
   "cell_type": "code",
   "execution_count": 13,
   "metadata": {
    "colab": {
     "base_uri": "https://localhost:8080/",
     "height": 34
    },
    "colab_type": "code",
    "id": "AoCwTbypgv4O",
    "outputId": "a948dfe0-6b94-4df8-cfda-6447c3be393e"
   },
   "outputs": [
    {
     "name": "stdout",
     "output_type": "stream",
     "text": [
      "<tf.RaggedTensor [[3, 1, 4, 1], [], [5, 9, 2], [6], [], [5, 3]]>\n"
     ]
    }
   ],
   "source": [
    "# Conatenation of two Ragged Tensors:\n",
    "print(tf.concat([digits, [[5, 3]]], axis=0))"
   ]
  },
  {
   "cell_type": "code",
   "execution_count": 14,
   "metadata": {
    "colab": {
     "base_uri": "https://localhost:8080/",
     "height": 90
    },
    "colab_type": "code",
    "id": "9rpETAAcgyus",
    "outputId": "d55f3f67-c4fd-497a-f85a-e0e3b466415b"
   },
   "outputs": [
    {
     "name": "stdout",
     "output_type": "stream",
     "text": [
      "<tf.RaggedTensor [[3, 1, 4, 1], [], [5, 9, 2], [6], [], [3, 1, 4, 1], [], [5, 9, 2], [6], [], [3, 1, 4, 1], [], [5, 9, 2], [6], [], [3, 1, 4, 1], [], [5, 9, 2], [6], []]>\n",
      "<tf.RaggedTensor [[3, 1, 4, 1, 3, 1, 4, 1, 3, 1, 4, 1], [], [5, 9, 2, 5, 9, 2, 5, 9, 2], [6, 6, 6], []]>\n",
      "<tf.RaggedTensor [[3, 1, 4, 1, 3, 1, 4, 1, 3, 1, 4, 1], [], [5, 9, 2, 5, 9, 2, 5, 9, 2], [6, 6, 6], [], [3, 1, 4, 1, 3, 1, 4, 1, 3, 1, 4, 1], [], [5, 9, 2, 5, 9, 2, 5, 9, 2], [6, 6, 6], []]>\n"
     ]
    }
   ],
   "source": [
    "# Duplicate each component of a ragged tensor:\n",
    "print(tf.tile(digits, [4, 1]))\n",
    "print(tf.tile(digits, [1, 3]))\n",
    "print(tf.tile(digits, [2, 3]))"
   ]
  },
  {
   "cell_type": "code",
   "execution_count": 15,
   "metadata": {
    "colab": {
     "base_uri": "https://localhost:8080/",
     "height": 34
    },
    "colab_type": "code",
    "id": "e2TWBJK2g_xx",
    "outputId": "7dd4c657-7509-48ff-ff01-476c2d0fe38e"
   },
   "outputs": [
    {
     "name": "stdout",
     "output_type": "stream",
     "text": [
      "<tf.RaggedTensor [[9, 1, 16, 1], [], [25, 81, 4], [36], []]>\n"
     ]
    }
   ],
   "source": [
    "print(tf.map_fn(tf.math.square, digits))\n",
    "# print(tf.map_fn(tf.math.exp(3.0) , digits))  ## doesn't work"
   ]
  },
  {
   "cell_type": "code",
   "execution_count": 16,
   "metadata": {
    "colab": {
     "base_uri": "https://localhost:8080/",
     "height": 34
    },
    "colab_type": "code",
    "id": "ZV6kFmi5hKxA",
    "outputId": "8cd69065-534c-46b2-c941-85163bc5d4f7"
   },
   "outputs": [
    {
     "data": {
      "text/plain": [
       "<tf.RaggedTensor [[b'So', b'long'], [b'thanks', b'for', b'all', b'the', b'fish']]>"
      ]
     },
     "execution_count": 16,
     "metadata": {
      "tags": []
     },
     "output_type": "execute_result"
    }
   ],
   "source": [
    "words"
   ]
  },
  {
   "cell_type": "code",
   "execution_count": 17,
   "metadata": {
    "colab": {
     "base_uri": "https://localhost:8080/",
     "height": 52
    },
    "colab_type": "code",
    "id": "kA4BlLWuwfjX",
    "outputId": "3b51c577-489a-4636-fbee-185c0416c328"
   },
   "outputs": [
    {
     "name": "stdout",
     "output_type": "stream",
     "text": [
      "tf.Tensor([b'So' b'long'], shape=(2,), dtype=string)\n"
     ]
    },
    {
     "data": {
      "text/plain": [
       "<tf.Tensor: shape=(5,), dtype=string, numpy=array([b'thanks', b'for', b'all', b'the', b'fish'], dtype=object)>"
      ]
     },
     "execution_count": 17,
     "metadata": {
      "tags": []
     },
     "output_type": "execute_result"
    }
   ],
   "source": [
    "print(words[0])\n",
    "words[1]"
   ]
  },
  {
   "cell_type": "code",
   "execution_count": 18,
   "metadata": {
    "colab": {
     "base_uri": "https://localhost:8080/",
     "height": 52
    },
    "colab_type": "code",
    "id": "iuEHrtsrgwV3",
    "outputId": "99afdd7a-3720-4da1-f060-0b22b440afa0"
   },
   "outputs": [
    {
     "name": "stdout",
     "output_type": "stream",
     "text": [
      "<tf.RaggedTensor [[b'So', b'lo'], [b'th', b'fo', b'al', b'th', b'fi']]>\n",
      "<tf.RaggedTensor [[b'', b'ng'], [b'anks', b'r', b'l', b'e', b'sh']]>\n"
     ]
    }
   ],
   "source": [
    "# substring operations on ragged string tensors\n",
    "print(tf.strings.substr(words, 0, 2))\n",
    "print(tf.strings.substr(words, 2, 4))"
   ]
  },
  {
   "cell_type": "markdown",
   "metadata": {
    "colab_type": "text",
    "id": "QD0apWTlmLfM"
   },
   "source": [
    "Adding of ragged tensors (using +) can only be executed if the both tensors are of some type in all components. \n",
    "\n",
    "Excample [6] + [8, 9] does not work. See next example failing in the second line.\n",
    "\n",
    "Error: Unable to broadcast: dimension size mismatch in dimension'\n",
    "1\n",
    "b'lengths='\n",
    "4, 0, 3, 2, 0\n",
    "b'dim_size='\n",
    "4, 0, 3, 1, 0\n"
   ]
  },
  {
   "cell_type": "code",
   "execution_count": 19,
   "metadata": {
    "colab": {
     "base_uri": "https://localhost:8080/",
     "height": 34
    },
    "colab_type": "code",
    "id": "FSlRdcUliP2M",
    "outputId": "9576a1b6-fd5b-4710-f22f-b6a3eb4c3103"
   },
   "outputs": [
    {
     "name": "stdout",
     "output_type": "stream",
     "text": [
      "<tf.RaggedTensor [[4, 3, 7, 5], [], [10, 15, 9], [14], []]>\n"
     ]
    }
   ],
   "source": [
    "print(digits + tf.ragged.constant([[1, 2, 3, 4], [], [5, 6, 7], [8], []]))"
   ]
  },
  {
   "cell_type": "code",
   "execution_count": 20,
   "metadata": {
    "colab": {
     "base_uri": "https://localhost:8080/",
     "height": 34
    },
    "colab_type": "code",
    "id": "YS4X6h0vkHPF",
    "outputId": "ac4c5f00-7418-4c52-b320-a4cb8eb120a0"
   },
   "outputs": [
    {
     "name": "stdout",
     "output_type": "stream",
     "text": [
      "something else went wrong\n"
     ]
    }
   ],
   "source": [
    "try:\n",
    "  digits + tf.ragged.constant([[1, 2, 3, 4], [], [5, 6, 7], [8, 9], []])\n",
    "except ValueError as exception:\n",
    "  print(exception)\n",
    "# except InvalidArgumentError as exception2:\n",
    "#   print(exception2)\n",
    "except:\n",
    "  print(\"something else went wrong\")"
   ]
  },
  {
   "cell_type": "markdown",
   "metadata": {
    "colab_type": "text",
    "id": "Id2qeQKKnfCo"
   },
   "source": [
    "If you need to perform an elementwise transformation to the values of a RaggedTensor, you can use tf.ragged.map_flat_values, which takes a function plus one or more arguments, and applies the function to transform the RaggedTensor's values."
   ]
  },
  {
   "cell_type": "code",
   "execution_count": 21,
   "metadata": {
    "colab": {
     "base_uri": "https://localhost:8080/",
     "height": 34
    },
    "colab_type": "code",
    "id": "8gUEFhGXks7H",
    "outputId": "24cbcad8-210a-4429-a665-19fbe1942aad"
   },
   "outputs": [
    {
     "name": "stdout",
     "output_type": "stream",
     "text": [
      "<tf.RaggedTensor [[7, 3, 9, 3], [], [11, 19, 5], [13], []]>\n"
     ]
    }
   ],
   "source": [
    "times_two_plus_one = lambda x: x * 2 + 1\n",
    "print(tf.ragged.map_flat_values(times_two_plus_one, digits))"
   ]
  },
  {
   "cell_type": "code",
   "execution_count": 22,
   "metadata": {
    "colab": {
     "base_uri": "https://localhost:8080/",
     "height": 34
    },
    "colab_type": "code",
    "id": "llGamB8w4bi0",
    "outputId": "52fe8415-f593-4e7c-83af-eda822a2c878"
   },
   "outputs": [
    {
     "name": "stdout",
     "output_type": "stream",
     "text": [
      "<tf.RaggedTensor [[28, 2, 65, 2], [], [126, 730, 9], [217], []]>\n"
     ]
    }
   ],
   "source": [
    "exponent_three_plus_one = lambda x: x ** 3 + 1\n",
    "print(tf.ragged.map_flat_values(exponent_three_plus_one, digits))"
   ]
  },
  {
   "cell_type": "markdown",
   "metadata": {
    "colab_type": "text",
    "id": "tzmQqSMnogPG"
   },
   "source": [
    "Conversion of ragged tensor to list of numpy nd array:"
   ]
  },
  {
   "cell_type": "code",
   "execution_count": 23,
   "metadata": {
    "colab": {
     "base_uri": "https://localhost:8080/",
     "height": 122
    },
    "colab_type": "code",
    "id": "c84WdH-joeoe",
    "outputId": "1b6f1d9f-2a05-476a-bdc0-e5d419749360"
   },
   "outputs": [
    {
     "name": "stdout",
     "output_type": "stream",
     "text": [
      "[[3, 1, 4, 1], [], [5, 9, 2], [6], []]\n",
      "[3, 1, 4, 1]\n",
      "[]\n",
      "[5, 9, 2]\n",
      "[6]\n",
      "[]\n"
     ]
    }
   ],
   "source": [
    "my_converted_list = digits.to_list()\n",
    "print(my_converted_list)\n",
    "for item in my_converted_list:\n",
    "  print(item)"
   ]
  },
  {
   "cell_type": "code",
   "execution_count": 24,
   "metadata": {
    "colab": {
     "base_uri": "https://localhost:8080/",
     "height": 105
    },
    "colab_type": "code",
    "id": "u0MS2wiSpdUv",
    "outputId": "47f53018-f932-4c5a-d830-74471461e950"
   },
   "outputs": [
    {
     "name": "stdout",
     "output_type": "stream",
     "text": [
      "[3 1 4 1]\n",
      "[]\n",
      "[5 9 2]\n",
      "[6]\n",
      "[]\n"
     ]
    }
   ],
   "source": [
    "np_converted_tensors = digits.numpy()\n",
    "for my_array in np_converted_tensors:\n",
    "  print(my_array)"
   ]
  },
  {
   "cell_type": "markdown",
   "metadata": {
    "colab_type": "text",
    "id": "Zofww-Ak86uv"
   },
   "source": [
    "### Constructing a ragged tensor\n",
    "The simplest way to construct a ragged tensor is using `tf.ragged.constant`, which builds the `RaggedTensor` corresponding to a given nested Python `list` or numpy `array`:"
   ]
  },
  {
   "cell_type": "code",
   "execution_count": 25,
   "metadata": {
    "colab": {
     "base_uri": "https://localhost:8080/",
     "height": 70
    },
    "colab_type": "code",
    "id": "OEdG2Vm78JuE",
    "outputId": "99426637-181c-4bd1-a78d-d0a1a02f38ee"
   },
   "outputs": [
    {
     "name": "stdout",
     "output_type": "stream",
     "text": [
      "<tf.RaggedTensor [[b\"Let's\", b'build', b'some', b'ragged', b'tensors', b'!'], [b'We', b'can', b'use', b'tf.ragged.constant', b'.']]>\n",
      "tf.Tensor([b\"Let's\" b'build' b'some' b'ragged' b'tensors' b'!'], shape=(6,), dtype=string)\n",
      "tf.Tensor([b'We' b'can' b'use' b'tf.ragged.constant' b'.'], shape=(5,), dtype=string)\n"
     ]
    }
   ],
   "source": [
    "sentences = tf.ragged.constant([\n",
    "    [\"Let's\", \"build\", \"some\", \"ragged\", \"tensors\", \"!\"],\n",
    "    [\"We\", \"can\", \"use\", \"tf.ragged.constant\", \".\"]])\n",
    "print(sentences)\n",
    "for i in sentences:\n",
    "  print(i)"
   ]
  },
  {
   "cell_type": "code",
   "execution_count": 26,
   "metadata": {
    "colab": {
     "base_uri": "https://localhost:8080/",
     "height": 52
    },
    "colab_type": "code",
    "id": "NQenCNCx_8gP",
    "outputId": "1639133d-5029-4ebe-b03d-8ba525360e5d"
   },
   "outputs": [
    {
     "data": {
      "text/plain": [
       "[[b\"Let's\", b'build', b'some', b'ragged', b'tensors', b'!'],\n",
       " [b'We', b'can', b'use', b'tf.ragged.constant', b'.']]"
      ]
     },
     "execution_count": 26,
     "metadata": {
      "tags": []
     },
     "output_type": "execute_result"
    }
   ],
   "source": [
    "list_sentences = sentences.to_list()\n",
    "list_sentences"
   ]
  },
  {
   "cell_type": "code",
   "execution_count": 27,
   "metadata": {
    "colab": {
     "base_uri": "https://localhost:8080/",
     "height": 34
    },
    "colab_type": "code",
    "id": "tvMWkUMhDU0z",
    "outputId": "74f55aba-e297-4f12-ad22-8e2227ab7a83"
   },
   "outputs": [
    {
     "name": "stdout",
     "output_type": "stream",
     "text": [
      "<tf.RaggedTensor [[[b'I', b'have', b'a', b'cat'], [b'His', b'name', b'is', b'Mat']], [[b'Do', b'you', b'want', b'to', b'come', b'visit'], [b\"I'm\", b'free', b'tomorrow']]]>\n"
     ]
    }
   ],
   "source": [
    "paragraphs = tf.ragged.constant([\n",
    "    [['I', 'have', 'a', 'cat'], ['His', 'name', 'is', 'Mat']],\n",
    "    [['Do', 'you', 'want', 'to', 'come', 'visit'], [\"I'm\", 'free', 'tomorrow']],\n",
    "])\n",
    "print(paragraphs)"
   ]
  },
  {
   "cell_type": "code",
   "execution_count": 28,
   "metadata": {
    "colab": {
     "base_uri": "https://localhost:8080/",
     "height": 70
    },
    "colab_type": "code",
    "id": "QksJPStgDe1h",
    "outputId": "4614e3e8-9f18-44ca-dcf4-2315eee8457a"
   },
   "outputs": [
    {
     "data": {
      "text/plain": [
       "[[[b'I', b'have', b'a', b'cat'], [b'His', b'name', b'is', b'Mat']],\n",
       " [[b'Do', b'you', b'want', b'to', b'come', b'visit'],\n",
       "  [b\"I'm\", b'free', b'tomorrow']]]"
      ]
     },
     "execution_count": 28,
     "metadata": {
      "tags": []
     },
     "output_type": "execute_result"
    }
   ],
   "source": [
    "list_paragraphs = paragraphs.to_list()\n",
    "list_paragraphs"
   ]
  },
  {
   "cell_type": "markdown",
   "metadata": {
    "colab_type": "text",
    "id": "nyvOTnHuM_-V"
   },
   "source": [
    "#### Alternative Representations of Ragged Tensors\n",
    "Ragged tensors can also be constructed by pairing flat *values* tensors with\n",
    "*row-partitioning* tensors indicating how those values should be divided into\n",
    "rows, using factory classmethods such as \n",
    "* `tf.RaggedTensor.from_value_rowids`,\n",
    "* `tf.RaggedTensor.from_row_lengths`, and\n",
    "* `tf.RaggedTensor.from_row_splits`.\n",
    "\n",
    "##### 1.) `tf.RaggedTensor.from_value_rowids`\n",
    "If you know which row each value belongs in, then you can build a `RaggedTensor` using a `value_rowids` row-partitioning tensor:\n",
    "\n",
    "![value_rowids](https://www.tensorflow.org/images/ragged_tensors/value_rowids.png)"
   ]
  },
  {
   "cell_type": "code",
   "execution_count": 29,
   "metadata": {
    "colab": {
     "base_uri": "https://localhost:8080/",
     "height": 34
    },
    "colab_type": "code",
    "id": "ANEB5tf0Drd3",
    "outputId": "96f5307e-e364-4a32-d482-ce77f8fd857a"
   },
   "outputs": [
    {
     "name": "stdout",
     "output_type": "stream",
     "text": [
      "<tf.RaggedTensor [[3, 1, 4, 1], [], [5, 9], [2]]>\n"
     ]
    }
   ],
   "source": [
    "print(tf.RaggedTensor.from_value_rowids(\n",
    "    values=[3, 1, 4, 1, 5, 9, 2],\n",
    "    value_rowids=[0, 0, 0, 0, 2, 2, 3]))"
   ]
  },
  {
   "cell_type": "markdown",
   "metadata": {
    "colab_type": "text",
    "id": "R_T-SSAMItJN"
   },
   "source": [
    "##### 2.) `tf.RaggedTensor.from_row_lengths`\n",
    "\n",
    "If you know how long each row is, then you can use a `row_lengths` row-partitioning tensor:\n",
    "\n",
    "![row_lengths](https://www.tensorflow.org/images/ragged_tensors/row_lengths.png)"
   ]
  },
  {
   "cell_type": "code",
   "execution_count": 30,
   "metadata": {
    "colab": {
     "base_uri": "https://localhost:8080/",
     "height": 34
    },
    "colab_type": "code",
    "id": "e70RefraIxU8",
    "outputId": "29f94fc6-a260-4191-fca9-e0d01731869a"
   },
   "outputs": [
    {
     "name": "stdout",
     "output_type": "stream",
     "text": [
      "<tf.RaggedTensor [[3, 1, 4, 1], [], [5, 9], [2]]>\n"
     ]
    }
   ],
   "source": [
    "print(tf.RaggedTensor.from_row_lengths(\n",
    "    values=[3, 1, 4, 1, 5, 9, 2],\n",
    "    row_lengths=[4, 0, 2, 1]))"
   ]
  },
  {
   "cell_type": "markdown",
   "metadata": {
    "colab_type": "text",
    "id": "nYwVrSojJBvx"
   },
   "source": [
    "##### 3.) `tf.RaggedTensor.from_row_splits`\n",
    "\n",
    "If you know the index where each row starts and ends, then you can use a `row_splits` row-partitioning tensor:\n",
    "\n",
    "![row_splits](https://www.tensorflow.org/images/ragged_tensors/row_splits.png)"
   ]
  },
  {
   "cell_type": "code",
   "execution_count": 31,
   "metadata": {
    "colab": {
     "base_uri": "https://localhost:8080/",
     "height": 34
    },
    "colab_type": "code",
    "id": "3TyifpfnJDiv",
    "outputId": "ddb710a2-a8e4-4abd-830c-5d955d0271e7"
   },
   "outputs": [
    {
     "name": "stdout",
     "output_type": "stream",
     "text": [
      "<tf.RaggedTensor [[3, 1, 4, 1], [], [5, 9], [2], []]>\n"
     ]
    }
   ],
   "source": [
    "print(tf.RaggedTensor.from_row_splits(\n",
    "    values=[3, 1, 4, 1, 5, 9, 2],\n",
    "    row_splits=[0, 4, 4, 6, 7, 7]))"
   ]
  },
  {
   "cell_type": "markdown",
   "metadata": {
    "colab_type": "text",
    "id": "Oc6fAwTUJtfo"
   },
   "source": [
    "See the `tf.RaggedTensor` class documentation for a full list of factory methods.\n",
    "\n",
    "Note: By default, these factory methods add assertions that the row partition tensor is well-formed and consistent with the number of values.  The `validate=False` parameter can be used to skip these checks if you can guarantee that the inputs are well-formed and consistent."
   ]
  },
  {
   "cell_type": "markdown",
   "metadata": {
    "colab_type": "text",
    "id": "r6AQzlT_J8Xv"
   },
   "source": [
    "### What you can store in a ragged tensor\n",
    "\n",
    "As with normal `Tensor`s, the values in a `RaggedTensor` must all have the same\n",
    "type; and the values must all be at the same nesting depth (the *rank* of the\n",
    "tensor):"
   ]
  },
  {
   "cell_type": "code",
   "execution_count": 32,
   "metadata": {
    "colab": {
     "base_uri": "https://localhost:8080/",
     "height": 34
    },
    "colab_type": "code",
    "id": "FJjtV28lJynf",
    "outputId": "c9a4616e-8bcb-48ea-8f1e-963b0d807c4c"
   },
   "outputs": [
    {
     "name": "stdout",
     "output_type": "stream",
     "text": [
      "<tf.RaggedTensor [[b'Hi'], [b'How', b'are', b'you']]>\n"
     ]
    }
   ],
   "source": [
    "print(tf.ragged.constant([[\"Hi\"], [\"How\", \"are\", \"you\"]]))  # ok: type=string, rank=2"
   ]
  },
  {
   "cell_type": "code",
   "execution_count": 33,
   "metadata": {
    "colab": {
     "base_uri": "https://localhost:8080/",
     "height": 34
    },
    "colab_type": "code",
    "id": "36WCPHB_JqmC",
    "outputId": "86ef518d-3826-4c32-f5d1-f144dc3f22dc"
   },
   "outputs": [
    {
     "name": "stdout",
     "output_type": "stream",
     "text": [
      "<tf.RaggedTensor [[[1, 2], [3]], [[4, 5]]]>\n"
     ]
    }
   ],
   "source": [
    "print(tf.ragged.constant([[[1, 2], [3]], [[4, 5]]]))        # ok: type=int32, rank=3"
   ]
  },
  {
   "cell_type": "code",
   "execution_count": 34,
   "metadata": {
    "colab": {
     "base_uri": "https://localhost:8080/",
     "height": 34
    },
    "colab_type": "code",
    "id": "c63_l33kJH9F",
    "outputId": "5f050eac-1d0d-49a3-c882-1b7efc0afbd0"
   },
   "outputs": [
    {
     "name": "stdout",
     "output_type": "stream",
     "text": [
      "Can't convert Python sequence with mixed types to Tensor.\n"
     ]
    }
   ],
   "source": [
    "try:\n",
    "  tf.ragged.constant([[\"one\", \"two\"], [3, 4]])              # bad: multiple types\n",
    "except ValueError as exception:\n",
    "  print(exception)"
   ]
  },
  {
   "cell_type": "code",
   "execution_count": 35,
   "metadata": {
    "colab": {
     "base_uri": "https://localhost:8080/",
     "height": 34
    },
    "colab_type": "code",
    "id": "ubb4nk_0LjXU",
    "outputId": "672f8ee0-c3fc-4ee4-c1e6-f078ada27480"
   },
   "outputs": [
    {
     "name": "stdout",
     "output_type": "stream",
     "text": [
      "all scalar values must have the same nesting depth\n"
     ]
    }
   ],
   "source": [
    "try:\n",
    "  tf.ragged.constant([\"A\", [\"B\", \"C\"]])                     # bad: multiple nesting depths\n",
    "except ValueError as exception:\n",
    "  print(exception)"
   ]
  },
  {
   "cell_type": "markdown",
   "metadata": {
    "colab_type": "text",
    "id": "qkwvmu7rNK_G"
   },
   "source": [
    "## Example use case\n",
    "\n",
    "The following example demonstrates how `RaggedTensor`s can be used to construct\n",
    "and combine unigram and bigram embeddings for a batch of variable-length\n",
    "queries, using special markers for the beginning and end of each sentence.\n",
    "For more details on the ops used in this example, see the `tf.ragged` package documentation."
   ]
  },
  {
   "cell_type": "code",
   "execution_count": 36,
   "metadata": {
    "colab": {
     "base_uri": "https://localhost:8080/",
     "height": 34
    },
    "colab_type": "code",
    "id": "C7yp2lyhN50n",
    "outputId": "e2e1247f-5097-445b-a59a-9c96da88e5fc"
   },
   "outputs": [
    {
     "data": {
      "text/plain": [
       "<tf.RaggedTensor [[b'Who', b'is', b'today', b'Dan', b'Smith'], [b'Pause'], [b'Will', b'it', b'rain', b'later', b'today']]>"
      ]
     },
     "execution_count": 36,
     "metadata": {
      "tags": []
     },
     "output_type": "execute_result"
    }
   ],
   "source": [
    "queries = tf.ragged.constant([['Who', 'is', 'today', 'Dan', 'Smith'],\n",
    "                              ['Pause'],\n",
    "                              ['Will', 'it', 'rain', 'later', 'today']])\n",
    "queries"
   ]
  },
  {
   "cell_type": "code",
   "execution_count": 37,
   "metadata": {
    "colab": {
     "base_uri": "https://localhost:8080/",
     "height": 34
    },
    "colab_type": "code",
    "id": "16SCIuvSkqtg",
    "outputId": "810c6d64-44eb-4210-ff9d-0bcec77c411f"
   },
   "outputs": [
    {
     "data": {
      "text/plain": [
       "TensorShape([3, None])"
      ]
     },
     "execution_count": 37,
     "metadata": {
      "tags": []
     },
     "output_type": "execute_result"
    }
   ],
   "source": [
    "queries.shape"
   ]
  },
  {
   "cell_type": "code",
   "execution_count": 38,
   "metadata": {
    "colab": {
     "base_uri": "https://localhost:8080/",
     "height": 34
    },
    "colab_type": "code",
    "id": "_oS-9Boqk7-T",
    "outputId": "dd3cad0e-38c0-4dfc-fe20-33ac2cb801b8"
   },
   "outputs": [
    {
     "data": {
      "text/plain": [
       "3"
      ]
     },
     "execution_count": 38,
     "metadata": {
      "tags": []
     },
     "output_type": "execute_result"
    }
   ],
   "source": [
    "# just to see how this works\n",
    "len(queries.to_list())"
   ]
  },
  {
   "cell_type": "code",
   "execution_count": 39,
   "metadata": {
    "colab": {
     "base_uri": "https://localhost:8080/",
     "height": 194
    },
    "colab_type": "code",
    "id": "-DJW9nJENMdR",
    "outputId": "ebddc6be-b0e8-4aad-c6ef-8fbbf0785b37"
   },
   "outputs": [
    {
     "name": "stdout",
     "output_type": "stream",
     "text": [
      "<tf.Variable 'Variable:0' shape=(1024, 4) dtype=float32, numpy=\n",
      "array([[-0.06978837,  0.19359063, -0.34617987,  0.11603856],\n",
      "       [-0.22733235,  0.3751056 ,  0.14743423, -0.34628192],\n",
      "       [ 0.01751955, -0.07190721,  0.7064819 ,  0.44548655],\n",
      "       ...,\n",
      "       [-0.9181837 ,  0.16131419, -0.20291993, -0.03120707],\n",
      "       [ 0.39511496,  0.46536842,  0.03990752, -0.21964796],\n",
      "       [ 0.10540861,  0.36131456, -0.34862486,  0.04821806]],\n",
      "      dtype=float32)>\n"
     ]
    },
    {
     "data": {
      "application/vnd.google.colaboratory.intrinsic": {
       "type": "string"
      },
      "text/plain": [
       "'\\narray([[ 0.7967023 ,  0.80937356, -0.933402  , -0.76543057],\\n       [-0.11630829,  0.14486092, -0.69844437, -0.6212817 ],\\n'"
      ]
     },
     "execution_count": 39,
     "metadata": {
      "tags": []
     },
     "output_type": "execute_result"
    }
   ],
   "source": [
    "# Create an embedding table.\n",
    "num_buckets = 1024\n",
    "embedding_size = 4\n",
    "embedding_table = tf.Variable(\n",
    "    tf.random.truncated_normal([num_buckets, embedding_size],\n",
    "                       stddev=1.0 / math.sqrt(embedding_size)))\n",
    "\n",
    "print(embedding_table)\n",
    "'''\n",
    "array([[ 0.7967023 ,  0.80937356, -0.933402  , -0.76543057],\n",
    "       [-0.11630829,  0.14486092, -0.69844437, -0.6212817 ],\n",
    "'''"
   ]
  },
  {
   "cell_type": "code",
   "execution_count": 40,
   "metadata": {
    "colab": {
     "base_uri": "https://localhost:8080/",
     "height": 34
    },
    "colab_type": "code",
    "id": "f2vmO963F62u",
    "outputId": "24c06452-d79d-46f1-d6da-a47a39912894"
   },
   "outputs": [
    {
     "data": {
      "text/plain": [
       "2.0"
      ]
     },
     "execution_count": 40,
     "metadata": {
      "tags": []
     },
     "output_type": "execute_result"
    }
   ],
   "source": [
    "math.sqrt(embedding_size)"
   ]
  },
  {
   "cell_type": "code",
   "execution_count": 41,
   "metadata": {
    "colab": {
     "base_uri": "https://localhost:8080/",
     "height": 1000
    },
    "colab_type": "code",
    "id": "B9L1ZpfrGP1o",
    "outputId": "e9824052-944e-44e1-e7cc-504a401e5059"
   },
   "outputs": [
    {
     "name": "stdout",
     "output_type": "stream",
     "text": [
      "tf.Tensor(-0.069788374, shape=(), dtype=float32)\n",
      "tf.Tensor(0.19359063, shape=(), dtype=float32)\n",
      "tf.Tensor(-0.34617987, shape=(), dtype=float32)\n",
      "tf.Tensor(0.11603856, shape=(), dtype=float32)\n",
      "tf.Tensor(-0.22733235, shape=(), dtype=float32)\n",
      "tf.Tensor(0.3751056, shape=(), dtype=float32)\n",
      "tf.Tensor(0.14743423, shape=(), dtype=float32)\n",
      "tf.Tensor(-0.34628192, shape=(), dtype=float32)\n",
      "tf.Tensor(0.017519554, shape=(), dtype=float32)\n",
      "tf.Tensor(-0.07190721, shape=(), dtype=float32)\n",
      "tf.Tensor(0.7064819, shape=(), dtype=float32)\n",
      "tf.Tensor(0.44548655, shape=(), dtype=float32)\n",
      "tf.Tensor(0.7555735, shape=(), dtype=float32)\n",
      "tf.Tensor(0.12065971, shape=(), dtype=float32)\n",
      "tf.Tensor(-0.6438394, shape=(), dtype=float32)\n",
      "tf.Tensor(0.11610095, shape=(), dtype=float32)\n",
      "tf.Tensor(0.44473118, shape=(), dtype=float32)\n",
      "tf.Tensor(0.5352465, shape=(), dtype=float32)\n",
      "tf.Tensor(0.42331794, shape=(), dtype=float32)\n",
      "tf.Tensor(0.9026192, shape=(), dtype=float32)\n",
      "tf.Tensor(-0.2111841, shape=(), dtype=float32)\n",
      "tf.Tensor(0.20350125, shape=(), dtype=float32)\n",
      "tf.Tensor(-0.06734081, shape=(), dtype=float32)\n",
      "tf.Tensor(-0.46868283, shape=(), dtype=float32)\n",
      "tf.Tensor(-0.5366863, shape=(), dtype=float32)\n",
      "tf.Tensor(0.27083668, shape=(), dtype=float32)\n",
      "tf.Tensor(-0.8706506, shape=(), dtype=float32)\n",
      "tf.Tensor(-0.25205043, shape=(), dtype=float32)\n",
      "tf.Tensor(-0.11916047, shape=(), dtype=float32)\n",
      "tf.Tensor(-0.005888397, shape=(), dtype=float32)\n",
      "tf.Tensor(-0.3329442, shape=(), dtype=float32)\n",
      "tf.Tensor(0.052710425, shape=(), dtype=float32)\n",
      "tf.Tensor(-0.1880671, shape=(), dtype=float32)\n",
      "tf.Tensor(0.23937646, shape=(), dtype=float32)\n",
      "tf.Tensor(-0.04261872, shape=(), dtype=float32)\n",
      "tf.Tensor(0.6621547, shape=(), dtype=float32)\n",
      "tf.Tensor(-0.19215864, shape=(), dtype=float32)\n",
      "tf.Tensor(-0.15150699, shape=(), dtype=float32)\n",
      "tf.Tensor(0.9763902, shape=(), dtype=float32)\n",
      "tf.Tensor(0.29259622, shape=(), dtype=float32)\n",
      "tf.Tensor(-0.34100455, shape=(), dtype=float32)\n",
      "tf.Tensor(0.4352109, shape=(), dtype=float32)\n",
      "tf.Tensor(-0.14819428, shape=(), dtype=float32)\n",
      "tf.Tensor(-0.94177955, shape=(), dtype=float32)\n",
      "tf.Tensor(0.38083935, shape=(), dtype=float32)\n",
      "tf.Tensor(0.62576956, shape=(), dtype=float32)\n",
      "tf.Tensor(-0.70649195, shape=(), dtype=float32)\n",
      "tf.Tensor(-0.42628536, shape=(), dtype=float32)\n",
      "tf.Tensor(-0.4561965, shape=(), dtype=float32)\n",
      "tf.Tensor(0.6551162, shape=(), dtype=float32)\n",
      "tf.Tensor(0.42442012, shape=(), dtype=float32)\n",
      "tf.Tensor(0.7748134, shape=(), dtype=float32)\n",
      "tf.Tensor(0.5947567, shape=(), dtype=float32)\n",
      "tf.Tensor(0.34352157, shape=(), dtype=float32)\n",
      "tf.Tensor(0.395604, shape=(), dtype=float32)\n",
      "tf.Tensor(0.31352687, shape=(), dtype=float32)\n",
      "tf.Tensor(-0.584271, shape=(), dtype=float32)\n",
      "tf.Tensor(0.30360335, shape=(), dtype=float32)\n",
      "tf.Tensor(0.64937043, shape=(), dtype=float32)\n",
      "tf.Tensor(-0.08956809, shape=(), dtype=float32)\n",
      "tf.Tensor(-0.6826913, shape=(), dtype=float32)\n",
      "tf.Tensor(-0.948768, shape=(), dtype=float32)\n",
      "tf.Tensor(0.7229331, shape=(), dtype=float32)\n",
      "tf.Tensor(-0.01016438, shape=(), dtype=float32)\n",
      "tf.Tensor(0.7267037, shape=(), dtype=float32)\n",
      "tf.Tensor(-0.3207231, shape=(), dtype=float32)\n",
      "tf.Tensor(-0.29633027, shape=(), dtype=float32)\n",
      "tf.Tensor(-0.07311068, shape=(), dtype=float32)\n",
      "tf.Tensor(0.1853964, shape=(), dtype=float32)\n",
      "tf.Tensor(0.94489, shape=(), dtype=float32)\n",
      "tf.Tensor(0.12778121, shape=(), dtype=float32)\n",
      "tf.Tensor(0.32469484, shape=(), dtype=float32)\n",
      "tf.Tensor(0.31200662, shape=(), dtype=float32)\n",
      "tf.Tensor(-0.52569515, shape=(), dtype=float32)\n",
      "tf.Tensor(0.9829214, shape=(), dtype=float32)\n",
      "tf.Tensor(0.40678057, shape=(), dtype=float32)\n",
      "tf.Tensor(-0.6403768, shape=(), dtype=float32)\n",
      "tf.Tensor(0.29172513, shape=(), dtype=float32)\n",
      "tf.Tensor(-0.3673607, shape=(), dtype=float32)\n",
      "tf.Tensor(0.77199703, shape=(), dtype=float32)\n",
      "tf.Tensor(-0.78591806, shape=(), dtype=float32)\n",
      "tf.Tensor(-0.5852778, shape=(), dtype=float32)\n",
      "tf.Tensor(0.5671769, shape=(), dtype=float32)\n",
      "tf.Tensor(-0.76510626, shape=(), dtype=float32)\n",
      "tf.Tensor(0.056484185, shape=(), dtype=float32)\n",
      "tf.Tensor(0.08836809, shape=(), dtype=float32)\n",
      "tf.Tensor(0.14504625, shape=(), dtype=float32)\n",
      "tf.Tensor(0.2467218, shape=(), dtype=float32)\n",
      "tf.Tensor(0.5115126, shape=(), dtype=float32)\n",
      "tf.Tensor(-0.5349966, shape=(), dtype=float32)\n",
      "tf.Tensor(-0.6436011, shape=(), dtype=float32)\n",
      "tf.Tensor(0.3310031, shape=(), dtype=float32)\n",
      "tf.Tensor(0.06477503, shape=(), dtype=float32)\n",
      "tf.Tensor(0.21786693, shape=(), dtype=float32)\n",
      "tf.Tensor(0.18110149, shape=(), dtype=float32)\n",
      "tf.Tensor(0.027040366, shape=(), dtype=float32)\n",
      "tf.Tensor(-0.38558638, shape=(), dtype=float32)\n",
      "tf.Tensor(-0.15159829, shape=(), dtype=float32)\n",
      "tf.Tensor(-0.31572032, shape=(), dtype=float32)\n",
      "tf.Tensor(-0.03948685, shape=(), dtype=float32)\n",
      "tf.Tensor(0.17489992, shape=(), dtype=float32)\n",
      "tf.Tensor(0.13831562, shape=(), dtype=float32)\n",
      "tf.Tensor(-0.14981036, shape=(), dtype=float32)\n",
      "tf.Tensor(0.16717198, shape=(), dtype=float32)\n",
      "tf.Tensor(0.46211305, shape=(), dtype=float32)\n",
      "tf.Tensor(0.21824774, shape=(), dtype=float32)\n",
      "tf.Tensor(0.23762691, shape=(), dtype=float32)\n",
      "tf.Tensor(-0.68978804, shape=(), dtype=float32)\n",
      "tf.Tensor(0.07027403, shape=(), dtype=float32)\n",
      "tf.Tensor(-0.38382655, shape=(), dtype=float32)\n",
      "tf.Tensor(-0.6207581, shape=(), dtype=float32)\n",
      "tf.Tensor(-0.07826214, shape=(), dtype=float32)\n",
      "tf.Tensor(-0.29218847, shape=(), dtype=float32)\n",
      "tf.Tensor(-0.67175716, shape=(), dtype=float32)\n",
      "tf.Tensor(0.34031254, shape=(), dtype=float32)\n",
      "tf.Tensor(-0.49082536, shape=(), dtype=float32)\n",
      "tf.Tensor(-0.21661621, shape=(), dtype=float32)\n",
      "tf.Tensor(0.17862897, shape=(), dtype=float32)\n",
      "tf.Tensor(-0.43274674, shape=(), dtype=float32)\n",
      "tf.Tensor(0.96474093, shape=(), dtype=float32)\n",
      "tf.Tensor(0.87852204, shape=(), dtype=float32)\n",
      "tf.Tensor(0.016807398, shape=(), dtype=float32)\n",
      "tf.Tensor(0.26172104, shape=(), dtype=float32)\n",
      "tf.Tensor(0.3604585, shape=(), dtype=float32)\n",
      "tf.Tensor(-0.11050634, shape=(), dtype=float32)\n",
      "tf.Tensor(-0.27475217, shape=(), dtype=float32)\n",
      "tf.Tensor(0.6454534, shape=(), dtype=float32)\n",
      "tf.Tensor(0.16688666, shape=(), dtype=float32)\n",
      "tf.Tensor(-0.9614007, shape=(), dtype=float32)\n",
      "tf.Tensor(0.020248719, shape=(), dtype=float32)\n",
      "tf.Tensor(0.56884664, shape=(), dtype=float32)\n",
      "tf.Tensor(-0.21737279, shape=(), dtype=float32)\n",
      "tf.Tensor(-0.48759624, shape=(), dtype=float32)\n",
      "tf.Tensor(-0.12692335, shape=(), dtype=float32)\n",
      "tf.Tensor(0.79912543, shape=(), dtype=float32)\n",
      "tf.Tensor(-0.024503017, shape=(), dtype=float32)\n",
      "tf.Tensor(0.5050896, shape=(), dtype=float32)\n",
      "tf.Tensor(0.09513126, shape=(), dtype=float32)\n",
      "tf.Tensor(0.15998484, shape=(), dtype=float32)\n",
      "tf.Tensor(-0.7880075, shape=(), dtype=float32)\n",
      "tf.Tensor(0.06574679, shape=(), dtype=float32)\n",
      "tf.Tensor(0.36833978, shape=(), dtype=float32)\n",
      "tf.Tensor(0.36986318, shape=(), dtype=float32)\n",
      "tf.Tensor(0.033212237, shape=(), dtype=float32)\n",
      "tf.Tensor(-0.15369892, shape=(), dtype=float32)\n",
      "tf.Tensor(0.31896257, shape=(), dtype=float32)\n",
      "tf.Tensor(0.621701, shape=(), dtype=float32)\n",
      "tf.Tensor(0.22706214, shape=(), dtype=float32)\n",
      "tf.Tensor(0.11208258, shape=(), dtype=float32)\n",
      "tf.Tensor(-0.086367056, shape=(), dtype=float32)\n",
      "tf.Tensor(-0.57610387, shape=(), dtype=float32)\n",
      "tf.Tensor(0.5048368, shape=(), dtype=float32)\n",
      "tf.Tensor(-0.7082397, shape=(), dtype=float32)\n",
      "tf.Tensor(-0.07962027, shape=(), dtype=float32)\n",
      "tf.Tensor(-0.8205361, shape=(), dtype=float32)\n",
      "tf.Tensor(0.6098983, shape=(), dtype=float32)\n",
      "tf.Tensor(-0.14137629, shape=(), dtype=float32)\n",
      "tf.Tensor(-0.30236086, shape=(), dtype=float32)\n",
      "tf.Tensor(0.37698665, shape=(), dtype=float32)\n",
      "tf.Tensor(0.4365746, shape=(), dtype=float32)\n",
      "tf.Tensor(0.5556222, shape=(), dtype=float32)\n",
      "tf.Tensor(-0.8850368, shape=(), dtype=float32)\n",
      "tf.Tensor(-0.06747537, shape=(), dtype=float32)\n",
      "tf.Tensor(0.10741645, shape=(), dtype=float32)\n",
      "tf.Tensor(0.17131634, shape=(), dtype=float32)\n",
      "tf.Tensor(0.53310364, shape=(), dtype=float32)\n",
      "tf.Tensor(-0.12654503, shape=(), dtype=float32)\n",
      "tf.Tensor(0.4811361, shape=(), dtype=float32)\n",
      "tf.Tensor(-0.3189598, shape=(), dtype=float32)\n",
      "tf.Tensor(0.6357127, shape=(), dtype=float32)\n",
      "tf.Tensor(0.8035046, shape=(), dtype=float32)\n",
      "tf.Tensor(0.1343275, shape=(), dtype=float32)\n",
      "tf.Tensor(0.3982321, shape=(), dtype=float32)\n",
      "tf.Tensor(-0.67536676, shape=(), dtype=float32)\n",
      "tf.Tensor(0.49143448, shape=(), dtype=float32)\n",
      "tf.Tensor(0.09414743, shape=(), dtype=float32)\n",
      "tf.Tensor(-0.48932144, shape=(), dtype=float32)\n",
      "tf.Tensor(0.19196294, shape=(), dtype=float32)\n",
      "tf.Tensor(0.2993534, shape=(), dtype=float32)\n",
      "tf.Tensor(-0.009359532, shape=(), dtype=float32)\n",
      "tf.Tensor(0.08782885, shape=(), dtype=float32)\n",
      "tf.Tensor(0.0910324, shape=(), dtype=float32)\n",
      "tf.Tensor(-0.62953824, shape=(), dtype=float32)\n",
      "tf.Tensor(0.108246624, shape=(), dtype=float32)\n",
      "tf.Tensor(0.34976143, shape=(), dtype=float32)\n",
      "tf.Tensor(0.23282535, shape=(), dtype=float32)\n",
      "tf.Tensor(-0.25414804, shape=(), dtype=float32)\n",
      "tf.Tensor(-0.69911426, shape=(), dtype=float32)\n",
      "tf.Tensor(-0.27912268, shape=(), dtype=float32)\n",
      "tf.Tensor(0.87985986, shape=(), dtype=float32)\n",
      "tf.Tensor(-0.37760878, shape=(), dtype=float32)\n",
      "tf.Tensor(0.022722432, shape=(), dtype=float32)\n",
      "tf.Tensor(0.5307883, shape=(), dtype=float32)\n",
      "tf.Tensor(0.071699776, shape=(), dtype=float32)\n",
      "tf.Tensor(-0.59493, shape=(), dtype=float32)\n",
      "tf.Tensor(-0.007222393, shape=(), dtype=float32)\n",
      "tf.Tensor(-0.56601006, shape=(), dtype=float32)\n",
      "tf.Tensor(-0.40505335, shape=(), dtype=float32)\n",
      "tf.Tensor(-0.50804573, shape=(), dtype=float32)\n",
      "tf.Tensor(-0.010367285, shape=(), dtype=float32)\n",
      "tf.Tensor(0.47217175, shape=(), dtype=float32)\n",
      "tf.Tensor(-0.06633937, shape=(), dtype=float32)\n",
      "tf.Tensor(-0.011055887, shape=(), dtype=float32)\n",
      "tf.Tensor(-0.22949897, shape=(), dtype=float32)\n",
      "tf.Tensor(-0.119425826, shape=(), dtype=float32)\n",
      "tf.Tensor(0.39760837, shape=(), dtype=float32)\n",
      "tf.Tensor(-0.78758144, shape=(), dtype=float32)\n",
      "tf.Tensor(0.78189194, shape=(), dtype=float32)\n",
      "tf.Tensor(0.022188595, shape=(), dtype=float32)\n",
      "tf.Tensor(-0.10276512, shape=(), dtype=float32)\n",
      "tf.Tensor(-0.6940813, shape=(), dtype=float32)\n",
      "tf.Tensor(0.8710939, shape=(), dtype=float32)\n",
      "tf.Tensor(0.24377982, shape=(), dtype=float32)\n",
      "tf.Tensor(-0.40981573, shape=(), dtype=float32)\n",
      "tf.Tensor(0.36293256, shape=(), dtype=float32)\n",
      "tf.Tensor(0.05495635, shape=(), dtype=float32)\n",
      "tf.Tensor(0.28711003, shape=(), dtype=float32)\n",
      "tf.Tensor(-0.5460475, shape=(), dtype=float32)\n",
      "tf.Tensor(0.15149944, shape=(), dtype=float32)\n",
      "tf.Tensor(-0.29876947, shape=(), dtype=float32)\n",
      "tf.Tensor(0.22075486, shape=(), dtype=float32)\n",
      "tf.Tensor(-0.7557878, shape=(), dtype=float32)\n",
      "tf.Tensor(0.16483782, shape=(), dtype=float32)\n",
      "tf.Tensor(0.08428017, shape=(), dtype=float32)\n",
      "tf.Tensor(-0.059085574, shape=(), dtype=float32)\n",
      "tf.Tensor(-0.40067136, shape=(), dtype=float32)\n",
      "tf.Tensor(-0.24734752, shape=(), dtype=float32)\n",
      "tf.Tensor(0.7772858, shape=(), dtype=float32)\n",
      "tf.Tensor(-0.09768878, shape=(), dtype=float32)\n",
      "tf.Tensor(-0.05934493, shape=(), dtype=float32)\n",
      "tf.Tensor(-0.03159871, shape=(), dtype=float32)\n",
      "tf.Tensor(0.81555474, shape=(), dtype=float32)\n",
      "tf.Tensor(-0.009801566, shape=(), dtype=float32)\n",
      "tf.Tensor(-0.33465958, shape=(), dtype=float32)\n",
      "tf.Tensor(-0.7002977, shape=(), dtype=float32)\n",
      "tf.Tensor(0.05724539, shape=(), dtype=float32)\n",
      "tf.Tensor(0.26185867, shape=(), dtype=float32)\n",
      "tf.Tensor(-0.8184049, shape=(), dtype=float32)\n",
      "tf.Tensor(-0.13976504, shape=(), dtype=float32)\n",
      "tf.Tensor(0.0074182977, shape=(), dtype=float32)\n",
      "tf.Tensor(0.5089772, shape=(), dtype=float32)\n",
      "tf.Tensor(0.0114338845, shape=(), dtype=float32)\n",
      "tf.Tensor(0.5830641, shape=(), dtype=float32)\n",
      "tf.Tensor(0.44352394, shape=(), dtype=float32)\n",
      "tf.Tensor(0.31300104, shape=(), dtype=float32)\n",
      "tf.Tensor(-0.0135768475, shape=(), dtype=float32)\n",
      "tf.Tensor(-0.26821524, shape=(), dtype=float32)\n",
      "tf.Tensor(-0.585187, shape=(), dtype=float32)\n",
      "tf.Tensor(-0.21865179, shape=(), dtype=float32)\n",
      "tf.Tensor(-0.46776655, shape=(), dtype=float32)\n",
      "tf.Tensor(-0.16981272, shape=(), dtype=float32)\n",
      "tf.Tensor(0.43322015, shape=(), dtype=float32)\n",
      "tf.Tensor(0.06103492, shape=(), dtype=float32)\n",
      "tf.Tensor(-0.46811998, shape=(), dtype=float32)\n",
      "tf.Tensor(0.3949349, shape=(), dtype=float32)\n",
      "tf.Tensor(-0.7028998, shape=(), dtype=float32)\n",
      "tf.Tensor(-0.20203151, shape=(), dtype=float32)\n",
      "tf.Tensor(0.102040626, shape=(), dtype=float32)\n",
      "tf.Tensor(0.18118723, shape=(), dtype=float32)\n",
      "tf.Tensor(-0.48482284, shape=(), dtype=float32)\n",
      "tf.Tensor(-0.50225097, shape=(), dtype=float32)\n",
      "tf.Tensor(-0.4688615, shape=(), dtype=float32)\n",
      "tf.Tensor(0.0064905263, shape=(), dtype=float32)\n",
      "tf.Tensor(-0.5259182, shape=(), dtype=float32)\n",
      "tf.Tensor(-0.40032932, shape=(), dtype=float32)\n",
      "tf.Tensor(-0.5062213, shape=(), dtype=float32)\n",
      "tf.Tensor(-0.4299018, shape=(), dtype=float32)\n",
      "tf.Tensor(-0.314764, shape=(), dtype=float32)\n",
      "tf.Tensor(-0.10560879, shape=(), dtype=float32)\n",
      "tf.Tensor(-0.8455391, shape=(), dtype=float32)\n",
      "tf.Tensor(0.5499602, shape=(), dtype=float32)\n",
      "tf.Tensor(0.20966715, shape=(), dtype=float32)\n",
      "tf.Tensor(-0.3034292, shape=(), dtype=float32)\n",
      "tf.Tensor(0.60611314, shape=(), dtype=float32)\n",
      "tf.Tensor(0.01085148, shape=(), dtype=float32)\n",
      "tf.Tensor(-0.37558305, shape=(), dtype=float32)\n",
      "tf.Tensor(0.14693877, shape=(), dtype=float32)\n",
      "tf.Tensor(0.112439096, shape=(), dtype=float32)\n",
      "tf.Tensor(-0.18845107, shape=(), dtype=float32)\n",
      "tf.Tensor(0.2438475, shape=(), dtype=float32)\n",
      "tf.Tensor(-0.8386401, shape=(), dtype=float32)\n",
      "tf.Tensor(0.75227314, shape=(), dtype=float32)\n",
      "tf.Tensor(-0.34276912, shape=(), dtype=float32)\n",
      "tf.Tensor(-0.6223916, shape=(), dtype=float32)\n",
      "tf.Tensor(0.013176997, shape=(), dtype=float32)\n",
      "tf.Tensor(0.31347921, shape=(), dtype=float32)\n",
      "tf.Tensor(0.63548577, shape=(), dtype=float32)\n",
      "tf.Tensor(0.16471475, shape=(), dtype=float32)\n",
      "tf.Tensor(-0.32772976, shape=(), dtype=float32)\n",
      "tf.Tensor(-0.37456328, shape=(), dtype=float32)\n",
      "tf.Tensor(0.022120828, shape=(), dtype=float32)\n",
      "tf.Tensor(0.1962136, shape=(), dtype=float32)\n",
      "tf.Tensor(0.44230726, shape=(), dtype=float32)\n",
      "tf.Tensor(-0.3524644, shape=(), dtype=float32)\n",
      "tf.Tensor(-0.12368244, shape=(), dtype=float32)\n",
      "tf.Tensor(0.15255688, shape=(), dtype=float32)\n",
      "tf.Tensor(-0.23255888, shape=(), dtype=float32)\n",
      "tf.Tensor(-0.6123371, shape=(), dtype=float32)\n",
      "tf.Tensor(0.47805607, shape=(), dtype=float32)\n",
      "tf.Tensor(0.39604005, shape=(), dtype=float32)\n",
      "tf.Tensor(0.21870993, shape=(), dtype=float32)\n",
      "tf.Tensor(0.33643377, shape=(), dtype=float32)\n",
      "tf.Tensor(0.75243986, shape=(), dtype=float32)\n",
      "tf.Tensor(0.07103554, shape=(), dtype=float32)\n",
      "tf.Tensor(0.6644079, shape=(), dtype=float32)\n",
      "tf.Tensor(-0.40711057, shape=(), dtype=float32)\n",
      "tf.Tensor(-0.493414, shape=(), dtype=float32)\n",
      "tf.Tensor(0.33009607, shape=(), dtype=float32)\n",
      "tf.Tensor(0.44422537, shape=(), dtype=float32)\n",
      "tf.Tensor(0.10531389, shape=(), dtype=float32)\n",
      "tf.Tensor(0.12695195, shape=(), dtype=float32)\n",
      "tf.Tensor(0.59422415, shape=(), dtype=float32)\n",
      "tf.Tensor(-0.2309596, shape=(), dtype=float32)\n",
      "tf.Tensor(-0.95100963, shape=(), dtype=float32)\n",
      "tf.Tensor(-0.5709725, shape=(), dtype=float32)\n",
      "tf.Tensor(0.80310506, shape=(), dtype=float32)\n",
      "tf.Tensor(-0.3390435, shape=(), dtype=float32)\n",
      "tf.Tensor(0.04503293, shape=(), dtype=float32)\n",
      "tf.Tensor(0.1763625, shape=(), dtype=float32)\n",
      "tf.Tensor(0.050665352, shape=(), dtype=float32)\n",
      "tf.Tensor(0.18063289, shape=(), dtype=float32)\n",
      "tf.Tensor(-0.21835299, shape=(), dtype=float32)\n",
      "tf.Tensor(0.6826659, shape=(), dtype=float32)\n",
      "tf.Tensor(0.43708175, shape=(), dtype=float32)\n",
      "tf.Tensor(0.73311543, shape=(), dtype=float32)\n",
      "tf.Tensor(0.03737758, shape=(), dtype=float32)\n",
      "tf.Tensor(0.16839266, shape=(), dtype=float32)\n",
      "tf.Tensor(-0.12044132, shape=(), dtype=float32)\n",
      "tf.Tensor(-0.40547243, shape=(), dtype=float32)\n",
      "tf.Tensor(0.09617768, shape=(), dtype=float32)\n",
      "tf.Tensor(0.23018666, shape=(), dtype=float32)\n",
      "tf.Tensor(0.23332484, shape=(), dtype=float32)\n",
      "tf.Tensor(0.13291265, shape=(), dtype=float32)\n",
      "tf.Tensor(-0.91098285, shape=(), dtype=float32)\n",
      "tf.Tensor(-0.523331, shape=(), dtype=float32)\n",
      "tf.Tensor(-0.726564, shape=(), dtype=float32)\n",
      "tf.Tensor(0.9284419, shape=(), dtype=float32)\n",
      "tf.Tensor(-0.104744285, shape=(), dtype=float32)\n",
      "tf.Tensor(0.42741162, shape=(), dtype=float32)\n",
      "tf.Tensor(-0.2151893, shape=(), dtype=float32)\n",
      "tf.Tensor(0.5510256, shape=(), dtype=float32)\n",
      "tf.Tensor(-0.35765034, shape=(), dtype=float32)\n",
      "tf.Tensor(-0.29705077, shape=(), dtype=float32)\n",
      "tf.Tensor(-0.58957523, shape=(), dtype=float32)\n",
      "tf.Tensor(-0.5228615, shape=(), dtype=float32)\n",
      "tf.Tensor(0.7126165, shape=(), dtype=float32)\n",
      "tf.Tensor(-0.8711144, shape=(), dtype=float32)\n",
      "tf.Tensor(0.24134961, shape=(), dtype=float32)\n",
      "tf.Tensor(-0.14407025, shape=(), dtype=float32)\n",
      "tf.Tensor(0.460424, shape=(), dtype=float32)\n",
      "tf.Tensor(0.011038374, shape=(), dtype=float32)\n",
      "tf.Tensor(-0.059265263, shape=(), dtype=float32)\n",
      "tf.Tensor(0.20580308, shape=(), dtype=float32)\n",
      "tf.Tensor(-0.3047798, shape=(), dtype=float32)\n",
      "tf.Tensor(0.34187162, shape=(), dtype=float32)\n",
      "tf.Tensor(-0.092547804, shape=(), dtype=float32)\n",
      "tf.Tensor(-0.8569557, shape=(), dtype=float32)\n",
      "tf.Tensor(-0.19143566, shape=(), dtype=float32)\n",
      "tf.Tensor(-0.21767034, shape=(), dtype=float32)\n",
      "tf.Tensor(-0.55718154, shape=(), dtype=float32)\n",
      "tf.Tensor(0.43893784, shape=(), dtype=float32)\n",
      "tf.Tensor(0.26497555, shape=(), dtype=float32)\n",
      "tf.Tensor(-0.5848838, shape=(), dtype=float32)\n",
      "tf.Tensor(0.30543864, shape=(), dtype=float32)\n",
      "tf.Tensor(0.27978656, shape=(), dtype=float32)\n",
      "tf.Tensor(0.2546546, shape=(), dtype=float32)\n",
      "tf.Tensor(0.46245474, shape=(), dtype=float32)\n",
      "tf.Tensor(-0.8809228, shape=(), dtype=float32)\n",
      "tf.Tensor(0.22931181, shape=(), dtype=float32)\n",
      "tf.Tensor(-0.7494581, shape=(), dtype=float32)\n",
      "tf.Tensor(0.22939892, shape=(), dtype=float32)\n",
      "tf.Tensor(0.56979907, shape=(), dtype=float32)\n",
      "tf.Tensor(0.7386532, shape=(), dtype=float32)\n",
      "tf.Tensor(-0.75717765, shape=(), dtype=float32)\n",
      "tf.Tensor(0.44636568, shape=(), dtype=float32)\n",
      "tf.Tensor(-0.53386223, shape=(), dtype=float32)\n",
      "tf.Tensor(-0.115728475, shape=(), dtype=float32)\n",
      "tf.Tensor(-0.031921703, shape=(), dtype=float32)\n",
      "tf.Tensor(0.25140908, shape=(), dtype=float32)\n",
      "tf.Tensor(0.13101807, shape=(), dtype=float32)\n",
      "tf.Tensor(-0.46432588, shape=(), dtype=float32)\n",
      "tf.Tensor(0.43406776, shape=(), dtype=float32)\n",
      "tf.Tensor(0.95262855, shape=(), dtype=float32)\n",
      "tf.Tensor(-0.29523572, shape=(), dtype=float32)\n",
      "tf.Tensor(-0.12077193, shape=(), dtype=float32)\n",
      "tf.Tensor(0.45508638, shape=(), dtype=float32)\n",
      "tf.Tensor(0.052502077, shape=(), dtype=float32)\n",
      "tf.Tensor(0.9414555, shape=(), dtype=float32)\n",
      "tf.Tensor(-0.06661052, shape=(), dtype=float32)\n",
      "tf.Tensor(0.1573109, shape=(), dtype=float32)\n",
      "tf.Tensor(-0.2526316, shape=(), dtype=float32)\n",
      "tf.Tensor(-0.0013859506, shape=(), dtype=float32)\n",
      "tf.Tensor(0.48301545, shape=(), dtype=float32)\n",
      "tf.Tensor(-0.9835395, shape=(), dtype=float32)\n",
      "tf.Tensor(-0.722782, shape=(), dtype=float32)\n",
      "tf.Tensor(0.014782011, shape=(), dtype=float32)\n",
      "tf.Tensor(0.4813352, shape=(), dtype=float32)\n",
      "tf.Tensor(0.017421782, shape=(), dtype=float32)\n",
      "tf.Tensor(0.032372724, shape=(), dtype=float32)\n",
      "tf.Tensor(-0.38861704, shape=(), dtype=float32)\n",
      "tf.Tensor(0.41829136, shape=(), dtype=float32)\n",
      "tf.Tensor(0.31236175, shape=(), dtype=float32)\n",
      "tf.Tensor(-0.3398361, shape=(), dtype=float32)\n",
      "tf.Tensor(0.044707708, shape=(), dtype=float32)\n",
      "tf.Tensor(0.50087637, shape=(), dtype=float32)\n",
      "tf.Tensor(0.03262257, shape=(), dtype=float32)\n",
      "tf.Tensor(-0.25676563, shape=(), dtype=float32)\n",
      "tf.Tensor(-0.018797798, shape=(), dtype=float32)\n",
      "tf.Tensor(0.53079927, shape=(), dtype=float32)\n",
      "tf.Tensor(0.69530433, shape=(), dtype=float32)\n",
      "tf.Tensor(0.30143496, shape=(), dtype=float32)\n",
      "tf.Tensor(0.048111554, shape=(), dtype=float32)\n",
      "tf.Tensor(-0.4864413, shape=(), dtype=float32)\n",
      "tf.Tensor(-0.24005155, shape=(), dtype=float32)\n",
      "tf.Tensor(0.14341073, shape=(), dtype=float32)\n",
      "tf.Tensor(-0.15044454, shape=(), dtype=float32)\n",
      "tf.Tensor(-0.87483126, shape=(), dtype=float32)\n",
      "tf.Tensor(-0.21059461, shape=(), dtype=float32)\n",
      "tf.Tensor(-0.44572932, shape=(), dtype=float32)\n",
      "tf.Tensor(-0.09799741, shape=(), dtype=float32)\n",
      "tf.Tensor(0.6410816, shape=(), dtype=float32)\n",
      "tf.Tensor(-0.31796065, shape=(), dtype=float32)\n",
      "tf.Tensor(0.40501666, shape=(), dtype=float32)\n",
      "tf.Tensor(-0.19308503, shape=(), dtype=float32)\n",
      "tf.Tensor(0.6400672, shape=(), dtype=float32)\n",
      "tf.Tensor(-0.033970445, shape=(), dtype=float32)\n",
      "tf.Tensor(0.84992284, shape=(), dtype=float32)\n",
      "tf.Tensor(0.22703467, shape=(), dtype=float32)\n",
      "tf.Tensor(0.33864084, shape=(), dtype=float32)\n",
      "tf.Tensor(0.45219952, shape=(), dtype=float32)\n",
      "tf.Tensor(0.28212285, shape=(), dtype=float32)\n",
      "tf.Tensor(-0.082091615, shape=(), dtype=float32)\n",
      "tf.Tensor(0.25380513, shape=(), dtype=float32)\n",
      "tf.Tensor(0.4529839, shape=(), dtype=float32)\n",
      "tf.Tensor(-0.3260443, shape=(), dtype=float32)\n",
      "tf.Tensor(-0.21748306, shape=(), dtype=float32)\n",
      "tf.Tensor(-0.47499147, shape=(), dtype=float32)\n",
      "tf.Tensor(0.089322396, shape=(), dtype=float32)\n",
      "tf.Tensor(-0.3698001, shape=(), dtype=float32)\n",
      "tf.Tensor(-0.9545375, shape=(), dtype=float32)\n",
      "tf.Tensor(0.00086806144, shape=(), dtype=float32)\n",
      "tf.Tensor(0.6882056, shape=(), dtype=float32)\n",
      "tf.Tensor(-0.64804393, shape=(), dtype=float32)\n",
      "tf.Tensor(-0.4368769, shape=(), dtype=float32)\n",
      "tf.Tensor(-0.12937142, shape=(), dtype=float32)\n",
      "tf.Tensor(0.01895281, shape=(), dtype=float32)\n",
      "tf.Tensor(-0.5358093, shape=(), dtype=float32)\n",
      "tf.Tensor(0.012612485, shape=(), dtype=float32)\n",
      "tf.Tensor(-0.18429488, shape=(), dtype=float32)\n",
      "tf.Tensor(0.096264146, shape=(), dtype=float32)\n",
      "tf.Tensor(0.52602917, shape=(), dtype=float32)\n",
      "tf.Tensor(0.3593733, shape=(), dtype=float32)\n",
      "tf.Tensor(-0.45352706, shape=(), dtype=float32)\n",
      "tf.Tensor(0.16011357, shape=(), dtype=float32)\n",
      "tf.Tensor(-0.7921617, shape=(), dtype=float32)\n",
      "tf.Tensor(-0.13760407, shape=(), dtype=float32)\n",
      "tf.Tensor(0.49511394, shape=(), dtype=float32)\n",
      "tf.Tensor(0.25272292, shape=(), dtype=float32)\n",
      "tf.Tensor(0.639271, shape=(), dtype=float32)\n",
      "tf.Tensor(0.533307, shape=(), dtype=float32)\n",
      "tf.Tensor(0.6414121, shape=(), dtype=float32)\n",
      "tf.Tensor(-0.25275198, shape=(), dtype=float32)\n",
      "tf.Tensor(0.6041453, shape=(), dtype=float32)\n",
      "tf.Tensor(0.061688356, shape=(), dtype=float32)\n",
      "tf.Tensor(0.12133954, shape=(), dtype=float32)\n",
      "tf.Tensor(0.78812593, shape=(), dtype=float32)\n",
      "tf.Tensor(0.5882181, shape=(), dtype=float32)\n",
      "tf.Tensor(0.10021843, shape=(), dtype=float32)\n",
      "tf.Tensor(-0.2817224, shape=(), dtype=float32)\n",
      "tf.Tensor(0.53730065, shape=(), dtype=float32)\n",
      "tf.Tensor(-0.51616466, shape=(), dtype=float32)\n",
      "tf.Tensor(-0.13325244, shape=(), dtype=float32)\n",
      "tf.Tensor(-0.49810344, shape=(), dtype=float32)\n",
      "tf.Tensor(0.16527723, shape=(), dtype=float32)\n",
      "tf.Tensor(0.7323979, shape=(), dtype=float32)\n",
      "tf.Tensor(0.11450718, shape=(), dtype=float32)\n",
      "tf.Tensor(0.22434023, shape=(), dtype=float32)\n",
      "tf.Tensor(-0.6282675, shape=(), dtype=float32)\n",
      "tf.Tensor(-0.17501739, shape=(), dtype=float32)\n",
      "tf.Tensor(-0.014417582, shape=(), dtype=float32)\n",
      "tf.Tensor(0.08606433, shape=(), dtype=float32)\n",
      "tf.Tensor(0.4524597, shape=(), dtype=float32)\n",
      "tf.Tensor(-0.7191267, shape=(), dtype=float32)\n",
      "tf.Tensor(0.52144086, shape=(), dtype=float32)\n",
      "tf.Tensor(-0.04851391, shape=(), dtype=float32)\n",
      "tf.Tensor(-0.18076792, shape=(), dtype=float32)\n",
      "tf.Tensor(-0.24985147, shape=(), dtype=float32)\n",
      "tf.Tensor(-0.78915066, shape=(), dtype=float32)\n",
      "tf.Tensor(0.065989584, shape=(), dtype=float32)\n",
      "tf.Tensor(0.52781683, shape=(), dtype=float32)\n",
      "tf.Tensor(0.21570596, shape=(), dtype=float32)\n",
      "tf.Tensor(-0.9114774, shape=(), dtype=float32)\n",
      "tf.Tensor(-0.16513251, shape=(), dtype=float32)\n",
      "tf.Tensor(-0.04474601, shape=(), dtype=float32)\n",
      "tf.Tensor(0.37864754, shape=(), dtype=float32)\n",
      "tf.Tensor(0.45474258, shape=(), dtype=float32)\n",
      "tf.Tensor(0.17201273, shape=(), dtype=float32)\n",
      "tf.Tensor(-0.060413565, shape=(), dtype=float32)\n",
      "tf.Tensor(-0.093271926, shape=(), dtype=float32)\n",
      "tf.Tensor(0.015976662, shape=(), dtype=float32)\n",
      "tf.Tensor(-0.37477723, shape=(), dtype=float32)\n",
      "tf.Tensor(-0.32874098, shape=(), dtype=float32)\n",
      "tf.Tensor(-0.4586249, shape=(), dtype=float32)\n",
      "tf.Tensor(0.37516373, shape=(), dtype=float32)\n",
      "tf.Tensor(0.06966846, shape=(), dtype=float32)\n",
      "tf.Tensor(-0.8551332, shape=(), dtype=float32)\n",
      "tf.Tensor(0.40310428, shape=(), dtype=float32)\n",
      "tf.Tensor(-0.06775915, shape=(), dtype=float32)\n",
      "tf.Tensor(0.2767977, shape=(), dtype=float32)\n",
      "tf.Tensor(-0.5394068, shape=(), dtype=float32)\n",
      "tf.Tensor(-0.089852534, shape=(), dtype=float32)\n",
      "tf.Tensor(0.65454346, shape=(), dtype=float32)\n",
      "tf.Tensor(0.046156447, shape=(), dtype=float32)\n",
      "tf.Tensor(0.08867859, shape=(), dtype=float32)\n",
      "tf.Tensor(0.44607544, shape=(), dtype=float32)\n",
      "tf.Tensor(-0.21265836, shape=(), dtype=float32)\n",
      "tf.Tensor(0.40699142, shape=(), dtype=float32)\n",
      "tf.Tensor(-0.37481079, shape=(), dtype=float32)\n",
      "tf.Tensor(0.30919608, shape=(), dtype=float32)\n",
      "tf.Tensor(-0.28450376, shape=(), dtype=float32)\n",
      "tf.Tensor(0.32330152, shape=(), dtype=float32)\n",
      "tf.Tensor(-0.43885848, shape=(), dtype=float32)\n",
      "tf.Tensor(-0.99567556, shape=(), dtype=float32)\n",
      "tf.Tensor(-0.1352564, shape=(), dtype=float32)\n",
      "tf.Tensor(-0.2150327, shape=(), dtype=float32)\n",
      "tf.Tensor(0.0024545034, shape=(), dtype=float32)\n",
      "tf.Tensor(-0.09301579, shape=(), dtype=float32)\n",
      "tf.Tensor(-0.2512693, shape=(), dtype=float32)\n",
      "tf.Tensor(-0.23818688, shape=(), dtype=float32)\n",
      "tf.Tensor(0.4757123, shape=(), dtype=float32)\n",
      "tf.Tensor(-0.18792742, shape=(), dtype=float32)\n",
      "tf.Tensor(-0.10821526, shape=(), dtype=float32)\n",
      "tf.Tensor(-0.5579367, shape=(), dtype=float32)\n",
      "tf.Tensor(-0.7002678, shape=(), dtype=float32)\n",
      "tf.Tensor(-0.096857674, shape=(), dtype=float32)\n",
      "tf.Tensor(-0.6483565, shape=(), dtype=float32)\n",
      "tf.Tensor(0.019921338, shape=(), dtype=float32)\n",
      "tf.Tensor(0.30919358, shape=(), dtype=float32)\n",
      "tf.Tensor(-0.55499154, shape=(), dtype=float32)\n",
      "tf.Tensor(-0.33316916, shape=(), dtype=float32)\n",
      "tf.Tensor(-0.37326384, shape=(), dtype=float32)\n",
      "tf.Tensor(0.2200864, shape=(), dtype=float32)\n",
      "tf.Tensor(-0.6702764, shape=(), dtype=float32)\n",
      "tf.Tensor(-0.9170268, shape=(), dtype=float32)\n",
      "tf.Tensor(-0.7176288, shape=(), dtype=float32)\n",
      "tf.Tensor(0.7251717, shape=(), dtype=float32)\n",
      "tf.Tensor(-0.11311009, shape=(), dtype=float32)\n",
      "tf.Tensor(0.65916187, shape=(), dtype=float32)\n",
      "tf.Tensor(0.33300337, shape=(), dtype=float32)\n",
      "tf.Tensor(-0.13255492, shape=(), dtype=float32)\n",
      "tf.Tensor(0.37726226, shape=(), dtype=float32)\n",
      "tf.Tensor(-0.29985273, shape=(), dtype=float32)\n",
      "tf.Tensor(0.5664515, shape=(), dtype=float32)\n",
      "tf.Tensor(-0.7553192, shape=(), dtype=float32)\n",
      "tf.Tensor(-0.03817122, shape=(), dtype=float32)\n",
      "tf.Tensor(-0.32127285, shape=(), dtype=float32)\n",
      "tf.Tensor(0.50273967, shape=(), dtype=float32)\n",
      "tf.Tensor(-0.15277338, shape=(), dtype=float32)\n",
      "tf.Tensor(-0.045627333, shape=(), dtype=float32)\n",
      "tf.Tensor(-0.56178766, shape=(), dtype=float32)\n",
      "tf.Tensor(-0.33192423, shape=(), dtype=float32)\n",
      "tf.Tensor(-0.52819645, shape=(), dtype=float32)\n",
      "tf.Tensor(-0.5758056, shape=(), dtype=float32)\n",
      "tf.Tensor(0.3852927, shape=(), dtype=float32)\n",
      "tf.Tensor(-0.06450903, shape=(), dtype=float32)\n",
      "tf.Tensor(0.101048134, shape=(), dtype=float32)\n",
      "tf.Tensor(0.6896724, shape=(), dtype=float32)\n",
      "tf.Tensor(-0.21569103, shape=(), dtype=float32)\n",
      "tf.Tensor(0.4434549, shape=(), dtype=float32)\n",
      "tf.Tensor(-0.75701725, shape=(), dtype=float32)\n",
      "tf.Tensor(0.5712406, shape=(), dtype=float32)\n",
      "tf.Tensor(0.5276376, shape=(), dtype=float32)\n",
      "tf.Tensor(0.47939783, shape=(), dtype=float32)\n",
      "tf.Tensor(0.7950253, shape=(), dtype=float32)\n",
      "tf.Tensor(0.3333701, shape=(), dtype=float32)\n",
      "tf.Tensor(0.03294576, shape=(), dtype=float32)\n",
      "tf.Tensor(-0.068396315, shape=(), dtype=float32)\n",
      "tf.Tensor(-0.75114936, shape=(), dtype=float32)\n",
      "tf.Tensor(0.77127904, shape=(), dtype=float32)\n",
      "tf.Tensor(0.4524148, shape=(), dtype=float32)\n",
      "tf.Tensor(0.09817886, shape=(), dtype=float32)\n",
      "tf.Tensor(0.7608814, shape=(), dtype=float32)\n",
      "tf.Tensor(0.04449115, shape=(), dtype=float32)\n",
      "tf.Tensor(-0.3338747, shape=(), dtype=float32)\n",
      "tf.Tensor(-0.119148836, shape=(), dtype=float32)\n",
      "tf.Tensor(0.14230345, shape=(), dtype=float32)\n",
      "tf.Tensor(-0.4461486, shape=(), dtype=float32)\n",
      "tf.Tensor(-0.14993079, shape=(), dtype=float32)\n",
      "tf.Tensor(0.24275932, shape=(), dtype=float32)\n",
      "tf.Tensor(0.56494457, shape=(), dtype=float32)\n",
      "tf.Tensor(0.7435901, shape=(), dtype=float32)\n",
      "tf.Tensor(0.28034046, shape=(), dtype=float32)\n",
      "tf.Tensor(0.71782386, shape=(), dtype=float32)\n",
      "tf.Tensor(0.4820851, shape=(), dtype=float32)\n",
      "tf.Tensor(0.53521276, shape=(), dtype=float32)\n",
      "tf.Tensor(0.15375005, shape=(), dtype=float32)\n",
      "tf.Tensor(-0.12234809, shape=(), dtype=float32)\n",
      "tf.Tensor(-0.46602574, shape=(), dtype=float32)\n",
      "tf.Tensor(-0.20358981, shape=(), dtype=float32)\n",
      "tf.Tensor(0.25945875, shape=(), dtype=float32)\n",
      "tf.Tensor(-0.44519895, shape=(), dtype=float32)\n",
      "tf.Tensor(0.7256665, shape=(), dtype=float32)\n",
      "tf.Tensor(0.21923447, shape=(), dtype=float32)\n",
      "tf.Tensor(0.63585067, shape=(), dtype=float32)\n",
      "tf.Tensor(-0.11155623, shape=(), dtype=float32)\n",
      "tf.Tensor(-0.3848509, shape=(), dtype=float32)\n",
      "tf.Tensor(0.1312758, shape=(), dtype=float32)\n",
      "tf.Tensor(0.42695594, shape=(), dtype=float32)\n",
      "tf.Tensor(0.32939562, shape=(), dtype=float32)\n",
      "tf.Tensor(0.88348013, shape=(), dtype=float32)\n",
      "tf.Tensor(-0.84493524, shape=(), dtype=float32)\n",
      "tf.Tensor(-0.1186901, shape=(), dtype=float32)\n",
      "tf.Tensor(0.4460503, shape=(), dtype=float32)\n",
      "tf.Tensor(0.111463524, shape=(), dtype=float32)\n",
      "tf.Tensor(0.819739, shape=(), dtype=float32)\n",
      "tf.Tensor(0.83275163, shape=(), dtype=float32)\n",
      "tf.Tensor(0.21154724, shape=(), dtype=float32)\n",
      "tf.Tensor(0.44169804, shape=(), dtype=float32)\n",
      "tf.Tensor(-0.51323766, shape=(), dtype=float32)\n",
      "tf.Tensor(0.07473423, shape=(), dtype=float32)\n",
      "tf.Tensor(-0.39567488, shape=(), dtype=float32)\n",
      "tf.Tensor(0.3871096, shape=(), dtype=float32)\n",
      "tf.Tensor(-0.26410922, shape=(), dtype=float32)\n",
      "tf.Tensor(-0.11182531, shape=(), dtype=float32)\n",
      "tf.Tensor(0.44233856, shape=(), dtype=float32)\n",
      "tf.Tensor(-0.69354105, shape=(), dtype=float32)\n",
      "tf.Tensor(-0.064825416, shape=(), dtype=float32)\n",
      "tf.Tensor(-0.22022548, shape=(), dtype=float32)\n",
      "tf.Tensor(-0.4534853, shape=(), dtype=float32)\n",
      "tf.Tensor(-0.49056292, shape=(), dtype=float32)\n",
      "tf.Tensor(-0.7894522, shape=(), dtype=float32)\n",
      "tf.Tensor(-0.17645207, shape=(), dtype=float32)\n",
      "tf.Tensor(-0.22814791, shape=(), dtype=float32)\n",
      "tf.Tensor(0.741531, shape=(), dtype=float32)\n",
      "tf.Tensor(-0.16044095, shape=(), dtype=float32)\n",
      "tf.Tensor(-0.56323075, shape=(), dtype=float32)\n",
      "tf.Tensor(0.6034302, shape=(), dtype=float32)\n",
      "tf.Tensor(-0.0011114154, shape=(), dtype=float32)\n",
      "tf.Tensor(0.21615991, shape=(), dtype=float32)\n",
      "tf.Tensor(0.33570677, shape=(), dtype=float32)\n",
      "tf.Tensor(0.59788597, shape=(), dtype=float32)\n",
      "tf.Tensor(0.6259642, shape=(), dtype=float32)\n",
      "tf.Tensor(0.12445089, shape=(), dtype=float32)\n",
      "tf.Tensor(0.36169484, shape=(), dtype=float32)\n",
      "tf.Tensor(-0.82924855, shape=(), dtype=float32)\n",
      "tf.Tensor(-0.29065636, shape=(), dtype=float32)\n",
      "tf.Tensor(0.06353115, shape=(), dtype=float32)\n",
      "tf.Tensor(-0.45110002, shape=(), dtype=float32)\n",
      "tf.Tensor(-0.7308426, shape=(), dtype=float32)\n",
      "tf.Tensor(-0.3024397, shape=(), dtype=float32)\n",
      "tf.Tensor(0.36454543, shape=(), dtype=float32)\n",
      "tf.Tensor(-0.011911396, shape=(), dtype=float32)\n",
      "tf.Tensor(-0.5145215, shape=(), dtype=float32)\n",
      "tf.Tensor(-0.7525802, shape=(), dtype=float32)\n",
      "tf.Tensor(-0.3363938, shape=(), dtype=float32)\n",
      "tf.Tensor(-0.38005775, shape=(), dtype=float32)\n",
      "tf.Tensor(0.37023285, shape=(), dtype=float32)\n",
      "tf.Tensor(0.5941278, shape=(), dtype=float32)\n",
      "tf.Tensor(0.19018967, shape=(), dtype=float32)\n",
      "tf.Tensor(-0.6730353, shape=(), dtype=float32)\n",
      "tf.Tensor(0.25841266, shape=(), dtype=float32)\n",
      "tf.Tensor(-0.25536436, shape=(), dtype=float32)\n",
      "tf.Tensor(-0.27489218, shape=(), dtype=float32)\n",
      "tf.Tensor(0.335087, shape=(), dtype=float32)\n",
      "tf.Tensor(-0.21782716, shape=(), dtype=float32)\n",
      "tf.Tensor(0.02388972, shape=(), dtype=float32)\n",
      "tf.Tensor(0.4398212, shape=(), dtype=float32)\n",
      "tf.Tensor(-0.41395733, shape=(), dtype=float32)\n",
      "tf.Tensor(-0.0004343272, shape=(), dtype=float32)\n",
      "tf.Tensor(-0.21468915, shape=(), dtype=float32)\n",
      "tf.Tensor(-0.2029126, shape=(), dtype=float32)\n",
      "tf.Tensor(0.42060077, shape=(), dtype=float32)\n",
      "tf.Tensor(-0.5806013, shape=(), dtype=float32)\n",
      "tf.Tensor(0.9556721, shape=(), dtype=float32)\n",
      "tf.Tensor(-0.060049336, shape=(), dtype=float32)\n",
      "tf.Tensor(0.16609882, shape=(), dtype=float32)\n",
      "tf.Tensor(-0.28847206, shape=(), dtype=float32)\n",
      "tf.Tensor(-0.060842708, shape=(), dtype=float32)\n",
      "tf.Tensor(-0.44705898, shape=(), dtype=float32)\n",
      "tf.Tensor(0.13156244, shape=(), dtype=float32)\n",
      "tf.Tensor(0.09379139, shape=(), dtype=float32)\n",
      "tf.Tensor(0.27816635, shape=(), dtype=float32)\n",
      "tf.Tensor(-0.4101162, shape=(), dtype=float32)\n",
      "tf.Tensor(-0.8246434, shape=(), dtype=float32)\n",
      "tf.Tensor(0.21491536, shape=(), dtype=float32)\n",
      "tf.Tensor(0.8653758, shape=(), dtype=float32)\n",
      "tf.Tensor(-0.028009314, shape=(), dtype=float32)\n",
      "tf.Tensor(-0.16120934, shape=(), dtype=float32)\n",
      "tf.Tensor(0.6966695, shape=(), dtype=float32)\n",
      "tf.Tensor(-0.5365937, shape=(), dtype=float32)\n",
      "tf.Tensor(0.6078532, shape=(), dtype=float32)\n",
      "tf.Tensor(-0.11363414, shape=(), dtype=float32)\n",
      "tf.Tensor(-0.65718055, shape=(), dtype=float32)\n",
      "tf.Tensor(0.07654476, shape=(), dtype=float32)\n",
      "tf.Tensor(-0.27421242, shape=(), dtype=float32)\n",
      "tf.Tensor(-0.545724, shape=(), dtype=float32)\n",
      "tf.Tensor(0.3794288, shape=(), dtype=float32)\n",
      "tf.Tensor(-0.53320134, shape=(), dtype=float32)\n",
      "tf.Tensor(-0.23326398, shape=(), dtype=float32)\n",
      "tf.Tensor(-0.6647095, shape=(), dtype=float32)\n",
      "tf.Tensor(-0.40323547, shape=(), dtype=float32)\n",
      "tf.Tensor(0.014454125, shape=(), dtype=float32)\n",
      "tf.Tensor(-0.09673045, shape=(), dtype=float32)\n",
      "tf.Tensor(-0.61395204, shape=(), dtype=float32)\n",
      "tf.Tensor(-0.7876599, shape=(), dtype=float32)\n",
      "tf.Tensor(-0.39777422, shape=(), dtype=float32)\n",
      "tf.Tensor(-0.7151308, shape=(), dtype=float32)\n",
      "tf.Tensor(-0.14033724, shape=(), dtype=float32)\n",
      "tf.Tensor(-0.3657736, shape=(), dtype=float32)\n",
      "tf.Tensor(0.4993446, shape=(), dtype=float32)\n",
      "tf.Tensor(0.49283105, shape=(), dtype=float32)\n",
      "tf.Tensor(0.45295462, shape=(), dtype=float32)\n",
      "tf.Tensor(-0.14719352, shape=(), dtype=float32)\n",
      "tf.Tensor(-0.81105626, shape=(), dtype=float32)\n",
      "tf.Tensor(0.25310197, shape=(), dtype=float32)\n",
      "tf.Tensor(-0.14936528, shape=(), dtype=float32)\n",
      "tf.Tensor(0.6862654, shape=(), dtype=float32)\n",
      "tf.Tensor(0.18737422, shape=(), dtype=float32)\n",
      "tf.Tensor(0.41421837, shape=(), dtype=float32)\n",
      "tf.Tensor(-0.68104976, shape=(), dtype=float32)\n",
      "tf.Tensor(-0.23373805, shape=(), dtype=float32)\n",
      "tf.Tensor(-0.076738246, shape=(), dtype=float32)\n",
      "tf.Tensor(0.004872814, shape=(), dtype=float32)\n",
      "tf.Tensor(-0.20043069, shape=(), dtype=float32)\n",
      "tf.Tensor(0.3066219, shape=(), dtype=float32)\n",
      "tf.Tensor(0.04778064, shape=(), dtype=float32)\n",
      "tf.Tensor(-0.019077573, shape=(), dtype=float32)\n",
      "tf.Tensor(-0.9112481, shape=(), dtype=float32)\n",
      "tf.Tensor(-0.5052171, shape=(), dtype=float32)\n",
      "tf.Tensor(0.027524391, shape=(), dtype=float32)\n",
      "tf.Tensor(0.2819181, shape=(), dtype=float32)\n",
      "tf.Tensor(-0.08949994, shape=(), dtype=float32)\n",
      "tf.Tensor(0.32821563, shape=(), dtype=float32)\n",
      "tf.Tensor(-0.12886311, shape=(), dtype=float32)\n",
      "tf.Tensor(-0.58270097, shape=(), dtype=float32)\n",
      "tf.Tensor(0.07068226, shape=(), dtype=float32)\n",
      "tf.Tensor(0.14612941, shape=(), dtype=float32)\n",
      "tf.Tensor(-0.022177644, shape=(), dtype=float32)\n",
      "tf.Tensor(0.6273746, shape=(), dtype=float32)\n",
      "tf.Tensor(0.19770685, shape=(), dtype=float32)\n",
      "tf.Tensor(-0.34331664, shape=(), dtype=float32)\n",
      "tf.Tensor(-0.05029878, shape=(), dtype=float32)\n",
      "tf.Tensor(0.73883545, shape=(), dtype=float32)\n",
      "tf.Tensor(-0.37084073, shape=(), dtype=float32)\n",
      "tf.Tensor(-0.41038844, shape=(), dtype=float32)\n",
      "tf.Tensor(-0.18057442, shape=(), dtype=float32)\n",
      "tf.Tensor(-0.34841332, shape=(), dtype=float32)\n",
      "tf.Tensor(0.4942521, shape=(), dtype=float32)\n",
      "tf.Tensor(-0.24673934, shape=(), dtype=float32)\n",
      "tf.Tensor(-0.05965665, shape=(), dtype=float32)\n",
      "tf.Tensor(0.8755736, shape=(), dtype=float32)\n",
      "tf.Tensor(-0.2304952, shape=(), dtype=float32)\n",
      "tf.Tensor(0.22513123, shape=(), dtype=float32)\n",
      "tf.Tensor(0.6360249, shape=(), dtype=float32)\n",
      "tf.Tensor(-0.08916144, shape=(), dtype=float32)\n",
      "tf.Tensor(0.62076175, shape=(), dtype=float32)\n",
      "tf.Tensor(0.4092484, shape=(), dtype=float32)\n",
      "tf.Tensor(0.10150877, shape=(), dtype=float32)\n",
      "tf.Tensor(0.5032761, shape=(), dtype=float32)\n",
      "tf.Tensor(0.42616135, shape=(), dtype=float32)\n",
      "tf.Tensor(-0.33854482, shape=(), dtype=float32)\n",
      "tf.Tensor(-0.39252338, shape=(), dtype=float32)\n",
      "tf.Tensor(-0.2624946, shape=(), dtype=float32)\n",
      "tf.Tensor(-0.26239553, shape=(), dtype=float32)\n",
      "tf.Tensor(0.026663579, shape=(), dtype=float32)\n",
      "tf.Tensor(-0.05839836, shape=(), dtype=float32)\n",
      "tf.Tensor(-0.09216997, shape=(), dtype=float32)\n",
      "tf.Tensor(0.6139121, shape=(), dtype=float32)\n",
      "tf.Tensor(-0.38897312, shape=(), dtype=float32)\n",
      "tf.Tensor(-0.038923662, shape=(), dtype=float32)\n",
      "tf.Tensor(0.18123904, shape=(), dtype=float32)\n",
      "tf.Tensor(0.025311684, shape=(), dtype=float32)\n",
      "tf.Tensor(-0.42472625, shape=(), dtype=float32)\n",
      "tf.Tensor(0.35994518, shape=(), dtype=float32)\n",
      "tf.Tensor(-0.11828282, shape=(), dtype=float32)\n",
      "tf.Tensor(0.6810952, shape=(), dtype=float32)\n",
      "tf.Tensor(0.25356677, shape=(), dtype=float32)\n",
      "tf.Tensor(0.4190353, shape=(), dtype=float32)\n",
      "tf.Tensor(0.20328304, shape=(), dtype=float32)\n",
      "tf.Tensor(0.13071117, shape=(), dtype=float32)\n",
      "tf.Tensor(0.09718262, shape=(), dtype=float32)\n",
      "tf.Tensor(0.78310734, shape=(), dtype=float32)\n",
      "tf.Tensor(0.29734612, shape=(), dtype=float32)\n",
      "tf.Tensor(0.107840456, shape=(), dtype=float32)\n",
      "tf.Tensor(-0.54990065, shape=(), dtype=float32)\n",
      "tf.Tensor(0.15535648, shape=(), dtype=float32)\n",
      "tf.Tensor(0.2185758, shape=(), dtype=float32)\n",
      "tf.Tensor(-0.22698317, shape=(), dtype=float32)\n",
      "tf.Tensor(-0.26654822, shape=(), dtype=float32)\n",
      "tf.Tensor(-0.35233995, shape=(), dtype=float32)\n",
      "tf.Tensor(0.07338346, shape=(), dtype=float32)\n",
      "tf.Tensor(0.1609149, shape=(), dtype=float32)\n",
      "tf.Tensor(-0.3050299, shape=(), dtype=float32)\n",
      "tf.Tensor(-0.01252136, shape=(), dtype=float32)\n",
      "tf.Tensor(0.44303566, shape=(), dtype=float32)\n",
      "tf.Tensor(-0.31901443, shape=(), dtype=float32)\n",
      "tf.Tensor(-0.051248025, shape=(), dtype=float32)\n",
      "tf.Tensor(-0.5600521, shape=(), dtype=float32)\n",
      "tf.Tensor(0.44002268, shape=(), dtype=float32)\n",
      "tf.Tensor(-0.026166396, shape=(), dtype=float32)\n",
      "tf.Tensor(-0.5960884, shape=(), dtype=float32)\n",
      "tf.Tensor(-0.12599637, shape=(), dtype=float32)\n",
      "tf.Tensor(-0.2659144, shape=(), dtype=float32)\n",
      "tf.Tensor(0.077638954, shape=(), dtype=float32)\n",
      "tf.Tensor(-0.17804106, shape=(), dtype=float32)\n",
      "tf.Tensor(0.516732, shape=(), dtype=float32)\n",
      "tf.Tensor(-0.14766648, shape=(), dtype=float32)\n",
      "tf.Tensor(0.8669203, shape=(), dtype=float32)\n",
      "tf.Tensor(0.38700962, shape=(), dtype=float32)\n",
      "tf.Tensor(-0.30685484, shape=(), dtype=float32)\n",
      "tf.Tensor(0.23875612, shape=(), dtype=float32)\n",
      "tf.Tensor(-0.33049986, shape=(), dtype=float32)\n",
      "tf.Tensor(0.89416677, shape=(), dtype=float32)\n",
      "tf.Tensor(0.8441918, shape=(), dtype=float32)\n",
      "tf.Tensor(0.9622772, shape=(), dtype=float32)\n",
      "tf.Tensor(-0.3431566, shape=(), dtype=float32)\n",
      "tf.Tensor(0.3191367, shape=(), dtype=float32)\n",
      "tf.Tensor(0.6841704, shape=(), dtype=float32)\n",
      "tf.Tensor(-0.009828848, shape=(), dtype=float32)\n",
      "tf.Tensor(-0.353994, shape=(), dtype=float32)\n",
      "tf.Tensor(-0.37195897, shape=(), dtype=float32)\n",
      "tf.Tensor(-0.4781647, shape=(), dtype=float32)\n",
      "tf.Tensor(0.11093648, shape=(), dtype=float32)\n",
      "tf.Tensor(0.07659276, shape=(), dtype=float32)\n",
      "tf.Tensor(0.09393751, shape=(), dtype=float32)\n",
      "tf.Tensor(0.35075015, shape=(), dtype=float32)\n",
      "tf.Tensor(-0.58356786, shape=(), dtype=float32)\n",
      "tf.Tensor(0.43175355, shape=(), dtype=float32)\n",
      "tf.Tensor(-0.062355306, shape=(), dtype=float32)\n",
      "tf.Tensor(-0.52743465, shape=(), dtype=float32)\n",
      "tf.Tensor(0.56694883, shape=(), dtype=float32)\n",
      "tf.Tensor(0.49367577, shape=(), dtype=float32)\n",
      "tf.Tensor(-0.41792086, shape=(), dtype=float32)\n",
      "tf.Tensor(-0.64082474, shape=(), dtype=float32)\n",
      "tf.Tensor(-0.54895085, shape=(), dtype=float32)\n",
      "tf.Tensor(-0.3757638, shape=(), dtype=float32)\n",
      "tf.Tensor(-0.4334205, shape=(), dtype=float32)\n",
      "tf.Tensor(-0.3480615, shape=(), dtype=float32)\n",
      "tf.Tensor(0.352158, shape=(), dtype=float32)\n",
      "tf.Tensor(0.032287244, shape=(), dtype=float32)\n",
      "tf.Tensor(-0.2607772, shape=(), dtype=float32)\n",
      "tf.Tensor(0.4129335, shape=(), dtype=float32)\n",
      "tf.Tensor(0.35803214, shape=(), dtype=float32)\n",
      "tf.Tensor(0.1780485, shape=(), dtype=float32)\n",
      "tf.Tensor(0.22338648, shape=(), dtype=float32)\n",
      "tf.Tensor(-0.51141036, shape=(), dtype=float32)\n",
      "tf.Tensor(0.5088233, shape=(), dtype=float32)\n",
      "tf.Tensor(0.34214732, shape=(), dtype=float32)\n",
      "tf.Tensor(0.38625494, shape=(), dtype=float32)\n",
      "tf.Tensor(0.17366777, shape=(), dtype=float32)\n",
      "tf.Tensor(0.66847503, shape=(), dtype=float32)\n",
      "tf.Tensor(0.30050594, shape=(), dtype=float32)\n",
      "tf.Tensor(0.45493343, shape=(), dtype=float32)\n",
      "tf.Tensor(0.13067502, shape=(), dtype=float32)\n",
      "tf.Tensor(0.8819225, shape=(), dtype=float32)\n",
      "tf.Tensor(-0.5402874, shape=(), dtype=float32)\n",
      "tf.Tensor(0.343172, shape=(), dtype=float32)\n",
      "tf.Tensor(-0.15247737, shape=(), dtype=float32)\n",
      "tf.Tensor(0.52865803, shape=(), dtype=float32)\n",
      "tf.Tensor(0.4709557, shape=(), dtype=float32)\n",
      "tf.Tensor(0.0054926937, shape=(), dtype=float32)\n",
      "tf.Tensor(0.21312198, shape=(), dtype=float32)\n",
      "tf.Tensor(-0.028958574, shape=(), dtype=float32)\n",
      "tf.Tensor(0.35293627, shape=(), dtype=float32)\n",
      "tf.Tensor(-0.034635395, shape=(), dtype=float32)\n",
      "tf.Tensor(0.47327143, shape=(), dtype=float32)\n",
      "tf.Tensor(-0.15707673, shape=(), dtype=float32)\n",
      "tf.Tensor(-0.6805088, shape=(), dtype=float32)\n",
      "tf.Tensor(-0.42917237, shape=(), dtype=float32)\n",
      "tf.Tensor(-0.32367364, shape=(), dtype=float32)\n",
      "tf.Tensor(0.31764787, shape=(), dtype=float32)\n",
      "tf.Tensor(0.030735794, shape=(), dtype=float32)\n",
      "tf.Tensor(-0.50692385, shape=(), dtype=float32)\n",
      "tf.Tensor(-0.03713034, shape=(), dtype=float32)\n",
      "tf.Tensor(0.7754441, shape=(), dtype=float32)\n",
      "tf.Tensor(0.4801136, shape=(), dtype=float32)\n",
      "tf.Tensor(0.22060636, shape=(), dtype=float32)\n",
      "tf.Tensor(-0.37655345, shape=(), dtype=float32)\n",
      "tf.Tensor(0.13680767, shape=(), dtype=float32)\n",
      "tf.Tensor(-0.57023, shape=(), dtype=float32)\n",
      "tf.Tensor(-0.19381362, shape=(), dtype=float32)\n",
      "tf.Tensor(0.009747909, shape=(), dtype=float32)\n",
      "tf.Tensor(0.18381876, shape=(), dtype=float32)\n",
      "tf.Tensor(0.5025264, shape=(), dtype=float32)\n",
      "tf.Tensor(-0.5010738, shape=(), dtype=float32)\n",
      "tf.Tensor(0.23467104, shape=(), dtype=float32)\n",
      "tf.Tensor(-0.40721592, shape=(), dtype=float32)\n",
      "tf.Tensor(0.29165086, shape=(), dtype=float32)\n",
      "tf.Tensor(0.3952275, shape=(), dtype=float32)\n",
      "tf.Tensor(-0.8325918, shape=(), dtype=float32)\n",
      "tf.Tensor(0.5329885, shape=(), dtype=float32)\n",
      "tf.Tensor(0.22984675, shape=(), dtype=float32)\n",
      "tf.Tensor(-0.70676374, shape=(), dtype=float32)\n",
      "tf.Tensor(0.22773466, shape=(), dtype=float32)\n",
      "tf.Tensor(-0.5445555, shape=(), dtype=float32)\n",
      "tf.Tensor(-0.16501352, shape=(), dtype=float32)\n",
      "tf.Tensor(0.6380671, shape=(), dtype=float32)\n",
      "tf.Tensor(-0.5126231, shape=(), dtype=float32)\n",
      "tf.Tensor(0.96436775, shape=(), dtype=float32)\n",
      "tf.Tensor(-0.044666585, shape=(), dtype=float32)\n",
      "tf.Tensor(0.3297146, shape=(), dtype=float32)\n",
      "tf.Tensor(0.14844275, shape=(), dtype=float32)\n",
      "tf.Tensor(0.19165947, shape=(), dtype=float32)\n",
      "tf.Tensor(-0.08850772, shape=(), dtype=float32)\n",
      "tf.Tensor(0.11826889, shape=(), dtype=float32)\n",
      "tf.Tensor(-0.6835123, shape=(), dtype=float32)\n",
      "tf.Tensor(-0.07508672, shape=(), dtype=float32)\n",
      "tf.Tensor(-0.4643719, shape=(), dtype=float32)\n",
      "tf.Tensor(-0.011010614, shape=(), dtype=float32)\n",
      "tf.Tensor(-0.27604222, shape=(), dtype=float32)\n",
      "tf.Tensor(-0.019881831, shape=(), dtype=float32)\n",
      "tf.Tensor(-0.42502064, shape=(), dtype=float32)\n",
      "tf.Tensor(-0.27578807, shape=(), dtype=float32)\n",
      "tf.Tensor(0.5600925, shape=(), dtype=float32)\n",
      "tf.Tensor(-0.40620264, shape=(), dtype=float32)\n",
      "tf.Tensor(-0.5385702, shape=(), dtype=float32)\n",
      "tf.Tensor(-0.3530348, shape=(), dtype=float32)\n",
      "tf.Tensor(-0.030521184, shape=(), dtype=float32)\n",
      "tf.Tensor(-0.9728069, shape=(), dtype=float32)\n",
      "tf.Tensor(-0.31647867, shape=(), dtype=float32)\n",
      "tf.Tensor(-0.24644256, shape=(), dtype=float32)\n",
      "tf.Tensor(0.1313221, shape=(), dtype=float32)\n",
      "tf.Tensor(-0.22632694, shape=(), dtype=float32)\n",
      "tf.Tensor(0.019257309, shape=(), dtype=float32)\n",
      "tf.Tensor(-0.2439109, shape=(), dtype=float32)\n",
      "tf.Tensor(-0.35514283, shape=(), dtype=float32)\n",
      "tf.Tensor(0.15073109, shape=(), dtype=float32)\n",
      "tf.Tensor(-0.1987205, shape=(), dtype=float32)\n",
      "tf.Tensor(-0.5843324, shape=(), dtype=float32)\n",
      "tf.Tensor(0.021596244, shape=(), dtype=float32)\n",
      "tf.Tensor(0.40096346, shape=(), dtype=float32)\n",
      "tf.Tensor(0.1606371, shape=(), dtype=float32)\n",
      "tf.Tensor(0.2319255, shape=(), dtype=float32)\n",
      "tf.Tensor(0.004960683, shape=(), dtype=float32)\n",
      "tf.Tensor(-0.0061810636, shape=(), dtype=float32)\n",
      "tf.Tensor(-0.15300333, shape=(), dtype=float32)\n",
      "tf.Tensor(-0.3420746, shape=(), dtype=float32)\n",
      "tf.Tensor(0.641564, shape=(), dtype=float32)\n",
      "tf.Tensor(-0.57328737, shape=(), dtype=float32)\n",
      "tf.Tensor(0.12478609, shape=(), dtype=float32)\n",
      "tf.Tensor(0.751077, shape=(), dtype=float32)\n",
      "tf.Tensor(0.37221855, shape=(), dtype=float32)\n",
      "tf.Tensor(-0.14074412, shape=(), dtype=float32)\n",
      "tf.Tensor(0.014302823, shape=(), dtype=float32)\n",
      "tf.Tensor(-0.52071744, shape=(), dtype=float32)\n",
      "tf.Tensor(-0.21471387, shape=(), dtype=float32)\n",
      "tf.Tensor(0.40423155, shape=(), dtype=float32)\n",
      "tf.Tensor(0.32812667, shape=(), dtype=float32)\n",
      "tf.Tensor(-0.33476204, shape=(), dtype=float32)\n",
      "tf.Tensor(0.8401537, shape=(), dtype=float32)\n",
      "tf.Tensor(-0.5106131, shape=(), dtype=float32)\n",
      "tf.Tensor(0.17591873, shape=(), dtype=float32)\n",
      "tf.Tensor(-0.18218337, shape=(), dtype=float32)\n",
      "tf.Tensor(0.25522724, shape=(), dtype=float32)\n",
      "tf.Tensor(0.19168799, shape=(), dtype=float32)\n",
      "tf.Tensor(-0.13872798, shape=(), dtype=float32)\n",
      "tf.Tensor(0.5206724, shape=(), dtype=float32)\n",
      "tf.Tensor(-0.16623957, shape=(), dtype=float32)\n",
      "tf.Tensor(-0.08812122, shape=(), dtype=float32)\n",
      "tf.Tensor(0.14797811, shape=(), dtype=float32)\n",
      "tf.Tensor(-0.27091673, shape=(), dtype=float32)\n",
      "tf.Tensor(-0.41796696, shape=(), dtype=float32)\n",
      "tf.Tensor(-0.7284853, shape=(), dtype=float32)\n",
      "tf.Tensor(-0.79731613, shape=(), dtype=float32)\n",
      "tf.Tensor(0.7698918, shape=(), dtype=float32)\n",
      "tf.Tensor(-0.10232948, shape=(), dtype=float32)\n",
      "tf.Tensor(-0.39499316, shape=(), dtype=float32)\n",
      "tf.Tensor(-0.3585574, shape=(), dtype=float32)\n",
      "tf.Tensor(0.057640012, shape=(), dtype=float32)\n",
      "tf.Tensor(0.36319962, shape=(), dtype=float32)\n",
      "tf.Tensor(-0.060538217, shape=(), dtype=float32)\n",
      "tf.Tensor(0.2033501, shape=(), dtype=float32)\n",
      "tf.Tensor(-0.22313882, shape=(), dtype=float32)\n",
      "tf.Tensor(-0.60361767, shape=(), dtype=float32)\n",
      "tf.Tensor(0.114957966, shape=(), dtype=float32)\n",
      "tf.Tensor(0.7647396, shape=(), dtype=float32)\n",
      "tf.Tensor(0.48928788, shape=(), dtype=float32)\n",
      "tf.Tensor(0.76219547, shape=(), dtype=float32)\n",
      "tf.Tensor(-0.12470834, shape=(), dtype=float32)\n",
      "tf.Tensor(0.31399363, shape=(), dtype=float32)\n",
      "tf.Tensor(-0.2682831, shape=(), dtype=float32)\n",
      "tf.Tensor(0.61945987, shape=(), dtype=float32)\n",
      "tf.Tensor(0.117666155, shape=(), dtype=float32)\n",
      "tf.Tensor(0.3967027, shape=(), dtype=float32)\n",
      "tf.Tensor(0.23632728, shape=(), dtype=float32)\n",
      "tf.Tensor(-0.58894783, shape=(), dtype=float32)\n",
      "tf.Tensor(-0.87153184, shape=(), dtype=float32)\n",
      "tf.Tensor(-0.73342395, shape=(), dtype=float32)\n",
      "tf.Tensor(-0.7967027, shape=(), dtype=float32)\n",
      "tf.Tensor(-0.39863986, shape=(), dtype=float32)\n",
      "tf.Tensor(-0.35019228, shape=(), dtype=float32)\n",
      "tf.Tensor(0.13625906, shape=(), dtype=float32)\n",
      "tf.Tensor(0.45324773, shape=(), dtype=float32)\n",
      "tf.Tensor(-0.2070674, shape=(), dtype=float32)\n",
      "tf.Tensor(0.25888646, shape=(), dtype=float32)\n",
      "tf.Tensor(-0.092734635, shape=(), dtype=float32)\n",
      "tf.Tensor(-0.1888553, shape=(), dtype=float32)\n",
      "tf.Tensor(-0.5984918, shape=(), dtype=float32)\n",
      "tf.Tensor(0.32047313, shape=(), dtype=float32)\n",
      "tf.Tensor(0.27892026, shape=(), dtype=float32)\n",
      "tf.Tensor(-0.007691352, shape=(), dtype=float32)\n",
      "tf.Tensor(-0.8813378, shape=(), dtype=float32)\n",
      "tf.Tensor(-0.07609126, shape=(), dtype=float32)\n",
      "tf.Tensor(0.629967, shape=(), dtype=float32)\n",
      "tf.Tensor(0.81351626, shape=(), dtype=float32)\n",
      "tf.Tensor(0.026813123, shape=(), dtype=float32)\n",
      "tf.Tensor(-0.16525047, shape=(), dtype=float32)\n",
      "tf.Tensor(-0.16271262, shape=(), dtype=float32)\n",
      "tf.Tensor(0.21349221, shape=(), dtype=float32)\n",
      "tf.Tensor(-0.48127148, shape=(), dtype=float32)\n",
      "tf.Tensor(-0.17978853, shape=(), dtype=float32)\n",
      "tf.Tensor(-0.95012665, shape=(), dtype=float32)\n",
      "tf.Tensor(0.26430538, shape=(), dtype=float32)\n",
      "tf.Tensor(0.5212854, shape=(), dtype=float32)\n",
      "tf.Tensor(0.34655306, shape=(), dtype=float32)\n",
      "tf.Tensor(0.013716767, shape=(), dtype=float32)\n",
      "tf.Tensor(0.14091703, shape=(), dtype=float32)\n",
      "tf.Tensor(-0.2960588, shape=(), dtype=float32)\n",
      "tf.Tensor(-0.36810827, shape=(), dtype=float32)\n",
      "tf.Tensor(0.44675395, shape=(), dtype=float32)\n",
      "tf.Tensor(-0.3033884, shape=(), dtype=float32)\n",
      "tf.Tensor(-0.23570068, shape=(), dtype=float32)\n",
      "tf.Tensor(0.05330119, shape=(), dtype=float32)\n",
      "tf.Tensor(0.10132729, shape=(), dtype=float32)\n",
      "tf.Tensor(0.9451681, shape=(), dtype=float32)\n",
      "tf.Tensor(-0.25541675, shape=(), dtype=float32)\n",
      "tf.Tensor(0.81441206, shape=(), dtype=float32)\n",
      "tf.Tensor(0.90602624, shape=(), dtype=float32)\n",
      "tf.Tensor(0.2861443, shape=(), dtype=float32)\n",
      "tf.Tensor(-0.63164043, shape=(), dtype=float32)\n",
      "tf.Tensor(-0.04976719, shape=(), dtype=float32)\n",
      "tf.Tensor(-0.1466623, shape=(), dtype=float32)\n",
      "tf.Tensor(-0.21519697, shape=(), dtype=float32)\n",
      "tf.Tensor(-0.46750608, shape=(), dtype=float32)\n",
      "tf.Tensor(0.23162743, shape=(), dtype=float32)\n",
      "tf.Tensor(0.13139232, shape=(), dtype=float32)\n",
      "tf.Tensor(0.2789684, shape=(), dtype=float32)\n",
      "tf.Tensor(0.20359021, shape=(), dtype=float32)\n",
      "tf.Tensor(-0.2412765, shape=(), dtype=float32)\n",
      "tf.Tensor(-0.24529539, shape=(), dtype=float32)\n",
      "tf.Tensor(-0.15091492, shape=(), dtype=float32)\n",
      "tf.Tensor(-0.15438288, shape=(), dtype=float32)\n",
      "tf.Tensor(-0.6635282, shape=(), dtype=float32)\n",
      "tf.Tensor(-0.26040247, shape=(), dtype=float32)\n",
      "tf.Tensor(-0.6052093, shape=(), dtype=float32)\n",
      "tf.Tensor(-0.5628825, shape=(), dtype=float32)\n",
      "tf.Tensor(0.92179966, shape=(), dtype=float32)\n",
      "tf.Tensor(-0.22313468, shape=(), dtype=float32)\n",
      "tf.Tensor(-0.08150401, shape=(), dtype=float32)\n",
      "tf.Tensor(-0.047182668, shape=(), dtype=float32)\n",
      "tf.Tensor(0.6385235, shape=(), dtype=float32)\n",
      "tf.Tensor(0.45224658, shape=(), dtype=float32)\n",
      "tf.Tensor(-0.5800991, shape=(), dtype=float32)\n",
      "tf.Tensor(0.15129085, shape=(), dtype=float32)\n",
      "tf.Tensor(-0.60874856, shape=(), dtype=float32)\n",
      "tf.Tensor(-0.43485132, shape=(), dtype=float32)\n",
      "tf.Tensor(0.5473308, shape=(), dtype=float32)\n",
      "tf.Tensor(0.47876278, shape=(), dtype=float32)\n",
      "tf.Tensor(0.9091616, shape=(), dtype=float32)\n",
      "tf.Tensor(-0.46636778, shape=(), dtype=float32)\n",
      "tf.Tensor(0.48256633, shape=(), dtype=float32)\n",
      "tf.Tensor(-0.09637246, shape=(), dtype=float32)\n",
      "tf.Tensor(-0.18854573, shape=(), dtype=float32)\n",
      "tf.Tensor(0.35939544, shape=(), dtype=float32)\n",
      "tf.Tensor(0.5817897, shape=(), dtype=float32)\n",
      "tf.Tensor(0.23506476, shape=(), dtype=float32)\n",
      "tf.Tensor(0.16842543, shape=(), dtype=float32)\n",
      "tf.Tensor(-0.6407516, shape=(), dtype=float32)\n",
      "tf.Tensor(0.94857526, shape=(), dtype=float32)\n",
      "tf.Tensor(0.20026414, shape=(), dtype=float32)\n",
      "tf.Tensor(-0.62722516, shape=(), dtype=float32)\n",
      "tf.Tensor(0.46598753, shape=(), dtype=float32)\n",
      "tf.Tensor(-0.045705132, shape=(), dtype=float32)\n",
      "tf.Tensor(-0.74568534, shape=(), dtype=float32)\n",
      "tf.Tensor(0.79217464, shape=(), dtype=float32)\n",
      "tf.Tensor(-0.06101337, shape=(), dtype=float32)\n",
      "tf.Tensor(-0.49026677, shape=(), dtype=float32)\n",
      "tf.Tensor(-0.72300136, shape=(), dtype=float32)\n",
      "tf.Tensor(-0.38327426, shape=(), dtype=float32)\n",
      "tf.Tensor(0.6043836, shape=(), dtype=float32)\n",
      "tf.Tensor(0.1162205, shape=(), dtype=float32)\n",
      "tf.Tensor(-0.5583571, shape=(), dtype=float32)\n",
      "tf.Tensor(-0.7154193, shape=(), dtype=float32)\n",
      "tf.Tensor(0.15823907, shape=(), dtype=float32)\n",
      "tf.Tensor(-0.17943142, shape=(), dtype=float32)\n",
      "tf.Tensor(-0.031228442, shape=(), dtype=float32)\n",
      "tf.Tensor(-0.0057183965, shape=(), dtype=float32)\n",
      "tf.Tensor(-0.46042025, shape=(), dtype=float32)\n",
      "tf.Tensor(-0.15597132, shape=(), dtype=float32)\n",
      "tf.Tensor(-0.17308754, shape=(), dtype=float32)\n",
      "tf.Tensor(-0.30915532, shape=(), dtype=float32)\n",
      "tf.Tensor(0.44550267, shape=(), dtype=float32)\n",
      "tf.Tensor(0.28013682, shape=(), dtype=float32)\n",
      "tf.Tensor(-0.09424996, shape=(), dtype=float32)\n",
      "tf.Tensor(0.39597198, shape=(), dtype=float32)\n",
      "tf.Tensor(-0.5957773, shape=(), dtype=float32)\n",
      "tf.Tensor(-0.029389158, shape=(), dtype=float32)\n",
      "tf.Tensor(-0.4034611, shape=(), dtype=float32)\n",
      "tf.Tensor(0.009789285, shape=(), dtype=float32)\n",
      "tf.Tensor(0.28608108, shape=(), dtype=float32)\n",
      "tf.Tensor(-0.6349588, shape=(), dtype=float32)\n",
      "tf.Tensor(0.48855808, shape=(), dtype=float32)\n",
      "tf.Tensor(0.18331465, shape=(), dtype=float32)\n",
      "tf.Tensor(-0.20533559, shape=(), dtype=float32)\n",
      "tf.Tensor(-0.1420597, shape=(), dtype=float32)\n",
      "tf.Tensor(-0.3189605, shape=(), dtype=float32)\n",
      "tf.Tensor(0.09160885, shape=(), dtype=float32)\n",
      "tf.Tensor(-0.51621664, shape=(), dtype=float32)\n",
      "tf.Tensor(0.12213104, shape=(), dtype=float32)\n",
      "tf.Tensor(-0.036168225, shape=(), dtype=float32)\n",
      "tf.Tensor(-0.29384425, shape=(), dtype=float32)\n",
      "tf.Tensor(0.3194729, shape=(), dtype=float32)\n",
      "tf.Tensor(-0.45196483, shape=(), dtype=float32)\n",
      "tf.Tensor(-0.2429199, shape=(), dtype=float32)\n",
      "tf.Tensor(-0.32753348, shape=(), dtype=float32)\n",
      "tf.Tensor(-0.37761864, shape=(), dtype=float32)\n",
      "tf.Tensor(-0.13744597, shape=(), dtype=float32)\n",
      "tf.Tensor(-0.33763254, shape=(), dtype=float32)\n",
      "tf.Tensor(-0.18367778, shape=(), dtype=float32)\n",
      "tf.Tensor(-0.115165465, shape=(), dtype=float32)\n",
      "tf.Tensor(-0.5945435, shape=(), dtype=float32)\n",
      "tf.Tensor(0.012355033, shape=(), dtype=float32)\n",
      "tf.Tensor(0.054245617, shape=(), dtype=float32)\n",
      "tf.Tensor(-0.73990655, shape=(), dtype=float32)\n",
      "tf.Tensor(-0.10038955, shape=(), dtype=float32)\n",
      "tf.Tensor(-0.1347634, shape=(), dtype=float32)\n",
      "tf.Tensor(0.92968607, shape=(), dtype=float32)\n",
      "tf.Tensor(0.60533774, shape=(), dtype=float32)\n",
      "tf.Tensor(-0.7905749, shape=(), dtype=float32)\n",
      "tf.Tensor(-0.04242211, shape=(), dtype=float32)\n",
      "tf.Tensor(-0.41273323, shape=(), dtype=float32)\n",
      "tf.Tensor(-0.27033547, shape=(), dtype=float32)\n",
      "tf.Tensor(0.5597916, shape=(), dtype=float32)\n",
      "tf.Tensor(0.5744172, shape=(), dtype=float32)\n",
      "tf.Tensor(-0.36735544, shape=(), dtype=float32)\n",
      "tf.Tensor(0.17757879, shape=(), dtype=float32)\n",
      "tf.Tensor(-0.53233707, shape=(), dtype=float32)\n",
      "tf.Tensor(0.20843667, shape=(), dtype=float32)\n",
      "tf.Tensor(-0.16559406, shape=(), dtype=float32)\n",
      "tf.Tensor(0.35043377, shape=(), dtype=float32)\n",
      "tf.Tensor(0.6694019, shape=(), dtype=float32)\n",
      "tf.Tensor(0.20679753, shape=(), dtype=float32)\n",
      "tf.Tensor(0.13394178, shape=(), dtype=float32)\n",
      "tf.Tensor(0.37233895, shape=(), dtype=float32)\n",
      "tf.Tensor(-0.35377264, shape=(), dtype=float32)\n",
      "tf.Tensor(-0.2225079, shape=(), dtype=float32)\n",
      "tf.Tensor(0.36433893, shape=(), dtype=float32)\n",
      "tf.Tensor(0.5997157, shape=(), dtype=float32)\n",
      "tf.Tensor(0.1880196, shape=(), dtype=float32)\n",
      "tf.Tensor(-0.007628832, shape=(), dtype=float32)\n",
      "tf.Tensor(0.9126925, shape=(), dtype=float32)\n",
      "tf.Tensor(-0.60598075, shape=(), dtype=float32)\n",
      "tf.Tensor(-0.87932867, shape=(), dtype=float32)\n",
      "tf.Tensor(0.6194548, shape=(), dtype=float32)\n",
      "tf.Tensor(0.33866563, shape=(), dtype=float32)\n",
      "tf.Tensor(0.7566862, shape=(), dtype=float32)\n",
      "tf.Tensor(-0.92068404, shape=(), dtype=float32)\n",
      "tf.Tensor(-0.28082404, shape=(), dtype=float32)\n",
      "tf.Tensor(-0.4064961, shape=(), dtype=float32)\n",
      "tf.Tensor(-0.63065827, shape=(), dtype=float32)\n",
      "tf.Tensor(-0.6110618, shape=(), dtype=float32)\n",
      "tf.Tensor(0.07077829, shape=(), dtype=float32)\n",
      "tf.Tensor(0.8506693, shape=(), dtype=float32)\n",
      "tf.Tensor(0.24828532, shape=(), dtype=float32)\n",
      "tf.Tensor(-0.365383, shape=(), dtype=float32)\n",
      "tf.Tensor(0.7285768, shape=(), dtype=float32)\n",
      "tf.Tensor(0.30409956, shape=(), dtype=float32)\n",
      "tf.Tensor(0.19048236, shape=(), dtype=float32)\n",
      "tf.Tensor(0.17443056, shape=(), dtype=float32)\n",
      "tf.Tensor(0.31750295, shape=(), dtype=float32)\n",
      "tf.Tensor(0.24339311, shape=(), dtype=float32)\n",
      "tf.Tensor(-0.41955423, shape=(), dtype=float32)\n",
      "tf.Tensor(0.077031784, shape=(), dtype=float32)\n",
      "tf.Tensor(-0.1638237, shape=(), dtype=float32)\n",
      "tf.Tensor(-0.5595942, shape=(), dtype=float32)\n",
      "tf.Tensor(-0.054441083, shape=(), dtype=float32)\n",
      "tf.Tensor(0.17299318, shape=(), dtype=float32)\n",
      "tf.Tensor(0.41036344, shape=(), dtype=float32)\n",
      "tf.Tensor(-0.07762705, shape=(), dtype=float32)\n",
      "tf.Tensor(0.22344983, shape=(), dtype=float32)\n",
      "tf.Tensor(0.08316876, shape=(), dtype=float32)\n",
      "tf.Tensor(0.0773116, shape=(), dtype=float32)\n",
      "tf.Tensor(-0.63494927, shape=(), dtype=float32)\n",
      "tf.Tensor(0.9803583, shape=(), dtype=float32)\n",
      "tf.Tensor(-0.568988, shape=(), dtype=float32)\n",
      "tf.Tensor(0.015886892, shape=(), dtype=float32)\n",
      "tf.Tensor(-0.49461445, shape=(), dtype=float32)\n",
      "tf.Tensor(0.24041058, shape=(), dtype=float32)\n",
      "tf.Tensor(-0.13268997, shape=(), dtype=float32)\n",
      "tf.Tensor(-0.105323404, shape=(), dtype=float32)\n",
      "tf.Tensor(-0.11148972, shape=(), dtype=float32)\n",
      "tf.Tensor(0.6966033, shape=(), dtype=float32)\n",
      "tf.Tensor(-0.24335964, shape=(), dtype=float32)\n",
      "tf.Tensor(0.1630313, shape=(), dtype=float32)\n",
      "tf.Tensor(-0.7154117, shape=(), dtype=float32)\n",
      "tf.Tensor(0.38994798, shape=(), dtype=float32)\n",
      "tf.Tensor(-0.789132, shape=(), dtype=float32)\n",
      "tf.Tensor(0.8045282, shape=(), dtype=float32)\n",
      "tf.Tensor(-0.2908695, shape=(), dtype=float32)\n",
      "tf.Tensor(-0.41390252, shape=(), dtype=float32)\n",
      "tf.Tensor(0.11302094, shape=(), dtype=float32)\n",
      "tf.Tensor(-0.1534888, shape=(), dtype=float32)\n",
      "tf.Tensor(-0.04319568, shape=(), dtype=float32)\n",
      "tf.Tensor(-0.51570094, shape=(), dtype=float32)\n",
      "tf.Tensor(-0.4406087, shape=(), dtype=float32)\n",
      "tf.Tensor(0.1629353, shape=(), dtype=float32)\n",
      "tf.Tensor(-0.05059656, shape=(), dtype=float32)\n",
      "tf.Tensor(0.71065474, shape=(), dtype=float32)\n",
      "tf.Tensor(-0.0066881296, shape=(), dtype=float32)\n",
      "tf.Tensor(0.43706846, shape=(), dtype=float32)\n",
      "tf.Tensor(0.24280755, shape=(), dtype=float32)\n",
      "tf.Tensor(-0.31149027, shape=(), dtype=float32)\n",
      "tf.Tensor(-0.34148502, shape=(), dtype=float32)\n",
      "tf.Tensor(0.22862421, shape=(), dtype=float32)\n",
      "tf.Tensor(-0.10451498, shape=(), dtype=float32)\n",
      "tf.Tensor(-0.6220299, shape=(), dtype=float32)\n",
      "tf.Tensor(0.60279655, shape=(), dtype=float32)\n",
      "tf.Tensor(0.5934483, shape=(), dtype=float32)\n",
      "tf.Tensor(0.7837713, shape=(), dtype=float32)\n",
      "tf.Tensor(0.48077372, shape=(), dtype=float32)\n",
      "tf.Tensor(0.8115593, shape=(), dtype=float32)\n",
      "tf.Tensor(-0.12800564, shape=(), dtype=float32)\n",
      "tf.Tensor(0.6623074, shape=(), dtype=float32)\n",
      "tf.Tensor(0.53942454, shape=(), dtype=float32)\n",
      "tf.Tensor(0.3025369, shape=(), dtype=float32)\n",
      "tf.Tensor(0.14933069, shape=(), dtype=float32)\n",
      "tf.Tensor(-0.007873316, shape=(), dtype=float32)\n",
      "tf.Tensor(-0.59073514, shape=(), dtype=float32)\n",
      "tf.Tensor(-0.20140137, shape=(), dtype=float32)\n",
      "tf.Tensor(0.29032567, shape=(), dtype=float32)\n",
      "tf.Tensor(0.5317663, shape=(), dtype=float32)\n",
      "tf.Tensor(-0.28184387, shape=(), dtype=float32)\n",
      "tf.Tensor(0.6885819, shape=(), dtype=float32)\n",
      "tf.Tensor(-0.15739381, shape=(), dtype=float32)\n",
      "tf.Tensor(-0.23937619, shape=(), dtype=float32)\n",
      "tf.Tensor(0.40651295, shape=(), dtype=float32)\n",
      "tf.Tensor(0.47368464, shape=(), dtype=float32)\n",
      "tf.Tensor(0.5096706, shape=(), dtype=float32)\n",
      "tf.Tensor(0.09753894, shape=(), dtype=float32)\n",
      "tf.Tensor(-0.11929423, shape=(), dtype=float32)\n",
      "tf.Tensor(-0.59775543, shape=(), dtype=float32)\n",
      "tf.Tensor(0.9257934, shape=(), dtype=float32)\n",
      "tf.Tensor(0.81571805, shape=(), dtype=float32)\n",
      "tf.Tensor(0.16121496, shape=(), dtype=float32)\n",
      "tf.Tensor(0.5688039, shape=(), dtype=float32)\n",
      "tf.Tensor(0.11909129, shape=(), dtype=float32)\n",
      "tf.Tensor(0.6938608, shape=(), dtype=float32)\n",
      "tf.Tensor(-0.043804795, shape=(), dtype=float32)\n",
      "tf.Tensor(0.6824833, shape=(), dtype=float32)\n",
      "tf.Tensor(0.60230356, shape=(), dtype=float32)\n",
      "tf.Tensor(-0.33380252, shape=(), dtype=float32)\n",
      "tf.Tensor(0.33947378, shape=(), dtype=float32)\n",
      "tf.Tensor(0.5831101, shape=(), dtype=float32)\n",
      "tf.Tensor(-0.1441534, shape=(), dtype=float32)\n",
      "tf.Tensor(-0.18035944, shape=(), dtype=float32)\n",
      "tf.Tensor(-0.33606455, shape=(), dtype=float32)\n",
      "tf.Tensor(-0.78980637, shape=(), dtype=float32)\n",
      "tf.Tensor(0.9764177, shape=(), dtype=float32)\n",
      "tf.Tensor(-0.54819006, shape=(), dtype=float32)\n",
      "tf.Tensor(-0.40467197, shape=(), dtype=float32)\n",
      "tf.Tensor(0.3728675, shape=(), dtype=float32)\n",
      "tf.Tensor(-0.77755326, shape=(), dtype=float32)\n",
      "tf.Tensor(-0.7124258, shape=(), dtype=float32)\n",
      "tf.Tensor(0.8949773, shape=(), dtype=float32)\n",
      "tf.Tensor(-0.4214214, shape=(), dtype=float32)\n",
      "tf.Tensor(-0.25316644, shape=(), dtype=float32)\n",
      "tf.Tensor(-0.5286059, shape=(), dtype=float32)\n",
      "tf.Tensor(0.5352222, shape=(), dtype=float32)\n",
      "tf.Tensor(0.4997655, shape=(), dtype=float32)\n",
      "tf.Tensor(0.33539164, shape=(), dtype=float32)\n",
      "tf.Tensor(-0.5290123, shape=(), dtype=float32)\n",
      "tf.Tensor(0.49560475, shape=(), dtype=float32)\n",
      "tf.Tensor(0.031858593, shape=(), dtype=float32)\n",
      "tf.Tensor(-0.3741804, shape=(), dtype=float32)\n",
      "tf.Tensor(0.3205304, shape=(), dtype=float32)\n",
      "tf.Tensor(-0.18660608, shape=(), dtype=float32)\n",
      "tf.Tensor(-0.12595883, shape=(), dtype=float32)\n",
      "tf.Tensor(0.564109, shape=(), dtype=float32)\n",
      "tf.Tensor(0.036268152, shape=(), dtype=float32)\n",
      "tf.Tensor(-0.016569167, shape=(), dtype=float32)\n",
      "tf.Tensor(0.25647762, shape=(), dtype=float32)\n",
      "tf.Tensor(0.83513534, shape=(), dtype=float32)\n",
      "tf.Tensor(-0.2060349, shape=(), dtype=float32)\n",
      "tf.Tensor(-0.72773266, shape=(), dtype=float32)\n",
      "tf.Tensor(0.06994628, shape=(), dtype=float32)\n",
      "tf.Tensor(-0.6426403, shape=(), dtype=float32)\n",
      "tf.Tensor(0.37230462, shape=(), dtype=float32)\n",
      "tf.Tensor(0.5993353, shape=(), dtype=float32)\n",
      "tf.Tensor(0.19483088, shape=(), dtype=float32)\n",
      "tf.Tensor(0.06188152, shape=(), dtype=float32)\n",
      "tf.Tensor(-0.14866121, shape=(), dtype=float32)\n",
      "tf.Tensor(-0.23016274, shape=(), dtype=float32)\n",
      "tf.Tensor(-0.29038793, shape=(), dtype=float32)\n",
      "tf.Tensor(-0.27521688, shape=(), dtype=float32)\n",
      "tf.Tensor(-0.27459174, shape=(), dtype=float32)\n",
      "tf.Tensor(0.08331447, shape=(), dtype=float32)\n",
      "tf.Tensor(0.30463707, shape=(), dtype=float32)\n",
      "tf.Tensor(-0.03221287, shape=(), dtype=float32)\n",
      "tf.Tensor(0.0037168206, shape=(), dtype=float32)\n",
      "tf.Tensor(-0.19333248, shape=(), dtype=float32)\n",
      "tf.Tensor(0.6484915, shape=(), dtype=float32)\n",
      "tf.Tensor(-0.7811867, shape=(), dtype=float32)\n",
      "tf.Tensor(-0.593755, shape=(), dtype=float32)\n",
      "tf.Tensor(0.4241187, shape=(), dtype=float32)\n",
      "tf.Tensor(-0.32547355, shape=(), dtype=float32)\n",
      "tf.Tensor(-0.02957652, shape=(), dtype=float32)\n",
      "tf.Tensor(0.90147215, shape=(), dtype=float32)\n",
      "tf.Tensor(0.10233295, shape=(), dtype=float32)\n",
      "tf.Tensor(0.2030942, shape=(), dtype=float32)\n",
      "tf.Tensor(-0.091964185, shape=(), dtype=float32)\n",
      "tf.Tensor(0.16800107, shape=(), dtype=float32)\n",
      "tf.Tensor(-0.22953933, shape=(), dtype=float32)\n",
      "tf.Tensor(-0.68772775, shape=(), dtype=float32)\n",
      "tf.Tensor(0.34696496, shape=(), dtype=float32)\n",
      "tf.Tensor(0.27617407, shape=(), dtype=float32)\n",
      "tf.Tensor(-0.60442716, shape=(), dtype=float32)\n",
      "tf.Tensor(0.8307293, shape=(), dtype=float32)\n",
      "tf.Tensor(-0.13152343, shape=(), dtype=float32)\n",
      "tf.Tensor(-0.6200392, shape=(), dtype=float32)\n",
      "tf.Tensor(0.5203874, shape=(), dtype=float32)\n",
      "tf.Tensor(0.112652324, shape=(), dtype=float32)\n",
      "tf.Tensor(-0.5353072, shape=(), dtype=float32)\n",
      "tf.Tensor(0.22427243, shape=(), dtype=float32)\n",
      "tf.Tensor(0.40829164, shape=(), dtype=float32)\n",
      "tf.Tensor(-0.15746607, shape=(), dtype=float32)\n",
      "tf.Tensor(-0.3132052, shape=(), dtype=float32)\n",
      "tf.Tensor(0.96129864, shape=(), dtype=float32)\n",
      "tf.Tensor(-0.04550936, shape=(), dtype=float32)\n",
      "tf.Tensor(-0.88217694, shape=(), dtype=float32)\n",
      "tf.Tensor(0.2939983, shape=(), dtype=float32)\n",
      "tf.Tensor(-0.0072927596, shape=(), dtype=float32)\n",
      "tf.Tensor(-0.83117706, shape=(), dtype=float32)\n",
      "tf.Tensor(0.27642176, shape=(), dtype=float32)\n",
      "tf.Tensor(0.5835172, shape=(), dtype=float32)\n",
      "tf.Tensor(0.9288558, shape=(), dtype=float32)\n",
      "tf.Tensor(-0.3359668, shape=(), dtype=float32)\n",
      "tf.Tensor(-0.49688706, shape=(), dtype=float32)\n",
      "tf.Tensor(0.07005096, shape=(), dtype=float32)\n",
      "tf.Tensor(0.12792642, shape=(), dtype=float32)\n",
      "tf.Tensor(-0.111267984, shape=(), dtype=float32)\n",
      "tf.Tensor(0.037373915, shape=(), dtype=float32)\n",
      "tf.Tensor(0.5629427, shape=(), dtype=float32)\n",
      "tf.Tensor(0.14113517, shape=(), dtype=float32)\n",
      "tf.Tensor(0.15662421, shape=(), dtype=float32)\n",
      "tf.Tensor(-0.4888593, shape=(), dtype=float32)\n",
      "tf.Tensor(-0.4588829, shape=(), dtype=float32)\n",
      "tf.Tensor(0.58421755, shape=(), dtype=float32)\n",
      "tf.Tensor(-0.47044125, shape=(), dtype=float32)\n",
      "tf.Tensor(0.1955587, shape=(), dtype=float32)\n",
      "tf.Tensor(-0.06828631, shape=(), dtype=float32)\n",
      "tf.Tensor(0.37276974, shape=(), dtype=float32)\n",
      "tf.Tensor(0.6301659, shape=(), dtype=float32)\n",
      "tf.Tensor(0.81880087, shape=(), dtype=float32)\n",
      "tf.Tensor(0.14759263, shape=(), dtype=float32)\n",
      "tf.Tensor(0.023434835, shape=(), dtype=float32)\n",
      "tf.Tensor(-0.29884014, shape=(), dtype=float32)\n",
      "tf.Tensor(-0.5805132, shape=(), dtype=float32)\n",
      "tf.Tensor(0.41978255, shape=(), dtype=float32)\n",
      "tf.Tensor(-0.15246235, shape=(), dtype=float32)\n",
      "tf.Tensor(-0.7591963, shape=(), dtype=float32)\n",
      "tf.Tensor(-0.09174711, shape=(), dtype=float32)\n",
      "tf.Tensor(-0.037508786, shape=(), dtype=float32)\n",
      "tf.Tensor(0.49045143, shape=(), dtype=float32)\n",
      "tf.Tensor(0.25241366, shape=(), dtype=float32)\n",
      "tf.Tensor(-0.86779493, shape=(), dtype=float32)\n",
      "tf.Tensor(-0.014219737, shape=(), dtype=float32)\n",
      "tf.Tensor(0.08776992, shape=(), dtype=float32)\n",
      "tf.Tensor(0.7010241, shape=(), dtype=float32)\n",
      "tf.Tensor(-0.085894294, shape=(), dtype=float32)\n",
      "tf.Tensor(-0.77676505, shape=(), dtype=float32)\n",
      "tf.Tensor(0.6493346, shape=(), dtype=float32)\n",
      "tf.Tensor(0.16093592, shape=(), dtype=float32)\n",
      "tf.Tensor(0.38633823, shape=(), dtype=float32)\n",
      "tf.Tensor(-0.35227063, shape=(), dtype=float32)\n",
      "tf.Tensor(0.09562725, shape=(), dtype=float32)\n",
      "tf.Tensor(-0.015830114, shape=(), dtype=float32)\n",
      "tf.Tensor(0.8325753, shape=(), dtype=float32)\n",
      "tf.Tensor(0.49700347, shape=(), dtype=float32)\n",
      "tf.Tensor(0.54281473, shape=(), dtype=float32)\n",
      "tf.Tensor(-0.052444946, shape=(), dtype=float32)\n",
      "tf.Tensor(-0.059223853, shape=(), dtype=float32)\n",
      "tf.Tensor(0.9311545, shape=(), dtype=float32)\n",
      "tf.Tensor(-0.08928041, shape=(), dtype=float32)\n",
      "tf.Tensor(0.70613146, shape=(), dtype=float32)\n",
      "tf.Tensor(0.31054905, shape=(), dtype=float32)\n",
      "tf.Tensor(0.11153378, shape=(), dtype=float32)\n",
      "tf.Tensor(0.35730767, shape=(), dtype=float32)\n",
      "tf.Tensor(-0.22557987, shape=(), dtype=float32)\n",
      "tf.Tensor(-0.563412, shape=(), dtype=float32)\n",
      "tf.Tensor(0.76597047, shape=(), dtype=float32)\n",
      "tf.Tensor(0.7364783, shape=(), dtype=float32)\n",
      "tf.Tensor(0.45406795, shape=(), dtype=float32)\n",
      "tf.Tensor(-0.19389871, shape=(), dtype=float32)\n",
      "tf.Tensor(0.08936912, shape=(), dtype=float32)\n",
      "tf.Tensor(-0.53584135, shape=(), dtype=float32)\n",
      "tf.Tensor(0.6484539, shape=(), dtype=float32)\n",
      "tf.Tensor(-0.5389625, shape=(), dtype=float32)\n",
      "tf.Tensor(-0.028329156, shape=(), dtype=float32)\n",
      "tf.Tensor(-0.6360658, shape=(), dtype=float32)\n",
      "tf.Tensor(0.18971182, shape=(), dtype=float32)\n",
      "tf.Tensor(-0.66514313, shape=(), dtype=float32)\n",
      "tf.Tensor(0.21635352, shape=(), dtype=float32)\n",
      "tf.Tensor(-0.46536905, shape=(), dtype=float32)\n",
      "tf.Tensor(0.18421295, shape=(), dtype=float32)\n",
      "tf.Tensor(-0.7801239, shape=(), dtype=float32)\n",
      "tf.Tensor(0.16122508, shape=(), dtype=float32)\n",
      "tf.Tensor(-0.22449492, shape=(), dtype=float32)\n",
      "tf.Tensor(0.6074032, shape=(), dtype=float32)\n",
      "tf.Tensor(-0.717897, shape=(), dtype=float32)\n",
      "tf.Tensor(0.6746642, shape=(), dtype=float32)\n",
      "tf.Tensor(0.3700181, shape=(), dtype=float32)\n",
      "tf.Tensor(0.3348619, shape=(), dtype=float32)\n",
      "tf.Tensor(-0.0795295, shape=(), dtype=float32)\n",
      "tf.Tensor(0.40779266, shape=(), dtype=float32)\n",
      "tf.Tensor(0.37897718, shape=(), dtype=float32)\n",
      "tf.Tensor(-0.49899206, shape=(), dtype=float32)\n",
      "tf.Tensor(-0.3182974, shape=(), dtype=float32)\n",
      "tf.Tensor(0.34615058, shape=(), dtype=float32)\n",
      "tf.Tensor(0.5019907, shape=(), dtype=float32)\n",
      "tf.Tensor(0.50100106, shape=(), dtype=float32)\n",
      "tf.Tensor(0.14217426, shape=(), dtype=float32)\n",
      "tf.Tensor(0.46233913, shape=(), dtype=float32)\n",
      "tf.Tensor(-0.6369268, shape=(), dtype=float32)\n",
      "tf.Tensor(-0.3357659, shape=(), dtype=float32)\n",
      "tf.Tensor(0.8402095, shape=(), dtype=float32)\n",
      "tf.Tensor(-0.0036451109, shape=(), dtype=float32)\n",
      "tf.Tensor(-0.26287466, shape=(), dtype=float32)\n",
      "tf.Tensor(-0.715508, shape=(), dtype=float32)\n",
      "tf.Tensor(-0.41073546, shape=(), dtype=float32)\n",
      "tf.Tensor(0.72680634, shape=(), dtype=float32)\n",
      "tf.Tensor(-0.059168596, shape=(), dtype=float32)\n",
      "tf.Tensor(0.36967218, shape=(), dtype=float32)\n",
      "tf.Tensor(-0.5209662, shape=(), dtype=float32)\n",
      "tf.Tensor(0.033226125, shape=(), dtype=float32)\n",
      "tf.Tensor(0.5302894, shape=(), dtype=float32)\n",
      "tf.Tensor(0.038066354, shape=(), dtype=float32)\n",
      "tf.Tensor(0.04927948, shape=(), dtype=float32)\n",
      "tf.Tensor(-0.1684367, shape=(), dtype=float32)\n",
      "tf.Tensor(0.7104087, shape=(), dtype=float32)\n",
      "tf.Tensor(0.37087277, shape=(), dtype=float32)\n",
      "tf.Tensor(0.03108229, shape=(), dtype=float32)\n",
      "tf.Tensor(0.26706845, shape=(), dtype=float32)\n",
      "tf.Tensor(-0.53624576, shape=(), dtype=float32)\n",
      "tf.Tensor(0.046624284, shape=(), dtype=float32)\n",
      "tf.Tensor(0.12136847, shape=(), dtype=float32)\n",
      "tf.Tensor(-0.3414467, shape=(), dtype=float32)\n",
      "tf.Tensor(-0.106190644, shape=(), dtype=float32)\n",
      "tf.Tensor(0.15994665, shape=(), dtype=float32)\n",
      "tf.Tensor(-0.15273592, shape=(), dtype=float32)\n",
      "tf.Tensor(-0.27073282, shape=(), dtype=float32)\n",
      "tf.Tensor(-0.6699663, shape=(), dtype=float32)\n",
      "tf.Tensor(0.7262083, shape=(), dtype=float32)\n",
      "tf.Tensor(-0.6068032, shape=(), dtype=float32)\n",
      "tf.Tensor(-0.08190777, shape=(), dtype=float32)\n",
      "tf.Tensor(0.11973336, shape=(), dtype=float32)\n",
      "tf.Tensor(0.10877592, shape=(), dtype=float32)\n",
      "tf.Tensor(0.01674703, shape=(), dtype=float32)\n",
      "tf.Tensor(-0.23060037, shape=(), dtype=float32)\n",
      "tf.Tensor(-0.6300551, shape=(), dtype=float32)\n",
      "tf.Tensor(0.91621685, shape=(), dtype=float32)\n",
      "tf.Tensor(-0.026696993, shape=(), dtype=float32)\n",
      "tf.Tensor(-0.53590304, shape=(), dtype=float32)\n",
      "tf.Tensor(0.111566685, shape=(), dtype=float32)\n",
      "tf.Tensor(0.62674797, shape=(), dtype=float32)\n",
      "tf.Tensor(-0.5149262, shape=(), dtype=float32)\n",
      "tf.Tensor(0.44087446, shape=(), dtype=float32)\n",
      "tf.Tensor(0.9641367, shape=(), dtype=float32)\n",
      "tf.Tensor(0.2735396, shape=(), dtype=float32)\n",
      "tf.Tensor(0.6621712, shape=(), dtype=float32)\n",
      "tf.Tensor(0.12921056, shape=(), dtype=float32)\n",
      "tf.Tensor(-0.12122901, shape=(), dtype=float32)\n",
      "tf.Tensor(-0.7639767, shape=(), dtype=float32)\n",
      "tf.Tensor(0.050682805, shape=(), dtype=float32)\n",
      "tf.Tensor(0.6692342, shape=(), dtype=float32)\n",
      "tf.Tensor(0.7275302, shape=(), dtype=float32)\n",
      "tf.Tensor(0.25792086, shape=(), dtype=float32)\n",
      "tf.Tensor(-0.4381661, shape=(), dtype=float32)\n",
      "tf.Tensor(0.14227903, shape=(), dtype=float32)\n",
      "tf.Tensor(-0.8724464, shape=(), dtype=float32)\n",
      "tf.Tensor(0.19953914, shape=(), dtype=float32)\n",
      "tf.Tensor(0.06288694, shape=(), dtype=float32)\n",
      "tf.Tensor(0.47550938, shape=(), dtype=float32)\n",
      "tf.Tensor(0.7845972, shape=(), dtype=float32)\n",
      "tf.Tensor(-0.19173795, shape=(), dtype=float32)\n",
      "tf.Tensor(0.38456133, shape=(), dtype=float32)\n",
      "tf.Tensor(0.07216193, shape=(), dtype=float32)\n",
      "tf.Tensor(0.6820694, shape=(), dtype=float32)\n",
      "tf.Tensor(0.42688647, shape=(), dtype=float32)\n",
      "tf.Tensor(-0.33002403, shape=(), dtype=float32)\n",
      "tf.Tensor(0.019354299, shape=(), dtype=float32)\n",
      "tf.Tensor(-0.49667037, shape=(), dtype=float32)\n",
      "tf.Tensor(0.40375367, shape=(), dtype=float32)\n",
      "tf.Tensor(0.09890223, shape=(), dtype=float32)\n",
      "tf.Tensor(-0.009593244, shape=(), dtype=float32)\n",
      "tf.Tensor(-0.028039562, shape=(), dtype=float32)\n",
      "tf.Tensor(0.09273301, shape=(), dtype=float32)\n",
      "tf.Tensor(0.12958492, shape=(), dtype=float32)\n",
      "tf.Tensor(0.6978378, shape=(), dtype=float32)\n",
      "tf.Tensor(-0.068439715, shape=(), dtype=float32)\n",
      "tf.Tensor(-0.10313822, shape=(), dtype=float32)\n",
      "tf.Tensor(0.03862786, shape=(), dtype=float32)\n",
      "tf.Tensor(0.41401172, shape=(), dtype=float32)\n",
      "tf.Tensor(-0.18223473, shape=(), dtype=float32)\n",
      "tf.Tensor(0.45951432, shape=(), dtype=float32)\n",
      "tf.Tensor(0.055153433, shape=(), dtype=float32)\n",
      "tf.Tensor(-0.093949094, shape=(), dtype=float32)\n",
      "tf.Tensor(0.9897973, shape=(), dtype=float32)\n",
      "tf.Tensor(-0.4157336, shape=(), dtype=float32)\n",
      "tf.Tensor(0.41904858, shape=(), dtype=float32)\n",
      "tf.Tensor(0.48068148, shape=(), dtype=float32)\n",
      "tf.Tensor(0.1455973, shape=(), dtype=float32)\n",
      "tf.Tensor(0.41891912, shape=(), dtype=float32)\n",
      "tf.Tensor(-0.67579865, shape=(), dtype=float32)\n",
      "tf.Tensor(-0.42786413, shape=(), dtype=float32)\n",
      "tf.Tensor(0.10156437, shape=(), dtype=float32)\n",
      "tf.Tensor(-0.13077532, shape=(), dtype=float32)\n",
      "tf.Tensor(0.49217895, shape=(), dtype=float32)\n",
      "tf.Tensor(0.5449547, shape=(), dtype=float32)\n",
      "tf.Tensor(0.11522857, shape=(), dtype=float32)\n",
      "tf.Tensor(-0.16696519, shape=(), dtype=float32)\n",
      "tf.Tensor(-0.11785336, shape=(), dtype=float32)\n",
      "tf.Tensor(-0.026089856, shape=(), dtype=float32)\n",
      "tf.Tensor(-0.8135398, shape=(), dtype=float32)\n",
      "tf.Tensor(0.10488993, shape=(), dtype=float32)\n",
      "tf.Tensor(-0.50916314, shape=(), dtype=float32)\n",
      "tf.Tensor(-0.00843716, shape=(), dtype=float32)\n",
      "tf.Tensor(-0.5497957, shape=(), dtype=float32)\n",
      "tf.Tensor(0.3739879, shape=(), dtype=float32)\n",
      "tf.Tensor(0.7443299, shape=(), dtype=float32)\n",
      "tf.Tensor(0.6971031, shape=(), dtype=float32)\n",
      "tf.Tensor(0.024288474, shape=(), dtype=float32)\n",
      "tf.Tensor(-0.20076805, shape=(), dtype=float32)\n",
      "tf.Tensor(-0.12760828, shape=(), dtype=float32)\n",
      "tf.Tensor(0.54678136, shape=(), dtype=float32)\n",
      "tf.Tensor(-0.30738598, shape=(), dtype=float32)\n",
      "tf.Tensor(-0.4422647, shape=(), dtype=float32)\n",
      "tf.Tensor(-0.3052017, shape=(), dtype=float32)\n",
      "tf.Tensor(-0.17654952, shape=(), dtype=float32)\n",
      "tf.Tensor(-0.25782174, shape=(), dtype=float32)\n",
      "tf.Tensor(0.77859914, shape=(), dtype=float32)\n",
      "tf.Tensor(0.56257457, shape=(), dtype=float32)\n",
      "tf.Tensor(-0.03640833, shape=(), dtype=float32)\n",
      "tf.Tensor(0.09088726, shape=(), dtype=float32)\n",
      "tf.Tensor(-0.06834562, shape=(), dtype=float32)\n",
      "tf.Tensor(0.27331427, shape=(), dtype=float32)\n",
      "tf.Tensor(0.63780767, shape=(), dtype=float32)\n",
      "tf.Tensor(0.48192325, shape=(), dtype=float32)\n",
      "tf.Tensor(0.1591827, shape=(), dtype=float32)\n",
      "tf.Tensor(0.13571203, shape=(), dtype=float32)\n",
      "tf.Tensor(0.46865448, shape=(), dtype=float32)\n",
      "tf.Tensor(-0.46518654, shape=(), dtype=float32)\n",
      "tf.Tensor(0.017656678, shape=(), dtype=float32)\n",
      "tf.Tensor(0.7706018, shape=(), dtype=float32)\n",
      "tf.Tensor(-0.21434072, shape=(), dtype=float32)\n",
      "tf.Tensor(-0.23171131, shape=(), dtype=float32)\n",
      "tf.Tensor(-0.5248831, shape=(), dtype=float32)\n",
      "tf.Tensor(0.8354979, shape=(), dtype=float32)\n",
      "tf.Tensor(0.6766808, shape=(), dtype=float32)\n",
      "tf.Tensor(-0.009847798, shape=(), dtype=float32)\n",
      "tf.Tensor(0.24602972, shape=(), dtype=float32)\n",
      "tf.Tensor(-0.75105613, shape=(), dtype=float32)\n",
      "tf.Tensor(-0.25267735, shape=(), dtype=float32)\n",
      "tf.Tensor(-0.6920523, shape=(), dtype=float32)\n",
      "tf.Tensor(0.80175525, shape=(), dtype=float32)\n",
      "tf.Tensor(0.60878044, shape=(), dtype=float32)\n",
      "tf.Tensor(0.287423, shape=(), dtype=float32)\n",
      "tf.Tensor(0.17980264, shape=(), dtype=float32)\n",
      "tf.Tensor(-0.4230701, shape=(), dtype=float32)\n",
      "tf.Tensor(-0.5833392, shape=(), dtype=float32)\n",
      "tf.Tensor(0.76111495, shape=(), dtype=float32)\n",
      "tf.Tensor(0.37097546, shape=(), dtype=float32)\n",
      "tf.Tensor(-0.1505707, shape=(), dtype=float32)\n",
      "tf.Tensor(0.34767133, shape=(), dtype=float32)\n",
      "tf.Tensor(0.28623372, shape=(), dtype=float32)\n",
      "tf.Tensor(0.39348292, shape=(), dtype=float32)\n",
      "tf.Tensor(-0.21019214, shape=(), dtype=float32)\n",
      "tf.Tensor(0.23614608, shape=(), dtype=float32)\n",
      "tf.Tensor(0.17384116, shape=(), dtype=float32)\n",
      "tf.Tensor(0.17886758, shape=(), dtype=float32)\n",
      "tf.Tensor(0.7945761, shape=(), dtype=float32)\n",
      "tf.Tensor(-0.41768536, shape=(), dtype=float32)\n",
      "tf.Tensor(-0.46712497, shape=(), dtype=float32)\n",
      "tf.Tensor(-0.044023428, shape=(), dtype=float32)\n",
      "tf.Tensor(0.3846855, shape=(), dtype=float32)\n",
      "tf.Tensor(0.19180903, shape=(), dtype=float32)\n",
      "tf.Tensor(0.5790034, shape=(), dtype=float32)\n",
      "tf.Tensor(0.5518619, shape=(), dtype=float32)\n",
      "tf.Tensor(-0.40811598, shape=(), dtype=float32)\n",
      "tf.Tensor(0.08741873, shape=(), dtype=float32)\n",
      "tf.Tensor(0.07509795, shape=(), dtype=float32)\n",
      "tf.Tensor(0.106520556, shape=(), dtype=float32)\n",
      "tf.Tensor(0.31768268, shape=(), dtype=float32)\n",
      "tf.Tensor(0.43690243, shape=(), dtype=float32)\n",
      "tf.Tensor(-0.066293694, shape=(), dtype=float32)\n",
      "tf.Tensor(-0.98220116, shape=(), dtype=float32)\n",
      "tf.Tensor(-0.071673356, shape=(), dtype=float32)\n",
      "tf.Tensor(-0.34523457, shape=(), dtype=float32)\n",
      "tf.Tensor(-0.4194911, shape=(), dtype=float32)\n",
      "tf.Tensor(-0.21333647, shape=(), dtype=float32)\n",
      "tf.Tensor(0.909954, shape=(), dtype=float32)\n",
      "tf.Tensor(-0.50735855, shape=(), dtype=float32)\n",
      "tf.Tensor(-0.25052136, shape=(), dtype=float32)\n",
      "tf.Tensor(-0.80281496, shape=(), dtype=float32)\n",
      "tf.Tensor(-0.66666716, shape=(), dtype=float32)\n",
      "tf.Tensor(-0.23187593, shape=(), dtype=float32)\n",
      "tf.Tensor(0.16801634, shape=(), dtype=float32)\n",
      "tf.Tensor(0.078476295, shape=(), dtype=float32)\n",
      "tf.Tensor(-0.3640783, shape=(), dtype=float32)\n",
      "tf.Tensor(-0.19722258, shape=(), dtype=float32)\n",
      "tf.Tensor(0.24746604, shape=(), dtype=float32)\n",
      "tf.Tensor(0.32666528, shape=(), dtype=float32)\n",
      "tf.Tensor(-0.8407412, shape=(), dtype=float32)\n",
      "tf.Tensor(-0.6144961, shape=(), dtype=float32)\n",
      "tf.Tensor(0.31002226, shape=(), dtype=float32)\n",
      "tf.Tensor(-0.4100113, shape=(), dtype=float32)\n",
      "tf.Tensor(0.051474847, shape=(), dtype=float32)\n",
      "tf.Tensor(-0.29557246, shape=(), dtype=float32)\n",
      "tf.Tensor(-0.79583454, shape=(), dtype=float32)\n",
      "tf.Tensor(0.08729956, shape=(), dtype=float32)\n",
      "tf.Tensor(-0.08851823, shape=(), dtype=float32)\n",
      "tf.Tensor(-0.9427498, shape=(), dtype=float32)\n",
      "tf.Tensor(0.24136388, shape=(), dtype=float32)\n",
      "tf.Tensor(0.42819908, shape=(), dtype=float32)\n",
      "tf.Tensor(-0.105057664, shape=(), dtype=float32)\n",
      "tf.Tensor(-0.84225273, shape=(), dtype=float32)\n",
      "tf.Tensor(-0.14657553, shape=(), dtype=float32)\n",
      "tf.Tensor(0.4142331, shape=(), dtype=float32)\n",
      "tf.Tensor(-0.3954588, shape=(), dtype=float32)\n",
      "tf.Tensor(0.32558727, shape=(), dtype=float32)\n",
      "tf.Tensor(-0.11106523, shape=(), dtype=float32)\n",
      "tf.Tensor(0.3864335, shape=(), dtype=float32)\n",
      "tf.Tensor(-0.2826434, shape=(), dtype=float32)\n",
      "tf.Tensor(0.2870293, shape=(), dtype=float32)\n",
      "tf.Tensor(0.33409682, shape=(), dtype=float32)\n",
      "tf.Tensor(0.65999997, shape=(), dtype=float32)\n",
      "tf.Tensor(-0.43378446, shape=(), dtype=float32)\n",
      "tf.Tensor(0.47876373, shape=(), dtype=float32)\n",
      "tf.Tensor(0.08762588, shape=(), dtype=float32)\n",
      "tf.Tensor(0.52773553, shape=(), dtype=float32)\n",
      "tf.Tensor(0.87753606, shape=(), dtype=float32)\n",
      "tf.Tensor(-0.021056086, shape=(), dtype=float32)\n",
      "tf.Tensor(-0.54722565, shape=(), dtype=float32)\n",
      "tf.Tensor(-0.28624678, shape=(), dtype=float32)\n",
      "tf.Tensor(-0.37275514, shape=(), dtype=float32)\n",
      "tf.Tensor(-0.005152978, shape=(), dtype=float32)\n",
      "tf.Tensor(-0.38919055, shape=(), dtype=float32)\n",
      "tf.Tensor(-0.013163728, shape=(), dtype=float32)\n",
      "tf.Tensor(-0.78514135, shape=(), dtype=float32)\n",
      "tf.Tensor(-0.5313255, shape=(), dtype=float32)\n",
      "tf.Tensor(0.39167753, shape=(), dtype=float32)\n",
      "tf.Tensor(0.21837525, shape=(), dtype=float32)\n",
      "tf.Tensor(-0.37796807, shape=(), dtype=float32)\n",
      "tf.Tensor(-0.4553616, shape=(), dtype=float32)\n",
      "tf.Tensor(0.57060057, shape=(), dtype=float32)\n",
      "tf.Tensor(0.13180849, shape=(), dtype=float32)\n",
      "tf.Tensor(0.4718139, shape=(), dtype=float32)\n",
      "tf.Tensor(-0.014762284, shape=(), dtype=float32)\n",
      "tf.Tensor(-0.4641516, shape=(), dtype=float32)\n",
      "tf.Tensor(0.28039858, shape=(), dtype=float32)\n",
      "tf.Tensor(0.4405175, shape=(), dtype=float32)\n",
      "tf.Tensor(0.10756186, shape=(), dtype=float32)\n",
      "tf.Tensor(-0.9423824, shape=(), dtype=float32)\n",
      "tf.Tensor(-0.0932958, shape=(), dtype=float32)\n",
      "tf.Tensor(-0.2378845, shape=(), dtype=float32)\n",
      "tf.Tensor(0.3829853, shape=(), dtype=float32)\n",
      "tf.Tensor(-0.16715123, shape=(), dtype=float32)\n",
      "tf.Tensor(-0.19814724, shape=(), dtype=float32)\n",
      "tf.Tensor(0.12872005, shape=(), dtype=float32)\n",
      "tf.Tensor(0.019419018, shape=(), dtype=float32)\n",
      "tf.Tensor(-0.023414215, shape=(), dtype=float32)\n",
      "tf.Tensor(-0.07490869, shape=(), dtype=float32)\n",
      "tf.Tensor(-0.25681075, shape=(), dtype=float32)\n",
      "tf.Tensor(-0.227226, shape=(), dtype=float32)\n",
      "tf.Tensor(-0.1831725, shape=(), dtype=float32)\n",
      "tf.Tensor(-0.24762106, shape=(), dtype=float32)\n",
      "tf.Tensor(-0.4405922, shape=(), dtype=float32)\n",
      "tf.Tensor(0.22125001, shape=(), dtype=float32)\n",
      "tf.Tensor(-0.42723793, shape=(), dtype=float32)\n",
      "tf.Tensor(0.036440168, shape=(), dtype=float32)\n",
      "tf.Tensor(-0.36783364, shape=(), dtype=float32)\n",
      "tf.Tensor(0.3948357, shape=(), dtype=float32)\n",
      "tf.Tensor(-0.1820814, shape=(), dtype=float32)\n",
      "tf.Tensor(-0.24721794, shape=(), dtype=float32)\n",
      "tf.Tensor(0.03478477, shape=(), dtype=float32)\n",
      "tf.Tensor(-0.046952624, shape=(), dtype=float32)\n",
      "tf.Tensor(0.044378087, shape=(), dtype=float32)\n",
      "tf.Tensor(-0.14884987, shape=(), dtype=float32)\n",
      "tf.Tensor(0.31489947, shape=(), dtype=float32)\n",
      "tf.Tensor(-0.011399659, shape=(), dtype=float32)\n",
      "tf.Tensor(-0.008212046, shape=(), dtype=float32)\n",
      "tf.Tensor(0.30911395, shape=(), dtype=float32)\n",
      "tf.Tensor(0.5901986, shape=(), dtype=float32)\n",
      "tf.Tensor(0.064456835, shape=(), dtype=float32)\n",
      "tf.Tensor(0.67357296, shape=(), dtype=float32)\n",
      "tf.Tensor(0.25774646, shape=(), dtype=float32)\n",
      "tf.Tensor(0.24855223, shape=(), dtype=float32)\n",
      "tf.Tensor(-0.09829871, shape=(), dtype=float32)\n",
      "tf.Tensor(0.6159928, shape=(), dtype=float32)\n",
      "tf.Tensor(-0.16039576, shape=(), dtype=float32)\n",
      "tf.Tensor(-0.12074932, shape=(), dtype=float32)\n",
      "tf.Tensor(0.39051652, shape=(), dtype=float32)\n",
      "tf.Tensor(0.40079397, shape=(), dtype=float32)\n",
      "tf.Tensor(-0.10732178, shape=(), dtype=float32)\n",
      "tf.Tensor(-0.39182597, shape=(), dtype=float32)\n",
      "tf.Tensor(0.08452187, shape=(), dtype=float32)\n",
      "tf.Tensor(-0.14344382, shape=(), dtype=float32)\n",
      "tf.Tensor(0.25254866, shape=(), dtype=float32)\n",
      "tf.Tensor(0.6983682, shape=(), dtype=float32)\n",
      "tf.Tensor(-0.6775924, shape=(), dtype=float32)\n",
      "tf.Tensor(0.29812914, shape=(), dtype=float32)\n",
      "tf.Tensor(0.3169352, shape=(), dtype=float32)\n",
      "tf.Tensor(0.045218047, shape=(), dtype=float32)\n",
      "tf.Tensor(0.26603583, shape=(), dtype=float32)\n",
      "tf.Tensor(-0.07112748, shape=(), dtype=float32)\n",
      "tf.Tensor(0.31696907, shape=(), dtype=float32)\n",
      "tf.Tensor(-0.6027143, shape=(), dtype=float32)\n",
      "tf.Tensor(-0.71336764, shape=(), dtype=float32)\n",
      "tf.Tensor(0.12456176, shape=(), dtype=float32)\n",
      "tf.Tensor(0.5862045, shape=(), dtype=float32)\n",
      "tf.Tensor(0.011265833, shape=(), dtype=float32)\n",
      "tf.Tensor(-0.2902238, shape=(), dtype=float32)\n",
      "tf.Tensor(0.15921028, shape=(), dtype=float32)\n",
      "tf.Tensor(0.02525756, shape=(), dtype=float32)\n",
      "tf.Tensor(0.93379647, shape=(), dtype=float32)\n",
      "tf.Tensor(0.2829966, shape=(), dtype=float32)\n",
      "tf.Tensor(0.2746926, shape=(), dtype=float32)\n",
      "tf.Tensor(0.04850414, shape=(), dtype=float32)\n",
      "tf.Tensor(0.4684451, shape=(), dtype=float32)\n",
      "tf.Tensor(-0.19013385, shape=(), dtype=float32)\n",
      "tf.Tensor(0.15204029, shape=(), dtype=float32)\n",
      "tf.Tensor(-0.3807833, shape=(), dtype=float32)\n",
      "tf.Tensor(0.6609251, shape=(), dtype=float32)\n",
      "tf.Tensor(-0.32224452, shape=(), dtype=float32)\n",
      "tf.Tensor(-0.23830181, shape=(), dtype=float32)\n",
      "tf.Tensor(-0.18997866, shape=(), dtype=float32)\n",
      "tf.Tensor(-0.8088478, shape=(), dtype=float32)\n",
      "tf.Tensor(0.132164, shape=(), dtype=float32)\n",
      "tf.Tensor(0.33056918, shape=(), dtype=float32)\n",
      "tf.Tensor(-0.33673903, shape=(), dtype=float32)\n",
      "tf.Tensor(0.36266983, shape=(), dtype=float32)\n",
      "tf.Tensor(-0.6963307, shape=(), dtype=float32)\n",
      "tf.Tensor(-0.23876096, shape=(), dtype=float32)\n",
      "tf.Tensor(0.31189242, shape=(), dtype=float32)\n",
      "tf.Tensor(-0.38902667, shape=(), dtype=float32)\n",
      "tf.Tensor(0.7600027, shape=(), dtype=float32)\n",
      "tf.Tensor(-0.22253664, shape=(), dtype=float32)\n",
      "tf.Tensor(-0.15680987, shape=(), dtype=float32)\n",
      "tf.Tensor(-0.273692, shape=(), dtype=float32)\n",
      "tf.Tensor(-0.1200136, shape=(), dtype=float32)\n",
      "tf.Tensor(0.22003976, shape=(), dtype=float32)\n",
      "tf.Tensor(-0.3030965, shape=(), dtype=float32)\n",
      "tf.Tensor(-0.34086773, shape=(), dtype=float32)\n",
      "tf.Tensor(0.7802876, shape=(), dtype=float32)\n",
      "tf.Tensor(0.18822345, shape=(), dtype=float32)\n",
      "tf.Tensor(-0.11871268, shape=(), dtype=float32)\n",
      "tf.Tensor(-0.55121964, shape=(), dtype=float32)\n",
      "tf.Tensor(-0.2647096, shape=(), dtype=float32)\n",
      "tf.Tensor(0.12404731, shape=(), dtype=float32)\n",
      "tf.Tensor(-0.35901412, shape=(), dtype=float32)\n",
      "tf.Tensor(0.3255403, shape=(), dtype=float32)\n",
      "tf.Tensor(-0.21074879, shape=(), dtype=float32)\n",
      "tf.Tensor(0.04770257, shape=(), dtype=float32)\n",
      "tf.Tensor(-0.20275074, shape=(), dtype=float32)\n",
      "tf.Tensor(0.8290455, shape=(), dtype=float32)\n",
      "tf.Tensor(-0.27848077, shape=(), dtype=float32)\n",
      "tf.Tensor(0.045697264, shape=(), dtype=float32)\n",
      "tf.Tensor(-0.47400633, shape=(), dtype=float32)\n",
      "tf.Tensor(-0.3012457, shape=(), dtype=float32)\n",
      "tf.Tensor(-0.7961326, shape=(), dtype=float32)\n",
      "tf.Tensor(-0.38969535, shape=(), dtype=float32)\n",
      "tf.Tensor(-0.5586834, shape=(), dtype=float32)\n",
      "tf.Tensor(-0.36641416, shape=(), dtype=float32)\n",
      "tf.Tensor(0.39058104, shape=(), dtype=float32)\n",
      "tf.Tensor(-0.1525276, shape=(), dtype=float32)\n",
      "tf.Tensor(-0.036957745, shape=(), dtype=float32)\n",
      "tf.Tensor(-0.3161764, shape=(), dtype=float32)\n",
      "tf.Tensor(0.31066358, shape=(), dtype=float32)\n",
      "tf.Tensor(0.21220586, shape=(), dtype=float32)\n",
      "tf.Tensor(-0.2084897, shape=(), dtype=float32)\n",
      "tf.Tensor(0.50961983, shape=(), dtype=float32)\n",
      "tf.Tensor(-0.18955252, shape=(), dtype=float32)\n",
      "tf.Tensor(0.5273702, shape=(), dtype=float32)\n",
      "tf.Tensor(0.009344109, shape=(), dtype=float32)\n",
      "tf.Tensor(0.7182053, shape=(), dtype=float32)\n",
      "tf.Tensor(-0.59998274, shape=(), dtype=float32)\n",
      "tf.Tensor(0.16654332, shape=(), dtype=float32)\n",
      "tf.Tensor(0.43981293, shape=(), dtype=float32)\n",
      "tf.Tensor(0.46843123, shape=(), dtype=float32)\n",
      "tf.Tensor(-0.9934827, shape=(), dtype=float32)\n",
      "tf.Tensor(-0.31583136, shape=(), dtype=float32)\n",
      "tf.Tensor(-0.84918076, shape=(), dtype=float32)\n",
      "tf.Tensor(-0.01967538, shape=(), dtype=float32)\n",
      "tf.Tensor(0.029572062, shape=(), dtype=float32)\n",
      "tf.Tensor(-0.8346107, shape=(), dtype=float32)\n",
      "tf.Tensor(-0.417834, shape=(), dtype=float32)\n",
      "tf.Tensor(0.18236999, shape=(), dtype=float32)\n",
      "tf.Tensor(-0.2666132, shape=(), dtype=float32)\n",
      "tf.Tensor(-0.36355805, shape=(), dtype=float32)\n",
      "tf.Tensor(0.44953772, shape=(), dtype=float32)\n",
      "tf.Tensor(0.4778834, shape=(), dtype=float32)\n",
      "tf.Tensor(0.1300247, shape=(), dtype=float32)\n",
      "tf.Tensor(0.35611066, shape=(), dtype=float32)\n",
      "tf.Tensor(0.56266385, shape=(), dtype=float32)\n",
      "tf.Tensor(-0.849291, shape=(), dtype=float32)\n",
      "tf.Tensor(0.7618918, shape=(), dtype=float32)\n",
      "tf.Tensor(0.16556714, shape=(), dtype=float32)\n",
      "tf.Tensor(0.2554933, shape=(), dtype=float32)\n",
      "tf.Tensor(-0.3561762, shape=(), dtype=float32)\n",
      "tf.Tensor(-0.12591843, shape=(), dtype=float32)\n",
      "tf.Tensor(0.49862617, shape=(), dtype=float32)\n",
      "tf.Tensor(0.16866075, shape=(), dtype=float32)\n",
      "tf.Tensor(-0.40819287, shape=(), dtype=float32)\n",
      "tf.Tensor(0.39151785, shape=(), dtype=float32)\n",
      "tf.Tensor(-0.11369575, shape=(), dtype=float32)\n",
      "tf.Tensor(0.3939631, shape=(), dtype=float32)\n",
      "tf.Tensor(0.054583505, shape=(), dtype=float32)\n",
      "tf.Tensor(0.32799596, shape=(), dtype=float32)\n",
      "tf.Tensor(0.8817594, shape=(), dtype=float32)\n",
      "tf.Tensor(-0.5277336, shape=(), dtype=float32)\n",
      "tf.Tensor(0.15103292, shape=(), dtype=float32)\n",
      "tf.Tensor(-0.1887378, shape=(), dtype=float32)\n",
      "tf.Tensor(0.05278683, shape=(), dtype=float32)\n",
      "tf.Tensor(-0.10699731, shape=(), dtype=float32)\n",
      "tf.Tensor(0.35311598, shape=(), dtype=float32)\n",
      "tf.Tensor(0.2847514, shape=(), dtype=float32)\n",
      "tf.Tensor(0.035978712, shape=(), dtype=float32)\n",
      "tf.Tensor(0.54595566, shape=(), dtype=float32)\n",
      "tf.Tensor(0.5165354, shape=(), dtype=float32)\n",
      "tf.Tensor(0.8006739, shape=(), dtype=float32)\n",
      "tf.Tensor(0.06988105, shape=(), dtype=float32)\n",
      "tf.Tensor(0.083080456, shape=(), dtype=float32)\n",
      "tf.Tensor(0.17398289, shape=(), dtype=float32)\n",
      "tf.Tensor(-0.3049541, shape=(), dtype=float32)\n",
      "tf.Tensor(0.069794625, shape=(), dtype=float32)\n",
      "tf.Tensor(0.81445545, shape=(), dtype=float32)\n",
      "tf.Tensor(0.16764782, shape=(), dtype=float32)\n",
      "tf.Tensor(-0.1209958, shape=(), dtype=float32)\n",
      "tf.Tensor(-0.4278879, shape=(), dtype=float32)\n",
      "tf.Tensor(-0.32606468, shape=(), dtype=float32)\n",
      "tf.Tensor(0.8970798, shape=(), dtype=float32)\n",
      "tf.Tensor(0.8145034, shape=(), dtype=float32)\n",
      "tf.Tensor(0.30890095, shape=(), dtype=float32)\n",
      "tf.Tensor(0.936168, shape=(), dtype=float32)\n",
      "tf.Tensor(0.05983082, shape=(), dtype=float32)\n",
      "tf.Tensor(-0.20629823, shape=(), dtype=float32)\n",
      "tf.Tensor(0.06439677, shape=(), dtype=float32)\n",
      "tf.Tensor(-0.40949914, shape=(), dtype=float32)\n",
      "tf.Tensor(0.3422213, shape=(), dtype=float32)\n",
      "tf.Tensor(-0.62647164, shape=(), dtype=float32)\n",
      "tf.Tensor(-0.09462423, shape=(), dtype=float32)\n",
      "tf.Tensor(0.21340756, shape=(), dtype=float32)\n",
      "tf.Tensor(-0.6200025, shape=(), dtype=float32)\n",
      "tf.Tensor(0.15624967, shape=(), dtype=float32)\n",
      "tf.Tensor(0.16041997, shape=(), dtype=float32)\n",
      "tf.Tensor(0.19951577, shape=(), dtype=float32)\n",
      "tf.Tensor(0.11723219, shape=(), dtype=float32)\n",
      "tf.Tensor(-0.43471566, shape=(), dtype=float32)\n",
      "tf.Tensor(-0.22106057, shape=(), dtype=float32)\n",
      "tf.Tensor(-0.4464829, shape=(), dtype=float32)\n",
      "tf.Tensor(-0.039858848, shape=(), dtype=float32)\n",
      "tf.Tensor(0.47196707, shape=(), dtype=float32)\n",
      "tf.Tensor(0.045136888, shape=(), dtype=float32)\n",
      "tf.Tensor(0.07597454, shape=(), dtype=float32)\n",
      "tf.Tensor(-0.6246195, shape=(), dtype=float32)\n",
      "tf.Tensor(0.46929327, shape=(), dtype=float32)\n",
      "tf.Tensor(0.16957389, shape=(), dtype=float32)\n",
      "tf.Tensor(0.21257044, shape=(), dtype=float32)\n",
      "tf.Tensor(0.089682095, shape=(), dtype=float32)\n",
      "tf.Tensor(-0.46108124, shape=(), dtype=float32)\n",
      "tf.Tensor(-0.18911983, shape=(), dtype=float32)\n",
      "tf.Tensor(0.114711314, shape=(), dtype=float32)\n",
      "tf.Tensor(0.67276776, shape=(), dtype=float32)\n",
      "tf.Tensor(-0.55593276, shape=(), dtype=float32)\n",
      "tf.Tensor(-0.39939547, shape=(), dtype=float32)\n",
      "tf.Tensor(-0.37235823, shape=(), dtype=float32)\n",
      "tf.Tensor(0.3705624, shape=(), dtype=float32)\n",
      "tf.Tensor(0.15808526, shape=(), dtype=float32)\n",
      "tf.Tensor(-0.5406772, shape=(), dtype=float32)\n",
      "tf.Tensor(0.027242614, shape=(), dtype=float32)\n",
      "tf.Tensor(-0.9294367, shape=(), dtype=float32)\n",
      "tf.Tensor(-0.02999126, shape=(), dtype=float32)\n",
      "tf.Tensor(0.54207426, shape=(), dtype=float32)\n",
      "tf.Tensor(0.08077917, shape=(), dtype=float32)\n",
      "tf.Tensor(-0.60196495, shape=(), dtype=float32)\n",
      "tf.Tensor(-0.6299107, shape=(), dtype=float32)\n",
      "tf.Tensor(-0.2267015, shape=(), dtype=float32)\n",
      "tf.Tensor(-0.37266535, shape=(), dtype=float32)\n",
      "tf.Tensor(-0.4354317, shape=(), dtype=float32)\n",
      "tf.Tensor(-0.071158856, shape=(), dtype=float32)\n",
      "tf.Tensor(0.31559843, shape=(), dtype=float32)\n",
      "tf.Tensor(-0.39548796, shape=(), dtype=float32)\n",
      "tf.Tensor(-0.9319671, shape=(), dtype=float32)\n",
      "tf.Tensor(-0.51474243, shape=(), dtype=float32)\n",
      "tf.Tensor(0.6261993, shape=(), dtype=float32)\n",
      "tf.Tensor(0.847209, shape=(), dtype=float32)\n",
      "tf.Tensor(-0.119679354, shape=(), dtype=float32)\n",
      "tf.Tensor(-0.039948307, shape=(), dtype=float32)\n",
      "tf.Tensor(0.32853946, shape=(), dtype=float32)\n",
      "tf.Tensor(-0.6141449, shape=(), dtype=float32)\n",
      "tf.Tensor(-0.52465725, shape=(), dtype=float32)\n",
      "tf.Tensor(0.25954655, shape=(), dtype=float32)\n",
      "tf.Tensor(0.43471792, shape=(), dtype=float32)\n",
      "tf.Tensor(0.15683094, shape=(), dtype=float32)\n",
      "tf.Tensor(0.15428549, shape=(), dtype=float32)\n",
      "tf.Tensor(0.21376072, shape=(), dtype=float32)\n",
      "tf.Tensor(-0.124936156, shape=(), dtype=float32)\n",
      "tf.Tensor(0.12480763, shape=(), dtype=float32)\n",
      "tf.Tensor(0.34010532, shape=(), dtype=float32)\n",
      "tf.Tensor(0.6276338, shape=(), dtype=float32)\n",
      "tf.Tensor(-0.025511935, shape=(), dtype=float32)\n",
      "tf.Tensor(-0.10911888, shape=(), dtype=float32)\n",
      "tf.Tensor(0.21327604, shape=(), dtype=float32)\n",
      "tf.Tensor(0.50591034, shape=(), dtype=float32)\n",
      "tf.Tensor(-0.1710205, shape=(), dtype=float32)\n",
      "tf.Tensor(-0.030109989, shape=(), dtype=float32)\n",
      "tf.Tensor(0.7436813, shape=(), dtype=float32)\n",
      "tf.Tensor(0.46794116, shape=(), dtype=float32)\n",
      "tf.Tensor(0.10776072, shape=(), dtype=float32)\n",
      "tf.Tensor(-0.6402355, shape=(), dtype=float32)\n",
      "tf.Tensor(0.051203914, shape=(), dtype=float32)\n",
      "tf.Tensor(0.8227226, shape=(), dtype=float32)\n",
      "tf.Tensor(-0.57659274, shape=(), dtype=float32)\n",
      "tf.Tensor(-0.819333, shape=(), dtype=float32)\n",
      "tf.Tensor(0.08601298, shape=(), dtype=float32)\n",
      "tf.Tensor(0.02588406, shape=(), dtype=float32)\n",
      "tf.Tensor(-0.3919915, shape=(), dtype=float32)\n",
      "tf.Tensor(-0.5262594, shape=(), dtype=float32)\n",
      "tf.Tensor(0.90713406, shape=(), dtype=float32)\n",
      "tf.Tensor(-0.5461807, shape=(), dtype=float32)\n",
      "tf.Tensor(0.39314565, shape=(), dtype=float32)\n",
      "tf.Tensor(-0.44189054, shape=(), dtype=float32)\n",
      "tf.Tensor(-0.2985175, shape=(), dtype=float32)\n",
      "tf.Tensor(0.4264457, shape=(), dtype=float32)\n",
      "tf.Tensor(-0.3850118, shape=(), dtype=float32)\n",
      "tf.Tensor(-0.47386214, shape=(), dtype=float32)\n",
      "tf.Tensor(-0.33143315, shape=(), dtype=float32)\n",
      "tf.Tensor(0.36433768, shape=(), dtype=float32)\n",
      "tf.Tensor(-0.20037073, shape=(), dtype=float32)\n",
      "tf.Tensor(0.58920246, shape=(), dtype=float32)\n",
      "tf.Tensor(0.2945033, shape=(), dtype=float32)\n",
      "tf.Tensor(-0.2090962, shape=(), dtype=float32)\n",
      "tf.Tensor(0.11609872, shape=(), dtype=float32)\n",
      "tf.Tensor(0.71436024, shape=(), dtype=float32)\n",
      "tf.Tensor(0.63934696, shape=(), dtype=float32)\n",
      "tf.Tensor(-0.47242177, shape=(), dtype=float32)\n",
      "tf.Tensor(0.23390932, shape=(), dtype=float32)\n",
      "tf.Tensor(0.018286372, shape=(), dtype=float32)\n",
      "tf.Tensor(-0.28110424, shape=(), dtype=float32)\n",
      "tf.Tensor(-0.09148209, shape=(), dtype=float32)\n",
      "tf.Tensor(-0.48449963, shape=(), dtype=float32)\n",
      "tf.Tensor(0.27700943, shape=(), dtype=float32)\n",
      "tf.Tensor(0.28823763, shape=(), dtype=float32)\n",
      "tf.Tensor(0.77035016, shape=(), dtype=float32)\n",
      "tf.Tensor(-0.76131445, shape=(), dtype=float32)\n",
      "tf.Tensor(0.26676807, shape=(), dtype=float32)\n",
      "tf.Tensor(0.29671094, shape=(), dtype=float32)\n",
      "tf.Tensor(0.27490506, shape=(), dtype=float32)\n",
      "tf.Tensor(-0.15761235, shape=(), dtype=float32)\n",
      "tf.Tensor(0.15522888, shape=(), dtype=float32)\n",
      "tf.Tensor(-0.95566326, shape=(), dtype=float32)\n",
      "tf.Tensor(0.09129746, shape=(), dtype=float32)\n",
      "tf.Tensor(0.12267985, shape=(), dtype=float32)\n",
      "tf.Tensor(-0.26950055, shape=(), dtype=float32)\n",
      "tf.Tensor(-0.47447953, shape=(), dtype=float32)\n",
      "tf.Tensor(-0.10062935, shape=(), dtype=float32)\n",
      "tf.Tensor(-0.40943843, shape=(), dtype=float32)\n",
      "tf.Tensor(0.22868206, shape=(), dtype=float32)\n",
      "tf.Tensor(-0.057733975, shape=(), dtype=float32)\n",
      "tf.Tensor(0.48146006, shape=(), dtype=float32)\n",
      "tf.Tensor(0.23856767, shape=(), dtype=float32)\n",
      "tf.Tensor(0.041063383, shape=(), dtype=float32)\n",
      "tf.Tensor(0.68835133, shape=(), dtype=float32)\n",
      "tf.Tensor(-0.5059392, shape=(), dtype=float32)\n",
      "tf.Tensor(0.042812034, shape=(), dtype=float32)\n",
      "tf.Tensor(-0.1617661, shape=(), dtype=float32)\n",
      "tf.Tensor(0.09307322, shape=(), dtype=float32)\n",
      "tf.Tensor(-0.12334356, shape=(), dtype=float32)\n",
      "tf.Tensor(-0.98677766, shape=(), dtype=float32)\n",
      "tf.Tensor(0.043084078, shape=(), dtype=float32)\n",
      "tf.Tensor(0.50841653, shape=(), dtype=float32)\n",
      "tf.Tensor(0.26553106, shape=(), dtype=float32)\n",
      "tf.Tensor(0.2230886, shape=(), dtype=float32)\n",
      "tf.Tensor(-0.051561683, shape=(), dtype=float32)\n",
      "tf.Tensor(-0.01463248, shape=(), dtype=float32)\n",
      "tf.Tensor(0.5452471, shape=(), dtype=float32)\n",
      "tf.Tensor(0.18614613, shape=(), dtype=float32)\n",
      "tf.Tensor(0.66285646, shape=(), dtype=float32)\n",
      "tf.Tensor(-0.4272751, shape=(), dtype=float32)\n",
      "tf.Tensor(-0.4966642, shape=(), dtype=float32)\n",
      "tf.Tensor(0.32258368, shape=(), dtype=float32)\n",
      "tf.Tensor(0.660221, shape=(), dtype=float32)\n",
      "tf.Tensor(-0.008666361, shape=(), dtype=float32)\n",
      "tf.Tensor(0.5949906, shape=(), dtype=float32)\n",
      "tf.Tensor(0.24405952, shape=(), dtype=float32)\n",
      "tf.Tensor(-0.77919656, shape=(), dtype=float32)\n",
      "tf.Tensor(0.30441687, shape=(), dtype=float32)\n",
      "tf.Tensor(0.27443752, shape=(), dtype=float32)\n",
      "tf.Tensor(-0.19586168, shape=(), dtype=float32)\n",
      "tf.Tensor(0.36005068, shape=(), dtype=float32)\n",
      "tf.Tensor(0.09596089, shape=(), dtype=float32)\n",
      "tf.Tensor(0.5749061, shape=(), dtype=float32)\n",
      "tf.Tensor(-0.7961101, shape=(), dtype=float32)\n",
      "tf.Tensor(-0.43640837, shape=(), dtype=float32)\n",
      "tf.Tensor(0.087067336, shape=(), dtype=float32)\n",
      "tf.Tensor(0.38013294, shape=(), dtype=float32)\n",
      "tf.Tensor(0.47767127, shape=(), dtype=float32)\n",
      "tf.Tensor(-0.07719203, shape=(), dtype=float32)\n",
      "tf.Tensor(-0.13739021, shape=(), dtype=float32)\n",
      "tf.Tensor(0.404835, shape=(), dtype=float32)\n",
      "tf.Tensor(-0.21148643, shape=(), dtype=float32)\n",
      "tf.Tensor(-0.38294545, shape=(), dtype=float32)\n",
      "tf.Tensor(0.21920055, shape=(), dtype=float32)\n",
      "tf.Tensor(0.5902461, shape=(), dtype=float32)\n",
      "tf.Tensor(-0.28348744, shape=(), dtype=float32)\n",
      "tf.Tensor(0.7134293, shape=(), dtype=float32)\n",
      "tf.Tensor(0.6830379, shape=(), dtype=float32)\n",
      "tf.Tensor(0.5627087, shape=(), dtype=float32)\n",
      "tf.Tensor(-0.40764874, shape=(), dtype=float32)\n",
      "tf.Tensor(-0.53795373, shape=(), dtype=float32)\n",
      "tf.Tensor(0.64418364, shape=(), dtype=float32)\n",
      "tf.Tensor(0.07486564, shape=(), dtype=float32)\n",
      "tf.Tensor(-0.49475178, shape=(), dtype=float32)\n",
      "tf.Tensor(-0.4121612, shape=(), dtype=float32)\n",
      "tf.Tensor(0.18650085, shape=(), dtype=float32)\n",
      "tf.Tensor(-0.6130688, shape=(), dtype=float32)\n",
      "tf.Tensor(-0.062649615, shape=(), dtype=float32)\n",
      "tf.Tensor(0.021536872, shape=(), dtype=float32)\n",
      "tf.Tensor(-0.39048082, shape=(), dtype=float32)\n",
      "tf.Tensor(-0.09857084, shape=(), dtype=float32)\n",
      "tf.Tensor(0.40064538, shape=(), dtype=float32)\n",
      "tf.Tensor(0.675184, shape=(), dtype=float32)\n",
      "tf.Tensor(-0.18551621, shape=(), dtype=float32)\n",
      "tf.Tensor(0.29404718, shape=(), dtype=float32)\n",
      "tf.Tensor(0.6012312, shape=(), dtype=float32)\n",
      "tf.Tensor(-0.1430878, shape=(), dtype=float32)\n",
      "tf.Tensor(-0.11320908, shape=(), dtype=float32)\n",
      "tf.Tensor(0.19899778, shape=(), dtype=float32)\n",
      "tf.Tensor(0.78330743, shape=(), dtype=float32)\n",
      "tf.Tensor(0.72351635, shape=(), dtype=float32)\n",
      "tf.Tensor(-0.67971087, shape=(), dtype=float32)\n",
      "tf.Tensor(-0.008467339, shape=(), dtype=float32)\n",
      "tf.Tensor(0.6265285, shape=(), dtype=float32)\n",
      "tf.Tensor(0.33508316, shape=(), dtype=float32)\n",
      "tf.Tensor(0.47963873, shape=(), dtype=float32)\n",
      "tf.Tensor(-0.136729, shape=(), dtype=float32)\n",
      "tf.Tensor(-0.7076498, shape=(), dtype=float32)\n",
      "tf.Tensor(0.11833432, shape=(), dtype=float32)\n",
      "tf.Tensor(0.33763584, shape=(), dtype=float32)\n",
      "tf.Tensor(-0.109296806, shape=(), dtype=float32)\n",
      "tf.Tensor(-0.39650625, shape=(), dtype=float32)\n",
      "tf.Tensor(0.7604743, shape=(), dtype=float32)\n",
      "tf.Tensor(-0.21861428, shape=(), dtype=float32)\n",
      "tf.Tensor(0.52492905, shape=(), dtype=float32)\n",
      "tf.Tensor(0.68720806, shape=(), dtype=float32)\n",
      "tf.Tensor(-0.37169078, shape=(), dtype=float32)\n",
      "tf.Tensor(0.74379724, shape=(), dtype=float32)\n",
      "tf.Tensor(0.16385351, shape=(), dtype=float32)\n",
      "tf.Tensor(0.14413926, shape=(), dtype=float32)\n",
      "tf.Tensor(-0.026724486, shape=(), dtype=float32)\n",
      "tf.Tensor(-0.3560142, shape=(), dtype=float32)\n",
      "tf.Tensor(-0.42719916, shape=(), dtype=float32)\n",
      "tf.Tensor(0.30273792, shape=(), dtype=float32)\n",
      "tf.Tensor(0.39475515, shape=(), dtype=float32)\n",
      "tf.Tensor(0.025389545, shape=(), dtype=float32)\n",
      "tf.Tensor(0.081646375, shape=(), dtype=float32)\n",
      "tf.Tensor(-0.34171927, shape=(), dtype=float32)\n",
      "tf.Tensor(-0.6070045, shape=(), dtype=float32)\n",
      "tf.Tensor(-0.35768813, shape=(), dtype=float32)\n",
      "tf.Tensor(0.34397694, shape=(), dtype=float32)\n",
      "tf.Tensor(-0.23116267, shape=(), dtype=float32)\n",
      "tf.Tensor(-0.04066662, shape=(), dtype=float32)\n",
      "tf.Tensor(0.14803407, shape=(), dtype=float32)\n",
      "tf.Tensor(-0.42959672, shape=(), dtype=float32)\n",
      "tf.Tensor(-0.67259264, shape=(), dtype=float32)\n",
      "tf.Tensor(-0.068196066, shape=(), dtype=float32)\n",
      "tf.Tensor(0.9020989, shape=(), dtype=float32)\n",
      "tf.Tensor(0.13378666, shape=(), dtype=float32)\n",
      "tf.Tensor(0.2075855, shape=(), dtype=float32)\n",
      "tf.Tensor(-0.87055033, shape=(), dtype=float32)\n",
      "tf.Tensor(0.13374856, shape=(), dtype=float32)\n",
      "tf.Tensor(-0.24191022, shape=(), dtype=float32)\n",
      "tf.Tensor(-0.0064964397, shape=(), dtype=float32)\n",
      "tf.Tensor(0.50454885, shape=(), dtype=float32)\n",
      "tf.Tensor(0.011951479, shape=(), dtype=float32)\n",
      "tf.Tensor(0.0012227275, shape=(), dtype=float32)\n",
      "tf.Tensor(-0.3117677, shape=(), dtype=float32)\n",
      "tf.Tensor(-0.5609299, shape=(), dtype=float32)\n",
      "tf.Tensor(0.74159276, shape=(), dtype=float32)\n",
      "tf.Tensor(0.66107196, shape=(), dtype=float32)\n",
      "tf.Tensor(0.5537461, shape=(), dtype=float32)\n",
      "tf.Tensor(0.13985929, shape=(), dtype=float32)\n",
      "tf.Tensor(0.17088495, shape=(), dtype=float32)\n",
      "tf.Tensor(0.39209753, shape=(), dtype=float32)\n",
      "tf.Tensor(-0.12709111, shape=(), dtype=float32)\n",
      "tf.Tensor(-0.4025406, shape=(), dtype=float32)\n",
      "tf.Tensor(0.31526515, shape=(), dtype=float32)\n",
      "tf.Tensor(0.78455746, shape=(), dtype=float32)\n",
      "tf.Tensor(0.005255394, shape=(), dtype=float32)\n",
      "tf.Tensor(0.037849303, shape=(), dtype=float32)\n",
      "tf.Tensor(-0.0063185305, shape=(), dtype=float32)\n",
      "tf.Tensor(0.43275687, shape=(), dtype=float32)\n",
      "tf.Tensor(0.1851081, shape=(), dtype=float32)\n",
      "tf.Tensor(-0.09791365, shape=(), dtype=float32)\n",
      "tf.Tensor(0.64446455, shape=(), dtype=float32)\n",
      "tf.Tensor(0.21883197, shape=(), dtype=float32)\n",
      "tf.Tensor(-0.23041525, shape=(), dtype=float32)\n",
      "tf.Tensor(0.67350435, shape=(), dtype=float32)\n",
      "tf.Tensor(-0.21964976, shape=(), dtype=float32)\n",
      "tf.Tensor(0.6432248, shape=(), dtype=float32)\n",
      "tf.Tensor(-0.25449383, shape=(), dtype=float32)\n",
      "tf.Tensor(-0.33472094, shape=(), dtype=float32)\n",
      "tf.Tensor(0.19049408, shape=(), dtype=float32)\n",
      "tf.Tensor(-0.122988634, shape=(), dtype=float32)\n",
      "tf.Tensor(0.32063338, shape=(), dtype=float32)\n",
      "tf.Tensor(-0.17236686, shape=(), dtype=float32)\n",
      "tf.Tensor(0.9435982, shape=(), dtype=float32)\n",
      "tf.Tensor(0.07366691, shape=(), dtype=float32)\n",
      "tf.Tensor(-0.8563816, shape=(), dtype=float32)\n",
      "tf.Tensor(0.14640947, shape=(), dtype=float32)\n",
      "tf.Tensor(-0.3796459, shape=(), dtype=float32)\n",
      "tf.Tensor(0.7256616, shape=(), dtype=float32)\n",
      "tf.Tensor(-0.27929118, shape=(), dtype=float32)\n",
      "tf.Tensor(0.6916611, shape=(), dtype=float32)\n",
      "tf.Tensor(0.15806115, shape=(), dtype=float32)\n",
      "tf.Tensor(0.7674317, shape=(), dtype=float32)\n",
      "tf.Tensor(0.34905633, shape=(), dtype=float32)\n",
      "tf.Tensor(-0.7555035, shape=(), dtype=float32)\n",
      "tf.Tensor(-0.45335162, shape=(), dtype=float32)\n",
      "tf.Tensor(0.37432414, shape=(), dtype=float32)\n",
      "tf.Tensor(-0.5246236, shape=(), dtype=float32)\n",
      "tf.Tensor(0.15490936, shape=(), dtype=float32)\n",
      "tf.Tensor(0.22179598, shape=(), dtype=float32)\n",
      "tf.Tensor(-0.3189931, shape=(), dtype=float32)\n",
      "tf.Tensor(-0.10233186, shape=(), dtype=float32)\n",
      "tf.Tensor(-0.4905732, shape=(), dtype=float32)\n",
      "tf.Tensor(0.88328177, shape=(), dtype=float32)\n",
      "tf.Tensor(0.5140456, shape=(), dtype=float32)\n",
      "tf.Tensor(0.22387344, shape=(), dtype=float32)\n",
      "tf.Tensor(0.3256587, shape=(), dtype=float32)\n",
      "tf.Tensor(0.106872596, shape=(), dtype=float32)\n",
      "tf.Tensor(0.44316277, shape=(), dtype=float32)\n",
      "tf.Tensor(0.29852775, shape=(), dtype=float32)\n",
      "tf.Tensor(0.6076425, shape=(), dtype=float32)\n",
      "tf.Tensor(-0.22746338, shape=(), dtype=float32)\n",
      "tf.Tensor(-0.39895144, shape=(), dtype=float32)\n",
      "tf.Tensor(0.32007283, shape=(), dtype=float32)\n",
      "tf.Tensor(0.22841632, shape=(), dtype=float32)\n",
      "tf.Tensor(0.14074953, shape=(), dtype=float32)\n",
      "tf.Tensor(0.22743496, shape=(), dtype=float32)\n",
      "tf.Tensor(0.5258354, shape=(), dtype=float32)\n",
      "tf.Tensor(0.6620824, shape=(), dtype=float32)\n",
      "tf.Tensor(-0.016007194, shape=(), dtype=float32)\n",
      "tf.Tensor(-0.3642059, shape=(), dtype=float32)\n",
      "tf.Tensor(0.14982389, shape=(), dtype=float32)\n",
      "tf.Tensor(0.019008627, shape=(), dtype=float32)\n",
      "tf.Tensor(0.21617012, shape=(), dtype=float32)\n",
      "tf.Tensor(-0.63261443, shape=(), dtype=float32)\n",
      "tf.Tensor(0.89462465, shape=(), dtype=float32)\n",
      "tf.Tensor(-0.54065526, shape=(), dtype=float32)\n",
      "tf.Tensor(0.3677124, shape=(), dtype=float32)\n",
      "tf.Tensor(0.60011697, shape=(), dtype=float32)\n",
      "tf.Tensor(0.29088432, shape=(), dtype=float32)\n",
      "tf.Tensor(0.69751453, shape=(), dtype=float32)\n",
      "tf.Tensor(-0.484949, shape=(), dtype=float32)\n",
      "tf.Tensor(0.66434824, shape=(), dtype=float32)\n",
      "tf.Tensor(-0.700456, shape=(), dtype=float32)\n",
      "tf.Tensor(-0.85402185, shape=(), dtype=float32)\n",
      "tf.Tensor(0.630903, shape=(), dtype=float32)\n",
      "tf.Tensor(0.48043028, shape=(), dtype=float32)\n",
      "tf.Tensor(0.036504798, shape=(), dtype=float32)\n",
      "tf.Tensor(-0.22487776, shape=(), dtype=float32)\n",
      "tf.Tensor(-0.45336258, shape=(), dtype=float32)\n",
      "tf.Tensor(-0.28043574, shape=(), dtype=float32)\n",
      "tf.Tensor(-0.8001485, shape=(), dtype=float32)\n",
      "tf.Tensor(-0.49971706, shape=(), dtype=float32)\n",
      "tf.Tensor(-0.022208098, shape=(), dtype=float32)\n",
      "tf.Tensor(0.61688054, shape=(), dtype=float32)\n",
      "tf.Tensor(-0.07806475, shape=(), dtype=float32)\n",
      "tf.Tensor(-0.2785406, shape=(), dtype=float32)\n",
      "tf.Tensor(-0.64271283, shape=(), dtype=float32)\n",
      "tf.Tensor(-0.6558139, shape=(), dtype=float32)\n",
      "tf.Tensor(-0.498226, shape=(), dtype=float32)\n",
      "tf.Tensor(-0.38659632, shape=(), dtype=float32)\n",
      "tf.Tensor(0.23118816, shape=(), dtype=float32)\n",
      "tf.Tensor(0.7025342, shape=(), dtype=float32)\n",
      "tf.Tensor(-0.24884622, shape=(), dtype=float32)\n",
      "tf.Tensor(-0.711481, shape=(), dtype=float32)\n",
      "tf.Tensor(-0.10313689, shape=(), dtype=float32)\n",
      "tf.Tensor(-0.6401904, shape=(), dtype=float32)\n",
      "tf.Tensor(-0.38931933, shape=(), dtype=float32)\n",
      "tf.Tensor(-0.0678597, shape=(), dtype=float32)\n",
      "tf.Tensor(-0.24108487, shape=(), dtype=float32)\n",
      "tf.Tensor(-0.24798575, shape=(), dtype=float32)\n",
      "tf.Tensor(-0.12361226, shape=(), dtype=float32)\n",
      "tf.Tensor(-0.4179084, shape=(), dtype=float32)\n",
      "tf.Tensor(0.24135147, shape=(), dtype=float32)\n",
      "tf.Tensor(-0.584996, shape=(), dtype=float32)\n",
      "tf.Tensor(-0.47359058, shape=(), dtype=float32)\n",
      "tf.Tensor(0.40343136, shape=(), dtype=float32)\n",
      "tf.Tensor(-0.9101823, shape=(), dtype=float32)\n",
      "tf.Tensor(0.68927616, shape=(), dtype=float32)\n",
      "tf.Tensor(-0.37732303, shape=(), dtype=float32)\n",
      "tf.Tensor(-0.055696454, shape=(), dtype=float32)\n",
      "tf.Tensor(-0.33045325, shape=(), dtype=float32)\n",
      "tf.Tensor(0.2504889, shape=(), dtype=float32)\n",
      "tf.Tensor(0.63566864, shape=(), dtype=float32)\n",
      "tf.Tensor(-0.30082518, shape=(), dtype=float32)\n",
      "tf.Tensor(-0.48787442, shape=(), dtype=float32)\n",
      "tf.Tensor(0.0091776205, shape=(), dtype=float32)\n",
      "tf.Tensor(0.6434253, shape=(), dtype=float32)\n",
      "tf.Tensor(-0.2586518, shape=(), dtype=float32)\n",
      "tf.Tensor(-0.21032037, shape=(), dtype=float32)\n",
      "tf.Tensor(0.46501544, shape=(), dtype=float32)\n",
      "tf.Tensor(-0.58744425, shape=(), dtype=float32)\n",
      "tf.Tensor(-0.2167817, shape=(), dtype=float32)\n",
      "tf.Tensor(0.23214929, shape=(), dtype=float32)\n",
      "tf.Tensor(-0.56086713, shape=(), dtype=float32)\n",
      "tf.Tensor(0.27808616, shape=(), dtype=float32)\n",
      "tf.Tensor(-0.08062917, shape=(), dtype=float32)\n",
      "tf.Tensor(0.037351795, shape=(), dtype=float32)\n",
      "tf.Tensor(-0.15687835, shape=(), dtype=float32)\n",
      "tf.Tensor(0.5778764, shape=(), dtype=float32)\n",
      "tf.Tensor(0.12996005, shape=(), dtype=float32)\n",
      "tf.Tensor(-0.63218963, shape=(), dtype=float32)\n",
      "tf.Tensor(0.47051457, shape=(), dtype=float32)\n",
      "tf.Tensor(0.28361508, shape=(), dtype=float32)\n",
      "tf.Tensor(0.09894843, shape=(), dtype=float32)\n",
      "tf.Tensor(0.6880667, shape=(), dtype=float32)\n",
      "tf.Tensor(0.26862052, shape=(), dtype=float32)\n",
      "tf.Tensor(-0.0718095, shape=(), dtype=float32)\n",
      "tf.Tensor(-0.16828112, shape=(), dtype=float32)\n",
      "tf.Tensor(0.026230987, shape=(), dtype=float32)\n",
      "tf.Tensor(-0.16707058, shape=(), dtype=float32)\n",
      "tf.Tensor(0.3962819, shape=(), dtype=float32)\n",
      "tf.Tensor(0.5248554, shape=(), dtype=float32)\n",
      "tf.Tensor(-0.29169556, shape=(), dtype=float32)\n",
      "tf.Tensor(0.58279514, shape=(), dtype=float32)\n",
      "tf.Tensor(-0.27713335, shape=(), dtype=float32)\n",
      "tf.Tensor(0.44048765, shape=(), dtype=float32)\n",
      "tf.Tensor(0.3427439, shape=(), dtype=float32)\n",
      "tf.Tensor(-0.5990538, shape=(), dtype=float32)\n",
      "tf.Tensor(-0.19332744, shape=(), dtype=float32)\n",
      "tf.Tensor(0.27113065, shape=(), dtype=float32)\n",
      "tf.Tensor(-0.21917458, shape=(), dtype=float32)\n",
      "tf.Tensor(0.43415758, shape=(), dtype=float32)\n",
      "tf.Tensor(-0.91240877, shape=(), dtype=float32)\n",
      "tf.Tensor(0.21473491, shape=(), dtype=float32)\n",
      "tf.Tensor(0.00023772303, shape=(), dtype=float32)\n",
      "tf.Tensor(-0.26988855, shape=(), dtype=float32)\n",
      "tf.Tensor(-0.24280171, shape=(), dtype=float32)\n",
      "tf.Tensor(-0.46263364, shape=(), dtype=float32)\n",
      "tf.Tensor(-0.67183256, shape=(), dtype=float32)\n",
      "tf.Tensor(-0.30265144, shape=(), dtype=float32)\n",
      "tf.Tensor(-0.039429724, shape=(), dtype=float32)\n",
      "tf.Tensor(-0.5350813, shape=(), dtype=float32)\n",
      "tf.Tensor(0.5093226, shape=(), dtype=float32)\n",
      "tf.Tensor(-0.23348418, shape=(), dtype=float32)\n",
      "tf.Tensor(-0.29155234, shape=(), dtype=float32)\n",
      "tf.Tensor(-0.52256584, shape=(), dtype=float32)\n",
      "tf.Tensor(0.30106986, shape=(), dtype=float32)\n",
      "tf.Tensor(-0.28880206, shape=(), dtype=float32)\n",
      "tf.Tensor(-0.24621439, shape=(), dtype=float32)\n",
      "tf.Tensor(0.076026104, shape=(), dtype=float32)\n",
      "tf.Tensor(0.57916516, shape=(), dtype=float32)\n",
      "tf.Tensor(-0.5682664, shape=(), dtype=float32)\n",
      "tf.Tensor(-0.4411649, shape=(), dtype=float32)\n",
      "tf.Tensor(-0.13450108, shape=(), dtype=float32)\n",
      "tf.Tensor(0.44354385, shape=(), dtype=float32)\n",
      "tf.Tensor(-0.15279019, shape=(), dtype=float32)\n",
      "tf.Tensor(-0.9069408, shape=(), dtype=float32)\n",
      "tf.Tensor(0.3621698, shape=(), dtype=float32)\n",
      "tf.Tensor(0.52580976, shape=(), dtype=float32)\n",
      "tf.Tensor(-0.4123166, shape=(), dtype=float32)\n",
      "tf.Tensor(-0.23474585, shape=(), dtype=float32)\n",
      "tf.Tensor(0.14766288, shape=(), dtype=float32)\n",
      "tf.Tensor(-0.4532066, shape=(), dtype=float32)\n",
      "tf.Tensor(0.36642188, shape=(), dtype=float32)\n",
      "tf.Tensor(-0.051214185, shape=(), dtype=float32)\n",
      "tf.Tensor(0.058333166, shape=(), dtype=float32)\n",
      "tf.Tensor(-0.5430168, shape=(), dtype=float32)\n",
      "tf.Tensor(0.3062183, shape=(), dtype=float32)\n",
      "tf.Tensor(0.2882491, shape=(), dtype=float32)\n",
      "tf.Tensor(-0.5910909, shape=(), dtype=float32)\n",
      "tf.Tensor(0.04385979, shape=(), dtype=float32)\n",
      "tf.Tensor(0.44368693, shape=(), dtype=float32)\n",
      "tf.Tensor(0.089356035, shape=(), dtype=float32)\n",
      "tf.Tensor(-0.29970452, shape=(), dtype=float32)\n",
      "tf.Tensor(0.19858536, shape=(), dtype=float32)\n",
      "tf.Tensor(0.20618127, shape=(), dtype=float32)\n",
      "tf.Tensor(0.5563062, shape=(), dtype=float32)\n",
      "tf.Tensor(-0.018352948, shape=(), dtype=float32)\n",
      "tf.Tensor(0.22066915, shape=(), dtype=float32)\n",
      "tf.Tensor(0.1839863, shape=(), dtype=float32)\n",
      "tf.Tensor(-0.41588607, shape=(), dtype=float32)\n",
      "tf.Tensor(-0.10632026, shape=(), dtype=float32)\n",
      "tf.Tensor(-0.34427306, shape=(), dtype=float32)\n",
      "tf.Tensor(0.046363875, shape=(), dtype=float32)\n",
      "tf.Tensor(0.33385155, shape=(), dtype=float32)\n",
      "tf.Tensor(0.7930851, shape=(), dtype=float32)\n",
      "tf.Tensor(-0.42694518, shape=(), dtype=float32)\n",
      "tf.Tensor(-0.15494122, shape=(), dtype=float32)\n",
      "tf.Tensor(0.59861434, shape=(), dtype=float32)\n",
      "tf.Tensor(-0.4323844, shape=(), dtype=float32)\n",
      "tf.Tensor(-0.20343125, shape=(), dtype=float32)\n",
      "tf.Tensor(-0.3190309, shape=(), dtype=float32)\n",
      "tf.Tensor(-0.26135713, shape=(), dtype=float32)\n",
      "tf.Tensor(-0.5795746, shape=(), dtype=float32)\n",
      "tf.Tensor(-0.84752303, shape=(), dtype=float32)\n",
      "tf.Tensor(0.014703011, shape=(), dtype=float32)\n",
      "tf.Tensor(0.724917, shape=(), dtype=float32)\n",
      "tf.Tensor(-0.32542452, shape=(), dtype=float32)\n",
      "tf.Tensor(0.3952169, shape=(), dtype=float32)\n",
      "tf.Tensor(-0.046652026, shape=(), dtype=float32)\n",
      "tf.Tensor(-0.15489471, shape=(), dtype=float32)\n",
      "tf.Tensor(0.335899, shape=(), dtype=float32)\n",
      "tf.Tensor(-0.11584617, shape=(), dtype=float32)\n",
      "tf.Tensor(0.1522216, shape=(), dtype=float32)\n",
      "tf.Tensor(0.21447095, shape=(), dtype=float32)\n",
      "tf.Tensor(-0.40722924, shape=(), dtype=float32)\n",
      "tf.Tensor(0.6805951, shape=(), dtype=float32)\n",
      "tf.Tensor(0.3711693, shape=(), dtype=float32)\n",
      "tf.Tensor(-0.069958396, shape=(), dtype=float32)\n",
      "tf.Tensor(-0.6859105, shape=(), dtype=float32)\n",
      "tf.Tensor(-0.19162127, shape=(), dtype=float32)\n",
      "tf.Tensor(0.045546003, shape=(), dtype=float32)\n",
      "tf.Tensor(0.4315816, shape=(), dtype=float32)\n",
      "tf.Tensor(0.13290863, shape=(), dtype=float32)\n",
      "tf.Tensor(-0.007977484, shape=(), dtype=float32)\n",
      "tf.Tensor(0.198565, shape=(), dtype=float32)\n",
      "tf.Tensor(0.16224697, shape=(), dtype=float32)\n",
      "tf.Tensor(-0.39939597, shape=(), dtype=float32)\n",
      "tf.Tensor(-0.017307771, shape=(), dtype=float32)\n",
      "tf.Tensor(-0.21010494, shape=(), dtype=float32)\n",
      "tf.Tensor(0.2445153, shape=(), dtype=float32)\n",
      "tf.Tensor(-0.08832928, shape=(), dtype=float32)\n",
      "tf.Tensor(0.48471534, shape=(), dtype=float32)\n",
      "tf.Tensor(-0.89147687, shape=(), dtype=float32)\n",
      "tf.Tensor(0.40055496, shape=(), dtype=float32)\n",
      "tf.Tensor(-0.14542446, shape=(), dtype=float32)\n",
      "tf.Tensor(-0.2119805, shape=(), dtype=float32)\n",
      "tf.Tensor(0.23734723, shape=(), dtype=float32)\n",
      "tf.Tensor(0.6855794, shape=(), dtype=float32)\n",
      "tf.Tensor(-0.45486334, shape=(), dtype=float32)\n",
      "tf.Tensor(0.01229231, shape=(), dtype=float32)\n",
      "tf.Tensor(0.464657, shape=(), dtype=float32)\n",
      "tf.Tensor(0.7065942, shape=(), dtype=float32)\n",
      "tf.Tensor(0.3790052, shape=(), dtype=float32)\n",
      "tf.Tensor(0.05559676, shape=(), dtype=float32)\n",
      "tf.Tensor(0.19518751, shape=(), dtype=float32)\n",
      "tf.Tensor(-0.5108713, shape=(), dtype=float32)\n",
      "tf.Tensor(-0.074866004, shape=(), dtype=float32)\n",
      "tf.Tensor(-0.11351794, shape=(), dtype=float32)\n",
      "tf.Tensor(0.45792288, shape=(), dtype=float32)\n",
      "tf.Tensor(0.32538664, shape=(), dtype=float32)\n",
      "tf.Tensor(-0.28067598, shape=(), dtype=float32)\n",
      "tf.Tensor(-0.33316484, shape=(), dtype=float32)\n",
      "tf.Tensor(-0.45629507, shape=(), dtype=float32)\n",
      "tf.Tensor(0.35626388, shape=(), dtype=float32)\n",
      "tf.Tensor(0.39535403, shape=(), dtype=float32)\n",
      "tf.Tensor(0.13322826, shape=(), dtype=float32)\n",
      "tf.Tensor(0.2166931, shape=(), dtype=float32)\n",
      "tf.Tensor(-0.3184019, shape=(), dtype=float32)\n",
      "tf.Tensor(-0.06707547, shape=(), dtype=float32)\n",
      "tf.Tensor(0.73427266, shape=(), dtype=float32)\n",
      "tf.Tensor(0.2763231, shape=(), dtype=float32)\n",
      "tf.Tensor(-0.2882378, shape=(), dtype=float32)\n",
      "tf.Tensor(0.38799948, shape=(), dtype=float32)\n",
      "tf.Tensor(-0.433633, shape=(), dtype=float32)\n",
      "tf.Tensor(0.1908639, shape=(), dtype=float32)\n",
      "tf.Tensor(0.49274614, shape=(), dtype=float32)\n",
      "tf.Tensor(-0.1390022, shape=(), dtype=float32)\n",
      "tf.Tensor(0.27851614, shape=(), dtype=float32)\n",
      "tf.Tensor(0.7158319, shape=(), dtype=float32)\n",
      "tf.Tensor(0.48093832, shape=(), dtype=float32)\n",
      "tf.Tensor(0.6900056, shape=(), dtype=float32)\n",
      "tf.Tensor(0.07833108, shape=(), dtype=float32)\n",
      "tf.Tensor(-0.36333594, shape=(), dtype=float32)\n",
      "tf.Tensor(0.19370908, shape=(), dtype=float32)\n",
      "tf.Tensor(-0.18754345, shape=(), dtype=float32)\n",
      "tf.Tensor(0.004463555, shape=(), dtype=float32)\n",
      "tf.Tensor(0.3037891, shape=(), dtype=float32)\n",
      "tf.Tensor(0.25844547, shape=(), dtype=float32)\n",
      "tf.Tensor(0.7935229, shape=(), dtype=float32)\n",
      "tf.Tensor(-0.53503996, shape=(), dtype=float32)\n",
      "tf.Tensor(-0.30085835, shape=(), dtype=float32)\n",
      "tf.Tensor(0.44452053, shape=(), dtype=float32)\n",
      "tf.Tensor(0.07113791, shape=(), dtype=float32)\n",
      "tf.Tensor(-0.60547596, shape=(), dtype=float32)\n",
      "tf.Tensor(0.58233064, shape=(), dtype=float32)\n",
      "tf.Tensor(0.20863925, shape=(), dtype=float32)\n",
      "tf.Tensor(-0.20576051, shape=(), dtype=float32)\n",
      "tf.Tensor(0.6391781, shape=(), dtype=float32)\n",
      "tf.Tensor(0.058850296, shape=(), dtype=float32)\n",
      "tf.Tensor(-0.16733958, shape=(), dtype=float32)\n",
      "tf.Tensor(-0.5144521, shape=(), dtype=float32)\n",
      "tf.Tensor(0.38866657, shape=(), dtype=float32)\n",
      "tf.Tensor(-0.09411355, shape=(), dtype=float32)\n",
      "tf.Tensor(0.17094274, shape=(), dtype=float32)\n",
      "tf.Tensor(0.6041502, shape=(), dtype=float32)\n",
      "tf.Tensor(0.30999586, shape=(), dtype=float32)\n",
      "tf.Tensor(-0.2835722, shape=(), dtype=float32)\n",
      "tf.Tensor(-0.49433577, shape=(), dtype=float32)\n",
      "tf.Tensor(0.86664456, shape=(), dtype=float32)\n",
      "tf.Tensor(0.20706844, shape=(), dtype=float32)\n",
      "tf.Tensor(0.2797588, shape=(), dtype=float32)\n",
      "tf.Tensor(0.18509263, shape=(), dtype=float32)\n",
      "tf.Tensor(0.96896946, shape=(), dtype=float32)\n",
      "tf.Tensor(0.24416889, shape=(), dtype=float32)\n",
      "tf.Tensor(-0.7807266, shape=(), dtype=float32)\n",
      "tf.Tensor(0.23274931, shape=(), dtype=float32)\n",
      "tf.Tensor(0.14604154, shape=(), dtype=float32)\n",
      "tf.Tensor(-0.18205516, shape=(), dtype=float32)\n",
      "tf.Tensor(-0.42087775, shape=(), dtype=float32)\n",
      "tf.Tensor(0.050858535, shape=(), dtype=float32)\n",
      "tf.Tensor(0.19524091, shape=(), dtype=float32)\n",
      "tf.Tensor(-0.06272336, shape=(), dtype=float32)\n",
      "tf.Tensor(0.6764317, shape=(), dtype=float32)\n",
      "tf.Tensor(-0.96778333, shape=(), dtype=float32)\n",
      "tf.Tensor(-0.11055418, shape=(), dtype=float32)\n",
      "tf.Tensor(-0.07436316, shape=(), dtype=float32)\n",
      "tf.Tensor(0.7346734, shape=(), dtype=float32)\n",
      "tf.Tensor(-0.721306, shape=(), dtype=float32)\n",
      "tf.Tensor(0.5349282, shape=(), dtype=float32)\n",
      "tf.Tensor(0.37334508, shape=(), dtype=float32)\n",
      "tf.Tensor(0.2666864, shape=(), dtype=float32)\n",
      "tf.Tensor(0.55309343, shape=(), dtype=float32)\n",
      "tf.Tensor(0.28279087, shape=(), dtype=float32)\n",
      "tf.Tensor(0.6188571, shape=(), dtype=float32)\n",
      "tf.Tensor(-0.5165545, shape=(), dtype=float32)\n",
      "tf.Tensor(-0.68680614, shape=(), dtype=float32)\n",
      "tf.Tensor(0.33331582, shape=(), dtype=float32)\n",
      "tf.Tensor(0.5102412, shape=(), dtype=float32)\n",
      "tf.Tensor(-0.21433261, shape=(), dtype=float32)\n",
      "tf.Tensor(0.18263206, shape=(), dtype=float32)\n",
      "tf.Tensor(0.42595765, shape=(), dtype=float32)\n",
      "tf.Tensor(0.069752015, shape=(), dtype=float32)\n",
      "tf.Tensor(0.6074696, shape=(), dtype=float32)\n",
      "tf.Tensor(0.61043715, shape=(), dtype=float32)\n",
      "tf.Tensor(0.12820889, shape=(), dtype=float32)\n",
      "tf.Tensor(0.37570298, shape=(), dtype=float32)\n",
      "tf.Tensor(-0.022262353, shape=(), dtype=float32)\n",
      "tf.Tensor(0.23132883, shape=(), dtype=float32)\n",
      "tf.Tensor(-0.14851898, shape=(), dtype=float32)\n",
      "tf.Tensor(0.0031196997, shape=(), dtype=float32)\n",
      "tf.Tensor(-0.5421968, shape=(), dtype=float32)\n",
      "tf.Tensor(-0.87551576, shape=(), dtype=float32)\n",
      "tf.Tensor(-0.6455187, shape=(), dtype=float32)\n",
      "tf.Tensor(-0.7926961, shape=(), dtype=float32)\n",
      "tf.Tensor(-0.4547804, shape=(), dtype=float32)\n",
      "tf.Tensor(-0.061282698, shape=(), dtype=float32)\n",
      "tf.Tensor(-0.20687002, shape=(), dtype=float32)\n",
      "tf.Tensor(0.008538229, shape=(), dtype=float32)\n",
      "tf.Tensor(0.06270167, shape=(), dtype=float32)\n",
      "tf.Tensor(0.9934452, shape=(), dtype=float32)\n",
      "tf.Tensor(0.14494294, shape=(), dtype=float32)\n",
      "tf.Tensor(-0.5098227, shape=(), dtype=float32)\n",
      "tf.Tensor(0.4855477, shape=(), dtype=float32)\n",
      "tf.Tensor(-0.011663327, shape=(), dtype=float32)\n",
      "tf.Tensor(0.24612634, shape=(), dtype=float32)\n",
      "tf.Tensor(-0.18214016, shape=(), dtype=float32)\n",
      "tf.Tensor(0.11490832, shape=(), dtype=float32)\n",
      "tf.Tensor(-0.55782646, shape=(), dtype=float32)\n",
      "tf.Tensor(0.39598876, shape=(), dtype=float32)\n",
      "tf.Tensor(0.32939097, shape=(), dtype=float32)\n",
      "tf.Tensor(-0.35795578, shape=(), dtype=float32)\n",
      "tf.Tensor(-0.35177785, shape=(), dtype=float32)\n",
      "tf.Tensor(-0.45639834, shape=(), dtype=float32)\n",
      "tf.Tensor(0.49171317, shape=(), dtype=float32)\n",
      "tf.Tensor(0.510227, shape=(), dtype=float32)\n",
      "tf.Tensor(-0.2944571, shape=(), dtype=float32)\n",
      "tf.Tensor(-0.029320525, shape=(), dtype=float32)\n",
      "tf.Tensor(-0.5254627, shape=(), dtype=float32)\n",
      "tf.Tensor(0.06040323, shape=(), dtype=float32)\n",
      "tf.Tensor(0.56211615, shape=(), dtype=float32)\n",
      "tf.Tensor(0.027031474, shape=(), dtype=float32)\n",
      "tf.Tensor(-0.22836637, shape=(), dtype=float32)\n",
      "tf.Tensor(-0.07301797, shape=(), dtype=float32)\n",
      "tf.Tensor(-0.36894733, shape=(), dtype=float32)\n",
      "tf.Tensor(-0.21645308, shape=(), dtype=float32)\n",
      "tf.Tensor(-0.24545959, shape=(), dtype=float32)\n",
      "tf.Tensor(0.10743665, shape=(), dtype=float32)\n",
      "tf.Tensor(-0.023259912, shape=(), dtype=float32)\n",
      "tf.Tensor(-0.98277026, shape=(), dtype=float32)\n",
      "tf.Tensor(0.42774543, shape=(), dtype=float32)\n",
      "tf.Tensor(-0.51790035, shape=(), dtype=float32)\n",
      "tf.Tensor(0.3614502, shape=(), dtype=float32)\n",
      "tf.Tensor(0.40861064, shape=(), dtype=float32)\n",
      "tf.Tensor(0.12814716, shape=(), dtype=float32)\n",
      "tf.Tensor(0.5467018, shape=(), dtype=float32)\n",
      "tf.Tensor(0.14541078, shape=(), dtype=float32)\n",
      "tf.Tensor(-0.40673658, shape=(), dtype=float32)\n",
      "tf.Tensor(0.026060957, shape=(), dtype=float32)\n",
      "tf.Tensor(-0.39491192, shape=(), dtype=float32)\n",
      "tf.Tensor(0.22702354, shape=(), dtype=float32)\n",
      "tf.Tensor(-0.018136648, shape=(), dtype=float32)\n",
      "tf.Tensor(-0.5727185, shape=(), dtype=float32)\n",
      "tf.Tensor(-0.16340256, shape=(), dtype=float32)\n",
      "tf.Tensor(0.08879342, shape=(), dtype=float32)\n",
      "tf.Tensor(-0.04766345, shape=(), dtype=float32)\n",
      "tf.Tensor(-0.1790229, shape=(), dtype=float32)\n",
      "tf.Tensor(0.7284108, shape=(), dtype=float32)\n",
      "tf.Tensor(-0.06805, shape=(), dtype=float32)\n",
      "tf.Tensor(0.3908543, shape=(), dtype=float32)\n",
      "tf.Tensor(0.6603575, shape=(), dtype=float32)\n",
      "tf.Tensor(-0.57896537, shape=(), dtype=float32)\n",
      "tf.Tensor(0.91899985, shape=(), dtype=float32)\n",
      "tf.Tensor(0.40584907, shape=(), dtype=float32)\n",
      "tf.Tensor(0.25087363, shape=(), dtype=float32)\n",
      "tf.Tensor(0.32444525, shape=(), dtype=float32)\n",
      "tf.Tensor(0.14745976, shape=(), dtype=float32)\n",
      "tf.Tensor(0.31749418, shape=(), dtype=float32)\n",
      "tf.Tensor(-0.052605323, shape=(), dtype=float32)\n",
      "tf.Tensor(0.25800025, shape=(), dtype=float32)\n",
      "tf.Tensor(0.18383773, shape=(), dtype=float32)\n",
      "tf.Tensor(-0.078102686, shape=(), dtype=float32)\n",
      "tf.Tensor(-0.16619484, shape=(), dtype=float32)\n",
      "tf.Tensor(0.3940743, shape=(), dtype=float32)\n",
      "tf.Tensor(0.43028548, shape=(), dtype=float32)\n",
      "tf.Tensor(-0.089885704, shape=(), dtype=float32)\n",
      "tf.Tensor(-0.5947171, shape=(), dtype=float32)\n",
      "tf.Tensor(0.25552827, shape=(), dtype=float32)\n",
      "tf.Tensor(-0.2147114, shape=(), dtype=float32)\n",
      "tf.Tensor(-0.79115546, shape=(), dtype=float32)\n",
      "tf.Tensor(0.31049824, shape=(), dtype=float32)\n",
      "tf.Tensor(-0.982389, shape=(), dtype=float32)\n",
      "tf.Tensor(0.35255316, shape=(), dtype=float32)\n",
      "tf.Tensor(0.18491505, shape=(), dtype=float32)\n",
      "tf.Tensor(0.88803524, shape=(), dtype=float32)\n",
      "tf.Tensor(0.26958096, shape=(), dtype=float32)\n",
      "tf.Tensor(0.20762475, shape=(), dtype=float32)\n",
      "tf.Tensor(-0.72927314, shape=(), dtype=float32)\n",
      "tf.Tensor(-0.2670092, shape=(), dtype=float32)\n",
      "tf.Tensor(-0.2074783, shape=(), dtype=float32)\n",
      "tf.Tensor(0.42940646, shape=(), dtype=float32)\n",
      "tf.Tensor(-0.38184068, shape=(), dtype=float32)\n",
      "tf.Tensor(0.07865494, shape=(), dtype=float32)\n",
      "tf.Tensor(0.22140324, shape=(), dtype=float32)\n",
      "tf.Tensor(-0.100897804, shape=(), dtype=float32)\n",
      "tf.Tensor(-0.8220681, shape=(), dtype=float32)\n",
      "tf.Tensor(-0.26674178, shape=(), dtype=float32)\n",
      "tf.Tensor(-0.18240754, shape=(), dtype=float32)\n",
      "tf.Tensor(0.38665903, shape=(), dtype=float32)\n",
      "tf.Tensor(-0.67802596, shape=(), dtype=float32)\n",
      "tf.Tensor(0.09745618, shape=(), dtype=float32)\n",
      "tf.Tensor(0.27816314, shape=(), dtype=float32)\n",
      "tf.Tensor(0.10650734, shape=(), dtype=float32)\n",
      "tf.Tensor(0.88691074, shape=(), dtype=float32)\n",
      "tf.Tensor(-0.6643714, shape=(), dtype=float32)\n",
      "tf.Tensor(0.010016956, shape=(), dtype=float32)\n",
      "tf.Tensor(0.55272424, shape=(), dtype=float32)\n",
      "tf.Tensor(-0.66703385, shape=(), dtype=float32)\n",
      "tf.Tensor(-0.5306159, shape=(), dtype=float32)\n",
      "tf.Tensor(-0.8911636, shape=(), dtype=float32)\n",
      "tf.Tensor(0.12187068, shape=(), dtype=float32)\n",
      "tf.Tensor(0.2299619, shape=(), dtype=float32)\n",
      "tf.Tensor(-0.17040761, shape=(), dtype=float32)\n",
      "tf.Tensor(-0.40291816, shape=(), dtype=float32)\n",
      "tf.Tensor(-0.38688254, shape=(), dtype=float32)\n",
      "tf.Tensor(0.7027626, shape=(), dtype=float32)\n",
      "tf.Tensor(-0.204494, shape=(), dtype=float32)\n",
      "tf.Tensor(-0.66969526, shape=(), dtype=float32)\n",
      "tf.Tensor(-0.76155883, shape=(), dtype=float32)\n",
      "tf.Tensor(0.007373561, shape=(), dtype=float32)\n",
      "tf.Tensor(0.7667902, shape=(), dtype=float32)\n",
      "tf.Tensor(-0.5381834, shape=(), dtype=float32)\n",
      "tf.Tensor(-0.08128339, shape=(), dtype=float32)\n",
      "tf.Tensor(0.35573283, shape=(), dtype=float32)\n",
      "tf.Tensor(0.29684106, shape=(), dtype=float32)\n",
      "tf.Tensor(-0.8388461, shape=(), dtype=float32)\n",
      "tf.Tensor(0.9329249, shape=(), dtype=float32)\n",
      "tf.Tensor(-0.4488776, shape=(), dtype=float32)\n",
      "tf.Tensor(-0.050546896, shape=(), dtype=float32)\n",
      "tf.Tensor(-0.5496963, shape=(), dtype=float32)\n",
      "tf.Tensor(0.11182787, shape=(), dtype=float32)\n",
      "tf.Tensor(0.78490496, shape=(), dtype=float32)\n",
      "tf.Tensor(-0.30818018, shape=(), dtype=float32)\n",
      "tf.Tensor(-0.2448283, shape=(), dtype=float32)\n",
      "tf.Tensor(-0.008849599, shape=(), dtype=float32)\n",
      "tf.Tensor(0.025867183, shape=(), dtype=float32)\n",
      "tf.Tensor(-0.38945073, shape=(), dtype=float32)\n",
      "tf.Tensor(0.9700098, shape=(), dtype=float32)\n",
      "tf.Tensor(-0.2737636, shape=(), dtype=float32)\n",
      "tf.Tensor(0.4134081, shape=(), dtype=float32)\n",
      "tf.Tensor(-0.32655045, shape=(), dtype=float32)\n",
      "tf.Tensor(0.088247195, shape=(), dtype=float32)\n",
      "tf.Tensor(0.42122212, shape=(), dtype=float32)\n",
      "tf.Tensor(-0.1687822, shape=(), dtype=float32)\n",
      "tf.Tensor(0.7530304, shape=(), dtype=float32)\n",
      "tf.Tensor(-0.15891312, shape=(), dtype=float32)\n",
      "tf.Tensor(-0.21625087, shape=(), dtype=float32)\n",
      "tf.Tensor(0.067428574, shape=(), dtype=float32)\n",
      "tf.Tensor(-0.44795933, shape=(), dtype=float32)\n",
      "tf.Tensor(-0.12598084, shape=(), dtype=float32)\n",
      "tf.Tensor(-0.11804596, shape=(), dtype=float32)\n",
      "tf.Tensor(0.039829344, shape=(), dtype=float32)\n",
      "tf.Tensor(0.80101216, shape=(), dtype=float32)\n",
      "tf.Tensor(0.7163283, shape=(), dtype=float32)\n",
      "tf.Tensor(-0.26423076, shape=(), dtype=float32)\n",
      "tf.Tensor(0.03171974, shape=(), dtype=float32)\n",
      "tf.Tensor(-0.46669137, shape=(), dtype=float32)\n",
      "tf.Tensor(0.027281893, shape=(), dtype=float32)\n",
      "tf.Tensor(0.62982935, shape=(), dtype=float32)\n",
      "tf.Tensor(-0.50444585, shape=(), dtype=float32)\n",
      "tf.Tensor(-0.94184524, shape=(), dtype=float32)\n",
      "tf.Tensor(0.22159982, shape=(), dtype=float32)\n",
      "tf.Tensor(0.10137469, shape=(), dtype=float32)\n",
      "tf.Tensor(-0.0037297914, shape=(), dtype=float32)\n",
      "tf.Tensor(-0.68560606, shape=(), dtype=float32)\n",
      "tf.Tensor(0.08133068, shape=(), dtype=float32)\n",
      "tf.Tensor(0.18493615, shape=(), dtype=float32)\n",
      "tf.Tensor(0.03926441, shape=(), dtype=float32)\n",
      "tf.Tensor(-0.32164243, shape=(), dtype=float32)\n",
      "tf.Tensor(0.015994916, shape=(), dtype=float32)\n",
      "tf.Tensor(0.0038755513, shape=(), dtype=float32)\n",
      "tf.Tensor(0.5265499, shape=(), dtype=float32)\n",
      "tf.Tensor(-0.3653281, shape=(), dtype=float32)\n",
      "tf.Tensor(0.6144927, shape=(), dtype=float32)\n",
      "tf.Tensor(-0.5837694, shape=(), dtype=float32)\n",
      "tf.Tensor(0.10522613, shape=(), dtype=float32)\n",
      "tf.Tensor(-0.6828476, shape=(), dtype=float32)\n",
      "tf.Tensor(0.16825242, shape=(), dtype=float32)\n",
      "tf.Tensor(-0.35034478, shape=(), dtype=float32)\n",
      "tf.Tensor(0.18388014, shape=(), dtype=float32)\n",
      "tf.Tensor(0.0075792284, shape=(), dtype=float32)\n",
      "tf.Tensor(0.46333912, shape=(), dtype=float32)\n",
      "tf.Tensor(-0.056927927, shape=(), dtype=float32)\n",
      "tf.Tensor(-0.10610567, shape=(), dtype=float32)\n",
      "tf.Tensor(0.7892932, shape=(), dtype=float32)\n",
      "tf.Tensor(-0.1786874, shape=(), dtype=float32)\n",
      "tf.Tensor(-0.7445441, shape=(), dtype=float32)\n",
      "tf.Tensor(0.27717167, shape=(), dtype=float32)\n",
      "tf.Tensor(0.3366236, shape=(), dtype=float32)\n",
      "tf.Tensor(0.019741416, shape=(), dtype=float32)\n",
      "tf.Tensor(0.17265874, shape=(), dtype=float32)\n",
      "tf.Tensor(0.2768432, shape=(), dtype=float32)\n",
      "tf.Tensor(0.3170853, shape=(), dtype=float32)\n",
      "tf.Tensor(0.3506705, shape=(), dtype=float32)\n",
      "tf.Tensor(-0.4170357, shape=(), dtype=float32)\n",
      "tf.Tensor(-0.49084574, shape=(), dtype=float32)\n",
      "tf.Tensor(-0.08895936, shape=(), dtype=float32)\n",
      "tf.Tensor(-0.21243398, shape=(), dtype=float32)\n",
      "tf.Tensor(-0.80006224, shape=(), dtype=float32)\n",
      "tf.Tensor(0.33566666, shape=(), dtype=float32)\n",
      "tf.Tensor(0.34850928, shape=(), dtype=float32)\n",
      "tf.Tensor(-0.78253907, shape=(), dtype=float32)\n",
      "tf.Tensor(-0.0059700324, shape=(), dtype=float32)\n",
      "tf.Tensor(0.10223877, shape=(), dtype=float32)\n",
      "tf.Tensor(-0.51559365, shape=(), dtype=float32)\n",
      "tf.Tensor(-0.22152013, shape=(), dtype=float32)\n",
      "tf.Tensor(-0.20044948, shape=(), dtype=float32)\n",
      "tf.Tensor(-0.020017419, shape=(), dtype=float32)\n",
      "tf.Tensor(0.5268259, shape=(), dtype=float32)\n",
      "tf.Tensor(0.14074719, shape=(), dtype=float32)\n",
      "tf.Tensor(0.32916182, shape=(), dtype=float32)\n",
      "tf.Tensor(-0.13327552, shape=(), dtype=float32)\n",
      "tf.Tensor(-0.07328113, shape=(), dtype=float32)\n",
      "tf.Tensor(0.43222448, shape=(), dtype=float32)\n",
      "tf.Tensor(0.48791838, shape=(), dtype=float32)\n",
      "tf.Tensor(-0.9638915, shape=(), dtype=float32)\n",
      "tf.Tensor(0.3064936, shape=(), dtype=float32)\n",
      "tf.Tensor(0.56025, shape=(), dtype=float32)\n",
      "tf.Tensor(-0.7583428, shape=(), dtype=float32)\n",
      "tf.Tensor(0.0003787929, shape=(), dtype=float32)\n",
      "tf.Tensor(-0.30926657, shape=(), dtype=float32)\n",
      "tf.Tensor(0.15308167, shape=(), dtype=float32)\n",
      "tf.Tensor(0.033568855, shape=(), dtype=float32)\n",
      "tf.Tensor(-0.032916527, shape=(), dtype=float32)\n",
      "tf.Tensor(-0.07909795, shape=(), dtype=float32)\n",
      "tf.Tensor(0.69610804, shape=(), dtype=float32)\n",
      "tf.Tensor(0.07736639, shape=(), dtype=float32)\n",
      "tf.Tensor(0.2870487, shape=(), dtype=float32)\n",
      "tf.Tensor(-0.4979135, shape=(), dtype=float32)\n",
      "tf.Tensor(-0.9496935, shape=(), dtype=float32)\n",
      "tf.Tensor(0.47814724, shape=(), dtype=float32)\n",
      "tf.Tensor(-0.8707653, shape=(), dtype=float32)\n",
      "tf.Tensor(-0.20431845, shape=(), dtype=float32)\n",
      "tf.Tensor(0.19313233, shape=(), dtype=float32)\n",
      "tf.Tensor(0.040578492, shape=(), dtype=float32)\n",
      "tf.Tensor(-0.19535503, shape=(), dtype=float32)\n",
      "tf.Tensor(-0.063179076, shape=(), dtype=float32)\n",
      "tf.Tensor(-0.18573003, shape=(), dtype=float32)\n",
      "tf.Tensor(0.26812333, shape=(), dtype=float32)\n",
      "tf.Tensor(0.16025567, shape=(), dtype=float32)\n",
      "tf.Tensor(-0.22697312, shape=(), dtype=float32)\n",
      "tf.Tensor(-0.22650094, shape=(), dtype=float32)\n",
      "tf.Tensor(0.0052016363, shape=(), dtype=float32)\n",
      "tf.Tensor(0.6931052, shape=(), dtype=float32)\n",
      "tf.Tensor(0.24074006, shape=(), dtype=float32)\n",
      "tf.Tensor(-0.0880352, shape=(), dtype=float32)\n",
      "tf.Tensor(-0.22301039, shape=(), dtype=float32)\n",
      "tf.Tensor(0.29150388, shape=(), dtype=float32)\n",
      "tf.Tensor(0.22156101, shape=(), dtype=float32)\n",
      "tf.Tensor(-0.07207919, shape=(), dtype=float32)\n",
      "tf.Tensor(0.67654365, shape=(), dtype=float32)\n",
      "tf.Tensor(0.16859178, shape=(), dtype=float32)\n",
      "tf.Tensor(0.6012752, shape=(), dtype=float32)\n",
      "tf.Tensor(0.4176253, shape=(), dtype=float32)\n",
      "tf.Tensor(-0.13577756, shape=(), dtype=float32)\n",
      "tf.Tensor(-0.42656803, shape=(), dtype=float32)\n",
      "tf.Tensor(-0.100944795, shape=(), dtype=float32)\n",
      "tf.Tensor(0.35153645, shape=(), dtype=float32)\n",
      "tf.Tensor(-0.19828716, shape=(), dtype=float32)\n",
      "tf.Tensor(0.62969124, shape=(), dtype=float32)\n",
      "tf.Tensor(0.54612964, shape=(), dtype=float32)\n",
      "tf.Tensor(0.13939005, shape=(), dtype=float32)\n",
      "tf.Tensor(0.66962993, shape=(), dtype=float32)\n",
      "tf.Tensor(-0.024333287, shape=(), dtype=float32)\n",
      "tf.Tensor(-0.08271601, shape=(), dtype=float32)\n",
      "tf.Tensor(0.5615954, shape=(), dtype=float32)\n",
      "tf.Tensor(0.3044994, shape=(), dtype=float32)\n",
      "tf.Tensor(0.687712, shape=(), dtype=float32)\n",
      "tf.Tensor(-0.7657769, shape=(), dtype=float32)\n",
      "tf.Tensor(0.5222477, shape=(), dtype=float32)\n",
      "tf.Tensor(0.71053827, shape=(), dtype=float32)\n",
      "tf.Tensor(0.0143695325, shape=(), dtype=float32)\n",
      "tf.Tensor(0.21182875, shape=(), dtype=float32)\n",
      "tf.Tensor(0.44833106, shape=(), dtype=float32)\n",
      "tf.Tensor(-0.7374347, shape=(), dtype=float32)\n",
      "tf.Tensor(-0.2529186, shape=(), dtype=float32)\n",
      "tf.Tensor(-0.4297492, shape=(), dtype=float32)\n",
      "tf.Tensor(-0.019888602, shape=(), dtype=float32)\n",
      "tf.Tensor(-0.8143212, shape=(), dtype=float32)\n",
      "tf.Tensor(0.58671916, shape=(), dtype=float32)\n",
      "tf.Tensor(-0.78686, shape=(), dtype=float32)\n",
      "tf.Tensor(0.2156225, shape=(), dtype=float32)\n",
      "tf.Tensor(0.41468117, shape=(), dtype=float32)\n",
      "tf.Tensor(0.729849, shape=(), dtype=float32)\n",
      "tf.Tensor(0.5315324, shape=(), dtype=float32)\n",
      "tf.Tensor(0.6336139, shape=(), dtype=float32)\n",
      "tf.Tensor(-0.4543144, shape=(), dtype=float32)\n",
      "tf.Tensor(0.60846597, shape=(), dtype=float32)\n",
      "tf.Tensor(-0.14276092, shape=(), dtype=float32)\n",
      "tf.Tensor(-0.0309431, shape=(), dtype=float32)\n",
      "tf.Tensor(0.05549134, shape=(), dtype=float32)\n",
      "tf.Tensor(-0.76128876, shape=(), dtype=float32)\n",
      "tf.Tensor(0.88160485, shape=(), dtype=float32)\n",
      "tf.Tensor(0.4783088, shape=(), dtype=float32)\n",
      "tf.Tensor(-0.23759505, shape=(), dtype=float32)\n",
      "tf.Tensor(-0.45152402, shape=(), dtype=float32)\n",
      "tf.Tensor(0.3718082, shape=(), dtype=float32)\n",
      "tf.Tensor(-0.24638772, shape=(), dtype=float32)\n",
      "tf.Tensor(0.4893713, shape=(), dtype=float32)\n",
      "tf.Tensor(0.5154923, shape=(), dtype=float32)\n",
      "tf.Tensor(0.3599309, shape=(), dtype=float32)\n",
      "tf.Tensor(0.0009616226, shape=(), dtype=float32)\n",
      "tf.Tensor(-0.021831565, shape=(), dtype=float32)\n",
      "tf.Tensor(0.41762835, shape=(), dtype=float32)\n",
      "tf.Tensor(-0.030465512, shape=(), dtype=float32)\n",
      "tf.Tensor(0.38924697, shape=(), dtype=float32)\n",
      "tf.Tensor(-0.45671198, shape=(), dtype=float32)\n",
      "tf.Tensor(0.03395985, shape=(), dtype=float32)\n",
      "tf.Tensor(0.2774502, shape=(), dtype=float32)\n",
      "tf.Tensor(-0.2655879, shape=(), dtype=float32)\n",
      "tf.Tensor(0.40911478, shape=(), dtype=float32)\n",
      "tf.Tensor(0.391469, shape=(), dtype=float32)\n",
      "tf.Tensor(-0.16738997, shape=(), dtype=float32)\n",
      "tf.Tensor(-0.5548701, shape=(), dtype=float32)\n",
      "tf.Tensor(-0.5637905, shape=(), dtype=float32)\n",
      "tf.Tensor(0.097807206, shape=(), dtype=float32)\n",
      "tf.Tensor(0.025044905, shape=(), dtype=float32)\n",
      "tf.Tensor(0.21576856, shape=(), dtype=float32)\n",
      "tf.Tensor(-0.30534112, shape=(), dtype=float32)\n",
      "tf.Tensor(-0.51000035, shape=(), dtype=float32)\n",
      "tf.Tensor(0.5284625, shape=(), dtype=float32)\n",
      "tf.Tensor(-0.8263219, shape=(), dtype=float32)\n",
      "tf.Tensor(0.26505032, shape=(), dtype=float32)\n",
      "tf.Tensor(0.15390271, shape=(), dtype=float32)\n",
      "tf.Tensor(-0.1904366, shape=(), dtype=float32)\n",
      "tf.Tensor(-0.45620942, shape=(), dtype=float32)\n",
      "tf.Tensor(-0.4013582, shape=(), dtype=float32)\n",
      "tf.Tensor(0.40166017, shape=(), dtype=float32)\n",
      "tf.Tensor(-0.33736956, shape=(), dtype=float32)\n",
      "tf.Tensor(-0.044845507, shape=(), dtype=float32)\n",
      "tf.Tensor(0.82762617, shape=(), dtype=float32)\n",
      "tf.Tensor(0.49052817, shape=(), dtype=float32)\n",
      "tf.Tensor(0.7905111, shape=(), dtype=float32)\n",
      "tf.Tensor(0.26523593, shape=(), dtype=float32)\n",
      "tf.Tensor(0.98241854, shape=(), dtype=float32)\n",
      "tf.Tensor(-0.66577214, shape=(), dtype=float32)\n",
      "tf.Tensor(-0.35642317, shape=(), dtype=float32)\n",
      "tf.Tensor(-0.48727626, shape=(), dtype=float32)\n",
      "tf.Tensor(-0.49516118, shape=(), dtype=float32)\n",
      "tf.Tensor(0.10376392, shape=(), dtype=float32)\n",
      "tf.Tensor(0.1710204, shape=(), dtype=float32)\n",
      "tf.Tensor(0.0884544, shape=(), dtype=float32)\n",
      "tf.Tensor(0.6365391, shape=(), dtype=float32)\n",
      "tf.Tensor(0.7535513, shape=(), dtype=float32)\n",
      "tf.Tensor(0.3111283, shape=(), dtype=float32)\n",
      "tf.Tensor(0.43479007, shape=(), dtype=float32)\n",
      "tf.Tensor(-0.5914328, shape=(), dtype=float32)\n",
      "tf.Tensor(-0.33727092, shape=(), dtype=float32)\n",
      "tf.Tensor(0.020095123, shape=(), dtype=float32)\n",
      "tf.Tensor(-0.5928173, shape=(), dtype=float32)\n",
      "tf.Tensor(-0.28077152, shape=(), dtype=float32)\n",
      "tf.Tensor(-0.004371654, shape=(), dtype=float32)\n",
      "tf.Tensor(-0.5168109, shape=(), dtype=float32)\n",
      "tf.Tensor(0.2681079, shape=(), dtype=float32)\n",
      "tf.Tensor(0.930069, shape=(), dtype=float32)\n",
      "tf.Tensor(0.3251362, shape=(), dtype=float32)\n",
      "tf.Tensor(-0.6760227, shape=(), dtype=float32)\n",
      "tf.Tensor(0.40406936, shape=(), dtype=float32)\n",
      "tf.Tensor(0.8707355, shape=(), dtype=float32)\n",
      "tf.Tensor(0.6280116, shape=(), dtype=float32)\n",
      "tf.Tensor(-0.39500374, shape=(), dtype=float32)\n",
      "tf.Tensor(0.0639196, shape=(), dtype=float32)\n",
      "tf.Tensor(0.09825421, shape=(), dtype=float32)\n",
      "tf.Tensor(0.35397735, shape=(), dtype=float32)\n",
      "tf.Tensor(0.7881466, shape=(), dtype=float32)\n",
      "tf.Tensor(-0.1840253, shape=(), dtype=float32)\n",
      "tf.Tensor(0.2981755, shape=(), dtype=float32)\n",
      "tf.Tensor(0.298969, shape=(), dtype=float32)\n",
      "tf.Tensor(-0.24136752, shape=(), dtype=float32)\n",
      "tf.Tensor(0.33948323, shape=(), dtype=float32)\n",
      "tf.Tensor(-0.40455726, shape=(), dtype=float32)\n",
      "tf.Tensor(0.26810926, shape=(), dtype=float32)\n",
      "tf.Tensor(0.055795945, shape=(), dtype=float32)\n",
      "tf.Tensor(-0.61461425, shape=(), dtype=float32)\n",
      "tf.Tensor(-0.65589213, shape=(), dtype=float32)\n",
      "tf.Tensor(-0.16965596, shape=(), dtype=float32)\n",
      "tf.Tensor(0.050356973, shape=(), dtype=float32)\n",
      "tf.Tensor(0.057170957, shape=(), dtype=float32)\n",
      "tf.Tensor(0.12192914, shape=(), dtype=float32)\n",
      "tf.Tensor(-0.8107964, shape=(), dtype=float32)\n",
      "tf.Tensor(0.091118775, shape=(), dtype=float32)\n",
      "tf.Tensor(-0.01775187, shape=(), dtype=float32)\n",
      "tf.Tensor(0.7505587, shape=(), dtype=float32)\n",
      "tf.Tensor(0.410452, shape=(), dtype=float32)\n",
      "tf.Tensor(-0.15290146, shape=(), dtype=float32)\n",
      "tf.Tensor(-0.18475087, shape=(), dtype=float32)\n",
      "tf.Tensor(0.22940359, shape=(), dtype=float32)\n",
      "tf.Tensor(-0.21196276, shape=(), dtype=float32)\n",
      "tf.Tensor(0.5682841, shape=(), dtype=float32)\n",
      "tf.Tensor(-0.18394825, shape=(), dtype=float32)\n",
      "tf.Tensor(0.32732546, shape=(), dtype=float32)\n",
      "tf.Tensor(0.31610495, shape=(), dtype=float32)\n",
      "tf.Tensor(0.038908508, shape=(), dtype=float32)\n",
      "tf.Tensor(-0.46544948, shape=(), dtype=float32)\n",
      "tf.Tensor(-0.037820518, shape=(), dtype=float32)\n",
      "tf.Tensor(-0.030873103, shape=(), dtype=float32)\n",
      "tf.Tensor(-0.42310882, shape=(), dtype=float32)\n",
      "tf.Tensor(-0.29091427, shape=(), dtype=float32)\n",
      "tf.Tensor(-0.4416314, shape=(), dtype=float32)\n",
      "tf.Tensor(-0.98367876, shape=(), dtype=float32)\n",
      "tf.Tensor(0.1562957, shape=(), dtype=float32)\n",
      "tf.Tensor(0.606728, shape=(), dtype=float32)\n",
      "tf.Tensor(0.22590894, shape=(), dtype=float32)\n",
      "tf.Tensor(0.24776171, shape=(), dtype=float32)\n",
      "tf.Tensor(0.45146367, shape=(), dtype=float32)\n",
      "tf.Tensor(-0.2847743, shape=(), dtype=float32)\n",
      "tf.Tensor(0.5812447, shape=(), dtype=float32)\n",
      "tf.Tensor(-0.7203952, shape=(), dtype=float32)\n",
      "tf.Tensor(0.12595834, shape=(), dtype=float32)\n",
      "tf.Tensor(-0.3006731, shape=(), dtype=float32)\n",
      "tf.Tensor(-0.17458183, shape=(), dtype=float32)\n",
      "tf.Tensor(0.23979479, shape=(), dtype=float32)\n",
      "tf.Tensor(0.3320832, shape=(), dtype=float32)\n",
      "tf.Tensor(0.38747334, shape=(), dtype=float32)\n",
      "tf.Tensor(-0.10375525, shape=(), dtype=float32)\n",
      "tf.Tensor(-0.3635465, shape=(), dtype=float32)\n",
      "tf.Tensor(0.19854267, shape=(), dtype=float32)\n",
      "tf.Tensor(0.03890567, shape=(), dtype=float32)\n",
      "tf.Tensor(-0.01849331, shape=(), dtype=float32)\n",
      "tf.Tensor(0.5402534, shape=(), dtype=float32)\n",
      "tf.Tensor(-0.76527166, shape=(), dtype=float32)\n",
      "tf.Tensor(0.14193003, shape=(), dtype=float32)\n",
      "tf.Tensor(0.7122005, shape=(), dtype=float32)\n",
      "tf.Tensor(0.27249697, shape=(), dtype=float32)\n",
      "tf.Tensor(0.05907947, shape=(), dtype=float32)\n",
      "tf.Tensor(-0.29749587, shape=(), dtype=float32)\n",
      "tf.Tensor(0.65432066, shape=(), dtype=float32)\n",
      "tf.Tensor(-0.15260972, shape=(), dtype=float32)\n",
      "tf.Tensor(0.14943217, shape=(), dtype=float32)\n",
      "tf.Tensor(0.34283364, shape=(), dtype=float32)\n",
      "tf.Tensor(0.70772594, shape=(), dtype=float32)\n",
      "tf.Tensor(-0.4225814, shape=(), dtype=float32)\n",
      "tf.Tensor(0.30164567, shape=(), dtype=float32)\n",
      "tf.Tensor(0.7188504, shape=(), dtype=float32)\n",
      "tf.Tensor(0.9014368, shape=(), dtype=float32)\n",
      "tf.Tensor(-0.36051923, shape=(), dtype=float32)\n",
      "tf.Tensor(0.3289713, shape=(), dtype=float32)\n",
      "tf.Tensor(-0.25994962, shape=(), dtype=float32)\n",
      "tf.Tensor(0.670087, shape=(), dtype=float32)\n",
      "tf.Tensor(-0.078411795, shape=(), dtype=float32)\n",
      "tf.Tensor(-0.2706564, shape=(), dtype=float32)\n",
      "tf.Tensor(0.2926937, shape=(), dtype=float32)\n",
      "tf.Tensor(0.584487, shape=(), dtype=float32)\n",
      "tf.Tensor(0.05508665, shape=(), dtype=float32)\n",
      "tf.Tensor(-0.8906493, shape=(), dtype=float32)\n",
      "tf.Tensor(0.6529361, shape=(), dtype=float32)\n",
      "tf.Tensor(-0.18407068, shape=(), dtype=float32)\n",
      "tf.Tensor(-0.3113808, shape=(), dtype=float32)\n",
      "tf.Tensor(-0.19098672, shape=(), dtype=float32)\n",
      "tf.Tensor(0.12652646, shape=(), dtype=float32)\n",
      "tf.Tensor(0.19801086, shape=(), dtype=float32)\n",
      "tf.Tensor(-0.45065624, shape=(), dtype=float32)\n",
      "tf.Tensor(0.32056683, shape=(), dtype=float32)\n",
      "tf.Tensor(0.20631611, shape=(), dtype=float32)\n",
      "tf.Tensor(-0.04113337, shape=(), dtype=float32)\n",
      "tf.Tensor(0.28213766, shape=(), dtype=float32)\n",
      "tf.Tensor(0.28100103, shape=(), dtype=float32)\n",
      "tf.Tensor(0.03743228, shape=(), dtype=float32)\n",
      "tf.Tensor(0.021013226, shape=(), dtype=float32)\n",
      "tf.Tensor(-0.88359505, shape=(), dtype=float32)\n",
      "tf.Tensor(0.16592887, shape=(), dtype=float32)\n",
      "tf.Tensor(-0.12673593, shape=(), dtype=float32)\n",
      "tf.Tensor(-0.39563927, shape=(), dtype=float32)\n",
      "tf.Tensor(0.056818783, shape=(), dtype=float32)\n",
      "tf.Tensor(-0.023128876, shape=(), dtype=float32)\n",
      "tf.Tensor(-0.20933522, shape=(), dtype=float32)\n",
      "tf.Tensor(-0.18440373, shape=(), dtype=float32)\n",
      "tf.Tensor(-0.068906225, shape=(), dtype=float32)\n",
      "tf.Tensor(0.42155266, shape=(), dtype=float32)\n",
      "tf.Tensor(0.46011156, shape=(), dtype=float32)\n",
      "tf.Tensor(-0.024854388, shape=(), dtype=float32)\n",
      "tf.Tensor(-0.13509943, shape=(), dtype=float32)\n",
      "tf.Tensor(-0.1300964, shape=(), dtype=float32)\n",
      "tf.Tensor(-0.36976913, shape=(), dtype=float32)\n",
      "tf.Tensor(0.50119716, shape=(), dtype=float32)\n",
      "tf.Tensor(-0.16831304, shape=(), dtype=float32)\n",
      "tf.Tensor(-0.16762689, shape=(), dtype=float32)\n",
      "tf.Tensor(-0.50694597, shape=(), dtype=float32)\n",
      "tf.Tensor(-0.19392566, shape=(), dtype=float32)\n",
      "tf.Tensor(0.039774913, shape=(), dtype=float32)\n",
      "tf.Tensor(-0.14946893, shape=(), dtype=float32)\n",
      "tf.Tensor(-0.13330756, shape=(), dtype=float32)\n",
      "tf.Tensor(0.16460656, shape=(), dtype=float32)\n",
      "tf.Tensor(-0.19120665, shape=(), dtype=float32)\n",
      "tf.Tensor(0.07519305, shape=(), dtype=float32)\n",
      "tf.Tensor(-0.6517877, shape=(), dtype=float32)\n",
      "tf.Tensor(0.22056869, shape=(), dtype=float32)\n",
      "tf.Tensor(0.7538887, shape=(), dtype=float32)\n",
      "tf.Tensor(-0.2893723, shape=(), dtype=float32)\n",
      "tf.Tensor(0.6663568, shape=(), dtype=float32)\n",
      "tf.Tensor(-0.38217366, shape=(), dtype=float32)\n",
      "tf.Tensor(-0.37197208, shape=(), dtype=float32)\n",
      "tf.Tensor(0.5929154, shape=(), dtype=float32)\n",
      "tf.Tensor(-0.63809496, shape=(), dtype=float32)\n",
      "tf.Tensor(-0.39245066, shape=(), dtype=float32)\n",
      "tf.Tensor(-0.5022543, shape=(), dtype=float32)\n",
      "tf.Tensor(0.103529066, shape=(), dtype=float32)\n",
      "tf.Tensor(-0.79687595, shape=(), dtype=float32)\n",
      "tf.Tensor(-0.80806065, shape=(), dtype=float32)\n",
      "tf.Tensor(0.4742195, shape=(), dtype=float32)\n",
      "tf.Tensor(0.22493061, shape=(), dtype=float32)\n",
      "tf.Tensor(0.05113683, shape=(), dtype=float32)\n",
      "tf.Tensor(0.15604734, shape=(), dtype=float32)\n",
      "tf.Tensor(-0.32998788, shape=(), dtype=float32)\n",
      "tf.Tensor(-0.50030315, shape=(), dtype=float32)\n",
      "tf.Tensor(-0.17183839, shape=(), dtype=float32)\n",
      "tf.Tensor(0.4242644, shape=(), dtype=float32)\n",
      "tf.Tensor(0.11629904, shape=(), dtype=float32)\n",
      "tf.Tensor(-0.51542664, shape=(), dtype=float32)\n",
      "tf.Tensor(-0.31687602, shape=(), dtype=float32)\n",
      "tf.Tensor(-0.6792921, shape=(), dtype=float32)\n",
      "tf.Tensor(-0.57297444, shape=(), dtype=float32)\n",
      "tf.Tensor(0.61994576, shape=(), dtype=float32)\n",
      "tf.Tensor(0.31475517, shape=(), dtype=float32)\n",
      "tf.Tensor(0.2171896, shape=(), dtype=float32)\n",
      "tf.Tensor(0.5659776, shape=(), dtype=float32)\n",
      "tf.Tensor(0.2784211, shape=(), dtype=float32)\n",
      "tf.Tensor(-0.124632776, shape=(), dtype=float32)\n",
      "tf.Tensor(0.31671703, shape=(), dtype=float32)\n",
      "tf.Tensor(-0.9281979, shape=(), dtype=float32)\n",
      "tf.Tensor(0.2779422, shape=(), dtype=float32)\n",
      "tf.Tensor(-0.64737356, shape=(), dtype=float32)\n",
      "tf.Tensor(0.8355715, shape=(), dtype=float32)\n",
      "tf.Tensor(-0.29152265, shape=(), dtype=float32)\n",
      "tf.Tensor(-0.29387546, shape=(), dtype=float32)\n",
      "tf.Tensor(0.48912156, shape=(), dtype=float32)\n",
      "tf.Tensor(-0.79582924, shape=(), dtype=float32)\n",
      "tf.Tensor(-0.5667785, shape=(), dtype=float32)\n",
      "tf.Tensor(0.36924797, shape=(), dtype=float32)\n",
      "tf.Tensor(-0.29603988, shape=(), dtype=float32)\n",
      "tf.Tensor(0.62633616, shape=(), dtype=float32)\n",
      "tf.Tensor(0.45524463, shape=(), dtype=float32)\n",
      "tf.Tensor(-0.4335278, shape=(), dtype=float32)\n",
      "tf.Tensor(-0.06882369, shape=(), dtype=float32)\n",
      "tf.Tensor(0.87111187, shape=(), dtype=float32)\n",
      "tf.Tensor(0.27745932, shape=(), dtype=float32)\n",
      "tf.Tensor(0.96386003, shape=(), dtype=float32)\n",
      "tf.Tensor(0.50509393, shape=(), dtype=float32)\n",
      "tf.Tensor(0.6172347, shape=(), dtype=float32)\n",
      "tf.Tensor(-0.9334225, shape=(), dtype=float32)\n",
      "tf.Tensor(0.3321045, shape=(), dtype=float32)\n",
      "tf.Tensor(-0.31602335, shape=(), dtype=float32)\n",
      "tf.Tensor(0.2258763, shape=(), dtype=float32)\n",
      "tf.Tensor(-0.23301722, shape=(), dtype=float32)\n",
      "tf.Tensor(0.86676717, shape=(), dtype=float32)\n",
      "tf.Tensor(0.28776813, shape=(), dtype=float32)\n",
      "tf.Tensor(-0.40124902, shape=(), dtype=float32)\n",
      "tf.Tensor(0.88215744, shape=(), dtype=float32)\n",
      "tf.Tensor(0.03163427, shape=(), dtype=float32)\n",
      "tf.Tensor(-0.47293654, shape=(), dtype=float32)\n",
      "tf.Tensor(-0.47339937, shape=(), dtype=float32)\n",
      "tf.Tensor(0.36576995, shape=(), dtype=float32)\n",
      "tf.Tensor(-0.9541224, shape=(), dtype=float32)\n",
      "tf.Tensor(0.20593049, shape=(), dtype=float32)\n",
      "tf.Tensor(0.18069974, shape=(), dtype=float32)\n",
      "tf.Tensor(0.013168315, shape=(), dtype=float32)\n",
      "tf.Tensor(0.44761992, shape=(), dtype=float32)\n",
      "tf.Tensor(0.36290786, shape=(), dtype=float32)\n",
      "tf.Tensor(-0.7933792, shape=(), dtype=float32)\n",
      "tf.Tensor(0.9185057, shape=(), dtype=float32)\n",
      "tf.Tensor(0.27037513, shape=(), dtype=float32)\n",
      "tf.Tensor(-0.96606976, shape=(), dtype=float32)\n",
      "tf.Tensor(0.48017564, shape=(), dtype=float32)\n",
      "tf.Tensor(-0.55320024, shape=(), dtype=float32)\n",
      "tf.Tensor(-0.5766465, shape=(), dtype=float32)\n",
      "tf.Tensor(-0.38986525, shape=(), dtype=float32)\n",
      "tf.Tensor(0.112699926, shape=(), dtype=float32)\n",
      "tf.Tensor(-0.31223494, shape=(), dtype=float32)\n",
      "tf.Tensor(-0.12185521, shape=(), dtype=float32)\n",
      "tf.Tensor(-0.37836972, shape=(), dtype=float32)\n",
      "tf.Tensor(-0.053161737, shape=(), dtype=float32)\n",
      "tf.Tensor(-0.61383677, shape=(), dtype=float32)\n",
      "tf.Tensor(0.39188573, shape=(), dtype=float32)\n",
      "tf.Tensor(0.05595082, shape=(), dtype=float32)\n",
      "tf.Tensor(0.12684855, shape=(), dtype=float32)\n",
      "tf.Tensor(-0.09197536, shape=(), dtype=float32)\n",
      "tf.Tensor(-0.3404728, shape=(), dtype=float32)\n",
      "tf.Tensor(-0.5345925, shape=(), dtype=float32)\n",
      "tf.Tensor(0.08309358, shape=(), dtype=float32)\n",
      "tf.Tensor(-0.8030361, shape=(), dtype=float32)\n",
      "tf.Tensor(0.41712463, shape=(), dtype=float32)\n",
      "tf.Tensor(-0.95986277, shape=(), dtype=float32)\n",
      "tf.Tensor(-0.07845533, shape=(), dtype=float32)\n",
      "tf.Tensor(0.22067195, shape=(), dtype=float32)\n",
      "tf.Tensor(0.070272386, shape=(), dtype=float32)\n",
      "tf.Tensor(0.58802354, shape=(), dtype=float32)\n",
      "tf.Tensor(-0.21443531, shape=(), dtype=float32)\n",
      "tf.Tensor(-0.09632073, shape=(), dtype=float32)\n",
      "tf.Tensor(0.41091627, shape=(), dtype=float32)\n",
      "tf.Tensor(-0.1547515, shape=(), dtype=float32)\n",
      "tf.Tensor(0.05320286, shape=(), dtype=float32)\n",
      "tf.Tensor(0.03796014, shape=(), dtype=float32)\n",
      "tf.Tensor(0.628937, shape=(), dtype=float32)\n",
      "tf.Tensor(-0.14785819, shape=(), dtype=float32)\n",
      "tf.Tensor(-0.23098674, shape=(), dtype=float32)\n",
      "tf.Tensor(-0.024281835, shape=(), dtype=float32)\n",
      "tf.Tensor(0.5979411, shape=(), dtype=float32)\n",
      "tf.Tensor(0.13273984, shape=(), dtype=float32)\n",
      "tf.Tensor(0.14553158, shape=(), dtype=float32)\n",
      "tf.Tensor(-0.559515, shape=(), dtype=float32)\n",
      "tf.Tensor(0.32010257, shape=(), dtype=float32)\n",
      "tf.Tensor(-0.18463464, shape=(), dtype=float32)\n",
      "tf.Tensor(0.40193018, shape=(), dtype=float32)\n",
      "tf.Tensor(-0.9736091, shape=(), dtype=float32)\n",
      "tf.Tensor(-0.23576687, shape=(), dtype=float32)\n",
      "tf.Tensor(-0.25079605, shape=(), dtype=float32)\n",
      "tf.Tensor(0.6618898, shape=(), dtype=float32)\n",
      "tf.Tensor(-0.25069326, shape=(), dtype=float32)\n",
      "tf.Tensor(0.5270922, shape=(), dtype=float32)\n",
      "tf.Tensor(0.5587896, shape=(), dtype=float32)\n",
      "tf.Tensor(0.37683293, shape=(), dtype=float32)\n",
      "tf.Tensor(-0.24050139, shape=(), dtype=float32)\n",
      "tf.Tensor(-0.3870681, shape=(), dtype=float32)\n",
      "tf.Tensor(0.11756595, shape=(), dtype=float32)\n",
      "tf.Tensor(-0.5013233, shape=(), dtype=float32)\n",
      "tf.Tensor(0.24777073, shape=(), dtype=float32)\n",
      "tf.Tensor(-0.2370598, shape=(), dtype=float32)\n",
      "tf.Tensor(-0.56905884, shape=(), dtype=float32)\n",
      "tf.Tensor(0.6621443, shape=(), dtype=float32)\n",
      "tf.Tensor(-0.5770629, shape=(), dtype=float32)\n",
      "tf.Tensor(-0.061357856, shape=(), dtype=float32)\n",
      "tf.Tensor(-0.6004518, shape=(), dtype=float32)\n",
      "tf.Tensor(-0.055004112, shape=(), dtype=float32)\n",
      "tf.Tensor(0.7695766, shape=(), dtype=float32)\n",
      "tf.Tensor(-0.98374593, shape=(), dtype=float32)\n",
      "tf.Tensor(0.010758119, shape=(), dtype=float32)\n",
      "tf.Tensor(0.40161112, shape=(), dtype=float32)\n",
      "tf.Tensor(0.110685, shape=(), dtype=float32)\n",
      "tf.Tensor(0.39469182, shape=(), dtype=float32)\n",
      "tf.Tensor(0.29105487, shape=(), dtype=float32)\n",
      "tf.Tensor(0.71628356, shape=(), dtype=float32)\n",
      "tf.Tensor(-0.60780644, shape=(), dtype=float32)\n",
      "tf.Tensor(-0.18328336, shape=(), dtype=float32)\n",
      "tf.Tensor(0.35776287, shape=(), dtype=float32)\n",
      "tf.Tensor(0.36729333, shape=(), dtype=float32)\n",
      "tf.Tensor(-0.2555108, shape=(), dtype=float32)\n",
      "tf.Tensor(0.587183, shape=(), dtype=float32)\n",
      "tf.Tensor(-0.37706065, shape=(), dtype=float32)\n",
      "tf.Tensor(-0.12214068, shape=(), dtype=float32)\n",
      "tf.Tensor(-0.13902588, shape=(), dtype=float32)\n",
      "tf.Tensor(-0.53999794, shape=(), dtype=float32)\n",
      "tf.Tensor(0.3495165, shape=(), dtype=float32)\n",
      "tf.Tensor(0.77385676, shape=(), dtype=float32)\n",
      "tf.Tensor(0.15395324, shape=(), dtype=float32)\n",
      "tf.Tensor(-0.38512456, shape=(), dtype=float32)\n",
      "tf.Tensor(0.43365473, shape=(), dtype=float32)\n",
      "tf.Tensor(0.06762262, shape=(), dtype=float32)\n",
      "tf.Tensor(-0.018096723, shape=(), dtype=float32)\n",
      "tf.Tensor(-0.4080854, shape=(), dtype=float32)\n",
      "tf.Tensor(-0.62968856, shape=(), dtype=float32)\n",
      "tf.Tensor(-0.042972613, shape=(), dtype=float32)\n",
      "tf.Tensor(-0.28422338, shape=(), dtype=float32)\n",
      "tf.Tensor(0.7657223, shape=(), dtype=float32)\n",
      "tf.Tensor(0.09566034, shape=(), dtype=float32)\n",
      "tf.Tensor(-0.536164, shape=(), dtype=float32)\n",
      "tf.Tensor(0.7373731, shape=(), dtype=float32)\n",
      "tf.Tensor(0.06385598, shape=(), dtype=float32)\n",
      "tf.Tensor(0.06566524, shape=(), dtype=float32)\n",
      "tf.Tensor(-0.025589904, shape=(), dtype=float32)\n",
      "tf.Tensor(0.5233682, shape=(), dtype=float32)\n",
      "tf.Tensor(-0.7851472, shape=(), dtype=float32)\n",
      "tf.Tensor(0.07990741, shape=(), dtype=float32)\n",
      "tf.Tensor(-0.36298585, shape=(), dtype=float32)\n",
      "tf.Tensor(0.9275168, shape=(), dtype=float32)\n",
      "tf.Tensor(-0.6429911, shape=(), dtype=float32)\n",
      "tf.Tensor(0.27807596, shape=(), dtype=float32)\n",
      "tf.Tensor(0.89977586, shape=(), dtype=float32)\n",
      "tf.Tensor(-0.35822877, shape=(), dtype=float32)\n",
      "tf.Tensor(0.47988853, shape=(), dtype=float32)\n",
      "tf.Tensor(0.40031457, shape=(), dtype=float32)\n",
      "tf.Tensor(-0.041326974, shape=(), dtype=float32)\n",
      "tf.Tensor(0.0111378115, shape=(), dtype=float32)\n",
      "tf.Tensor(-0.26738718, shape=(), dtype=float32)\n",
      "tf.Tensor(-0.5432076, shape=(), dtype=float32)\n",
      "tf.Tensor(-0.36649156, shape=(), dtype=float32)\n",
      "tf.Tensor(0.32727376, shape=(), dtype=float32)\n",
      "tf.Tensor(0.99145466, shape=(), dtype=float32)\n",
      "tf.Tensor(-0.6514106, shape=(), dtype=float32)\n",
      "tf.Tensor(0.17128569, shape=(), dtype=float32)\n",
      "tf.Tensor(0.36130545, shape=(), dtype=float32)\n",
      "tf.Tensor(0.46792185, shape=(), dtype=float32)\n",
      "tf.Tensor(-0.3233439, shape=(), dtype=float32)\n",
      "tf.Tensor(-0.52102673, shape=(), dtype=float32)\n",
      "tf.Tensor(0.62962246, shape=(), dtype=float32)\n",
      "tf.Tensor(0.4312389, shape=(), dtype=float32)\n",
      "tf.Tensor(-0.657167, shape=(), dtype=float32)\n",
      "tf.Tensor(0.34038687, shape=(), dtype=float32)\n",
      "tf.Tensor(-0.23616579, shape=(), dtype=float32)\n",
      "tf.Tensor(0.13374494, shape=(), dtype=float32)\n",
      "tf.Tensor(-0.60248256, shape=(), dtype=float32)\n",
      "tf.Tensor(0.51362777, shape=(), dtype=float32)\n",
      "tf.Tensor(0.15346292, shape=(), dtype=float32)\n",
      "tf.Tensor(0.28229254, shape=(), dtype=float32)\n",
      "tf.Tensor(-0.5566648, shape=(), dtype=float32)\n",
      "tf.Tensor(0.00992474, shape=(), dtype=float32)\n",
      "tf.Tensor(-0.29195195, shape=(), dtype=float32)\n",
      "tf.Tensor(-0.53291553, shape=(), dtype=float32)\n",
      "tf.Tensor(0.45922557, shape=(), dtype=float32)\n",
      "tf.Tensor(0.4835451, shape=(), dtype=float32)\n",
      "tf.Tensor(0.12320161, shape=(), dtype=float32)\n",
      "tf.Tensor(0.41947153, shape=(), dtype=float32)\n",
      "tf.Tensor(0.49766818, shape=(), dtype=float32)\n",
      "tf.Tensor(-0.5869906, shape=(), dtype=float32)\n",
      "tf.Tensor(-0.13188727, shape=(), dtype=float32)\n",
      "tf.Tensor(0.06109159, shape=(), dtype=float32)\n",
      "tf.Tensor(0.11369037, shape=(), dtype=float32)\n",
      "tf.Tensor(-0.23655125, shape=(), dtype=float32)\n",
      "tf.Tensor(-0.635415, shape=(), dtype=float32)\n",
      "tf.Tensor(0.5202668, shape=(), dtype=float32)\n",
      "tf.Tensor(0.5972036, shape=(), dtype=float32)\n",
      "tf.Tensor(0.2518989, shape=(), dtype=float32)\n",
      "tf.Tensor(0.049778532, shape=(), dtype=float32)\n",
      "tf.Tensor(0.2593534, shape=(), dtype=float32)\n",
      "tf.Tensor(-0.6082662, shape=(), dtype=float32)\n",
      "tf.Tensor(0.28379974, shape=(), dtype=float32)\n",
      "tf.Tensor(0.053641446, shape=(), dtype=float32)\n",
      "tf.Tensor(0.39459017, shape=(), dtype=float32)\n",
      "tf.Tensor(0.213534, shape=(), dtype=float32)\n",
      "tf.Tensor(-0.29458293, shape=(), dtype=float32)\n",
      "tf.Tensor(0.58735263, shape=(), dtype=float32)\n",
      "tf.Tensor(-0.6744561, shape=(), dtype=float32)\n",
      "tf.Tensor(0.24249442, shape=(), dtype=float32)\n",
      "tf.Tensor(-0.076830484, shape=(), dtype=float32)\n",
      "tf.Tensor(-0.6890103, shape=(), dtype=float32)\n",
      "tf.Tensor(-0.61252683, shape=(), dtype=float32)\n",
      "tf.Tensor(-0.1325813, shape=(), dtype=float32)\n",
      "tf.Tensor(-0.55242836, shape=(), dtype=float32)\n",
      "tf.Tensor(0.33977234, shape=(), dtype=float32)\n",
      "tf.Tensor(0.4297217, shape=(), dtype=float32)\n",
      "tf.Tensor(-0.22605824, shape=(), dtype=float32)\n",
      "tf.Tensor(-0.7081045, shape=(), dtype=float32)\n",
      "tf.Tensor(0.039887924, shape=(), dtype=float32)\n",
      "tf.Tensor(-0.8389498, shape=(), dtype=float32)\n",
      "tf.Tensor(0.75435, shape=(), dtype=float32)\n",
      "tf.Tensor(0.21155879, shape=(), dtype=float32)\n",
      "tf.Tensor(0.6179398, shape=(), dtype=float32)\n",
      "tf.Tensor(-0.2395735, shape=(), dtype=float32)\n",
      "tf.Tensor(-0.37627545, shape=(), dtype=float32)\n",
      "tf.Tensor(-0.09394658, shape=(), dtype=float32)\n",
      "tf.Tensor(0.46274918, shape=(), dtype=float32)\n",
      "tf.Tensor(-0.2297964, shape=(), dtype=float32)\n",
      "tf.Tensor(-0.2212965, shape=(), dtype=float32)\n",
      "tf.Tensor(0.18514128, shape=(), dtype=float32)\n",
      "tf.Tensor(-0.049009103, shape=(), dtype=float32)\n",
      "tf.Tensor(0.3428291, shape=(), dtype=float32)\n",
      "tf.Tensor(-0.41976845, shape=(), dtype=float32)\n",
      "tf.Tensor(0.18785962, shape=(), dtype=float32)\n",
      "tf.Tensor(-0.6312721, shape=(), dtype=float32)\n",
      "tf.Tensor(0.008455695, shape=(), dtype=float32)\n",
      "tf.Tensor(-0.7044459, shape=(), dtype=float32)\n",
      "tf.Tensor(0.12724213, shape=(), dtype=float32)\n",
      "tf.Tensor(-0.47077078, shape=(), dtype=float32)\n",
      "tf.Tensor(0.44343767, shape=(), dtype=float32)\n",
      "tf.Tensor(-0.7148085, shape=(), dtype=float32)\n",
      "tf.Tensor(-0.29980373, shape=(), dtype=float32)\n",
      "tf.Tensor(-0.31787294, shape=(), dtype=float32)\n",
      "tf.Tensor(-0.39919552, shape=(), dtype=float32)\n",
      "tf.Tensor(-0.18287905, shape=(), dtype=float32)\n",
      "tf.Tensor(0.3179562, shape=(), dtype=float32)\n",
      "tf.Tensor(-0.055022795, shape=(), dtype=float32)\n",
      "tf.Tensor(0.4484514, shape=(), dtype=float32)\n",
      "tf.Tensor(-0.092780575, shape=(), dtype=float32)\n",
      "tf.Tensor(-0.07631892, shape=(), dtype=float32)\n",
      "tf.Tensor(0.2415595, shape=(), dtype=float32)\n",
      "tf.Tensor(0.21252646, shape=(), dtype=float32)\n",
      "tf.Tensor(0.6612502, shape=(), dtype=float32)\n",
      "tf.Tensor(0.688054, shape=(), dtype=float32)\n",
      "tf.Tensor(-0.13098206, shape=(), dtype=float32)\n",
      "tf.Tensor(-0.14057918, shape=(), dtype=float32)\n",
      "tf.Tensor(-0.33806446, shape=(), dtype=float32)\n",
      "tf.Tensor(-0.4671397, shape=(), dtype=float32)\n",
      "tf.Tensor(0.15357053, shape=(), dtype=float32)\n",
      "tf.Tensor(-0.050670844, shape=(), dtype=float32)\n",
      "tf.Tensor(-0.020671228, shape=(), dtype=float32)\n",
      "tf.Tensor(0.5338808, shape=(), dtype=float32)\n",
      "tf.Tensor(0.3877341, shape=(), dtype=float32)\n",
      "tf.Tensor(0.27119702, shape=(), dtype=float32)\n",
      "tf.Tensor(-0.59337777, shape=(), dtype=float32)\n",
      "tf.Tensor(-0.40931994, shape=(), dtype=float32)\n",
      "tf.Tensor(0.35943612, shape=(), dtype=float32)\n",
      "tf.Tensor(-0.25435728, shape=(), dtype=float32)\n",
      "tf.Tensor(0.39632222, shape=(), dtype=float32)\n",
      "tf.Tensor(0.06352794, shape=(), dtype=float32)\n",
      "tf.Tensor(-0.41321042, shape=(), dtype=float32)\n",
      "tf.Tensor(-0.72793025, shape=(), dtype=float32)\n",
      "tf.Tensor(-0.47649926, shape=(), dtype=float32)\n",
      "tf.Tensor(-0.083820306, shape=(), dtype=float32)\n",
      "tf.Tensor(-0.044387393, shape=(), dtype=float32)\n",
      "tf.Tensor(0.31317973, shape=(), dtype=float32)\n",
      "tf.Tensor(-0.10420398, shape=(), dtype=float32)\n",
      "tf.Tensor(-0.12487808, shape=(), dtype=float32)\n",
      "tf.Tensor(0.030790119, shape=(), dtype=float32)\n",
      "tf.Tensor(0.45452842, shape=(), dtype=float32)\n",
      "tf.Tensor(0.27807525, shape=(), dtype=float32)\n",
      "tf.Tensor(0.1442208, shape=(), dtype=float32)\n",
      "tf.Tensor(0.33579215, shape=(), dtype=float32)\n",
      "tf.Tensor(0.06588481, shape=(), dtype=float32)\n",
      "tf.Tensor(0.8837667, shape=(), dtype=float32)\n",
      "tf.Tensor(-0.7713272, shape=(), dtype=float32)\n",
      "tf.Tensor(-0.37733054, shape=(), dtype=float32)\n",
      "tf.Tensor(0.3431014, shape=(), dtype=float32)\n",
      "tf.Tensor(-0.7970096, shape=(), dtype=float32)\n",
      "tf.Tensor(0.5652968, shape=(), dtype=float32)\n",
      "tf.Tensor(0.61417204, shape=(), dtype=float32)\n",
      "tf.Tensor(0.28832635, shape=(), dtype=float32)\n",
      "tf.Tensor(-0.25376955, shape=(), dtype=float32)\n",
      "tf.Tensor(-0.30155575, shape=(), dtype=float32)\n",
      "tf.Tensor(-0.3735063, shape=(), dtype=float32)\n",
      "tf.Tensor(0.66842747, shape=(), dtype=float32)\n",
      "tf.Tensor(0.2540804, shape=(), dtype=float32)\n",
      "tf.Tensor(-0.59608656, shape=(), dtype=float32)\n",
      "tf.Tensor(-0.45591372, shape=(), dtype=float32)\n",
      "tf.Tensor(0.077075765, shape=(), dtype=float32)\n",
      "tf.Tensor(0.7140211, shape=(), dtype=float32)\n",
      "tf.Tensor(-0.53130126, shape=(), dtype=float32)\n",
      "tf.Tensor(-0.1826784, shape=(), dtype=float32)\n",
      "tf.Tensor(0.2287808, shape=(), dtype=float32)\n",
      "tf.Tensor(0.04692522, shape=(), dtype=float32)\n",
      "tf.Tensor(0.12932995, shape=(), dtype=float32)\n",
      "tf.Tensor(0.4091798, shape=(), dtype=float32)\n",
      "tf.Tensor(-0.042834193, shape=(), dtype=float32)\n",
      "tf.Tensor(0.03487104, shape=(), dtype=float32)\n",
      "tf.Tensor(-0.06760699, shape=(), dtype=float32)\n",
      "tf.Tensor(-0.20295104, shape=(), dtype=float32)\n",
      "tf.Tensor(0.21756104, shape=(), dtype=float32)\n",
      "tf.Tensor(-0.69766366, shape=(), dtype=float32)\n",
      "tf.Tensor(0.40576467, shape=(), dtype=float32)\n",
      "tf.Tensor(0.9434218, shape=(), dtype=float32)\n",
      "tf.Tensor(0.83524233, shape=(), dtype=float32)\n",
      "tf.Tensor(0.5602067, shape=(), dtype=float32)\n",
      "tf.Tensor(0.24921925, shape=(), dtype=float32)\n",
      "tf.Tensor(-0.15406471, shape=(), dtype=float32)\n",
      "tf.Tensor(-0.21462288, shape=(), dtype=float32)\n",
      "tf.Tensor(-0.1544509, shape=(), dtype=float32)\n",
      "tf.Tensor(0.26903525, shape=(), dtype=float32)\n",
      "tf.Tensor(-0.08334161, shape=(), dtype=float32)\n",
      "tf.Tensor(-0.35596696, shape=(), dtype=float32)\n",
      "tf.Tensor(-0.42100713, shape=(), dtype=float32)\n",
      "tf.Tensor(-0.72989964, shape=(), dtype=float32)\n",
      "tf.Tensor(0.2744687, shape=(), dtype=float32)\n",
      "tf.Tensor(0.10973532, shape=(), dtype=float32)\n",
      "tf.Tensor(0.5070195, shape=(), dtype=float32)\n",
      "tf.Tensor(0.59737694, shape=(), dtype=float32)\n",
      "tf.Tensor(-0.11710924, shape=(), dtype=float32)\n",
      "tf.Tensor(-0.15157571, shape=(), dtype=float32)\n",
      "tf.Tensor(-0.3952975, shape=(), dtype=float32)\n",
      "tf.Tensor(0.27098772, shape=(), dtype=float32)\n",
      "tf.Tensor(0.08723881, shape=(), dtype=float32)\n",
      "tf.Tensor(0.06688586, shape=(), dtype=float32)\n",
      "tf.Tensor(-0.24158935, shape=(), dtype=float32)\n",
      "tf.Tensor(0.38196892, shape=(), dtype=float32)\n",
      "tf.Tensor(-0.21052052, shape=(), dtype=float32)\n",
      "tf.Tensor(-0.6699273, shape=(), dtype=float32)\n",
      "tf.Tensor(0.168572, shape=(), dtype=float32)\n",
      "tf.Tensor(-0.17297474, shape=(), dtype=float32)\n",
      "tf.Tensor(-0.07519429, shape=(), dtype=float32)\n",
      "tf.Tensor(0.47171387, shape=(), dtype=float32)\n",
      "tf.Tensor(0.54168683, shape=(), dtype=float32)\n",
      "tf.Tensor(0.28238124, shape=(), dtype=float32)\n",
      "tf.Tensor(0.02277545, shape=(), dtype=float32)\n",
      "tf.Tensor(0.9787758, shape=(), dtype=float32)\n",
      "tf.Tensor(-0.4945433, shape=(), dtype=float32)\n",
      "tf.Tensor(0.05287971, shape=(), dtype=float32)\n",
      "tf.Tensor(-0.37647247, shape=(), dtype=float32)\n",
      "tf.Tensor(0.77768904, shape=(), dtype=float32)\n",
      "tf.Tensor(-0.08378672, shape=(), dtype=float32)\n",
      "tf.Tensor(0.13587584, shape=(), dtype=float32)\n",
      "tf.Tensor(-0.14765908, shape=(), dtype=float32)\n",
      "tf.Tensor(0.6053877, shape=(), dtype=float32)\n",
      "tf.Tensor(-0.4716835, shape=(), dtype=float32)\n",
      "tf.Tensor(-0.36548617, shape=(), dtype=float32)\n",
      "tf.Tensor(0.55857676, shape=(), dtype=float32)\n",
      "tf.Tensor(0.23258856, shape=(), dtype=float32)\n",
      "tf.Tensor(0.7765452, shape=(), dtype=float32)\n",
      "tf.Tensor(0.02907068, shape=(), dtype=float32)\n",
      "tf.Tensor(-0.22928905, shape=(), dtype=float32)\n",
      "tf.Tensor(0.56166536, shape=(), dtype=float32)\n",
      "tf.Tensor(-0.9269678, shape=(), dtype=float32)\n",
      "tf.Tensor(0.0517036, shape=(), dtype=float32)\n",
      "tf.Tensor(-0.34704322, shape=(), dtype=float32)\n",
      "tf.Tensor(-0.9207521, shape=(), dtype=float32)\n",
      "tf.Tensor(0.7914735, shape=(), dtype=float32)\n",
      "tf.Tensor(-0.14714241, shape=(), dtype=float32)\n",
      "tf.Tensor(-0.4156992, shape=(), dtype=float32)\n",
      "tf.Tensor(-0.034567386, shape=(), dtype=float32)\n",
      "tf.Tensor(-0.5560972, shape=(), dtype=float32)\n",
      "tf.Tensor(0.60002214, shape=(), dtype=float32)\n",
      "tf.Tensor(-0.31585962, shape=(), dtype=float32)\n",
      "tf.Tensor(0.34599718, shape=(), dtype=float32)\n",
      "tf.Tensor(0.8115734, shape=(), dtype=float32)\n",
      "tf.Tensor(-0.13779998, shape=(), dtype=float32)\n",
      "tf.Tensor(-0.12013936, shape=(), dtype=float32)\n",
      "tf.Tensor(-0.064355165, shape=(), dtype=float32)\n",
      "tf.Tensor(-0.28656825, shape=(), dtype=float32)\n",
      "tf.Tensor(-0.12911974, shape=(), dtype=float32)\n",
      "tf.Tensor(-0.22829697, shape=(), dtype=float32)\n",
      "tf.Tensor(-0.845209, shape=(), dtype=float32)\n",
      "tf.Tensor(0.3120443, shape=(), dtype=float32)\n",
      "tf.Tensor(0.4095085, shape=(), dtype=float32)\n",
      "tf.Tensor(-0.5067642, shape=(), dtype=float32)\n",
      "tf.Tensor(-0.23054631, shape=(), dtype=float32)\n",
      "tf.Tensor(-0.015428914, shape=(), dtype=float32)\n",
      "tf.Tensor(-0.18374163, shape=(), dtype=float32)\n",
      "tf.Tensor(0.76309043, shape=(), dtype=float32)\n",
      "tf.Tensor(0.32296884, shape=(), dtype=float32)\n",
      "tf.Tensor(0.41742426, shape=(), dtype=float32)\n",
      "tf.Tensor(0.2217085, shape=(), dtype=float32)\n",
      "tf.Tensor(-0.19624874, shape=(), dtype=float32)\n",
      "tf.Tensor(0.37493417, shape=(), dtype=float32)\n",
      "tf.Tensor(-0.06330538, shape=(), dtype=float32)\n",
      "tf.Tensor(0.89839053, shape=(), dtype=float32)\n",
      "tf.Tensor(0.06793076, shape=(), dtype=float32)\n",
      "tf.Tensor(0.30012774, shape=(), dtype=float32)\n",
      "tf.Tensor(0.027122106, shape=(), dtype=float32)\n",
      "tf.Tensor(-0.105867796, shape=(), dtype=float32)\n",
      "tf.Tensor(-0.037635025, shape=(), dtype=float32)\n",
      "tf.Tensor(0.9553362, shape=(), dtype=float32)\n",
      "tf.Tensor(-0.70978105, shape=(), dtype=float32)\n",
      "tf.Tensor(0.41493154, shape=(), dtype=float32)\n",
      "tf.Tensor(-0.14410587, shape=(), dtype=float32)\n",
      "tf.Tensor(0.60122806, shape=(), dtype=float32)\n",
      "tf.Tensor(-0.23304549, shape=(), dtype=float32)\n",
      "tf.Tensor(0.6336788, shape=(), dtype=float32)\n",
      "tf.Tensor(-0.16256711, shape=(), dtype=float32)\n",
      "tf.Tensor(0.3189713, shape=(), dtype=float32)\n",
      "tf.Tensor(-0.22632204, shape=(), dtype=float32)\n",
      "tf.Tensor(-0.87020665, shape=(), dtype=float32)\n",
      "tf.Tensor(0.48442614, shape=(), dtype=float32)\n",
      "tf.Tensor(0.33658123, shape=(), dtype=float32)\n",
      "tf.Tensor(-0.28665245, shape=(), dtype=float32)\n",
      "tf.Tensor(-0.8072634, shape=(), dtype=float32)\n",
      "tf.Tensor(-0.16353285, shape=(), dtype=float32)\n",
      "tf.Tensor(0.35170147, shape=(), dtype=float32)\n",
      "tf.Tensor(0.048603002, shape=(), dtype=float32)\n",
      "tf.Tensor(-0.2522051, shape=(), dtype=float32)\n",
      "tf.Tensor(0.45422405, shape=(), dtype=float32)\n",
      "tf.Tensor(-0.36763862, shape=(), dtype=float32)\n",
      "tf.Tensor(0.4083651, shape=(), dtype=float32)\n",
      "tf.Tensor(0.24711089, shape=(), dtype=float32)\n",
      "tf.Tensor(-0.042547077, shape=(), dtype=float32)\n",
      "tf.Tensor(0.56731945, shape=(), dtype=float32)\n",
      "tf.Tensor(0.42630607, shape=(), dtype=float32)\n",
      "tf.Tensor(0.41052824, shape=(), dtype=float32)\n",
      "tf.Tensor(0.20015113, shape=(), dtype=float32)\n",
      "tf.Tensor(-0.6060764, shape=(), dtype=float32)\n",
      "tf.Tensor(0.6114389, shape=(), dtype=float32)\n",
      "tf.Tensor(0.10289562, shape=(), dtype=float32)\n",
      "tf.Tensor(-0.35642612, shape=(), dtype=float32)\n",
      "tf.Tensor(0.16822621, shape=(), dtype=float32)\n",
      "tf.Tensor(0.3325502, shape=(), dtype=float32)\n",
      "tf.Tensor(-0.42247903, shape=(), dtype=float32)\n",
      "tf.Tensor(0.45981127, shape=(), dtype=float32)\n",
      "tf.Tensor(0.1701828, shape=(), dtype=float32)\n",
      "tf.Tensor(0.61999637, shape=(), dtype=float32)\n",
      "tf.Tensor(-0.061158095, shape=(), dtype=float32)\n",
      "tf.Tensor(-0.18675052, shape=(), dtype=float32)\n",
      "tf.Tensor(0.2650246, shape=(), dtype=float32)\n",
      "tf.Tensor(0.8409941, shape=(), dtype=float32)\n",
      "tf.Tensor(-0.28935343, shape=(), dtype=float32)\n",
      "tf.Tensor(-0.18861698, shape=(), dtype=float32)\n",
      "tf.Tensor(-0.8894475, shape=(), dtype=float32)\n",
      "tf.Tensor(-0.5665065, shape=(), dtype=float32)\n",
      "tf.Tensor(-0.51301575, shape=(), dtype=float32)\n",
      "tf.Tensor(-0.12508605, shape=(), dtype=float32)\n",
      "tf.Tensor(0.06103481, shape=(), dtype=float32)\n",
      "tf.Tensor(0.22163017, shape=(), dtype=float32)\n",
      "tf.Tensor(-0.2115012, shape=(), dtype=float32)\n",
      "tf.Tensor(-0.5108003, shape=(), dtype=float32)\n",
      "tf.Tensor(-0.11585754, shape=(), dtype=float32)\n",
      "tf.Tensor(-0.43038046, shape=(), dtype=float32)\n",
      "tf.Tensor(0.22454536, shape=(), dtype=float32)\n",
      "tf.Tensor(-0.6487599, shape=(), dtype=float32)\n",
      "tf.Tensor(0.25548533, shape=(), dtype=float32)\n",
      "tf.Tensor(0.16493434, shape=(), dtype=float32)\n",
      "tf.Tensor(0.5099624, shape=(), dtype=float32)\n",
      "tf.Tensor(-0.43642646, shape=(), dtype=float32)\n",
      "tf.Tensor(0.23337728, shape=(), dtype=float32)\n",
      "tf.Tensor(-0.4750018, shape=(), dtype=float32)\n",
      "tf.Tensor(-0.666645, shape=(), dtype=float32)\n",
      "tf.Tensor(-0.18463527, shape=(), dtype=float32)\n",
      "tf.Tensor(0.10651951, shape=(), dtype=float32)\n",
      "tf.Tensor(0.27386984, shape=(), dtype=float32)\n",
      "tf.Tensor(-0.41591948, shape=(), dtype=float32)\n",
      "tf.Tensor(-0.83004826, shape=(), dtype=float32)\n",
      "tf.Tensor(-0.35022292, shape=(), dtype=float32)\n",
      "tf.Tensor(-0.24250142, shape=(), dtype=float32)\n",
      "tf.Tensor(0.15739797, shape=(), dtype=float32)\n",
      "tf.Tensor(-0.4660894, shape=(), dtype=float32)\n",
      "tf.Tensor(0.03654721, shape=(), dtype=float32)\n",
      "tf.Tensor(0.29679254, shape=(), dtype=float32)\n",
      "tf.Tensor(-0.46048975, shape=(), dtype=float32)\n",
      "tf.Tensor(0.06054909, shape=(), dtype=float32)\n",
      "tf.Tensor(-0.3420111, shape=(), dtype=float32)\n",
      "tf.Tensor(0.35547063, shape=(), dtype=float32)\n",
      "tf.Tensor(-0.6905357, shape=(), dtype=float32)\n",
      "tf.Tensor(0.11765452, shape=(), dtype=float32)\n",
      "tf.Tensor(-0.09869629, shape=(), dtype=float32)\n",
      "tf.Tensor(-0.12775227, shape=(), dtype=float32)\n",
      "tf.Tensor(-0.064382434, shape=(), dtype=float32)\n",
      "tf.Tensor(-0.6920487, shape=(), dtype=float32)\n",
      "tf.Tensor(0.18573809, shape=(), dtype=float32)\n",
      "tf.Tensor(-0.64438707, shape=(), dtype=float32)\n",
      "tf.Tensor(-0.27103147, shape=(), dtype=float32)\n",
      "tf.Tensor(0.94026536, shape=(), dtype=float32)\n",
      "tf.Tensor(0.0023501206, shape=(), dtype=float32)\n",
      "tf.Tensor(0.022598604, shape=(), dtype=float32)\n",
      "tf.Tensor(-0.5513068, shape=(), dtype=float32)\n",
      "tf.Tensor(0.02801461, shape=(), dtype=float32)\n",
      "tf.Tensor(0.011326036, shape=(), dtype=float32)\n",
      "tf.Tensor(0.28875253, shape=(), dtype=float32)\n",
      "tf.Tensor(-0.5349373, shape=(), dtype=float32)\n",
      "tf.Tensor(0.0031048527, shape=(), dtype=float32)\n",
      "tf.Tensor(-0.21878932, shape=(), dtype=float32)\n",
      "tf.Tensor(-0.33767685, shape=(), dtype=float32)\n",
      "tf.Tensor(0.6121, shape=(), dtype=float32)\n",
      "tf.Tensor(-0.9719679, shape=(), dtype=float32)\n",
      "tf.Tensor(0.78857774, shape=(), dtype=float32)\n",
      "tf.Tensor(0.20406772, shape=(), dtype=float32)\n",
      "tf.Tensor(-0.09460026, shape=(), dtype=float32)\n",
      "tf.Tensor(0.17752077, shape=(), dtype=float32)\n",
      "tf.Tensor(0.18619879, shape=(), dtype=float32)\n",
      "tf.Tensor(0.975276, shape=(), dtype=float32)\n",
      "tf.Tensor(0.042344145, shape=(), dtype=float32)\n",
      "tf.Tensor(0.1921118, shape=(), dtype=float32)\n",
      "tf.Tensor(-0.92349076, shape=(), dtype=float32)\n",
      "tf.Tensor(0.23553374, shape=(), dtype=float32)\n",
      "tf.Tensor(-0.70710135, shape=(), dtype=float32)\n",
      "tf.Tensor(0.0031776717, shape=(), dtype=float32)\n",
      "tf.Tensor(-0.5404332, shape=(), dtype=float32)\n",
      "tf.Tensor(0.7814368, shape=(), dtype=float32)\n",
      "tf.Tensor(-0.5865523, shape=(), dtype=float32)\n",
      "tf.Tensor(-0.0018770408, shape=(), dtype=float32)\n",
      "tf.Tensor(-0.1288889, shape=(), dtype=float32)\n",
      "tf.Tensor(0.31668928, shape=(), dtype=float32)\n",
      "tf.Tensor(0.76598644, shape=(), dtype=float32)\n",
      "tf.Tensor(0.2028503, shape=(), dtype=float32)\n",
      "tf.Tensor(0.10071401, shape=(), dtype=float32)\n",
      "tf.Tensor(0.87050533, shape=(), dtype=float32)\n",
      "tf.Tensor(-0.5709883, shape=(), dtype=float32)\n",
      "tf.Tensor(0.7564938, shape=(), dtype=float32)\n",
      "tf.Tensor(0.38402033, shape=(), dtype=float32)\n",
      "tf.Tensor(-0.33925253, shape=(), dtype=float32)\n",
      "tf.Tensor(-0.778251, shape=(), dtype=float32)\n",
      "tf.Tensor(0.06723232, shape=(), dtype=float32)\n",
      "tf.Tensor(0.34297118, shape=(), dtype=float32)\n",
      "tf.Tensor(-0.21359888, shape=(), dtype=float32)\n",
      "tf.Tensor(-0.09878804, shape=(), dtype=float32)\n",
      "tf.Tensor(0.20342098, shape=(), dtype=float32)\n",
      "tf.Tensor(0.3566251, shape=(), dtype=float32)\n",
      "tf.Tensor(-0.64720994, shape=(), dtype=float32)\n",
      "tf.Tensor(-0.35764244, shape=(), dtype=float32)\n",
      "tf.Tensor(-0.30308983, shape=(), dtype=float32)\n",
      "tf.Tensor(-0.1559066, shape=(), dtype=float32)\n",
      "tf.Tensor(-0.67215055, shape=(), dtype=float32)\n",
      "tf.Tensor(0.11529252, shape=(), dtype=float32)\n",
      "tf.Tensor(0.017335873, shape=(), dtype=float32)\n",
      "tf.Tensor(-0.47256777, shape=(), dtype=float32)\n",
      "tf.Tensor(-0.20563973, shape=(), dtype=float32)\n",
      "tf.Tensor(0.21831258, shape=(), dtype=float32)\n",
      "tf.Tensor(-0.009702143, shape=(), dtype=float32)\n",
      "tf.Tensor(0.960739, shape=(), dtype=float32)\n",
      "tf.Tensor(0.030295374, shape=(), dtype=float32)\n",
      "tf.Tensor(-0.25911033, shape=(), dtype=float32)\n",
      "tf.Tensor(0.18555987, shape=(), dtype=float32)\n",
      "tf.Tensor(-0.29418704, shape=(), dtype=float32)\n",
      "tf.Tensor(0.067755766, shape=(), dtype=float32)\n",
      "tf.Tensor(-0.04050171, shape=(), dtype=float32)\n",
      "tf.Tensor(0.11234609, shape=(), dtype=float32)\n",
      "tf.Tensor(-0.8711846, shape=(), dtype=float32)\n",
      "tf.Tensor(0.5978253, shape=(), dtype=float32)\n",
      "tf.Tensor(-0.37355328, shape=(), dtype=float32)\n",
      "tf.Tensor(-0.7581381, shape=(), dtype=float32)\n",
      "tf.Tensor(0.21335205, shape=(), dtype=float32)\n",
      "tf.Tensor(-0.32315266, shape=(), dtype=float32)\n",
      "tf.Tensor(-0.4288036, shape=(), dtype=float32)\n",
      "tf.Tensor(0.7534208, shape=(), dtype=float32)\n",
      "tf.Tensor(-0.4221322, shape=(), dtype=float32)\n",
      "tf.Tensor(0.5199425, shape=(), dtype=float32)\n",
      "tf.Tensor(-0.12148055, shape=(), dtype=float32)\n",
      "tf.Tensor(-0.39338446, shape=(), dtype=float32)\n",
      "tf.Tensor(0.20456758, shape=(), dtype=float32)\n",
      "tf.Tensor(-0.022911713, shape=(), dtype=float32)\n",
      "tf.Tensor(0.1740644, shape=(), dtype=float32)\n",
      "tf.Tensor(-0.19864912, shape=(), dtype=float32)\n",
      "tf.Tensor(-0.22783647, shape=(), dtype=float32)\n",
      "tf.Tensor(-0.5508145, shape=(), dtype=float32)\n",
      "tf.Tensor(-0.2544439, shape=(), dtype=float32)\n",
      "tf.Tensor(-0.26987395, shape=(), dtype=float32)\n",
      "tf.Tensor(0.43096936, shape=(), dtype=float32)\n",
      "tf.Tensor(0.34489334, shape=(), dtype=float32)\n",
      "tf.Tensor(-0.46707904, shape=(), dtype=float32)\n",
      "tf.Tensor(-0.52544945, shape=(), dtype=float32)\n",
      "tf.Tensor(0.31877583, shape=(), dtype=float32)\n",
      "tf.Tensor(0.430989, shape=(), dtype=float32)\n",
      "tf.Tensor(0.36669394, shape=(), dtype=float32)\n",
      "tf.Tensor(0.23897463, shape=(), dtype=float32)\n",
      "tf.Tensor(0.13228965, shape=(), dtype=float32)\n",
      "tf.Tensor(-0.1299546, shape=(), dtype=float32)\n",
      "tf.Tensor(-0.9351918, shape=(), dtype=float32)\n",
      "tf.Tensor(0.06760774, shape=(), dtype=float32)\n",
      "tf.Tensor(-0.017074093, shape=(), dtype=float32)\n",
      "tf.Tensor(-0.4962385, shape=(), dtype=float32)\n",
      "tf.Tensor(0.27056473, shape=(), dtype=float32)\n",
      "tf.Tensor(-0.14436576, shape=(), dtype=float32)\n",
      "tf.Tensor(0.29396304, shape=(), dtype=float32)\n",
      "tf.Tensor(-0.24116325, shape=(), dtype=float32)\n",
      "tf.Tensor(-0.4684957, shape=(), dtype=float32)\n",
      "tf.Tensor(-0.18315008, shape=(), dtype=float32)\n",
      "tf.Tensor(-0.56255424, shape=(), dtype=float32)\n",
      "tf.Tensor(0.26665336, shape=(), dtype=float32)\n",
      "tf.Tensor(-0.067540854, shape=(), dtype=float32)\n",
      "tf.Tensor(0.11500357, shape=(), dtype=float32)\n",
      "tf.Tensor(0.22195728, shape=(), dtype=float32)\n",
      "tf.Tensor(-0.58279735, shape=(), dtype=float32)\n",
      "tf.Tensor(-0.26031932, shape=(), dtype=float32)\n",
      "tf.Tensor(-0.68053085, shape=(), dtype=float32)\n",
      "tf.Tensor(-0.30281612, shape=(), dtype=float32)\n",
      "tf.Tensor(-0.21439391, shape=(), dtype=float32)\n",
      "tf.Tensor(-0.11418459, shape=(), dtype=float32)\n",
      "tf.Tensor(0.5877449, shape=(), dtype=float32)\n",
      "tf.Tensor(-0.6047624, shape=(), dtype=float32)\n",
      "tf.Tensor(0.31651488, shape=(), dtype=float32)\n",
      "tf.Tensor(0.041196484, shape=(), dtype=float32)\n",
      "tf.Tensor(0.3074974, shape=(), dtype=float32)\n",
      "tf.Tensor(0.3994467, shape=(), dtype=float32)\n",
      "tf.Tensor(0.009558424, shape=(), dtype=float32)\n",
      "tf.Tensor(-0.82904845, shape=(), dtype=float32)\n",
      "tf.Tensor(-0.073678315, shape=(), dtype=float32)\n",
      "tf.Tensor(0.14030229, shape=(), dtype=float32)\n",
      "tf.Tensor(0.13314724, shape=(), dtype=float32)\n",
      "tf.Tensor(0.51537645, shape=(), dtype=float32)\n",
      "tf.Tensor(0.67818725, shape=(), dtype=float32)\n",
      "tf.Tensor(-0.016490975, shape=(), dtype=float32)\n",
      "tf.Tensor(0.59752333, shape=(), dtype=float32)\n",
      "tf.Tensor(-0.23070666, shape=(), dtype=float32)\n",
      "tf.Tensor(0.040989816, shape=(), dtype=float32)\n",
      "tf.Tensor(-0.07263656, shape=(), dtype=float32)\n",
      "tf.Tensor(0.010688617, shape=(), dtype=float32)\n",
      "tf.Tensor(-0.07198179, shape=(), dtype=float32)\n",
      "tf.Tensor(0.008889426, shape=(), dtype=float32)\n",
      "tf.Tensor(-0.3917764, shape=(), dtype=float32)\n",
      "tf.Tensor(0.008419412, shape=(), dtype=float32)\n",
      "tf.Tensor(-0.5407326, shape=(), dtype=float32)\n",
      "tf.Tensor(0.13144878, shape=(), dtype=float32)\n",
      "tf.Tensor(0.7305466, shape=(), dtype=float32)\n",
      "tf.Tensor(0.23440988, shape=(), dtype=float32)\n",
      "tf.Tensor(0.4409607, shape=(), dtype=float32)\n",
      "tf.Tensor(0.46141222, shape=(), dtype=float32)\n",
      "tf.Tensor(0.44654718, shape=(), dtype=float32)\n",
      "tf.Tensor(0.5206997, shape=(), dtype=float32)\n",
      "tf.Tensor(-0.18761085, shape=(), dtype=float32)\n",
      "tf.Tensor(0.11554001, shape=(), dtype=float32)\n",
      "tf.Tensor(0.046762742, shape=(), dtype=float32)\n",
      "tf.Tensor(0.5668438, shape=(), dtype=float32)\n",
      "tf.Tensor(-0.22262128, shape=(), dtype=float32)\n",
      "tf.Tensor(-0.83487, shape=(), dtype=float32)\n",
      "tf.Tensor(-0.54262275, shape=(), dtype=float32)\n",
      "tf.Tensor(-0.34927368, shape=(), dtype=float32)\n",
      "tf.Tensor(-0.27718773, shape=(), dtype=float32)\n",
      "tf.Tensor(-0.10974107, shape=(), dtype=float32)\n",
      "tf.Tensor(-0.75458544, shape=(), dtype=float32)\n",
      "tf.Tensor(0.0070352736, shape=(), dtype=float32)\n",
      "tf.Tensor(-0.22590809, shape=(), dtype=float32)\n",
      "tf.Tensor(0.57366395, shape=(), dtype=float32)\n",
      "tf.Tensor(-0.5702557, shape=(), dtype=float32)\n",
      "tf.Tensor(0.14502482, shape=(), dtype=float32)\n",
      "tf.Tensor(0.15152487, shape=(), dtype=float32)\n",
      "tf.Tensor(0.8361066, shape=(), dtype=float32)\n",
      "tf.Tensor(0.4762694, shape=(), dtype=float32)\n",
      "tf.Tensor(0.06762528, shape=(), dtype=float32)\n",
      "tf.Tensor(-0.71353626, shape=(), dtype=float32)\n",
      "tf.Tensor(0.6034473, shape=(), dtype=float32)\n",
      "tf.Tensor(0.13038258, shape=(), dtype=float32)\n",
      "tf.Tensor(-0.122559845, shape=(), dtype=float32)\n",
      "tf.Tensor(0.029277766, shape=(), dtype=float32)\n",
      "tf.Tensor(0.55747426, shape=(), dtype=float32)\n",
      "tf.Tensor(0.3407372, shape=(), dtype=float32)\n",
      "tf.Tensor(0.23781596, shape=(), dtype=float32)\n",
      "tf.Tensor(-0.79533285, shape=(), dtype=float32)\n",
      "tf.Tensor(0.67108256, shape=(), dtype=float32)\n",
      "tf.Tensor(0.49450088, shape=(), dtype=float32)\n",
      "tf.Tensor(-0.31566557, shape=(), dtype=float32)\n",
      "tf.Tensor(-0.95620906, shape=(), dtype=float32)\n",
      "tf.Tensor(-0.53570145, shape=(), dtype=float32)\n",
      "tf.Tensor(-0.6464911, shape=(), dtype=float32)\n",
      "tf.Tensor(-0.17786977, shape=(), dtype=float32)\n",
      "tf.Tensor(0.7240588, shape=(), dtype=float32)\n",
      "tf.Tensor(0.61916554, shape=(), dtype=float32)\n",
      "tf.Tensor(-0.14529186, shape=(), dtype=float32)\n",
      "tf.Tensor(0.5341435, shape=(), dtype=float32)\n",
      "tf.Tensor(0.8029608, shape=(), dtype=float32)\n",
      "tf.Tensor(0.17620154, shape=(), dtype=float32)\n",
      "tf.Tensor(0.6457599, shape=(), dtype=float32)\n",
      "tf.Tensor(-0.20956142, shape=(), dtype=float32)\n",
      "tf.Tensor(0.24683382, shape=(), dtype=float32)\n",
      "tf.Tensor(-0.3738081, shape=(), dtype=float32)\n",
      "tf.Tensor(0.83262897, shape=(), dtype=float32)\n",
      "tf.Tensor(-0.0048883855, shape=(), dtype=float32)\n",
      "tf.Tensor(-0.28696004, shape=(), dtype=float32)\n",
      "tf.Tensor(-0.5758087, shape=(), dtype=float32)\n",
      "tf.Tensor(-0.7561061, shape=(), dtype=float32)\n",
      "tf.Tensor(-0.94892555, shape=(), dtype=float32)\n",
      "tf.Tensor(-0.12209731, shape=(), dtype=float32)\n",
      "tf.Tensor(0.13403338, shape=(), dtype=float32)\n",
      "tf.Tensor(0.2429132, shape=(), dtype=float32)\n",
      "tf.Tensor(0.5294998, shape=(), dtype=float32)\n",
      "tf.Tensor(0.49325696, shape=(), dtype=float32)\n",
      "tf.Tensor(-0.10605574, shape=(), dtype=float32)\n",
      "tf.Tensor(0.06017386, shape=(), dtype=float32)\n",
      "tf.Tensor(0.026500259, shape=(), dtype=float32)\n",
      "tf.Tensor(0.26859963, shape=(), dtype=float32)\n",
      "tf.Tensor(0.64232945, shape=(), dtype=float32)\n",
      "tf.Tensor(-0.9072225, shape=(), dtype=float32)\n",
      "tf.Tensor(0.20277546, shape=(), dtype=float32)\n",
      "tf.Tensor(0.19051777, shape=(), dtype=float32)\n",
      "tf.Tensor(0.76791054, shape=(), dtype=float32)\n",
      "tf.Tensor(0.3609056, shape=(), dtype=float32)\n",
      "tf.Tensor(-0.35069242, shape=(), dtype=float32)\n",
      "tf.Tensor(0.35905886, shape=(), dtype=float32)\n",
      "tf.Tensor(0.54211277, shape=(), dtype=float32)\n",
      "tf.Tensor(0.56432927, shape=(), dtype=float32)\n",
      "tf.Tensor(0.49130386, shape=(), dtype=float32)\n",
      "tf.Tensor(-0.38082868, shape=(), dtype=float32)\n",
      "tf.Tensor(0.16748406, shape=(), dtype=float32)\n",
      "tf.Tensor(-0.10467239, shape=(), dtype=float32)\n",
      "tf.Tensor(-0.2657333, shape=(), dtype=float32)\n",
      "tf.Tensor(0.20050366, shape=(), dtype=float32)\n",
      "tf.Tensor(0.1821534, shape=(), dtype=float32)\n",
      "tf.Tensor(-0.33009642, shape=(), dtype=float32)\n",
      "tf.Tensor(-0.47657478, shape=(), dtype=float32)\n",
      "tf.Tensor(-0.0084983995, shape=(), dtype=float32)\n",
      "tf.Tensor(-0.13889526, shape=(), dtype=float32)\n",
      "tf.Tensor(-0.030516274, shape=(), dtype=float32)\n",
      "tf.Tensor(-0.40225893, shape=(), dtype=float32)\n",
      "tf.Tensor(-0.1222918, shape=(), dtype=float32)\n",
      "tf.Tensor(-0.1523294, shape=(), dtype=float32)\n",
      "tf.Tensor(-0.051360022, shape=(), dtype=float32)\n",
      "tf.Tensor(0.32890868, shape=(), dtype=float32)\n",
      "tf.Tensor(0.26407617, shape=(), dtype=float32)\n",
      "tf.Tensor(0.32690027, shape=(), dtype=float32)\n",
      "tf.Tensor(0.78157127, shape=(), dtype=float32)\n",
      "tf.Tensor(-0.03646645, shape=(), dtype=float32)\n",
      "tf.Tensor(-0.4599787, shape=(), dtype=float32)\n",
      "tf.Tensor(-0.32998472, shape=(), dtype=float32)\n",
      "tf.Tensor(0.16809863, shape=(), dtype=float32)\n",
      "tf.Tensor(0.32146245, shape=(), dtype=float32)\n",
      "tf.Tensor(-0.6262735, shape=(), dtype=float32)\n",
      "tf.Tensor(0.37973544, shape=(), dtype=float32)\n",
      "tf.Tensor(-0.931721, shape=(), dtype=float32)\n",
      "tf.Tensor(0.18200794, shape=(), dtype=float32)\n",
      "tf.Tensor(-0.37457487, shape=(), dtype=float32)\n",
      "tf.Tensor(-0.66813236, shape=(), dtype=float32)\n",
      "tf.Tensor(-0.6921062, shape=(), dtype=float32)\n",
      "tf.Tensor(0.2964281, shape=(), dtype=float32)\n",
      "tf.Tensor(-0.31603694, shape=(), dtype=float32)\n",
      "tf.Tensor(0.67367476, shape=(), dtype=float32)\n",
      "tf.Tensor(-0.38498047, shape=(), dtype=float32)\n",
      "tf.Tensor(-0.4483469, shape=(), dtype=float32)\n",
      "tf.Tensor(0.57111764, shape=(), dtype=float32)\n",
      "tf.Tensor(-0.26961425, shape=(), dtype=float32)\n",
      "tf.Tensor(0.2922214, shape=(), dtype=float32)\n",
      "tf.Tensor(-0.08121193, shape=(), dtype=float32)\n",
      "tf.Tensor(0.33637574, shape=(), dtype=float32)\n",
      "tf.Tensor(-0.4819286, shape=(), dtype=float32)\n",
      "tf.Tensor(0.5841104, shape=(), dtype=float32)\n",
      "tf.Tensor(0.284895, shape=(), dtype=float32)\n",
      "tf.Tensor(-0.55500615, shape=(), dtype=float32)\n",
      "tf.Tensor(-0.37105668, shape=(), dtype=float32)\n",
      "tf.Tensor(0.4272765, shape=(), dtype=float32)\n",
      "tf.Tensor(0.010726024, shape=(), dtype=float32)\n",
      "tf.Tensor(0.034684453, shape=(), dtype=float32)\n",
      "tf.Tensor(-0.18672827, shape=(), dtype=float32)\n",
      "tf.Tensor(-0.49849585, shape=(), dtype=float32)\n",
      "tf.Tensor(0.48511282, shape=(), dtype=float32)\n",
      "tf.Tensor(-0.55051416, shape=(), dtype=float32)\n",
      "tf.Tensor(0.10488932, shape=(), dtype=float32)\n",
      "tf.Tensor(-0.3567865, shape=(), dtype=float32)\n",
      "tf.Tensor(0.030634297, shape=(), dtype=float32)\n",
      "tf.Tensor(-0.058065463, shape=(), dtype=float32)\n",
      "tf.Tensor(0.30552042, shape=(), dtype=float32)\n",
      "tf.Tensor(0.8969247, shape=(), dtype=float32)\n",
      "tf.Tensor(0.5045934, shape=(), dtype=float32)\n",
      "tf.Tensor(-0.07630196, shape=(), dtype=float32)\n",
      "tf.Tensor(0.1478637, shape=(), dtype=float32)\n",
      "tf.Tensor(0.19466357, shape=(), dtype=float32)\n",
      "tf.Tensor(0.54354346, shape=(), dtype=float32)\n",
      "tf.Tensor(0.28368548, shape=(), dtype=float32)\n",
      "tf.Tensor(-0.12900807, shape=(), dtype=float32)\n",
      "tf.Tensor(-0.44614184, shape=(), dtype=float32)\n",
      "tf.Tensor(0.07622296, shape=(), dtype=float32)\n",
      "tf.Tensor(-0.4628564, shape=(), dtype=float32)\n",
      "tf.Tensor(0.092609785, shape=(), dtype=float32)\n",
      "tf.Tensor(0.87162733, shape=(), dtype=float32)\n",
      "tf.Tensor(0.3577997, shape=(), dtype=float32)\n",
      "tf.Tensor(-0.7715809, shape=(), dtype=float32)\n",
      "tf.Tensor(0.73744804, shape=(), dtype=float32)\n",
      "tf.Tensor(-0.3748975, shape=(), dtype=float32)\n",
      "tf.Tensor(0.43960384, shape=(), dtype=float32)\n",
      "tf.Tensor(-0.41217333, shape=(), dtype=float32)\n",
      "tf.Tensor(-0.0030365456, shape=(), dtype=float32)\n",
      "tf.Tensor(0.102808036, shape=(), dtype=float32)\n",
      "tf.Tensor(-0.25270674, shape=(), dtype=float32)\n",
      "tf.Tensor(0.8411876, shape=(), dtype=float32)\n",
      "tf.Tensor(0.44708198, shape=(), dtype=float32)\n",
      "tf.Tensor(-0.44144583, shape=(), dtype=float32)\n",
      "tf.Tensor(0.55821615, shape=(), dtype=float32)\n",
      "tf.Tensor(0.45255822, shape=(), dtype=float32)\n",
      "tf.Tensor(0.45241582, shape=(), dtype=float32)\n",
      "tf.Tensor(-0.31468216, shape=(), dtype=float32)\n",
      "tf.Tensor(0.8348277, shape=(), dtype=float32)\n",
      "tf.Tensor(0.6123179, shape=(), dtype=float32)\n",
      "tf.Tensor(-0.6295769, shape=(), dtype=float32)\n",
      "tf.Tensor(-0.24955726, shape=(), dtype=float32)\n",
      "tf.Tensor(0.72461474, shape=(), dtype=float32)\n",
      "tf.Tensor(0.0752421, shape=(), dtype=float32)\n",
      "tf.Tensor(0.7339106, shape=(), dtype=float32)\n",
      "tf.Tensor(-0.14881475, shape=(), dtype=float32)\n",
      "tf.Tensor(-0.13746427, shape=(), dtype=float32)\n",
      "tf.Tensor(-0.121261746, shape=(), dtype=float32)\n",
      "tf.Tensor(0.18493684, shape=(), dtype=float32)\n",
      "tf.Tensor(0.16012844, shape=(), dtype=float32)\n",
      "tf.Tensor(-0.20569779, shape=(), dtype=float32)\n",
      "tf.Tensor(-0.80996734, shape=(), dtype=float32)\n",
      "tf.Tensor(-0.29332277, shape=(), dtype=float32)\n",
      "tf.Tensor(-0.31315997, shape=(), dtype=float32)\n",
      "tf.Tensor(0.0010214443, shape=(), dtype=float32)\n",
      "tf.Tensor(-0.07467853, shape=(), dtype=float32)\n",
      "tf.Tensor(-0.24593149, shape=(), dtype=float32)\n",
      "tf.Tensor(-0.40453815, shape=(), dtype=float32)\n",
      "tf.Tensor(-0.05920529, shape=(), dtype=float32)\n",
      "tf.Tensor(0.3037609, shape=(), dtype=float32)\n",
      "tf.Tensor(0.33925933, shape=(), dtype=float32)\n",
      "tf.Tensor(0.66234285, shape=(), dtype=float32)\n",
      "tf.Tensor(-0.41041115, shape=(), dtype=float32)\n",
      "tf.Tensor(-0.021524504, shape=(), dtype=float32)\n",
      "tf.Tensor(0.116471246, shape=(), dtype=float32)\n",
      "tf.Tensor(0.36322814, shape=(), dtype=float32)\n",
      "tf.Tensor(0.34457797, shape=(), dtype=float32)\n",
      "tf.Tensor(-0.2484581, shape=(), dtype=float32)\n",
      "tf.Tensor(0.2712921, shape=(), dtype=float32)\n",
      "tf.Tensor(0.30933985, shape=(), dtype=float32)\n",
      "tf.Tensor(0.24194814, shape=(), dtype=float32)\n",
      "tf.Tensor(0.7742058, shape=(), dtype=float32)\n",
      "tf.Tensor(0.86788446, shape=(), dtype=float32)\n",
      "tf.Tensor(-0.2748937, shape=(), dtype=float32)\n",
      "tf.Tensor(-0.15723939, shape=(), dtype=float32)\n",
      "tf.Tensor(-0.43399376, shape=(), dtype=float32)\n",
      "tf.Tensor(0.68570185, shape=(), dtype=float32)\n",
      "tf.Tensor(0.6092034, shape=(), dtype=float32)\n",
      "tf.Tensor(-0.4169166, shape=(), dtype=float32)\n",
      "tf.Tensor(-0.525012, shape=(), dtype=float32)\n",
      "tf.Tensor(0.0072113853, shape=(), dtype=float32)\n",
      "tf.Tensor(0.48382372, shape=(), dtype=float32)\n",
      "tf.Tensor(0.0724273, shape=(), dtype=float32)\n",
      "tf.Tensor(-0.4699232, shape=(), dtype=float32)\n",
      "tf.Tensor(-0.14500661, shape=(), dtype=float32)\n",
      "tf.Tensor(-0.264083, shape=(), dtype=float32)\n",
      "tf.Tensor(-0.27824908, shape=(), dtype=float32)\n",
      "tf.Tensor(0.37608194, shape=(), dtype=float32)\n",
      "tf.Tensor(-0.26964432, shape=(), dtype=float32)\n",
      "tf.Tensor(0.010958686, shape=(), dtype=float32)\n",
      "tf.Tensor(0.07365734, shape=(), dtype=float32)\n",
      "tf.Tensor(-0.23405533, shape=(), dtype=float32)\n",
      "tf.Tensor(-0.5280336, shape=(), dtype=float32)\n",
      "tf.Tensor(-0.009633137, shape=(), dtype=float32)\n",
      "tf.Tensor(-0.50586164, shape=(), dtype=float32)\n",
      "tf.Tensor(-0.58692014, shape=(), dtype=float32)\n",
      "tf.Tensor(-0.34449342, shape=(), dtype=float32)\n",
      "tf.Tensor(0.04981933, shape=(), dtype=float32)\n",
      "tf.Tensor(0.15969022, shape=(), dtype=float32)\n",
      "tf.Tensor(-0.47941965, shape=(), dtype=float32)\n",
      "tf.Tensor(-0.040504273, shape=(), dtype=float32)\n",
      "tf.Tensor(0.56134933, shape=(), dtype=float32)\n",
      "tf.Tensor(-0.36897394, shape=(), dtype=float32)\n",
      "tf.Tensor(0.39654002, shape=(), dtype=float32)\n",
      "tf.Tensor(-0.48276395, shape=(), dtype=float32)\n",
      "tf.Tensor(0.5862376, shape=(), dtype=float32)\n",
      "tf.Tensor(-0.13404128, shape=(), dtype=float32)\n",
      "tf.Tensor(0.24419433, shape=(), dtype=float32)\n",
      "tf.Tensor(-0.29367176, shape=(), dtype=float32)\n",
      "tf.Tensor(-0.8285894, shape=(), dtype=float32)\n",
      "tf.Tensor(-0.06802725, shape=(), dtype=float32)\n",
      "tf.Tensor(-0.057848528, shape=(), dtype=float32)\n",
      "tf.Tensor(-0.18743935, shape=(), dtype=float32)\n",
      "tf.Tensor(0.0029593764, shape=(), dtype=float32)\n",
      "tf.Tensor(0.05711015, shape=(), dtype=float32)\n",
      "tf.Tensor(0.39362013, shape=(), dtype=float32)\n",
      "tf.Tensor(0.22591852, shape=(), dtype=float32)\n",
      "tf.Tensor(0.54726386, shape=(), dtype=float32)\n",
      "tf.Tensor(0.5248873, shape=(), dtype=float32)\n",
      "tf.Tensor(0.027539311, shape=(), dtype=float32)\n",
      "tf.Tensor(-0.38182122, shape=(), dtype=float32)\n",
      "tf.Tensor(0.66788965, shape=(), dtype=float32)\n",
      "tf.Tensor(-0.8824346, shape=(), dtype=float32)\n",
      "tf.Tensor(0.3703454, shape=(), dtype=float32)\n",
      "tf.Tensor(-0.60913885, shape=(), dtype=float32)\n",
      "tf.Tensor(-0.90489644, shape=(), dtype=float32)\n",
      "tf.Tensor(-0.48782542, shape=(), dtype=float32)\n",
      "tf.Tensor(-0.188618, shape=(), dtype=float32)\n",
      "tf.Tensor(0.20336899, shape=(), dtype=float32)\n",
      "tf.Tensor(-0.8544593, shape=(), dtype=float32)\n",
      "tf.Tensor(-0.63541925, shape=(), dtype=float32)\n",
      "tf.Tensor(-0.1888595, shape=(), dtype=float32)\n",
      "tf.Tensor(0.14839813, shape=(), dtype=float32)\n",
      "tf.Tensor(0.9566166, shape=(), dtype=float32)\n",
      "tf.Tensor(0.8307159, shape=(), dtype=float32)\n",
      "tf.Tensor(0.76802915, shape=(), dtype=float32)\n",
      "tf.Tensor(-0.019509353, shape=(), dtype=float32)\n",
      "tf.Tensor(-0.11437963, shape=(), dtype=float32)\n",
      "tf.Tensor(0.42722884, shape=(), dtype=float32)\n",
      "tf.Tensor(0.035835415, shape=(), dtype=float32)\n",
      "tf.Tensor(-0.43244565, shape=(), dtype=float32)\n",
      "tf.Tensor(-0.041913643, shape=(), dtype=float32)\n",
      "tf.Tensor(0.3064657, shape=(), dtype=float32)\n",
      "tf.Tensor(0.034813672, shape=(), dtype=float32)\n",
      "tf.Tensor(0.3001276, shape=(), dtype=float32)\n",
      "tf.Tensor(0.22722398, shape=(), dtype=float32)\n",
      "tf.Tensor(0.13609925, shape=(), dtype=float32)\n",
      "tf.Tensor(-0.84479374, shape=(), dtype=float32)\n",
      "tf.Tensor(-0.50360054, shape=(), dtype=float32)\n",
      "tf.Tensor(0.32792598, shape=(), dtype=float32)\n",
      "tf.Tensor(0.04153591, shape=(), dtype=float32)\n",
      "tf.Tensor(0.15816225, shape=(), dtype=float32)\n",
      "tf.Tensor(-0.6269274, shape=(), dtype=float32)\n",
      "tf.Tensor(0.03704851, shape=(), dtype=float32)\n",
      "tf.Tensor(0.40158203, shape=(), dtype=float32)\n",
      "tf.Tensor(-0.40561235, shape=(), dtype=float32)\n",
      "tf.Tensor(0.32646292, shape=(), dtype=float32)\n",
      "tf.Tensor(0.08937277, shape=(), dtype=float32)\n",
      "tf.Tensor(0.64611524, shape=(), dtype=float32)\n",
      "tf.Tensor(0.06458884, shape=(), dtype=float32)\n",
      "tf.Tensor(-0.3136567, shape=(), dtype=float32)\n",
      "tf.Tensor(0.07116871, shape=(), dtype=float32)\n",
      "tf.Tensor(0.36094123, shape=(), dtype=float32)\n",
      "tf.Tensor(0.12167771, shape=(), dtype=float32)\n",
      "tf.Tensor(-0.8405184, shape=(), dtype=float32)\n",
      "tf.Tensor(0.67910546, shape=(), dtype=float32)\n",
      "tf.Tensor(-0.69299155, shape=(), dtype=float32)\n",
      "tf.Tensor(0.17572047, shape=(), dtype=float32)\n",
      "tf.Tensor(-0.08535784, shape=(), dtype=float32)\n",
      "tf.Tensor(-0.15176782, shape=(), dtype=float32)\n",
      "tf.Tensor(-0.67153436, shape=(), dtype=float32)\n",
      "tf.Tensor(0.19273256, shape=(), dtype=float32)\n",
      "tf.Tensor(-0.11879286, shape=(), dtype=float32)\n",
      "tf.Tensor(-0.03197249, shape=(), dtype=float32)\n",
      "tf.Tensor(-0.93201417, shape=(), dtype=float32)\n",
      "tf.Tensor(0.73692495, shape=(), dtype=float32)\n",
      "tf.Tensor(0.046014924, shape=(), dtype=float32)\n",
      "tf.Tensor(-0.32609355, shape=(), dtype=float32)\n",
      "tf.Tensor(-0.5945384, shape=(), dtype=float32)\n",
      "tf.Tensor(-0.17341368, shape=(), dtype=float32)\n",
      "tf.Tensor(0.3726379, shape=(), dtype=float32)\n",
      "tf.Tensor(0.14088915, shape=(), dtype=float32)\n",
      "tf.Tensor(0.408294, shape=(), dtype=float32)\n",
      "tf.Tensor(-0.32225022, shape=(), dtype=float32)\n",
      "tf.Tensor(-0.9466893, shape=(), dtype=float32)\n",
      "tf.Tensor(-0.422102, shape=(), dtype=float32)\n",
      "tf.Tensor(0.77240974, shape=(), dtype=float32)\n",
      "tf.Tensor(-0.3596685, shape=(), dtype=float32)\n",
      "tf.Tensor(0.44765955, shape=(), dtype=float32)\n",
      "tf.Tensor(0.84193325, shape=(), dtype=float32)\n",
      "tf.Tensor(-0.63818645, shape=(), dtype=float32)\n",
      "tf.Tensor(0.6392054, shape=(), dtype=float32)\n",
      "tf.Tensor(-0.2561538, shape=(), dtype=float32)\n",
      "tf.Tensor(-0.49894872, shape=(), dtype=float32)\n",
      "tf.Tensor(0.029062636, shape=(), dtype=float32)\n",
      "tf.Tensor(0.22338541, shape=(), dtype=float32)\n",
      "tf.Tensor(-0.8960731, shape=(), dtype=float32)\n",
      "tf.Tensor(-0.020690473, shape=(), dtype=float32)\n",
      "tf.Tensor(-0.018997353, shape=(), dtype=float32)\n",
      "tf.Tensor(0.035630032, shape=(), dtype=float32)\n",
      "tf.Tensor(-0.71944755, shape=(), dtype=float32)\n",
      "tf.Tensor(0.3146748, shape=(), dtype=float32)\n",
      "tf.Tensor(0.7110484, shape=(), dtype=float32)\n",
      "tf.Tensor(-0.09061901, shape=(), dtype=float32)\n",
      "tf.Tensor(0.4408248, shape=(), dtype=float32)\n",
      "tf.Tensor(-0.08695256, shape=(), dtype=float32)\n",
      "tf.Tensor(-0.5207019, shape=(), dtype=float32)\n",
      "tf.Tensor(0.096906275, shape=(), dtype=float32)\n",
      "tf.Tensor(0.18341053, shape=(), dtype=float32)\n",
      "tf.Tensor(0.27281132, shape=(), dtype=float32)\n",
      "tf.Tensor(-0.58436596, shape=(), dtype=float32)\n",
      "tf.Tensor(-0.6912356, shape=(), dtype=float32)\n",
      "tf.Tensor(0.041832604, shape=(), dtype=float32)\n",
      "tf.Tensor(-0.19370508, shape=(), dtype=float32)\n",
      "tf.Tensor(0.11651124, shape=(), dtype=float32)\n",
      "tf.Tensor(0.44297585, shape=(), dtype=float32)\n",
      "tf.Tensor(0.13447565, shape=(), dtype=float32)\n",
      "tf.Tensor(0.33303002, shape=(), dtype=float32)\n",
      "tf.Tensor(0.3221498, shape=(), dtype=float32)\n",
      "tf.Tensor(0.5066858, shape=(), dtype=float32)\n",
      "tf.Tensor(-0.69985586, shape=(), dtype=float32)\n",
      "tf.Tensor(0.13800594, shape=(), dtype=float32)\n",
      "tf.Tensor(-0.39848056, shape=(), dtype=float32)\n",
      "tf.Tensor(0.111543685, shape=(), dtype=float32)\n",
      "tf.Tensor(-0.14511909, shape=(), dtype=float32)\n",
      "tf.Tensor(0.42929435, shape=(), dtype=float32)\n",
      "tf.Tensor(0.017892022, shape=(), dtype=float32)\n",
      "tf.Tensor(-0.7051573, shape=(), dtype=float32)\n",
      "tf.Tensor(-0.20386998, shape=(), dtype=float32)\n",
      "tf.Tensor(0.34619644, shape=(), dtype=float32)\n",
      "tf.Tensor(0.11396068, shape=(), dtype=float32)\n",
      "tf.Tensor(0.17239334, shape=(), dtype=float32)\n",
      "tf.Tensor(0.59295917, shape=(), dtype=float32)\n",
      "tf.Tensor(-0.13549927, shape=(), dtype=float32)\n",
      "tf.Tensor(-0.07384986, shape=(), dtype=float32)\n",
      "tf.Tensor(0.2756185, shape=(), dtype=float32)\n",
      "tf.Tensor(0.30487594, shape=(), dtype=float32)\n",
      "tf.Tensor(0.09547253, shape=(), dtype=float32)\n",
      "tf.Tensor(-0.115986906, shape=(), dtype=float32)\n",
      "tf.Tensor(0.43303958, shape=(), dtype=float32)\n",
      "tf.Tensor(-0.95694447, shape=(), dtype=float32)\n",
      "tf.Tensor(-0.21775353, shape=(), dtype=float32)\n",
      "tf.Tensor(0.08104173, shape=(), dtype=float32)\n",
      "tf.Tensor(-0.37335494, shape=(), dtype=float32)\n",
      "tf.Tensor(0.566835, shape=(), dtype=float32)\n",
      "tf.Tensor(0.33180878, shape=(), dtype=float32)\n",
      "tf.Tensor(-0.06946326, shape=(), dtype=float32)\n",
      "tf.Tensor(-0.814024, shape=(), dtype=float32)\n",
      "tf.Tensor(-0.94084674, shape=(), dtype=float32)\n",
      "tf.Tensor(0.20420645, shape=(), dtype=float32)\n",
      "tf.Tensor(0.080971524, shape=(), dtype=float32)\n",
      "tf.Tensor(-0.66277575, shape=(), dtype=float32)\n",
      "tf.Tensor(0.37300912, shape=(), dtype=float32)\n",
      "tf.Tensor(-0.21001874, shape=(), dtype=float32)\n",
      "tf.Tensor(-0.143655, shape=(), dtype=float32)\n",
      "tf.Tensor(0.2038868, shape=(), dtype=float32)\n",
      "tf.Tensor(-0.6388423, shape=(), dtype=float32)\n",
      "tf.Tensor(-0.5415729, shape=(), dtype=float32)\n",
      "tf.Tensor(0.40960458, shape=(), dtype=float32)\n",
      "tf.Tensor(0.062717676, shape=(), dtype=float32)\n",
      "tf.Tensor(0.20813203, shape=(), dtype=float32)\n",
      "tf.Tensor(0.18440242, shape=(), dtype=float32)\n",
      "tf.Tensor(0.1526375, shape=(), dtype=float32)\n",
      "tf.Tensor(0.696194, shape=(), dtype=float32)\n",
      "tf.Tensor(-0.2167077, shape=(), dtype=float32)\n",
      "tf.Tensor(-0.8386861, shape=(), dtype=float32)\n",
      "tf.Tensor(0.9497799, shape=(), dtype=float32)\n",
      "tf.Tensor(0.8599794, shape=(), dtype=float32)\n",
      "tf.Tensor(-0.9321207, shape=(), dtype=float32)\n",
      "tf.Tensor(0.5016164, shape=(), dtype=float32)\n",
      "tf.Tensor(-0.07157832, shape=(), dtype=float32)\n",
      "tf.Tensor(-0.57676035, shape=(), dtype=float32)\n",
      "tf.Tensor(0.5204323, shape=(), dtype=float32)\n",
      "tf.Tensor(-0.046639226, shape=(), dtype=float32)\n",
      "tf.Tensor(0.37780142, shape=(), dtype=float32)\n",
      "tf.Tensor(-0.1738086, shape=(), dtype=float32)\n",
      "tf.Tensor(-0.2801146, shape=(), dtype=float32)\n",
      "tf.Tensor(0.539094, shape=(), dtype=float32)\n",
      "tf.Tensor(0.37532005, shape=(), dtype=float32)\n",
      "tf.Tensor(0.29648197, shape=(), dtype=float32)\n",
      "tf.Tensor(0.1102651, shape=(), dtype=float32)\n",
      "tf.Tensor(0.6557665, shape=(), dtype=float32)\n",
      "tf.Tensor(-0.3816194, shape=(), dtype=float32)\n",
      "tf.Tensor(-0.04606983, shape=(), dtype=float32)\n",
      "tf.Tensor(0.04689546, shape=(), dtype=float32)\n",
      "tf.Tensor(0.20562156, shape=(), dtype=float32)\n",
      "tf.Tensor(-0.28613216, shape=(), dtype=float32)\n",
      "tf.Tensor(-0.10854765, shape=(), dtype=float32)\n",
      "tf.Tensor(0.46488622, shape=(), dtype=float32)\n",
      "tf.Tensor(-0.88074654, shape=(), dtype=float32)\n",
      "tf.Tensor(0.11028906, shape=(), dtype=float32)\n",
      "tf.Tensor(0.23363155, shape=(), dtype=float32)\n",
      "tf.Tensor(0.024243023, shape=(), dtype=float32)\n",
      "tf.Tensor(0.37715858, shape=(), dtype=float32)\n",
      "tf.Tensor(-0.037592907, shape=(), dtype=float32)\n",
      "tf.Tensor(-0.25367826, shape=(), dtype=float32)\n",
      "tf.Tensor(-0.49269915, shape=(), dtype=float32)\n",
      "tf.Tensor(-0.16372423, shape=(), dtype=float32)\n",
      "tf.Tensor(-0.061120708, shape=(), dtype=float32)\n",
      "tf.Tensor(-0.29119936, shape=(), dtype=float32)\n",
      "tf.Tensor(0.26332876, shape=(), dtype=float32)\n",
      "tf.Tensor(0.17654382, shape=(), dtype=float32)\n",
      "tf.Tensor(0.15255186, shape=(), dtype=float32)\n",
      "tf.Tensor(0.11744552, shape=(), dtype=float32)\n",
      "tf.Tensor(0.98166883, shape=(), dtype=float32)\n",
      "tf.Tensor(-0.18427078, shape=(), dtype=float32)\n",
      "tf.Tensor(0.49168897, shape=(), dtype=float32)\n",
      "tf.Tensor(-0.8142816, shape=(), dtype=float32)\n",
      "tf.Tensor(0.9006312, shape=(), dtype=float32)\n",
      "tf.Tensor(-0.53085256, shape=(), dtype=float32)\n",
      "tf.Tensor(0.42044258, shape=(), dtype=float32)\n",
      "tf.Tensor(0.22940423, shape=(), dtype=float32)\n",
      "tf.Tensor(-0.015862847, shape=(), dtype=float32)\n",
      "tf.Tensor(0.13305648, shape=(), dtype=float32)\n",
      "tf.Tensor(-0.19432208, shape=(), dtype=float32)\n",
      "tf.Tensor(-0.30937132, shape=(), dtype=float32)\n",
      "tf.Tensor(-0.49539277, shape=(), dtype=float32)\n",
      "tf.Tensor(0.08751601, shape=(), dtype=float32)\n",
      "tf.Tensor(-0.5074616, shape=(), dtype=float32)\n",
      "tf.Tensor(-0.49138182, shape=(), dtype=float32)\n",
      "tf.Tensor(-0.43160743, shape=(), dtype=float32)\n",
      "tf.Tensor(-0.49522975, shape=(), dtype=float32)\n",
      "tf.Tensor(-0.38479376, shape=(), dtype=float32)\n",
      "tf.Tensor(0.43134373, shape=(), dtype=float32)\n",
      "tf.Tensor(0.6380328, shape=(), dtype=float32)\n",
      "tf.Tensor(0.20631424, shape=(), dtype=float32)\n",
      "tf.Tensor(-0.02568635, shape=(), dtype=float32)\n",
      "tf.Tensor(0.13742113, shape=(), dtype=float32)\n",
      "tf.Tensor(0.5972152, shape=(), dtype=float32)\n",
      "tf.Tensor(0.16441965, shape=(), dtype=float32)\n",
      "tf.Tensor(0.5377617, shape=(), dtype=float32)\n",
      "tf.Tensor(-0.3497802, shape=(), dtype=float32)\n",
      "tf.Tensor(-0.5948269, shape=(), dtype=float32)\n",
      "tf.Tensor(0.17924501, shape=(), dtype=float32)\n",
      "tf.Tensor(0.2974494, shape=(), dtype=float32)\n",
      "tf.Tensor(0.4949846, shape=(), dtype=float32)\n",
      "tf.Tensor(0.68636465, shape=(), dtype=float32)\n",
      "tf.Tensor(0.36447227, shape=(), dtype=float32)\n",
      "tf.Tensor(0.6924971, shape=(), dtype=float32)\n",
      "tf.Tensor(0.47218278, shape=(), dtype=float32)\n",
      "tf.Tensor(-0.5329197, shape=(), dtype=float32)\n",
      "tf.Tensor(-0.44556543, shape=(), dtype=float32)\n",
      "tf.Tensor(0.27798924, shape=(), dtype=float32)\n",
      "tf.Tensor(0.37984508, shape=(), dtype=float32)\n",
      "tf.Tensor(-0.01686263, shape=(), dtype=float32)\n",
      "tf.Tensor(-0.207258, shape=(), dtype=float32)\n",
      "tf.Tensor(0.4962673, shape=(), dtype=float32)\n",
      "tf.Tensor(-0.00046164475, shape=(), dtype=float32)\n",
      "tf.Tensor(-0.44978237, shape=(), dtype=float32)\n",
      "tf.Tensor(-0.37287602, shape=(), dtype=float32)\n",
      "tf.Tensor(-0.3243746, shape=(), dtype=float32)\n",
      "tf.Tensor(-0.17811026, shape=(), dtype=float32)\n",
      "tf.Tensor(0.29156262, shape=(), dtype=float32)\n",
      "tf.Tensor(-0.39071575, shape=(), dtype=float32)\n",
      "tf.Tensor(-0.21732743, shape=(), dtype=float32)\n",
      "tf.Tensor(0.5881261, shape=(), dtype=float32)\n",
      "tf.Tensor(0.0904614, shape=(), dtype=float32)\n",
      "tf.Tensor(0.0677393, shape=(), dtype=float32)\n",
      "tf.Tensor(0.27341598, shape=(), dtype=float32)\n",
      "tf.Tensor(0.35404584, shape=(), dtype=float32)\n",
      "tf.Tensor(0.08203856, shape=(), dtype=float32)\n",
      "tf.Tensor(0.019525053, shape=(), dtype=float32)\n",
      "tf.Tensor(0.38989624, shape=(), dtype=float32)\n",
      "tf.Tensor(0.12197464, shape=(), dtype=float32)\n",
      "tf.Tensor(0.75117165, shape=(), dtype=float32)\n",
      "tf.Tensor(0.2958537, shape=(), dtype=float32)\n",
      "tf.Tensor(0.3334961, shape=(), dtype=float32)\n",
      "tf.Tensor(0.93095106, shape=(), dtype=float32)\n",
      "tf.Tensor(0.5691046, shape=(), dtype=float32)\n",
      "tf.Tensor(-0.15573807, shape=(), dtype=float32)\n",
      "tf.Tensor(-0.9181837, shape=(), dtype=float32)\n",
      "tf.Tensor(0.16131419, shape=(), dtype=float32)\n",
      "tf.Tensor(-0.20291993, shape=(), dtype=float32)\n",
      "tf.Tensor(-0.031207073, shape=(), dtype=float32)\n",
      "tf.Tensor(0.39511496, shape=(), dtype=float32)\n",
      "tf.Tensor(0.46536842, shape=(), dtype=float32)\n",
      "tf.Tensor(0.039907515, shape=(), dtype=float32)\n",
      "tf.Tensor(-0.21964796, shape=(), dtype=float32)\n",
      "tf.Tensor(0.10540861, shape=(), dtype=float32)\n",
      "tf.Tensor(0.36131456, shape=(), dtype=float32)\n",
      "tf.Tensor(-0.34862486, shape=(), dtype=float32)\n",
      "tf.Tensor(0.048218057, shape=(), dtype=float32)\n"
     ]
    }
   ],
   "source": [
    "for i in range(1024):\n",
    "  for j in range(4):\n",
    "    print(embedding_table[i , j])"
   ]
  },
  {
   "cell_type": "code",
   "execution_count": 42,
   "metadata": {
    "colab": {
     "base_uri": "https://localhost:8080/",
     "height": 72
    },
    "colab_type": "code",
    "id": "lYJLIwm_OI02",
    "outputId": "9c26495a-7929-4d81-ac14-58374c54de4b"
   },
   "outputs": [
    {
     "name": "stdout",
     "output_type": "stream",
     "text": [
      "<tf.RaggedTensor [[633, 768, 547, 237, 309], [28], [847, 998, 635, 20, 547]]>\n",
      "<tf.RaggedTensor [[[-0.20747829973697662, 0.42940646409988403, -0.38184067606925964, 0.0786549374461174], [0.2910548746585846, 0.7162835597991943, -0.6078064441680908, -0.18328335881233215], [-0.6401904225349426, -0.3893193304538727, -0.0678597018122673, -0.24108487367630005], [-0.3347620368003845, 0.840153694152832, -0.5106130838394165, 0.17591872811317444], [0.4736846387386322, 0.509670615196228, 0.09753894060850143, -0.11929423362016678]], [[-0.29218846559524536, -0.671757161617279, 0.34031254053115845, -0.490825355052948]], [[0.6114388704299927, 0.10289561748504639, -0.3564261198043823, 0.1682262122631073], [0.37532004714012146, 0.2964819669723511, 0.1102650985121727, 0.655766487121582], [-0.18240754306316376, 0.38665902614593506, -0.6780259609222412, 0.0974561795592308], [-0.7859180569648743, -0.585277795791626, 0.567176878452301, -0.7651062607765198], [-0.6401904225349426, -0.3893193304538727, -0.0678597018122673, -0.24108487367630005]]]>\n"
     ]
    }
   ],
   "source": [
    "# Look up the embedding for each word.\n",
    "# word_buckets contains integers reqresenting the word strings\n",
    "word_buckets = tf.strings.to_hash_bucket_fast(queries, num_buckets)\n",
    "# word_embeddings contain a tensor representation of word bucket within the embedding table\n",
    "word_embeddings = tf.nn.embedding_lookup(embedding_table, word_buckets)     # ①\n",
    "print(word_buckets)\n",
    "print(word_embeddings)"
   ]
  },
  {
   "cell_type": "code",
   "execution_count": 43,
   "metadata": {
    "colab": {
     "base_uri": "https://localhost:8080/",
     "height": 87
    },
    "colab_type": "code",
    "id": "f8cNau3ZOMwD",
    "outputId": "b85455d7-670f-4f77-c61f-0975809014ac"
   },
   "outputs": [
    {
     "data": {
      "text/plain": [
       "<tf.Tensor: shape=(3, 1), dtype=string, numpy=\n",
       "array([[b'#'],\n",
       "       [b'#'],\n",
       "       [b'#']], dtype=object)>"
      ]
     },
     "execution_count": 43,
     "metadata": {
      "tags": []
     },
     "output_type": "execute_result"
    }
   ],
   "source": [
    "# Add markers to the beginning and end of each sentence.\n",
    "marker = tf.fill([queries.nrows(), 1], '#')\n",
    "marker"
   ]
  },
  {
   "cell_type": "code",
   "execution_count": 44,
   "metadata": {
    "colab": {
     "base_uri": "https://localhost:8080/",
     "height": 34
    },
    "colab_type": "code",
    "id": "B-CD3oldn-JM",
    "outputId": "ccd542c8-60cd-491d-b514-9f6da75761bc"
   },
   "outputs": [
    {
     "name": "stdout",
     "output_type": "stream",
     "text": [
      "<tf.RaggedTensor [[b'#', b'Who', b'is', b'today', b'Dan', b'Smith', b'#'], [b'#', b'Pause', b'#'], [b'#', b'Will', b'it', b'rain', b'later', b'today', b'#']]>\n"
     ]
    }
   ],
   "source": [
    "padded = tf.concat([marker, queries, marker], axis=1)                       # ②\n",
    "print(padded)"
   ]
  },
  {
   "cell_type": "code",
   "execution_count": 45,
   "metadata": {
    "colab": {
     "base_uri": "https://localhost:8080/",
     "height": 54
    },
    "colab_type": "code",
    "id": "AngMhGcDOPri",
    "outputId": "cbf4f8b6-4d88-469d-d74a-3f6e11656da9"
   },
   "outputs": [
    {
     "name": "stdout",
     "output_type": "stream",
     "text": [
      "<tf.RaggedTensor [[b'#+Who', b'Who+is', b'is+today', b'today+Dan', b'Dan+Smith', b'Smith+#'], [b'#+Pause', b'Pause+#'], [b'#+Will', b'Will+it', b'it+rain', b'rain+later', b'later+today', b'today+#']]>\n"
     ]
    }
   ],
   "source": [
    "# Build word bigrams & look up embeddings.\n",
    "bigrams = tf.strings.join([padded[:, :-1], padded[:, 1:]], separator='+')   # ③\n",
    "print(bigrams)"
   ]
  },
  {
   "cell_type": "code",
   "execution_count": 46,
   "metadata": {
    "colab": {
     "base_uri": "https://localhost:8080/",
     "height": 34
    },
    "colab_type": "code",
    "id": "TYBicVyoOTCI",
    "outputId": "6b420fc5-c242-4404-d657-b5e6d0a6e189"
   },
   "outputs": [
    {
     "name": "stdout",
     "output_type": "stream",
     "text": [
      "<tf.RaggedTensor [[939, 196, 460, 372, 281, 176], [597, 723], [853, 293, 853, 704, 749, 372]]>\n"
     ]
    }
   ],
   "source": [
    "bigram_buckets = tf.strings.to_hash_bucket_fast(bigrams, num_buckets)\n",
    "print(bigram_buckets)\n"
   ]
  },
  {
   "cell_type": "code",
   "execution_count": 47,
   "metadata": {
    "colab": {
     "base_uri": "https://localhost:8080/",
     "height": 72
    },
    "colab_type": "code",
    "id": "Xk2xQvOp1Fkq",
    "outputId": "c4c3890a-5c47-4535-d704-17c367c14be5"
   },
   "outputs": [
    {
     "name": "stdout",
     "output_type": "stream",
     "text": [
      "<tf.RaggedTensor [[[0.7246147394180298, 0.07524210214614868, 0.7339106202125549, -0.14881475269794464], [-0.5499006509780884, 0.1553564816713333, 0.21857580542564392, -0.2269831746816635], [0.8145033717155457, 0.30890095233917236, 0.9361680150032043, 0.05983081832528114], [-0.33002403378486633, 0.01935429871082306, -0.49667036533355713, 0.4037536680698395], [-0.10038954764604568, -0.13476340472698212, 0.9296860694885254, 0.6053377389907837], [-0.7876598834991455, -0.39777421951293945, -0.7151308059692383, -0.1403372436761856]], [[0.5823306441307068, 0.2086392492055893, -0.20576050877571106, 0.6391780972480774], [0.12652646005153656, 0.1980108618736267, -0.4506562352180481, 0.3205668330192566]], [[-0.4303804636001587, 0.22454535961151123, -0.6487599015235901, 0.25548532605171204], [0.07703178375959396, -0.1638236939907074, -0.5595942139625549, -0.05444108322262764], [-0.4303804636001587, 0.22454535961151123, -0.6487599015235901, 0.25548532605171204], [-0.6146142482757568, -0.6558921337127686, -0.1696559637784958, 0.050356972962617874], [0.20593048632144928, 0.18069973587989807, 0.013168315403163433, 0.4476199150085449], [-0.33002403378486633, 0.01935429871082306, -0.49667036533355713, 0.4037536680698395]]]>\n",
      "(3, None, 4)\n"
     ]
    }
   ],
   "source": [
    "bigram_embeddings = tf.nn.embedding_lookup(embedding_table, bigram_buckets) # ④\n",
    "print(bigram_embeddings)\n",
    "print(bigram_embeddings.shape)"
   ]
  },
  {
   "cell_type": "markdown",
   "metadata": {
    "colab_type": "text",
    "id": "T_UNMLHY5CBe"
   },
   "source": [
    "The above print shows 3, None, 4. 3 is the number of sentences, 'None' is indicating that the number of words per sentance varies, and thus the dimension is ragged. 4 indicates the embedding size. "
   ]
  },
  {
   "cell_type": "code",
   "execution_count": 48,
   "metadata": {
    "colab": {
     "base_uri": "https://localhost:8080/",
     "height": 72
    },
    "colab_type": "code",
    "id": "ioVleRvQOX3W",
    "outputId": "d8daa4d7-3a42-4c5f-d0e8-6cb2a185efb0"
   },
   "outputs": [
    {
     "name": "stdout",
     "output_type": "stream",
     "text": [
      "(3, None, 4)\n"
     ]
    },
    {
     "data": {
      "text/plain": [
       "<tf.RaggedTensor [[[-0.20747829973697662, 0.42940646409988403, -0.38184067606925964, 0.0786549374461174], [0.2910548746585846, 0.7162835597991943, -0.6078064441680908, -0.18328335881233215], [-0.6401904225349426, -0.3893193304538727, -0.0678597018122673, -0.24108487367630005], [-0.3347620368003845, 0.840153694152832, -0.5106130838394165, 0.17591872811317444], [0.4736846387386322, 0.509670615196228, 0.09753894060850143, -0.11929423362016678], [0.7246147394180298, 0.07524210214614868, 0.7339106202125549, -0.14881475269794464], [-0.5499006509780884, 0.1553564816713333, 0.21857580542564392, -0.2269831746816635], [0.8145033717155457, 0.30890095233917236, 0.9361680150032043, 0.05983081832528114], [-0.33002403378486633, 0.01935429871082306, -0.49667036533355713, 0.4037536680698395], [-0.10038954764604568, -0.13476340472698212, 0.9296860694885254, 0.6053377389907837], [-0.7876598834991455, -0.39777421951293945, -0.7151308059692383, -0.1403372436761856]], [[-0.29218846559524536, -0.671757161617279, 0.34031254053115845, -0.490825355052948], [0.5823306441307068, 0.2086392492055893, -0.20576050877571106, 0.6391780972480774], [0.12652646005153656, 0.1980108618736267, -0.4506562352180481, 0.3205668330192566]], [[0.6114388704299927, 0.10289561748504639, -0.3564261198043823, 0.1682262122631073], [0.37532004714012146, 0.2964819669723511, 0.1102650985121727, 0.655766487121582], [-0.18240754306316376, 0.38665902614593506, -0.6780259609222412, 0.0974561795592308], [-0.7859180569648743, -0.585277795791626, 0.567176878452301, -0.7651062607765198], [-0.6401904225349426, -0.3893193304538727, -0.0678597018122673, -0.24108487367630005], [-0.4303804636001587, 0.22454535961151123, -0.6487599015235901, 0.25548532605171204], [0.07703178375959396, -0.1638236939907074, -0.5595942139625549, -0.05444108322262764], [-0.4303804636001587, 0.22454535961151123, -0.6487599015235901, 0.25548532605171204], [-0.6146142482757568, -0.6558921337127686, -0.1696559637784958, 0.050356972962617874], [0.20593048632144928, 0.18069973587989807, 0.013168315403163433, 0.4476199150085449], [-0.33002403378486633, 0.01935429871082306, -0.49667036533355713, 0.4037536680698395]]]>"
      ]
     },
     "execution_count": 48,
     "metadata": {
      "tags": []
     },
     "output_type": "execute_result"
    }
   ],
   "source": [
    "# Find the average embedding for each sentence\n",
    "all_embeddings = tf.concat([word_embeddings, bigram_embeddings], axis=1)    # ⑤\n",
    "print(all_embeddings.shape)\n",
    "all_embeddings"
   ]
  },
  {
   "cell_type": "code",
   "execution_count": 49,
   "metadata": {
    "colab": {
     "base_uri": "https://localhost:8080/",
     "height": 87
    },
    "colab_type": "code",
    "id": "LkMP3leSObGg",
    "outputId": "9799fe6f-cd94-473c-dc6d-ea5c0b344ed1"
   },
   "outputs": [
    {
     "name": "stdout",
     "output_type": "stream",
     "text": [
      "tf.Tensor(\n",
      "[[-0.05877703  0.19386463  0.01235985  0.02397257]\n",
      " [ 0.13888955 -0.08836901 -0.10536807  0.15630652]\n",
      " [-0.19492674 -0.03264832 -0.26683104  0.11577435]], shape=(3, 4), dtype=float32)\n"
     ]
    }
   ],
   "source": [
    "avg_embedding = tf.reduce_mean(all_embeddings, axis=1)                      # ⑥\n",
    "print(avg_embedding)"
   ]
  },
  {
   "cell_type": "markdown",
   "metadata": {
    "colab_type": "text",
    "id": "KOy9r22jNchi"
   },
   "source": [
    "![ragged_example](https://www.tensorflow.org/images/ragged_tensors/ragged_example.png)"
   ]
  },
  {
   "cell_type": "markdown",
   "metadata": {
    "colab_type": "text",
    "id": "Ln9KxO0J28NR"
   },
   "source": [
    "## Ragged and uniform dimensions\n",
    "\n",
    "A ***ragged dimension*** is a dimension whose slices may have different lengths. For example, the\n",
    "inner (column) dimension of `rt=[[3, 1, 4, 1], [], [5, 9, 2], [6], []]` is\n",
    "ragged, since the column slices (`rt[0, :]`, ..., `rt[4, :]`) have different\n",
    "lengths. Dimensions whose slices all have the same length are called *uniform\n",
    "dimensions*.\n",
    "\n",
    "The outermost dimension of a ragged tensor is always uniform, since it consists\n",
    "of a single slice (and so there is no possibility for differing slice\n",
    "lengths).  The remaining dimensions may be either ragged or uniform. For\n",
    "example, we might store the word embeddings for\n",
    "each word in a batch of sentences using a ragged tensor with shape\n",
    "`[num_sentences, (num_words), embedding_size]`, where the parentheses around\n",
    "`(num_words)` indicate that the dimension is ragged.\n",
    "\n",
    "![sent_word_embed](https://www.tensorflow.org/images/ragged_tensors/sent_word_embed.png)\n",
    "\n",
    "Ragged tensors may have multiple ragged dimensions. For example, we could store\n",
    "a batch of structured text documents using a tensor with shape `[num_documents,\n",
    "(num_paragraphs), (num_sentences), (num_words)]` (where again parentheses are\n",
    "used to indicate ragged dimensions).\n",
    "\n",
    "As with `tf.Tensor`, the ***rank*** of a ragged tensor is its total number of dimensions (including both ragged and uniform dimensions).\n",
    "A ***potentially ragged tensor*** is a value that might be\n",
    "either a `tf.Tensor` or a `tf.RaggedTensor`.\n",
    "\n",
    "When describing the shape of a RaggedTensor, ragged dimensions are conventionally indicated by\n",
    "enclosing them in parentheses. For example, as we saw above, the shape of a 3-D\n",
    "RaggedTensor that stores word embeddings for each word in a batch of sentences\n",
    "can be written as `[num_sentences, (num_words), embedding_size]`.\n",
    "\n",
    "The `RaggedTensor.shape` attribute returns a `tf.TensorShape` for a\n",
    "ragged tensor, where ragged dimensions have size `None`:"
   ]
  },
  {
   "cell_type": "code",
   "execution_count": 50,
   "metadata": {
    "colab": {
     "base_uri": "https://localhost:8080/",
     "height": 34
    },
    "colab_type": "code",
    "id": "1496wu9b3U2B",
    "outputId": "918e3fc7-c43c-4346-e367-220513ff9449"
   },
   "outputs": [
    {
     "data": {
      "text/plain": [
       "TensorShape([2, None])"
      ]
     },
     "execution_count": 50,
     "metadata": {
      "tags": []
     },
     "output_type": "execute_result"
    }
   ],
   "source": [
    "tf.ragged.constant([[\"Hi\"], [\"How\", \"are\", \"you\"]]).shape"
   ]
  },
  {
   "cell_type": "markdown",
   "metadata": {
    "colab_type": "text",
    "id": "OvShAaMH6BRr"
   },
   "source": [
    "The method `tf.RaggedTensor.bounding_shape` can be used to find a tight\n",
    "bounding shape for a given `RaggedTensor`:"
   ]
  },
  {
   "cell_type": "code",
   "execution_count": 51,
   "metadata": {
    "colab": {
     "base_uri": "https://localhost:8080/",
     "height": 34
    },
    "colab_type": "code",
    "id": "jjDkZL986Kip",
    "outputId": "6a5d03b6-5bd9-4939-ae30-96c6b31241ba"
   },
   "outputs": [
    {
     "name": "stdout",
     "output_type": "stream",
     "text": [
      "tf.Tensor([2 3], shape=(2,), dtype=int64)\n"
     ]
    }
   ],
   "source": [
    "print(tf.ragged.constant([[\"Hi\"], [\"How\", \"are\", \"you\"]]).bounding_shape())"
   ]
  },
  {
   "cell_type": "markdown",
   "metadata": {
    "colab_type": "text",
    "id": "_4pz5xFb61K5"
   },
   "source": [
    "## Ragged vs. sparse\n",
    "\n",
    "A ragged tensor should *not* be thought of as a type of sparse tensor.  In particular, sparse tensors are *efficient encodings for tf.Tensor*, that model the same data in a compact format; but ragged tensor is an *extension to tf.Tensor*, that models an expanded class of data.  This difference is crucial when defining operations:\n",
    "\n",
    "* Applying an op to a sparse or dense tensor should always give the same result.\n",
    "* Applying an op to a ragged or sparse tensor may give different results.\n",
    "\n",
    "As an illustrative example, consider how array operations such as `concat`,\n",
    "`stack`, and `tile` are defined for ragged vs. sparse tensors. Concatenating\n",
    "ragged tensors joins each row to form a single row with the combined length:\n",
    "\n",
    "![ragged_concat](https://www.tensorflow.org/images/ragged_tensors/ragged_concat.png)\n"
   ]
  },
  {
   "cell_type": "code",
   "execution_count": 52,
   "metadata": {
    "colab": {
     "base_uri": "https://localhost:8080/",
     "height": 34
    },
    "colab_type": "code",
    "id": "ush7IGUWLXIn",
    "outputId": "3302ee67-1715-400b-a5fe-b62a641fd8bf"
   },
   "outputs": [
    {
     "name": "stdout",
     "output_type": "stream",
     "text": [
      "<tf.RaggedTensor [[b'John', b'fell', b'asleep'], [b'a', b'big', b'dog', b'barked'], [b'my', b'cat', b'is', b'fuzzy']]>\n"
     ]
    }
   ],
   "source": [
    "ragged_x = tf.ragged.constant([[\"John\"], [\"a\", \"big\", \"dog\"], [\"my\", \"cat\"]])\n",
    "ragged_y = tf.ragged.constant([[\"fell\", \"asleep\"], [\"barked\"], [\"is\", \"fuzzy\"]])\n",
    "print(tf.concat([ragged_x, ragged_y], axis=1))"
   ]
  },
  {
   "cell_type": "markdown",
   "metadata": {
    "colab_type": "text",
    "id": "5zic5EN8iuUh"
   },
   "source": [
    "But concatenating sparse tensors is equivalent to concatenating the corresponding dense tensors,\n",
    "as illustrated by the following example (where Ø indicates missing values):\n",
    "\n",
    "![sparse_concat](https://www.tensorflow.org/images/ragged_tensors/sparse_concat.png)"
   ]
  },
  {
   "cell_type": "code",
   "execution_count": 53,
   "metadata": {
    "colab": {
     "base_uri": "https://localhost:8080/",
     "height": 140
    },
    "colab_type": "code",
    "id": "RzzwaU6-60vC",
    "outputId": "b5e170aa-5f05-456b-ef72-6ef57a5a5aaa"
   },
   "outputs": [
    {
     "name": "stdout",
     "output_type": "stream",
     "text": [
      "SparseTensor(indices=tf.Tensor(\n",
      "[[0 0]\n",
      " [1 0]\n",
      " [1 1]\n",
      " [1 2]\n",
      " [2 0]\n",
      " [2 1]], shape=(6, 2), dtype=int64), values=tf.Tensor([b'John' b'a' b'big' b'dog' b'my' b'cat'], shape=(6,), dtype=string), dense_shape=tf.Tensor([3 3], shape=(2,), dtype=int64))\n"
     ]
    }
   ],
   "source": [
    "sparse_x = ragged_x.to_sparse()\n",
    "print(sparse_x)"
   ]
  },
  {
   "cell_type": "code",
   "execution_count": 54,
   "metadata": {
    "colab": {
     "base_uri": "https://localhost:8080/",
     "height": 122
    },
    "colab_type": "code",
    "id": "0csSIQeC7Zj0",
    "outputId": "1b256239-1a3a-4903-c193-e87b3f4c0594"
   },
   "outputs": [
    {
     "name": "stdout",
     "output_type": "stream",
     "text": [
      "SparseTensor(indices=tf.Tensor(\n",
      "[[0 0]\n",
      " [0 1]\n",
      " [1 0]\n",
      " [2 0]\n",
      " [2 1]], shape=(5, 2), dtype=int64), values=tf.Tensor([b'fell' b'asleep' b'barked' b'is' b'fuzzy'], shape=(5,), dtype=string), dense_shape=tf.Tensor([3 2], shape=(2,), dtype=int64))\n"
     ]
    }
   ],
   "source": [
    "sparse_y = ragged_y.to_sparse()\n",
    "print(sparse_y)"
   ]
  },
  {
   "cell_type": "code",
   "execution_count": 55,
   "metadata": {
    "colab": {
     "base_uri": "https://localhost:8080/",
     "height": 87
    },
    "colab_type": "code",
    "id": "YE_pNMrx7crH",
    "outputId": "77e55f5f-8ed3-44b7-ab5a-a9d59491fe2e"
   },
   "outputs": [
    {
     "name": "stdout",
     "output_type": "stream",
     "text": [
      "tf.Tensor(\n",
      "[[b'John' b'' b'' b'fell' b'asleep']\n",
      " [b'a' b'big' b'dog' b'barked' b'']\n",
      " [b'my' b'cat' b'' b'is' b'fuzzy']], shape=(3, 5), dtype=string)\n"
     ]
    }
   ],
   "source": [
    "sparse_result = tf.sparse.concat(sp_inputs=[sparse_x, sparse_y], axis=1)\n",
    "print(tf.sparse.to_dense(sparse_result, ''))"
   ]
  },
  {
   "cell_type": "markdown",
   "metadata": {
    "colab_type": "text",
    "id": "6xZfwGZe8uUD"
   },
   "source": [
    "For another example of why this distinction is important, consider the\n",
    "definition of “the mean value of each row” for an op such as `tf.reduce_mean`.\n",
    "For a ragged tensor, the mean value for a row is the sum of the\n",
    "row’s values divided by the row’s width.\n",
    "But for a sparse tensor, the mean value for a row is the sum of the\n",
    "row’s values divided by the sparse tensor’s overall width (which is\n",
    "greater than or equal to the width of the longest row)."
   ]
  },
  {
   "cell_type": "markdown",
   "metadata": {
    "colab_type": "text",
    "id": "dUozoIrIlKyX"
   },
   "source": [
    "## TensorFlow APIs\n"
   ]
  },
  {
   "cell_type": "markdown",
   "metadata": {
    "colab_type": "text",
    "id": "D2mERg9Flo_i"
   },
   "source": [
    "### Keras\n",
    "\n",
    "[tf.keras](https://www.tensorflow.org/guide/keras) is TensorFlow's high-level API for building and training deep learning models. Ragged tensors may be passed as inputs to a Keras model by setting `ragged=True` on `tf.keras.Input` or `tf.keras.layers.InputLayer`.  Ragged tensors may also be passed between Keras layers, and returned by Keras models.  The following example shows a toy LSTM model that is trained using ragged tensors."
   ]
  },
  {
   "cell_type": "code",
   "execution_count": 56,
   "metadata": {
    "colab": {
     "base_uri": "https://localhost:8080/",
     "height": 34
    },
    "colab_type": "code",
    "id": "_J3DsTfSlkO7",
    "outputId": "53d46980-ae56-4506-b452-9107065b2f11"
   },
   "outputs": [
    {
     "name": "stdout",
     "output_type": "stream",
     "text": [
      "<tf.RaggedTensor [[940, 203, 668, 387, 790, 320, 939, 185], [315, 515, 791, 181, 939, 787], [564, 205], [820, 180, 993, 739]]>\n"
     ]
    }
   ],
   "source": [
    "# Task: predict whether each sentence is a question or not.\n",
    "sentences = tf.constant(\n",
    "    ['What makes you think she is a witch?',\n",
    "     'She turned me into a newt.',\n",
    "     'A newt?',\n",
    "     'Well, I got better.'])\n",
    "is_question = tf.constant([True, False, True, False])\n",
    "\n",
    "# Preprocess the input strings.\n",
    "hash_buckets = 1000\n",
    "words = tf.strings.split(sentences, ' ')\n",
    "hashed_words = tf.strings.to_hash_bucket_fast(words, hash_buckets)\n",
    "print(hashed_words)\n"
   ]
  },
  {
   "cell_type": "code",
   "execution_count": 57,
   "metadata": {
    "colab": {},
    "colab_type": "code",
    "id": "6QFHRi2WossR"
   },
   "outputs": [],
   "source": [
    "# Build the Keras model.\n",
    "keras_model = tf.keras.Sequential([\n",
    "    tf.keras.layers.Input(shape=[None], dtype=tf.int64, ragged=True),\n",
    "    tf.keras.layers.Embedding(hash_buckets, 16),\n",
    "    tf.keras.layers.LSTM(32, use_bias=False),\n",
    "    tf.keras.layers.Dense(32),\n",
    "    tf.keras.layers.Activation(tf.nn.relu),\n",
    "    tf.keras.layers.Dense(1)\n",
    "])"
   ]
  },
  {
   "cell_type": "code",
   "execution_count": 58,
   "metadata": {
    "colab": {
     "base_uri": "https://localhost:8080/",
     "height": 334
    },
    "colab_type": "code",
    "id": "xvS66V-uqM_a",
    "outputId": "010580d6-6f43-4b5f-f147-d7bebb97b575"
   },
   "outputs": [
    {
     "name": "stdout",
     "output_type": "stream",
     "text": [
      "Model: \"sequential\"\n",
      "_________________________________________________________________\n",
      "Layer (type)                 Output Shape              Param #   \n",
      "=================================================================\n",
      "embedding (Embedding)        (None, None, 16)          16000     \n",
      "_________________________________________________________________\n",
      "lstm (LSTM)                  (None, 32)                6144      \n",
      "_________________________________________________________________\n",
      "dense (Dense)                (None, 32)                1056      \n",
      "_________________________________________________________________\n",
      "activation (Activation)      (None, 32)                0         \n",
      "_________________________________________________________________\n",
      "dense_1 (Dense)              (None, 1)                 33        \n",
      "=================================================================\n",
      "Total params: 23,233\n",
      "Trainable params: 23,233\n",
      "Non-trainable params: 0\n",
      "_________________________________________________________________\n"
     ]
    }
   ],
   "source": [
    "keras_model.summary()"
   ]
  },
  {
   "cell_type": "code",
   "execution_count": 59,
   "metadata": {
    "colab": {
     "base_uri": "https://localhost:8080/",
     "height": 318
    },
    "colab_type": "code",
    "id": "-3Zf4ZrMqR_0",
    "outputId": "c27ee95c-b35f-468e-b99b-4e1c917828fd"
   },
   "outputs": [
    {
     "name": "stdout",
     "output_type": "stream",
     "text": [
      "Epoch 1/5\n"
     ]
    },
    {
     "name": "stderr",
     "output_type": "stream",
     "text": [
      "/usr/local/lib/python3.6/dist-packages/tensorflow/python/framework/indexed_slices.py:432: UserWarning: Converting sparse IndexedSlices to a dense Tensor of unknown shape. This may consume a large amount of memory.\n",
      "  \"Converting sparse IndexedSlices to a dense Tensor of unknown shape. \"\n"
     ]
    },
    {
     "name": "stdout",
     "output_type": "stream",
     "text": [
      "1/1 [==============================] - 0s 1ms/step - loss: 5.0574\n",
      "Epoch 2/5\n",
      "1/1 [==============================] - 0s 1ms/step - loss: 2.4491\n",
      "Epoch 3/5\n",
      "1/1 [==============================] - 0s 1ms/step - loss: 1.8115\n",
      "Epoch 4/5\n",
      "1/1 [==============================] - 0s 1ms/step - loss: 1.7083\n",
      "Epoch 5/5\n",
      "1/1 [==============================] - 0s 1ms/step - loss: 1.6524\n",
      "[[0.03264387]\n",
      " [0.01967335]\n",
      " [0.05139512]\n",
      " [0.01372125]]\n"
     ]
    }
   ],
   "source": [
    "keras_model.compile(loss='binary_crossentropy', optimizer='rmsprop')\n",
    "keras_model.fit(hashed_words, is_question, epochs=5)\n",
    "print(keras_model.predict(hashed_words))"
   ]
  },
  {
   "cell_type": "code",
   "execution_count": 60,
   "metadata": {
    "colab": {
     "base_uri": "https://localhost:8080/",
     "height": 1000
    },
    "colab_type": "code",
    "id": "f1Lay02lq6z-",
    "outputId": "733b3b4c-3919-4db1-acf1-83366217c283"
   },
   "outputs": [
    {
     "data": {
      "text/plain": [
       "[array([[-0.02830984, -0.02507193,  0.04197246, ...,  0.04942912,\n",
       "         -0.00542276, -0.03116726],\n",
       "        [ 0.01810733, -0.04399847, -0.02813717, ..., -0.00629228,\n",
       "          0.03634275,  0.04129019],\n",
       "        [ 0.0284822 , -0.00483435, -0.02682203, ...,  0.00786133,\n",
       "          0.03648994,  0.04026446],\n",
       "        ...,\n",
       "        [-0.04238371,  0.01198821,  0.0351469 , ...,  0.02114916,\n",
       "          0.03330387,  0.04896982],\n",
       "        [ 0.01841651,  0.01436785, -0.03312881, ...,  0.01360866,\n",
       "          0.00329797,  0.00689076],\n",
       "        [-0.00916864,  0.04768013, -0.0049474 , ..., -0.00048461,\n",
       "          0.001994  ,  0.0483681 ]], dtype=float32),\n",
       " array([[ 0.18498406, -0.14529166, -0.06377826, ...,  0.08832143,\n",
       "          0.0248252 , -0.02605689],\n",
       "        [-0.12048881, -0.16305907,  0.14887865, ..., -0.1311625 ,\n",
       "         -0.08203234,  0.19125193],\n",
       "        [-0.10782951, -0.1665738 ,  0.15943243, ...,  0.1511478 ,\n",
       "          0.10524347, -0.11786704],\n",
       "        ...,\n",
       "        [ 0.12437019,  0.17204283, -0.10789184, ...,  0.10733334,\n",
       "          0.19630134, -0.06525274],\n",
       "        [ 0.06106522,  0.1941312 ,  0.0668775 , ...,  0.03301274,\n",
       "          0.00277064, -0.17852509],\n",
       "        [ 0.00918388, -0.06779285,  0.03439174, ...,  0.02848498,\n",
       "          0.05371839, -0.11111177]], dtype=float32),\n",
       " array([[-0.02935356,  0.02548664,  0.143884  , ..., -0.07734979,\n",
       "         -0.05003025, -0.05246402],\n",
       "        [ 0.0785914 ,  0.04528136, -0.06785969, ...,  0.10967482,\n",
       "         -0.08723077, -0.01906209],\n",
       "        [ 0.04412551, -0.1011722 , -0.17051984, ..., -0.00853434,\n",
       "          0.06440745, -0.03775812],\n",
       "        ...,\n",
       "        [ 0.08629511, -0.05919316,  0.08861462, ...,  0.13209446,\n",
       "         -0.20920165,  0.13589483],\n",
       "        [-0.08974077,  0.08531851, -0.12694685, ..., -0.03225003,\n",
       "          0.03489659,  0.03338276],\n",
       "        [ 0.08141438, -0.08524378,  0.03132825, ..., -0.04286612,\n",
       "         -0.01825745, -0.07475419]], dtype=float32),\n",
       " array([[-0.07744002, -0.18032572,  0.26776987, ..., -0.2804725 ,\n",
       "         -0.11552548, -0.24146281],\n",
       "        [ 0.02454263, -0.25821424,  0.06528185, ...,  0.15374456,\n",
       "         -0.2785174 ,  0.19238386],\n",
       "        [-0.2463545 ,  0.1963357 ,  0.05927879, ...,  0.05694529,\n",
       "         -0.01951559, -0.03856963],\n",
       "        ...,\n",
       "        [-0.03073668,  0.22705364, -0.01034605, ...,  0.28535163,\n",
       "         -0.10592534,  0.27967897],\n",
       "        [-0.11626448, -0.2920398 , -0.08864397, ...,  0.26339364,\n",
       "         -0.22941586,  0.04452394],\n",
       "        [-0.1897092 ,  0.28153974, -0.03397961, ..., -0.23777273,\n",
       "          0.11191424, -0.14682926]], dtype=float32),\n",
       " array([ 7.4585760e-03, -4.8615467e-03,  4.5401659e-03,  8.3657047e-03,\n",
       "         8.3404072e-03, -3.1622595e-03,  0.0000000e+00,  7.6303850e-03,\n",
       "         7.4617467e-03,  1.3829496e-04,  5.9934324e-03,  2.8471753e-04,\n",
       "         8.3922427e-03, -3.7330289e-03, -5.4429313e-03,  7.4616903e-03,\n",
       "        -7.9762226e-04, -2.2867981e-04,  7.4654170e-03,  4.5495396e-03,\n",
       "        -3.1622774e-03, -3.1622774e-03,  6.3128206e-03, -5.3859674e-03,\n",
       "        -4.7053765e-03, -3.1622597e-03,  4.5328257e-03,  2.1197613e-05,\n",
       "         5.8952798e-03, -6.2213694e-03, -6.4869379e-03,  8.4840530e-04],\n",
       "       dtype=float32),\n",
       " array([[ 0.43553397],\n",
       "        [-0.00399919],\n",
       "        [ 0.06330512],\n",
       "        [ 0.4061811 ],\n",
       "        [ 0.27441412],\n",
       "        [ 0.21951386],\n",
       "        [ 0.41218626],\n",
       "        [ 0.03604802],\n",
       "        [ 0.3120067 ],\n",
       "        [-0.24038777],\n",
       "        [ 0.4287458 ],\n",
       "        [-0.16005363],\n",
       "        [ 0.29121783],\n",
       "        [-0.06948288],\n",
       "        [-0.38404018],\n",
       "        [ 0.2511983 ],\n",
       "        [-0.08712111],\n",
       "        [-0.27862749],\n",
       "        [ 0.26340267],\n",
       "        [ 0.07857914],\n",
       "        [-0.38109204],\n",
       "        [-0.1469562 ],\n",
       "        [ 0.04495836],\n",
       "        [-0.15514259],\n",
       "        [-0.17530695],\n",
       "        [ 0.21972111],\n",
       "        [ 0.14695631],\n",
       "        [-0.33765593],\n",
       "        [ 0.3202821 ],\n",
       "        [-0.19395323],\n",
       "        [-0.34234512],\n",
       "        [ 0.12726562]], dtype=float32),\n",
       " array([0.00744531], dtype=float32)]"
      ]
     },
     "execution_count": 60,
     "metadata": {
      "tags": []
     },
     "output_type": "execute_result"
    }
   ],
   "source": [
    "keras_model.get_weights()"
   ]
  },
  {
   "cell_type": "markdown",
   "metadata": {
    "colab_type": "text",
    "id": "lBlIW8-frL-Y"
   },
   "source": [
    "### tf.Example\n",
    "\n",
    "[tf.Example](https://www.tensorflow.org/tutorials/load_data/tfrecord) is a standard [protobuf](https://developers.google.com/protocol-buffers/) encoding for TensorFlow data.  Data encoded with `tf.Example`s often includes variable-length features.  For example, the following code defines a batch of four `tf.Example` messages with different feature lengths:"
   ]
  },
  {
   "cell_type": "code",
   "execution_count": 61,
   "metadata": {
    "colab": {},
    "colab_type": "code",
    "id": "_i7u35P3sGSN"
   },
   "outputs": [],
   "source": [
    "import google.protobuf.text_format as pbtext\n",
    "\n",
    "def build_tf_example(s):\n",
    "  return pbtext.Merge(s, tf.train.Example()).SerializeToString()\n",
    "\n",
    "example_batch = [\n",
    "  build_tf_example(r'''\n",
    "    features {\n",
    "      feature {key: \"colors\" value {bytes_list {value: [\"red\", \"blue\"]} } }\n",
    "      feature {key: \"lengths\" value {int64_list {value: [7]} } } }'''),\n",
    "  build_tf_example(r'''\n",
    "    features {\n",
    "      feature {key: \"colors\" value {bytes_list {value: [\"orange\"]} } }\n",
    "      feature {key: \"lengths\" value {int64_list {value: []} } } }'''),\n",
    "  build_tf_example(r'''\n",
    "    features {\n",
    "      feature {key: \"colors\" value {bytes_list {value: [\"black\", \"yellow\"]} } }\n",
    "      feature {key: \"lengths\" value {int64_list {value: [1, 3]} } } }'''),\n",
    "  build_tf_example(r'''\n",
    "    features {\n",
    "      feature {key: \"colors\" value {bytes_list {value: [\"green\"]} } }\n",
    "      feature {key: \"lengths\" value {int64_list {value: [3, 5, 2]} } } }''')                 \n",
    "]"
   ]
  },
  {
   "cell_type": "markdown",
   "metadata": {
    "colab_type": "text",
    "id": "6oy8eUS8tp5H"
   },
   "source": [
    "We can parse this encoded data using `tf.io.parse_example`, which takes a tensor of serialized strings and a feature specification dictionary, and returns a dictionary mapping feature names to tensors.  To read the variable-length features into ragged tensors, we simply use `tf.io.RaggedFeature` in the feature specification dictionary:"
   ]
  },
  {
   "cell_type": "code",
   "execution_count": 62,
   "metadata": {
    "colab": {
     "base_uri": "https://localhost:8080/",
     "height": 72
    },
    "colab_type": "code",
    "id": "2Q9AnsgmtrmA",
    "outputId": "9ae7b311-eafd-4f43-8586-ab82121fca44"
   },
   "outputs": [
    {
     "name": "stdout",
     "output_type": "stream",
     "text": [
      "{'colors': RaggedFeature(dtype=tf.string, value_key=None, partitions=(), row_splits_dtype=tf.int32, validate=False), 'lengths': RaggedFeature(dtype=tf.int64, value_key=None, partitions=(), row_splits_dtype=tf.int32, validate=False)}\n",
      "dict_values([RaggedFeature(dtype=tf.string, value_key=None, partitions=(), row_splits_dtype=tf.int32, validate=False), RaggedFeature(dtype=tf.int64, value_key=None, partitions=(), row_splits_dtype=tf.int32, validate=False)])\n"
     ]
    }
   ],
   "source": [
    "feature_specification = {\n",
    "    'colors': tf.io.RaggedFeature(tf.string),\n",
    "    'lengths': tf.io.RaggedFeature(tf.int64),\n",
    "}\n",
    "print(feature_specification)\n",
    "\n",
    "print(feature_specification.values() )"
   ]
  },
  {
   "cell_type": "code",
   "execution_count": 63,
   "metadata": {
    "colab": {
     "base_uri": "https://localhost:8080/",
     "height": 52
    },
    "colab_type": "code",
    "id": "SkiQwE3vusV9",
    "outputId": "343b46c2-cb3f-40d8-be40-fd5da55a1729"
   },
   "outputs": [
    {
     "name": "stdout",
     "output_type": "stream",
     "text": [
      "colors=<tf.RaggedTensor [[b'red', b'blue'], [b'orange'], [b'black', b'yellow'], [b'green']]>\n",
      "lengths=<tf.RaggedTensor [[7], [], [1, 3], [3, 5, 2]]>\n"
     ]
    }
   ],
   "source": [
    "feature_tensors = tf.io.parse_example(example_batch, feature_specification)\n",
    "for name, value in feature_tensors.items():\n",
    "  print(\"{}={}\".format(name, value))"
   ]
  },
  {
   "cell_type": "markdown",
   "metadata": {
    "colab_type": "text",
    "id": "alu1VAfzvDRQ"
   },
   "source": [
    "`tf.io.RaggedFeature` can also be used to read features with multiple ragged dimensions.  For details, see the [API documentation](https://www.tensorflow.org/api_docs/python/tf/io/RaggedFeature)."
   ]
  },
  {
   "cell_type": "markdown",
   "metadata": {
    "colab_type": "text",
    "id": "HHBwW0o0vGBN"
   },
   "source": [
    "### Datasets\n",
    "\n",
    "[tf.data](https://www.tensorflow.org/guide/data) is an API that enables you to build complex input pipelines from simple, reusable pieces.  Its core data structure is `tf.data.Dataset`, which represents a sequence of elements, in which each element consists of one or more components. "
   ]
  },
  {
   "cell_type": "code",
   "execution_count": 64,
   "metadata": {
    "colab": {},
    "colab_type": "code",
    "id": "1nRHC95XvU8o"
   },
   "outputs": [],
   "source": [
    "# Helper function used to print datasets in the examples below.\n",
    "def print_dictionary_dataset(dataset):\n",
    "  for i, element in enumerate(dataset):\n",
    "    print(\"Element {}:\".format(i))\n",
    "    for (feature_name, feature_value) in element.items():\n",
    "      print('{:>14} = {}'.format(feature_name, feature_value))"
   ]
  },
  {
   "cell_type": "markdown",
   "metadata": {
    "colab_type": "text",
    "id": "m4diRTNty0pN"
   },
   "source": [
    "#### Building Datasets with ragged tensors\n",
    "\n",
    "Datasets can be built from ragged tensors using the same methods that are used to build them from `tf.Tensor`s or numpy `array`s, such as `Dataset.from_tensor_slices`:"
   ]
  },
  {
   "cell_type": "code",
   "execution_count": 65,
   "metadata": {
    "colab": {
     "base_uri": "https://localhost:8080/",
     "height": 228
    },
    "colab_type": "code",
    "id": "pbAnUg_4y6lL",
    "outputId": "1bf3da3d-01c6-41a1-f2cd-8598790b95c0"
   },
   "outputs": [
    {
     "name": "stdout",
     "output_type": "stream",
     "text": [
      "Element 0:\n",
      "        colors = [b'red' b'blue']\n",
      "       lengths = [7]\n",
      "Element 1:\n",
      "        colors = [b'orange']\n",
      "       lengths = []\n",
      "Element 2:\n",
      "        colors = [b'black' b'yellow']\n",
      "       lengths = [1 3]\n",
      "Element 3:\n",
      "        colors = [b'green']\n",
      "       lengths = [3 5 2]\n"
     ]
    }
   ],
   "source": [
    "dataset = tf.data.Dataset.from_tensor_slices(feature_tensors)\n",
    "print_dictionary_dataset(dataset)"
   ]
  },
  {
   "cell_type": "markdown",
   "metadata": {
    "colab_type": "text",
    "id": "RvfdghwRzpip"
   },
   "source": [
    "Note: Dataset.from_generator does not support ragged tensors yet, but support will be added soon."
   ]
  },
  {
   "cell_type": "markdown",
   "metadata": {
    "colab_type": "text",
    "id": "CFr1GBX6zuiA"
   },
   "source": [
    "#### Batching and unbatching Datasets with ragged tensors\n",
    "\n",
    "Datasets with ragged tensors can be batched (which combines *n* consecutive elements into a single elements) using the `Dataset.batch` method."
   ]
  },
  {
   "cell_type": "code",
   "execution_count": 66,
   "metadata": {
    "colab": {
     "base_uri": "https://localhost:8080/",
     "height": 122
    },
    "colab_type": "code",
    "id": "HJT6ctPNz1jP",
    "outputId": "e811e02a-579a-42e9-f6a5-df6e86ddbc8d"
   },
   "outputs": [
    {
     "name": "stdout",
     "output_type": "stream",
     "text": [
      "Element 0:\n",
      "        colors = <tf.RaggedTensor [[b'red', b'blue'], [b'orange']]>\n",
      "       lengths = <tf.RaggedTensor [[7], []]>\n",
      "Element 1:\n",
      "        colors = <tf.RaggedTensor [[b'black', b'yellow'], [b'green']]>\n",
      "       lengths = <tf.RaggedTensor [[1, 3], [3, 5, 2]]>\n"
     ]
    }
   ],
   "source": [
    "batched_dataset = dataset.batch(2)\n",
    "print_dictionary_dataset(batched_dataset)"
   ]
  },
  {
   "cell_type": "markdown",
   "metadata": {
    "colab_type": "text",
    "id": "AOljzH3Q0DHh"
   },
   "source": [
    "Conversely, a batched dataset can be transformed into a flat dataset using Dataset.unbatch."
   ]
  },
  {
   "cell_type": "code",
   "execution_count": 67,
   "metadata": {
    "colab": {
     "base_uri": "https://localhost:8080/",
     "height": 228
    },
    "colab_type": "code",
    "id": "1GXWXIZR0Gxi",
    "outputId": "50c42abd-236b-4198-d4ba-7ac3f0fc813c"
   },
   "outputs": [
    {
     "name": "stdout",
     "output_type": "stream",
     "text": [
      "Element 0:\n",
      "        colors = [b'red' b'blue']\n",
      "       lengths = [7]\n",
      "Element 1:\n",
      "        colors = [b'orange']\n",
      "       lengths = []\n",
      "Element 2:\n",
      "        colors = [b'black' b'yellow']\n",
      "       lengths = [1 3]\n",
      "Element 3:\n",
      "        colors = [b'green']\n",
      "       lengths = [3 5 2]\n"
     ]
    }
   ],
   "source": [
    "unbatched_dataset = batched_dataset.unbatch()\n",
    "print_dictionary_dataset(unbatched_dataset)"
   ]
  },
  {
   "cell_type": "markdown",
   "metadata": {
    "colab_type": "text",
    "id": "CDiDmnz20F6U"
   },
   "source": [
    "Batching Datasets with variable-length non-ragged tensors\n",
    "If you have a Dataset that contains non-ragged tensors, and tensor lengths vary across elements, then you can batch those non-ragged tensors into ragged tensors by applying the dense_to_ragged_batch transformation:"
   ]
  },
  {
   "cell_type": "code",
   "execution_count": 68,
   "metadata": {
    "colab": {
     "base_uri": "https://localhost:8080/",
     "height": 122
    },
    "colab_type": "code",
    "id": "S5Zjb8Z30Q5l",
    "outputId": "4dd76354-d0df-4926-b6dd-6a92a1aee384"
   },
   "outputs": [
    {
     "name": "stdout",
     "output_type": "stream",
     "text": [
      "Initial  <TensorSliceDataset shapes: (), types: tf.int32>\n",
      "Second <MapDataset shapes: (None,), types: tf.int32>\n",
      "now the dense to ragged dataset\n",
      "<tf.RaggedTensor [[0], [0, 1, 2, 3, 4]]>\n",
      "<tf.RaggedTensor [[0, 1, 2], [0, 1]]>\n",
      "<tf.RaggedTensor [[0, 1, 2, 3, 4, 5, 6, 7]]>\n"
     ]
    }
   ],
   "source": [
    "non_ragged_dataset = tf.data.Dataset.from_tensor_slices([1, 5, 3, 2, 8])\n",
    "print(\"Initial \", non_ragged_dataset)\n",
    "non_ragged_dataset = non_ragged_dataset.map(tf.range)\n",
    "print(\"Second\" ,non_ragged_dataset)\n",
    "batched_non_ragged_dataset = non_ragged_dataset.apply(\n",
    "    tf.data.experimental.dense_to_ragged_batch(2))\n",
    "print(\"now the dense to ragged dataset\")\n",
    "for element in batched_non_ragged_dataset:\n",
    "  print(element)"
   ]
  },
  {
   "cell_type": "markdown",
   "metadata": {
    "colab_type": "text",
    "id": "kUiFjgR71Oeq"
   },
   "source": [
    "#### Transforming Datasets with ragged tensors\n",
    "\n",
    "Ragged tensors in Datasets can also be created or transformed using `Dataset.map`."
   ]
  },
  {
   "cell_type": "code",
   "execution_count": 69,
   "metadata": {
    "colab": {
     "base_uri": "https://localhost:8080/",
     "height": 228
    },
    "colab_type": "code",
    "id": "Uj88WT7V1SYK",
    "outputId": "258efa24-7b52-477e-ffbe-4f7ffffc0e56"
   },
   "outputs": [
    {
     "name": "stdout",
     "output_type": "stream",
     "text": [
      "Element 0:\n",
      "   mean_length = 7\n",
      " length_ranges = <tf.RaggedTensor [[0, 1, 2, 3, 4, 5, 6]]>\n",
      "Element 1:\n",
      "   mean_length = 0\n",
      " length_ranges = <tf.RaggedTensor []>\n",
      "Element 2:\n",
      "   mean_length = 2\n",
      " length_ranges = <tf.RaggedTensor [[0], [0, 1, 2]]>\n",
      "Element 3:\n",
      "   mean_length = 3\n",
      " length_ranges = <tf.RaggedTensor [[0, 1, 2], [0, 1, 2, 3, 4], [0, 1]]>\n"
     ]
    }
   ],
   "source": [
    "def transform_lengths(features):\n",
    "  return {\n",
    "      'mean_length': tf.math.reduce_mean(features['lengths']),\n",
    "      'length_ranges': tf.ragged.range(features['lengths'])}\n",
    "transformed_dataset = dataset.map(transform_lengths)\n",
    "print_dictionary_dataset(transformed_dataset)"
   ]
  },
  {
   "cell_type": "markdown",
   "metadata": {
    "colab_type": "text",
    "id": "YGSxtC3-qcif"
   },
   "source": [
    "### tf.function\n",
    "\n",
    "[tf.function](https://www.tensorflow.org/guide/function) is a decorator that precomputes TensorFlow graphs for Python functions, which can substantially improve the performance of your TensorFlow code.  Ragged tensors can be used transparently with `@tf.function`-decorated functions.  For example, the following function works with both ragged and non-ragged tensors:"
   ]
  },
  {
   "cell_type": "code",
   "execution_count": 70,
   "metadata": {
    "colab": {},
    "colab_type": "code",
    "id": "qCo15uR5qY0J"
   },
   "outputs": [],
   "source": [
    "@tf.function\n",
    "def make_palindrome(x, axis):\n",
    "  return tf.concat([x, tf.reverse(x, [axis])], axis)"
   ]
  },
  {
   "cell_type": "code",
   "execution_count": 71,
   "metadata": {
    "colab": {
     "base_uri": "https://localhost:8080/",
     "height": 87
    },
    "colab_type": "code",
    "id": "_ezHzs_4q1cR",
    "outputId": "794770ca-9864-4275-91bb-0bb0b43fb05d"
   },
   "outputs": [
    {
     "data": {
      "text/plain": [
       "<tf.Tensor: shape=(3, 4), dtype=int32, numpy=\n",
       "array([[1, 2, 2, 1],\n",
       "       [3, 4, 4, 3],\n",
       "       [5, 6, 6, 5]], dtype=int32)>"
      ]
     },
     "execution_count": 71,
     "metadata": {
      "tags": []
     },
     "output_type": "execute_result"
    }
   ],
   "source": [
    "# Normal tensor:\n",
    "make_palindrome(tf.constant([[1, 2], [3, 4], [5, 6]]), axis=1)"
   ]
  },
  {
   "cell_type": "code",
   "execution_count": 73,
   "metadata": {
    "colab": {
     "base_uri": "https://localhost:8080/",
     "height": 34
    },
    "colab_type": "code",
    "id": "_1YDeoH9rHWj",
    "outputId": "a54dacd9-00a0-4086-9b6a-fff1682d62df"
   },
   "outputs": [
    {
     "data": {
      "text/plain": [
       "<tf.RaggedTensor [[1, 2, 2, 1], [3, 3], [4, 5, 6, 6, 5, 4]]>"
      ]
     },
     "execution_count": 73,
     "metadata": {
      "tags": []
     },
     "output_type": "execute_result"
    }
   ],
   "source": [
    "# ragged tensor with decoration @tf.function\n",
    "make_palindrome(tf.ragged.constant([[1, 2], [3], [4, 5, 6]]), axis=1)"
   ]
  },
  {
   "cell_type": "markdown",
   "metadata": {
    "colab_type": "text",
    "id": "tlKlygmzrhpS"
   },
   "source": [
    "If you wish to explicitly specify the `input_signature` for the `tf.function`, then you can do so using `tf.RaggedTensorSpec`."
   ]
  },
  {
   "cell_type": "code",
   "execution_count": 74,
   "metadata": {
    "colab": {
     "base_uri": "https://localhost:8080/",
     "height": 52
    },
    "colab_type": "code",
    "id": "eLLq1-Wfrl8d",
    "outputId": "f726e3a8-64fe-441b-bf18-bd95cc27ada6"
   },
   "outputs": [
    {
     "data": {
      "text/plain": [
       "(<tf.Tensor: shape=(3,), dtype=int32, numpy=array([2, 3, 6], dtype=int32)>,\n",
       " <tf.Tensor: shape=(3,), dtype=int32, numpy=array([1, 3, 4], dtype=int32)>)"
      ]
     },
     "execution_count": 74,
     "metadata": {
      "tags": []
     },
     "output_type": "execute_result"
    }
   ],
   "source": [
    "@tf.function(\n",
    "    input_signature=[tf.RaggedTensorSpec(shape=[None, None], dtype=tf.int32)])\n",
    "def max_and_min(rt):\n",
    "  return (tf.math.reduce_max(rt, axis=-1), tf.math.reduce_min(rt, axis=-1))\n",
    "\n",
    "max_and_min(tf.ragged.constant([[1, 2], [3], [4, 5, 6]]))"
   ]
  },
  {
   "cell_type": "markdown",
   "metadata": {
    "colab_type": "text",
    "id": "4KqItVNDr6Hj"
   },
   "source": [
    "#### Concrete functions\n",
    "\n",
    "[Concrete functions](https://www.tensorflow.org/guide/concrete_function) encapsulate individual traced graphs that are built by `tf.function`.  Starting with TensorFlow 2.3 (and in `tf-nightly`), ragged tensors can be used transparently with concrete functions.\n"
   ]
  },
  {
   "cell_type": "code",
   "execution_count": 75,
   "metadata": {
    "colab": {
     "base_uri": "https://localhost:8080/",
     "height": 34
    },
    "colab_type": "code",
    "id": "0fCTJEs_r--1",
    "outputId": "475d4bf8-626b-4855-ab03-d8171f0968b0"
   },
   "outputs": [
    {
     "name": "stdout",
     "output_type": "stream",
     "text": [
      "<tf.RaggedTensor [[2, 3], [4], [5, 6, 7]]>\n"
     ]
    }
   ],
   "source": [
    "# Preferred way to use ragged tensors with concrete functions (TF 2.3+):\n",
    "try:\n",
    "  @tf.function\n",
    "  def increment(x):\n",
    "    return x + 1\n",
    "\n",
    "  rt = tf.ragged.constant([[1, 2], [3], [4, 5, 6]])\n",
    "  cf = increment.get_concrete_function(rt)\n",
    "  print(cf(rt))\n",
    "except Exception as e:\n",
    "  print(f\"Not supported before TF 2.3: {type(e)}: {e}\")"
   ]
  },
  {
   "cell_type": "markdown",
   "metadata": {
    "colab_type": "text",
    "id": "QXbqlh0bs_nh"
   },
   "source": [
    "### SavedModels\n",
    "\n",
    "A [SavedModel](https://www.tensorflow.org/guide/saved_model) is a serialized TensorFlow program, including both weights and computation.  It can be built from a Keras model or from a custom model.  In either case, ragged tensors can be used transparently with the functions and methods defined by a SavedModel."
   ]
  },
  {
   "cell_type": "markdown",
   "metadata": {
    "colab_type": "text",
    "id": "qjcxTy4qtFFi"
   },
   "source": [
    "#### Example: saving a Keras model"
   ]
  },
  {
   "cell_type": "code",
   "execution_count": 76,
   "metadata": {
    "colab": {
     "base_uri": "https://localhost:8080/",
     "height": 248
    },
    "colab_type": "code",
    "id": "8UbPeqC3tDdn",
    "outputId": "5f1a4298-8d6f-4d07-8fb2-fd2c79175d55"
   },
   "outputs": [
    {
     "name": "stdout",
     "output_type": "stream",
     "text": [
      "WARNING:tensorflow:From /usr/local/lib/python3.6/dist-packages/tensorflow/python/training/tracking/tracking.py:111: Model.state_updates (from tensorflow.python.keras.engine.training) is deprecated and will be removed in a future version.\n",
      "Instructions for updating:\n",
      "This property should not be used in TensorFlow 2.0, as updates are applied automatically.\n",
      "WARNING:tensorflow:From /usr/local/lib/python3.6/dist-packages/tensorflow/python/training/tracking/tracking.py:111: Layer.updates (from tensorflow.python.keras.engine.base_layer) is deprecated and will be removed in a future version.\n",
      "Instructions for updating:\n",
      "This property should not be used in TensorFlow 2.0, as updates are applied automatically.\n",
      "INFO:tensorflow:Assets written to: /tmp/tmpt4o9ilcy/assets\n"
     ]
    },
    {
     "data": {
      "text/plain": [
       "<tf.Tensor: shape=(4, 1), dtype=float32, numpy=\n",
       "array([[0.03264387],\n",
       "       [0.01967335],\n",
       "       [0.05139512],\n",
       "       [0.01372125]], dtype=float32)>"
      ]
     },
     "execution_count": 76,
     "metadata": {
      "tags": []
     },
     "output_type": "execute_result"
    }
   ],
   "source": [
    "import tempfile\n",
    "\n",
    "keras_module_path = tempfile.mkdtemp()\n",
    "tf.saved_model.save(keras_model, keras_module_path)\n",
    "imported_model = tf.saved_model.load(keras_module_path)\n",
    "imported_model(hashed_words)"
   ]
  },
  {
   "cell_type": "markdown",
   "metadata": {
    "colab_type": "text",
    "id": "v36oA4SPtdM-"
   },
   "source": [
    "#### Example: saving a custom model"
   ]
  },
  {
   "cell_type": "code",
   "execution_count": 77,
   "metadata": {
    "colab": {
     "base_uri": "https://localhost:8080/",
     "height": 52
    },
    "colab_type": "code",
    "id": "KCOmObi-tmTl",
    "outputId": "04f0d753-e0e5-42b7-e885-fb1e37e6c3ce"
   },
   "outputs": [
    {
     "name": "stdout",
     "output_type": "stream",
     "text": [
      "INFO:tensorflow:Assets written to: /tmp/tmplpsn0o9g/assets\n"
     ]
    },
    {
     "data": {
      "text/plain": [
       "<tf.RaggedTensor [[100.0, 400.0, 300.0], [200.0]]>"
      ]
     },
     "execution_count": 77,
     "metadata": {
      "tags": []
     },
     "output_type": "execute_result"
    }
   ],
   "source": [
    "class CustomModule(tf.Module):\n",
    "  def __init__(self, variable_value):\n",
    "    super(CustomModule, self).__init__()\n",
    "    self.v = tf.Variable(variable_value)\n",
    "\n",
    "  @tf.function\n",
    "  def grow(self, x):\n",
    "    return x * self.v\n",
    "\n",
    "module = CustomModule(100.0)\n",
    "\n",
    "# Before saving a custom model, we must ensure that concrete functions are\n",
    "# built for each input signature that we will need.\n",
    "module.grow.get_concrete_function(tf.RaggedTensorSpec(shape=[None, None],\n",
    "                                                      dtype=tf.float32))\n",
    "\n",
    "custom_module_path = tempfile.mkdtemp()\n",
    "tf.saved_model.save(module, custom_module_path)\n",
    "imported_model = tf.saved_model.load(custom_module_path)\n",
    "imported_model.grow(tf.ragged.constant([[1.0, 4.0, 3.0], [2.0]]))"
   ]
  },
  {
   "cell_type": "markdown",
   "metadata": {
    "colab_type": "text",
    "id": "L6ZUYeLItzVo"
   },
   "source": [
    "Note: SavedModel [signatures](https://www.tensorflow.org/guide/saved_model#specifying_signatures_during_export) are concrete functions.  As discussed in the section on Concrete Functions above, ragged tensors are only handled correctly by concrete functions starting with TensorFlow 2.3 (and in `tf_nightly`).  If you need to use SavedModel signatures in a previous version of TensorFlow, then we recommend decomposing the ragged tensor into its component tensors."
   ]
  },
  {
   "cell_type": "markdown",
   "metadata": {
    "colab_type": "text",
    "id": "sTDOeF13zMOm"
   },
   "source": [
    "## Overloaded operators\n",
    "\n",
    "The `RaggedTensor` class overloads the standard Python arithmetic and comparison\n",
    "operators, making it easy to perform basic elementwise math:"
   ]
  },
  {
   "cell_type": "code",
   "execution_count": 78,
   "metadata": {
    "colab": {
     "base_uri": "https://localhost:8080/",
     "height": 34
    },
    "colab_type": "code",
    "id": "T_V2OMXXzOqF",
    "outputId": "68c1d685-9f9b-433d-ba72-c55ed7017537"
   },
   "outputs": [
    {
     "name": "stdout",
     "output_type": "stream",
     "text": [
      "<tf.RaggedTensor [[2, 3], [5], [7, 8, 9]]>\n"
     ]
    }
   ],
   "source": [
    "x = tf.ragged.constant([[1, 2], [3], [4, 5, 6]])\n",
    "y = tf.ragged.constant([[1, 1], [2], [3, 3, 3]])\n",
    "print(x + y)"
   ]
  },
  {
   "cell_type": "markdown",
   "metadata": {
    "colab_type": "text",
    "id": "3m9DN4M2zUvt"
   },
   "source": [
    "For a discussion of more advanced cases, see the section on\n",
    "**Broadcasting**.\n",
    "\n",
    "Ragged tensors overload the same set of operators as normal `Tensor`s: the unary\n",
    "operators `-`, `~`, and `abs()`; and the binary operators `+`, `-`, `*`, `/`,\n",
    "`//`, `%`, `**`, `&`, `|`, `^`, `==`, `<`, `<=`, `>`, and `>=`.\n"
   ]
  },
  {
   "cell_type": "markdown",
   "metadata": {
    "colab_type": "text",
    "id": "0jxoWwq7zcsr"
   },
   "source": [
    "## Indexing\n",
    "\n",
    "Ragged tensors support Python-style indexing, including multidimensional\n",
    "indexing and slicing. The following examples demonstrate ragged tensor indexing\n",
    "with a 2-D and a 3-D ragged tensor."
   ]
  },
  {
   "cell_type": "markdown",
   "metadata": {
    "colab_type": "text",
    "id": "RTiqor5JzhS0"
   },
   "source": [
    "### Indexing examples: 2D ragged tensor"
   ]
  },
  {
   "cell_type": "code",
   "execution_count": 79,
   "metadata": {
    "colab": {},
    "colab_type": "code",
    "id": "-qOwHsV6znx1"
   },
   "outputs": [],
   "source": [
    "queries = tf.ragged.constant(\n",
    "    [['Who', 'is', 'George', 'Washington'],\n",
    "     ['What', 'is', 'the', 'weather', 'tomorrow'],\n",
    "     ['Goodnight']])"
   ]
  },
  {
   "cell_type": "code",
   "execution_count": 80,
   "metadata": {
    "colab": {
     "base_uri": "https://localhost:8080/",
     "height": 34
    },
    "colab_type": "code",
    "id": "z_FFigRGzuMJ",
    "outputId": "ca967311-83a9-4542-ae48-8c7be386b47c"
   },
   "outputs": [
    {
     "name": "stdout",
     "output_type": "stream",
     "text": [
      "tf.Tensor([b'What' b'is' b'the' b'weather' b'tomorrow'], shape=(5,), dtype=string)\n"
     ]
    }
   ],
   "source": [
    "print(queries[1])                 # A single query"
   ]
  },
  {
   "cell_type": "code",
   "execution_count": 81,
   "metadata": {
    "colab": {
     "base_uri": "https://localhost:8080/",
     "height": 34
    },
    "colab_type": "code",
    "id": "UjfNBjQLzxxC",
    "outputId": "87ecc021-14f4-4662-a192-8bd5c894033f"
   },
   "outputs": [
    {
     "name": "stdout",
     "output_type": "stream",
     "text": [
      "tf.Tensor(b'the', shape=(), dtype=string)\n"
     ]
    }
   ],
   "source": [
    "print(queries[1, 2])              # a single word"
   ]
  },
  {
   "cell_type": "code",
   "execution_count": 82,
   "metadata": {
    "colab": {
     "base_uri": "https://localhost:8080/",
     "height": 34
    },
    "colab_type": "code",
    "id": "mTfTYdyHz9IT",
    "outputId": "04689d23-d66e-405a-a6c9-d4f5888ad871"
   },
   "outputs": [
    {
     "name": "stdout",
     "output_type": "stream",
     "text": [
      "<tf.RaggedTensor [[b'What', b'is', b'the', b'weather', b'tomorrow'], [b'Goodnight']]>\n"
     ]
    }
   ],
   "source": [
    "print(queries[1: ])               # eveeything but the first row "
   ]
  },
  {
   "cell_type": "code",
   "execution_count": 83,
   "metadata": {
    "colab": {
     "base_uri": "https://localhost:8080/",
     "height": 34
    },
    "colab_type": "code",
    "id": "9QQPb-sR0Lir",
    "outputId": "4da82987-b52e-4b4e-dc15-d8be73ad24b8"
   },
   "outputs": [
    {
     "name": "stdout",
     "output_type": "stream",
     "text": [
      "<tf.RaggedTensor [[b'Who', b'is', b'George'], [b'What', b'is', b'the'], [b'Goodnight']]>\n"
     ]
    }
   ],
   "source": [
    "print(queries[:, :3])             # all rows until th ethird word"
   ]
  },
  {
   "cell_type": "code",
   "execution_count": 84,
   "metadata": {
    "colab": {
     "base_uri": "https://localhost:8080/",
     "height": 34
    },
    "colab_type": "code",
    "id": "vpl65v010uln",
    "outputId": "4987c048-b55a-4bf9-dcb2-143c01b7054f"
   },
   "outputs": [
    {
     "name": "stdout",
     "output_type": "stream",
     "text": [
      "<tf.RaggedTensor [[b'George', b'Washington'], [b'weather', b'tomorrow'], [b'Goodnight']]>\n"
     ]
    }
   ],
   "source": [
    "print(queries[:, -2:])"
   ]
  },
  {
   "cell_type": "markdown",
   "metadata": {
    "colab_type": "text",
    "id": "JW-cuRNK1Ch1"
   },
   "source": [
    "### Indexing examples 3D ragged tensor"
   ]
  },
  {
   "cell_type": "code",
   "execution_count": 86,
   "metadata": {
    "colab": {
     "base_uri": "https://localhost:8080/",
     "height": 52
    },
    "colab_type": "code",
    "id": "IvN6YTbA1F7k",
    "outputId": "75c5d315-86e3-4b4d-ef14-e49f6324318d"
   },
   "outputs": [
    {
     "name": "stdout",
     "output_type": "stream",
     "text": [
      "<tf.RaggedTensor [[[1, 2, 3], [4]], [[5], [], [6]], [[7]], [[8, 9], [10]]]>\n"
     ]
    },
    {
     "data": {
      "text/plain": [
       "<tf.RaggedTensor [[[1, 2, 3], [4]], [[5], [], [6]], [[7]], [[8, 9], [10]]]>"
      ]
     },
     "execution_count": 86,
     "metadata": {
      "tags": []
     },
     "output_type": "execute_result"
    }
   ],
   "source": [
    "rt = tf.ragged.constant([[[1, 2, 3], [4]],\n",
    "                         [[5], [], [6]],\n",
    "                         [[7]],\n",
    "                         [[8, 9], [10]]])\n",
    "print(rt)\n",
    "rt"
   ]
  },
  {
   "cell_type": "code",
   "execution_count": 87,
   "metadata": {
    "colab": {
     "base_uri": "https://localhost:8080/",
     "height": 34
    },
    "colab_type": "code",
    "id": "J84J2Uss1PHg",
    "outputId": "e3869ba3-e14c-4351-c992-97432a9be465"
   },
   "outputs": [
    {
     "name": "stdout",
     "output_type": "stream",
     "text": [
      "<tf.RaggedTensor [[5], [], [6]]>\n"
     ]
    }
   ],
   "source": [
    "print(rt[1])                        # Second row (2-D RaggedTensor)"
   ]
  },
  {
   "cell_type": "code",
   "execution_count": 88,
   "metadata": {
    "colab": {
     "base_uri": "https://localhost:8080/",
     "height": 34
    },
    "colab_type": "code",
    "id": "kee2N5KA2aTE",
    "outputId": "41404767-dd61-4d59-b74d-48b9c3ff2ce7"
   },
   "outputs": [
    {
     "name": "stdout",
     "output_type": "stream",
     "text": [
      "tf.Tensor([8 9], shape=(2,), dtype=int32)\n"
     ]
    }
   ],
   "source": [
    "print(rt[3, 0])                     # First element of fourth row (1-D Tensor)"
   ]
  },
  {
   "cell_type": "code",
   "execution_count": 89,
   "metadata": {
    "colab": {
     "base_uri": "https://localhost:8080/",
     "height": 34
    },
    "colab_type": "code",
    "id": "jXBW8P1q2c7C",
    "outputId": "50e747e3-28e3-4a31-d39e-eccda24a3ff2"
   },
   "outputs": [
    {
     "name": "stdout",
     "output_type": "stream",
     "text": [
      "<tf.RaggedTensor [[[4]], [[], [6]], [], [[10]]]>\n"
     ]
    }
   ],
   "source": [
    "print(rt[:, 1:3])                   # Items 1-3 of each row (3-D RaggedTensor)"
   ]
  },
  {
   "cell_type": "code",
   "execution_count": 90,
   "metadata": {
    "colab": {
     "base_uri": "https://localhost:8080/",
     "height": 34
    },
    "colab_type": "code",
    "id": "Yc1WhcsG2flW",
    "outputId": "fbf76c18-73c5-4ced-85b3-0b4073d41b5f"
   },
   "outputs": [
    {
     "name": "stdout",
     "output_type": "stream",
     "text": [
      "<tf.RaggedTensor [[[4]], [[6]], [[7]], [[10]]]>\n"
     ]
    }
   ],
   "source": [
    "print(rt[:, -1:])                   # Last item of each row (3-D RaggedTensor)"
   ]
  },
  {
   "cell_type": "markdown",
   "metadata": {
    "colab_type": "text",
    "id": "jibz5AFr2tFd"
   },
   "source": [
    "`RaggedTensor`s supports multidimensional indexing and slicing, with one\n",
    "restriction: indexing into a ragged dimension is not allowed. This case is\n",
    "problematic because the indicated value may exist in some rows but not others.\n",
    "In such cases, it's not obvious whether we should (1) raise an `IndexError`; (2)\n",
    "use a default value; or (3) skip that value and return a tensor with fewer rows\n",
    "than we started with. Following the\n",
    "[guiding principles of Python](https://www.python.org/dev/peps/pep-0020/)\n",
    "(\"In the face\n",
    "of ambiguity, refuse the temptation to guess\" ), we currently disallow this\n",
    "operation."
   ]
  },
  {
   "cell_type": "markdown",
   "metadata": {
    "colab_type": "text",
    "id": "JCksVebB2x7H"
   },
   "source": [
    "## Tensor type conversion\n",
    "\n",
    "The `RaggedTensor` class defines methods that can be used to convert\n",
    "between `RaggedTensor`s and `tf.Tensor`s or `tf.SparseTensors`:"
   ]
  },
  {
   "cell_type": "code",
   "execution_count": 94,
   "metadata": {
    "colab": {},
    "colab_type": "code",
    "id": "I13hHBfM23eX"
   },
   "outputs": [],
   "source": [
    "ragged_sentences = tf.ragged.constant([\n",
    "    ['Hi'], ['Welcome', 'to', 'the', 'fair'], ['Have', 'fun']])"
   ]
  },
  {
   "cell_type": "code",
   "execution_count": 95,
   "metadata": {
    "colab": {
     "base_uri": "https://localhost:8080/",
     "height": 87
    },
    "colab_type": "code",
    "id": "eN4HYpWq3MLA",
    "outputId": "be8a4168-7876-4855-b299-35f61d7cc2ca"
   },
   "outputs": [
    {
     "name": "stdout",
     "output_type": "stream",
     "text": [
      "tf.Tensor(\n",
      "[[b'Hi' b'' b'' b'' b'' b'' b'' b'' b'' b'']\n",
      " [b'Welcome' b'to' b'the' b'fair' b'' b'' b'' b'' b'' b'']\n",
      " [b'Have' b'fun' b'' b'' b'' b'' b'' b'' b'' b'']], shape=(3, 10), dtype=string)\n"
     ]
    }
   ],
   "source": [
    "# RaggedTensor -> Tensor\n",
    "print(ragged_sentences.to_tensor(default_value='', shape=[None, 10]))"
   ]
  },
  {
   "cell_type": "code",
   "execution_count": 97,
   "metadata": {
    "colab": {
     "base_uri": "https://localhost:8080/",
     "height": 34
    },
    "colab_type": "code",
    "id": "RQv2Hevv27ed",
    "outputId": "e9e5a345-ad52-4cd4-d3ef-eca2cb309c28"
   },
   "outputs": [
    {
     "name": "stdout",
     "output_type": "stream",
     "text": [
      "<tf.RaggedTensor [[-1, 3], [2], [4, 5, 8, 9]]>\n"
     ]
    }
   ],
   "source": [
    "# Tensor -> RaggedTensor\n",
    "x = [[-1, 3, -1, -1], [2, -1, -1, -1], [4, 5, 8, 9]]\n",
    "print(tf.RaggedTensor.from_tensor(x, padding=-1))"
   ]
  },
  {
   "cell_type": "code",
   "execution_count": 98,
   "metadata": {
    "colab": {
     "base_uri": "https://localhost:8080/",
     "height": 178
    },
    "colab_type": "code",
    "id": "KG6cs8jV2_Qx",
    "outputId": "522cb8fb-3f63-4ae8-cc9e-1bf411ce0dee"
   },
   "outputs": [
    {
     "name": "stdout",
     "output_type": "stream",
     "text": [
      "SparseTensor(indices=tf.Tensor(\n",
      "[[0 0]\n",
      " [1 0]\n",
      " [1 1]\n",
      " [1 2]\n",
      " [1 3]\n",
      " [2 0]\n",
      " [2 1]], shape=(7, 2), dtype=int64), values=tf.Tensor([b'Hi' b'Welcome' b'to' b'the' b'fair' b'Have' b'fun'], shape=(7,), dtype=string), dense_shape=tf.Tensor([3 4], shape=(2,), dtype=int64))\n"
     ]
    }
   ],
   "source": [
    "#RaggedTensor -> SparseTensor\n",
    "print(ragged_sentences.to_sparse())"
   ]
  },
  {
   "cell_type": "code",
   "execution_count": 99,
   "metadata": {
    "colab": {
     "base_uri": "https://localhost:8080/",
     "height": 34
    },
    "colab_type": "code",
    "id": "bnpiV5Hj3fyh",
    "outputId": "5f7819d5-f2b3-44d6-ff25-27129c037670"
   },
   "outputs": [
    {
     "name": "stdout",
     "output_type": "stream",
     "text": [
      "<tf.RaggedTensor [[b'a'], [], [b'b', b'c']]>\n"
     ]
    }
   ],
   "source": [
    "# SparseTensor -> RaggedTensor\n",
    "st = tf.SparseTensor(indices=[[0, 0], [2, 0], [2, 1]],\n",
    "                     values=['a', 'b', 'c'],\n",
    "                     dense_shape=[3, 3])\n",
    "print(tf.RaggedTensor.from_sparse(st))"
   ]
  },
  {
   "cell_type": "markdown",
   "metadata": {
    "colab_type": "text",
    "id": "lEXHPdm03sKe"
   },
   "source": [
    "## Evaluating ragged tensors\n",
    "\n",
    "To access the values in a ragged tensor, you can:\n",
    "\n",
    "1.  Use `tf.RaggedTensor.to_list()` to convert the ragged tensor to a\n",
    "    nested python list.\n",
    "1.  Use `tf.RaggedTensor.numpy()` to convert the ragged tensor to a numpy array \n",
    "    whose values are nested numpy arrays.\n",
    "1.  Decompose the ragged tensor into its components, using the\n",
    "    `tf.RaggedTensor.values` and `tf.RaggedTensor.row_splits`\n",
    "    properties, or row-paritioning methods such as \n",
    "    `tf.RaggedTensor.row_lengths()` and `tf.RaggedTensor.value_rowids()`.\n",
    "1.  Use Python indexing to select values from the ragged tensor."
   ]
  },
  {
   "cell_type": "code",
   "execution_count": 100,
   "metadata": {
    "colab": {
     "base_uri": "https://localhost:8080/",
     "height": 122
    },
    "colab_type": "code",
    "id": "5eIbSSJq3wCc",
    "outputId": "5dd9a50a-601f-49f6-b684-08923b504a66"
   },
   "outputs": [
    {
     "name": "stdout",
     "output_type": "stream",
     "text": [
      "python list: [[1, 2], [3, 4, 5], [6], [], [7]]\n",
      "numpy array: [array([1, 2], dtype=int32) array([3, 4, 5], dtype=int32)\n",
      " array([6], dtype=int32) array([], dtype=int32) array([7], dtype=int32)]\n",
      "values: [1 2 3 4 5 6 7]\n",
      "splits: [0 2 5 6 6 7]\n",
      "indexed value: [3 4 5]\n"
     ]
    }
   ],
   "source": [
    "rt = tf.ragged.constant([[1, 2], [3, 4, 5], [6], [], [7]])\n",
    "print(\"python list:\", rt.to_list())\n",
    "print(\"numpy array:\", rt.numpy())\n",
    "print(\"values:\", rt.values.numpy())\n",
    "print(\"splits:\", rt.row_splits.numpy())\n",
    "print(\"indexed value:\", rt[1].numpy())"
   ]
  },
  {
   "cell_type": "markdown",
   "metadata": {
    "colab_type": "text",
    "id": "2jHwBFmX4Ehv"
   },
   "source": [
    "## Broadcasting\n",
    "\n",
    "Broadcasting is the process of making tensors with different shapes have\n",
    "compatible shapes for elementwise operations. For more background on\n",
    "broadcasting, see:\n",
    "\n",
    "*   [Numpy: Broadcasting](https://docs.scipy.org/doc/numpy/user/basics.broadcasting.html)\n",
    "*   `tf.broadcast_dynamic_shape`\n",
    "*   `tf.broadcast_to`\n",
    "\n",
    "The basic steps for broadcasting two inputs `x` and `y` to have compatible\n",
    "shapes are:\n",
    "\n",
    "1.  If `x` and `y` do not have the same number of dimensions, then add outer\n",
    "    dimensions (with size 1) until they do.\n",
    "\n",
    "2.  For each dimension where `x` and `y` have different sizes:\n",
    "\n",
    "    *   If `x` or `y` have size `1` in dimension `d`, then repeat its values\n",
    "        across dimension `d` to match the other input's size.\n",
    "\n",
    "    *   Otherwise, raise an exception (`x` and `y` are not broadcast\n",
    "        compatible).\n",
    "\n",
    "Where the size of a tensor in a uniform dimension is a single number (the size\n",
    "of slices across that dimension); and the size of a tensor in a ragged dimension\n",
    "is a list of slice lengths (for all slices across that dimension)."
   ]
  },
  {
   "cell_type": "markdown",
   "metadata": {
    "colab_type": "text",
    "id": "F-EwyFqA4Ipn"
   },
   "source": [
    "### Broadcasting examples"
   ]
  },
  {
   "cell_type": "code",
   "execution_count": 101,
   "metadata": {
    "colab": {
     "base_uri": "https://localhost:8080/",
     "height": 34
    },
    "colab_type": "code",
    "id": "e4yV6wxp4L8W",
    "outputId": "30555ab1-18fb-4f55-8657-b19a57fc6395"
   },
   "outputs": [
    {
     "name": "stdout",
     "output_type": "stream",
     "text": [
      "<tf.RaggedTensor [[4, 5], [6]]>\n"
     ]
    }
   ],
   "source": [
    "# x       (2D ragged):  2 x (num_rows)\n",
    "# y       (scalar)\n",
    "# result  (2D ragged):  2 x (num_rows)\n",
    "x = tf.ragged.constant([[1, 2], [3]])\n",
    "y = 3\n",
    "print(x + y)"
   ]
  },
  {
   "cell_type": "code",
   "execution_count": 102,
   "metadata": {
    "colab": {
     "base_uri": "https://localhost:8080/",
     "height": 34
    },
    "colab_type": "code",
    "id": "AopWecpa4YQ7",
    "outputId": "3db133f2-6bf1-453b-d0d0-f183632c2418"
   },
   "outputs": [
    {
     "name": "stdout",
     "output_type": "stream",
     "text": [
      "<tf.RaggedTensor [[1010, 1087, 1012], [2019, 2053], [3012, 3032]]>\n"
     ]
    }
   ],
   "source": [
    "# x         (2d ragged):  3 x (num_rows)\n",
    "# y         (2d tensor):  3 x          1\n",
    "# Result    (2d ragged):  3 x (num_rows)\n",
    "x = tf.ragged.constant(\n",
    "   [[10, 87, 12],\n",
    "    [19, 53],\n",
    "    [12, 32]])\n",
    "y = [[1000], [2000], [3000]]\n",
    "print(x + y)"
   ]
  },
  {
   "cell_type": "code",
   "execution_count": 103,
   "metadata": {
    "colab": {
     "base_uri": "https://localhost:8080/",
     "height": 34
    },
    "colab_type": "code",
    "id": "utMUvLZZ4cyG",
    "outputId": "c35e5895-c7fd-4b89-ad54-a1cc5da7c5f8"
   },
   "outputs": [
    {
     "name": "stdout",
     "output_type": "stream",
     "text": [
      "<tf.RaggedTensor [[[11, 12], [13, 14], [15, 16]], [[17, 18]]]>\n"
     ]
    }
   ],
   "source": [
    "# x      (3d ragged):  2 x (r1) x 2\n",
    "# y      (2d ragged):         1 x 1\n",
    "# Result (3d ragged):  2 x (r1) x 2\n",
    "x = tf.ragged.constant(\n",
    "    [[[1, 2], [3, 4], [5, 6]],\n",
    "     [[7, 8]]],\n",
    "    ragged_rank=1)\n",
    "y = tf.constant([[10]])\n",
    "print(x + y)"
   ]
  },
  {
   "cell_type": "code",
   "execution_count": 104,
   "metadata": {
    "colab": {
     "base_uri": "https://localhost:8080/",
     "height": 34
    },
    "colab_type": "code",
    "id": "oHp_UmKA4pet",
    "outputId": "b01ac2e5-b4a0-4a13-940d-f4854cd9c075"
   },
   "outputs": [
    {
     "name": "stdout",
     "output_type": "stream",
     "text": [
      "<tf.RaggedTensor [[[[11, 21, 31], [12, 22, 32]], [], [[13, 23, 33]], [[14, 24, 34]]], [[[15, 25, 35], [16, 26, 36]], [[17, 27, 37]]]]>\n"
     ]
    }
   ],
   "source": [
    "# x      (3d ragged):  2 x (r1) x (r2) x 1\n",
    "# y      (1d tensor):                    3\n",
    "# Result (3d ragged):  2 x (r1) x (r2) x 3\n",
    "x = tf.ragged.constant(\n",
    "    [\n",
    "        [\n",
    "            [[1], [2]],\n",
    "            [],\n",
    "            [[3]],\n",
    "            [[4]],\n",
    "        ],\n",
    "        [\n",
    "            [[5], [6]],\n",
    "            [[7]]\n",
    "        ]\n",
    "    ],\n",
    "    ragged_rank=2)\n",
    "y = tf.constant([10, 20, 30])\n",
    "print(x + y)"
   ]
  },
  {
   "cell_type": "markdown",
   "metadata": {
    "colab_type": "text",
    "id": "gKBRQ5365RLz"
   },
   "source": [
    "Here are some examples of shapes that do not broadcast:"
   ]
  },
  {
   "cell_type": "code",
   "execution_count": 105,
   "metadata": {
    "colab": {
     "base_uri": "https://localhost:8080/",
     "height": 122
    },
    "colab_type": "code",
    "id": "_rSJeJfN5VT-",
    "outputId": "25078ddd-a630-440b-a9fa-981a1903f08e"
   },
   "outputs": [
    {
     "name": "stdout",
     "output_type": "stream",
     "text": [
      "Expected 'tf.Tensor(False, shape=(), dtype=bool)' to be true. Summarized data: b'Unable to broadcast: dimension size mismatch in dimension'\n",
      "1\n",
      "b'lengths='\n",
      "4\n",
      "b'dim_size='\n",
      "2, 4, 1\n"
     ]
    }
   ],
   "source": [
    "# x      (2d ragged): 3 x (r1)\n",
    "# y      (2d tensor): 3 x    4  # trailing dimensions do not match\n",
    "x = tf.ragged.constant([[1, 2], [3, 4, 5, 6], [7]])\n",
    "y = tf.constant([[1, 2, 3, 4], [5, 6, 7, 8], [9, 10, 11, 12]])\n",
    "try:\n",
    "  x + y\n",
    "except tf.errors.InvalidArgumentError as exception:\n",
    "  print(exception)"
   ]
  },
  {
   "cell_type": "code",
   "execution_count": 106,
   "metadata": {
    "colab": {
     "base_uri": "https://localhost:8080/",
     "height": 122
    },
    "colab_type": "code",
    "id": "MMrDFKnj50rK",
    "outputId": "661bf880-c863-482b-fdf1-4d5062d43bde"
   },
   "outputs": [
    {
     "name": "stdout",
     "output_type": "stream",
     "text": [
      "Expected 'tf.Tensor(False, shape=(), dtype=bool)' to be true. Summarized data: b'Unable to broadcast: dimension size mismatch in dimension'\n",
      "1\n",
      "b'lengths='\n",
      "2, 2, 1\n",
      "b'dim_size='\n",
      "3, 1, 2\n"
     ]
    }
   ],
   "source": [
    "# x      (2d ragged): 3 x (r1)\n",
    "# y      (2d ragged): 3 x (r2)  # ragged dimensions do not match.\n",
    "x = tf.ragged.constant([[1, 2, 3], [4], [5, 6]])\n",
    "y = tf.ragged.constant([[10, 20], [30, 40], [50]])\n",
    "try:\n",
    "  x + y\n",
    "except tf.errors.InvalidArgumentError as exception:\n",
    "  print(exception)"
   ]
  }
 ],
 "metadata": {
  "colab": {
   "authorship_tag": "ABX9TyNlUUz5y/H+GruLuVjKi02m",
   "collapsed_sections": [],
   "include_colab_link": true,
   "name": "Ragged_tensors.pynb",
   "provenance": []
  },
  "kernelspec": {
   "display_name": "Python 3",
   "language": "python",
   "name": "python3"
  },
  "language_info": {
   "codemirror_mode": {
    "name": "ipython",
    "version": 3
   },
   "file_extension": ".py",
   "mimetype": "text/x-python",
   "name": "python",
   "nbconvert_exporter": "python",
   "pygments_lexer": "ipython3",
   "version": "3.7.3"
  }
 },
 "nbformat": 4,
 "nbformat_minor": 1
}
